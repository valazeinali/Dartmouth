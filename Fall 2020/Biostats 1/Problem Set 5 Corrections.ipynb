{
 "cells": [
  {
   "cell_type": "code",
   "execution_count": 20,
   "metadata": {
    "scrolled": true
   },
   "outputs": [
    {
     "data": {
      "text/html": [
       "<style>\n",
       ".list-inline {list-style: none; margin:0; padding: 0}\n",
       ".list-inline>li {display: inline-block}\n",
       ".list-inline>li:not(:last-child)::after {content: \"\\00b7\"; padding: 0 .5ex}\n",
       "</style>\n",
       "<ol class=list-inline><li>-1.45769</li><li>-1.3942</li><li>-1.42779</li><li>-1.40715</li><li>-1.42668</li></ol>\n"
      ],
      "text/latex": [
       "\\begin{enumerate*}\n",
       "\\item -1.45769\n",
       "\\item -1.3942\n",
       "\\item -1.42779\n",
       "\\item -1.40715\n",
       "\\item -1.42668\n",
       "\\end{enumerate*}\n"
      ],
      "text/markdown": [
       "1. -1.45769\n",
       "2. -1.3942\n",
       "3. -1.42779\n",
       "4. -1.40715\n",
       "5. -1.42668\n",
       "\n",
       "\n"
      ],
      "text/plain": [
       "[1] -1.45769 -1.39420 -1.42779 -1.40715 -1.42668"
      ]
     },
     "metadata": {},
     "output_type": "display_data"
    }
   ],
   "source": [
    "library(multtest)\n",
    "data(golub)\n",
    "gene1.values = golub[1,]\n",
    "gene1.values[1:5]\n",
    "options(warn=-1)"
   ]
  },
  {
   "cell_type": "markdown",
   "metadata": {},
   "source": [
    "# Problem 1"
   ]
  },
  {
   "cell_type": "markdown",
   "metadata": {},
   "source": [
    "I did this problem mostly correct. I used the right formula but yielded the wrong values. I also didn't apply CLT for some of the last questions. Correct approach to CI, but wrong bounds."
   ]
  },
  {
   "cell_type": "markdown",
   "metadata": {},
   "source": [
    "# Problem 2"
   ]
  },
  {
   "cell_type": "markdown",
   "metadata": {},
   "source": [
    "Part 1 (a) is correct. \n",
    "\n",
    "Part b is inccorect i accidently put sd in the numerator instead of the MLEs. \n",
    "\n",
    "Part c i didnt get to on time but understand now.\n",
    "\n",
    "Part d i did correct!\n",
    "\n",
    "Part e i didnt get but understand now.\n",
    "\n"
   ]
  },
  {
   "cell_type": "markdown",
   "metadata": {},
   "source": [
    "# Problem 3"
   ]
  },
  {
   "cell_type": "markdown",
   "metadata": {},
   "source": [
    "I got this correct."
   ]
  },
  {
   "cell_type": "markdown",
   "metadata": {},
   "source": [
    "# Problem 4"
   ]
  },
  {
   "cell_type": "markdown",
   "metadata": {},
   "source": [
    "I did this 100% correct."
   ]
  },
  {
   "cell_type": "markdown",
   "metadata": {},
   "source": [
    "4.a)\n",
    "\\begin{equation} \n",
    "If E[x] = \\mu = \\frac{\\alpha}{3}, \\,thus\\,,\\, by \\;random \\;sampling\\;,\\, E{\\bar{x} = E[x] = \\mu} \\\\\n",
    "\\therefore E[3\\bar{x}]=3\\mu = \\alpha\n",
    "\\end{equation} "
   ]
  },
  {
   "cell_type": "markdown",
   "metadata": {},
   "source": [
    "4.b)\n",
    "\\begin{equation} \n",
    "E[x^2] -\\mu^2 = (\\frac{1}{3} - \\frac{\\alpha^2}{9}), thus \\; the \\; variance \\; of \\; [3\\bar{x}] = 9Var[x]/n = \\frac{(3-\\alpha^2)}{n}\n",
    "\\end{equation} "
   ]
  },
  {
   "cell_type": "markdown",
   "metadata": {},
   "source": [
    "4.c)\n",
    "\\begin{equation} \n",
    "\\hat{\\alpha} \n",
    "\\end{equation} \n",
    "will be asymptotically normally distributed with mean of α and var of (3-α^2)/n.\n",
    "\n",
    "\\begin{equation} \n",
    "var = (3 - 1^2) / 20 = 2/20 = 1/10 \\\\\n",
    "mean = 1\n",
    "\\end{equation} "
   ]
  },
  {
   "cell_type": "code",
   "execution_count": 14,
   "metadata": {},
   "outputs": [
    {
     "data": {
      "text/html": [
       "0.943076850996671"
      ],
      "text/latex": [
       "0.943076850996671"
      ],
      "text/markdown": [
       "0.943076850996671"
      ],
      "text/plain": [
       "[1] 0.9430769"
      ]
     },
     "metadata": {},
     "output_type": "display_data"
    }
   ],
   "source": [
    "#4.c) calculation\n",
    "pnorm(.5, mean = 1, sd = sqrt(1/10), lower.tail = FALSE) #.5 to infinity"
   ]
  },
  {
   "cell_type": "markdown",
   "metadata": {},
   "source": [
    "# Problem 5"
   ]
  },
  {
   "cell_type": "markdown",
   "metadata": {},
   "source": [
    "I did mostly every thing right, messed up some little bootstrap stuff towards the end."
   ]
  },
  {
   "cell_type": "markdown",
   "metadata": {},
   "source": [
    "5.a)\n",
    "\\begin{equation} \n",
    "\\frac{\\partial }{\\partial \\theta}I(\\theta)= \\frac{-2n_1+n_2}{1-\\theta}+ \\frac{2n_3+n_2}{\\theta} \\\\\n",
    "0 = \\frac{-2n_1+n_2}{1-\\theta}+ \\frac{2n_3+n_2}{\\theta} \\\\\n",
    "\\theta_{MLE} = \\frac{2n_3+n_2}{2n_1+2n_2+2n_3} \\\\\n",
    "= \\frac{2*112+68}{2*190} = .76842\n",
    "\\end{equation} "
   ]
  },
  {
   "cell_type": "markdown",
   "metadata": {},
   "source": [
    "5.b)\n",
    "\n",
    "\\begin{equation} \n",
    "Var(\\theta_{MLE}) \\overset{P}{\\rightarrow} \\frac{1}{nl(\\theta_{MLE})} \\\\\n",
    "= \\frac{1}{190(.76642)(1-.76642)} = \\frac{1}{190(.17795)} = .03\n",
    "\\end{equation} "
   ]
  },
  {
   "cell_type": "markdown",
   "metadata": {},
   "source": [
    "5.c)\n",
    "\\begin{equation} \n",
    "I(\\theta _{MLE}) = \\frac{2n}{\\theta_{MLE}(1-\\theta_{MLE})} \\\\\n",
    "= \\frac{2*190}{(.76642)(1-.76642)} = 2,135.42 \n",
    "\\end{equation} \n",
    "\n",
    "\\begin{equation} \n",
    "CI = (\\theta_{MLE} - \\frac{Z(\\alpha/2)}{\\sqrt{l(\\theta_{MLE}})}\\;, \\;\\theta_{MLE} + \\frac{Z(\\alpha/2)}{\\sqrt{l(\\theta_{MLE}})})\\\\\n",
    "= (.76842-\\frac{2.576}{\\sqrt{2,135.42}} \\;,\\; .76842+\\frac{2.576}{\\sqrt{2,135.42}}) \\\\\n",
    "= (.71267 \\; , \\; .82416)\n",
    "\\end{equation} "
   ]
  },
  {
   "cell_type": "code",
   "execution_count": 15,
   "metadata": {},
   "outputs": [
    {
     "data": {
      "text/html": [
       "<table>\n",
       "<caption>A matrix: 3 × 10 of type int</caption>\n",
       "<tbody>\n",
       "\t<tr><td> 11</td><td>  9</td><td>  9</td><td>  9</td><td> 15</td><td> 5</td><td> 10</td><td> 12</td><td>  9</td><td> 13</td></tr>\n",
       "\t<tr><td> 59</td><td> 63</td><td> 67</td><td> 78</td><td> 62</td><td>87</td><td> 67</td><td> 69</td><td> 71</td><td> 51</td></tr>\n",
       "\t<tr><td>120</td><td>118</td><td>114</td><td>103</td><td>113</td><td>98</td><td>113</td><td>109</td><td>110</td><td>126</td></tr>\n",
       "</tbody>\n",
       "</table>\n"
      ],
      "text/latex": [
       "A matrix: 3 × 10 of type int\n",
       "\\begin{tabular}{llllllllll}\n",
       "\t  11 &   9 &   9 &   9 &  15 &  5 &  10 &  12 &   9 &  13\\\\\n",
       "\t  59 &  63 &  67 &  78 &  62 & 87 &  67 &  69 &  71 &  51\\\\\n",
       "\t 120 & 118 & 114 & 103 & 113 & 98 & 113 & 109 & 110 & 126\\\\\n",
       "\\end{tabular}\n"
      ],
      "text/markdown": [
       "\n",
       "A matrix: 3 × 10 of type int\n",
       "\n",
       "|  11 |   9 |   9 |   9 |  15 |  5 |  10 |  12 |   9 |  13 |\n",
       "|  59 |  63 |  67 |  78 |  62 | 87 |  67 |  69 |  71 |  51 |\n",
       "| 120 | 118 | 114 | 103 | 113 | 98 | 113 | 109 | 110 | 126 |\n",
       "\n"
      ],
      "text/plain": [
       "     [,1] [,2] [,3] [,4] [,5] [,6] [,7] [,8] [,9] [,10]\n",
       "[1,]  11    9    9    9   15   5    10   12    9   13  \n",
       "[2,]  59   63   67   78   62  87    67   69   71   51  \n",
       "[3,] 120  118  114  103  113  98   113  109  110  126  "
      ]
     },
     "metadata": {},
     "output_type": "display_data"
    }
   ],
   "source": [
    "#5d\n",
    "sim.samples = rmultinom(10000, size=190, prob=c(0.0526, 0.35789, 0.58947)) # prob = 10/190,68/190, 112/190\n",
    "sim.samples[,1:10]\n",
    "\n",
    "thetaMLE = function(n1, n2, n3) {\n",
    "    return ((2*n3 + n2)/(2*(n1+n2+n3)))\n",
    "}\n",
    "\n",
    "theta.hats = apply(sim.samples, 2, function(x) {\n",
    "    return (thetaMLE(x[1], x[2], x[3]))\n",
    " })"
   ]
  },
  {
   "cell_type": "code",
   "execution_count": 16,
   "metadata": {},
   "outputs": [
    {
     "data": {
      "text/html": [
       "<style>\n",
       ".list-inline {list-style: none; margin:0; padding: 0}\n",
       ".list-inline>li {display: inline-block}\n",
       ".list-inline>li:not(:last-child)::after {content: \"\\00b7\"; padding: 0 .5ex}\n",
       "</style>\n",
       "<ol class=list-inline><li>0.786842105263158</li><li>0.786842105263158</li><li>0.776315789473684</li><li>0.747368421052632</li><li>0.757894736842105</li></ol>\n"
      ],
      "text/latex": [
       "\\begin{enumerate*}\n",
       "\\item 0.786842105263158\n",
       "\\item 0.786842105263158\n",
       "\\item 0.776315789473684\n",
       "\\item 0.747368421052632\n",
       "\\item 0.757894736842105\n",
       "\\end{enumerate*}\n"
      ],
      "text/markdown": [
       "1. 0.786842105263158\n",
       "2. 0.786842105263158\n",
       "3. 0.776315789473684\n",
       "4. 0.747368421052632\n",
       "5. 0.757894736842105\n",
       "\n",
       "\n"
      ],
      "text/plain": [
       "[1] 0.7868421 0.7868421 0.7763158 0.7473684 0.7578947"
      ]
     },
     "metadata": {},
     "output_type": "display_data"
    },
    {
     "data": {
      "text/html": [
       "0.0218459164262661"
      ],
      "text/latex": [
       "0.0218459164262661"
      ],
      "text/markdown": [
       "0.0218459164262661"
      ],
      "text/plain": [
       "[1] 0.02184592"
      ]
     },
     "metadata": {},
     "output_type": "display_data"
    },
    {
     "data": {
      "image/png": "[encoded data removed]",
      "text/plain": [
       "Plot with title “density.default(x = theta.hats)”"
      ]
     },
     "metadata": {
      "image/png": {
       "height": 420,
       "width": 420
      }
     },
     "output_type": "display_data"
    }
   ],
   "source": [
    "#5d\n",
    "theta.hats[1:5]\n",
    "sd(theta.hats)\n",
    "plot(density(theta.hats))"
   ]
  },
  {
   "cell_type": "markdown",
   "metadata": {},
   "source": [
    "5d) The bootstrap sample is actually really close to the MLE done asymptotic. My asymptotic MLE was .76842 and my bootstrap MLE (.768472) is very close to that!"
   ]
  },
  {
   "cell_type": "code",
   "execution_count": 17,
   "metadata": {},
   "outputs": [
    {
     "data": {
      "text/html": [
       "0.768278157894737"
      ],
      "text/latex": [
       "0.768278157894737"
      ],
      "text/markdown": [
       "0.768278157894737"
      ],
      "text/plain": [
       "[1] 0.7682782"
      ]
     },
     "metadata": {},
     "output_type": "display_data"
    }
   ],
   "source": [
    "mean(theta.hats)"
   ]
  },
  {
   "cell_type": "code",
   "execution_count": 18,
   "metadata": {},
   "outputs": [
    {
     "name": "stdout",
     "output_type": "stream",
     "text": [
      "[1] 0.02956385\n"
     ]
    }
   ],
   "source": [
    "#5e\n",
    "denom = ((mean(theta.hats)) * (1 - (mean(theta.hats)))) #denominator\n",
    "newd = (denom*190) #multiply by n\n",
    "var = 1/newd #finish equation\n",
    "print(var) "
   ]
  },
  {
   "cell_type": "markdown",
   "metadata": {},
   "source": [
    "5e) our variance rounds also to .03"
   ]
  },
  {
   "cell_type": "code",
   "execution_count": 19,
   "metadata": {},
   "outputs": [
    {
     "data": {
      "text/html": [
       "<style>\n",
       ".list-inline {list-style: none; margin:0; padding: 0}\n",
       ".list-inline>li {display: inline-block}\n",
       ".list-inline>li:not(:last-child)::after {content: \"\\00b7\"; padding: 0 .5ex}\n",
       "</style>\n",
       "<ol class=list-inline><li>0.767715336941264</li><li>0.76884097884821</li></ol>\n"
      ],
      "text/latex": [
       "\\begin{enumerate*}\n",
       "\\item 0.767715336941264\n",
       "\\item 0.76884097884821\n",
       "\\end{enumerate*}\n"
      ],
      "text/markdown": [
       "1. 0.767715336941264\n",
       "2. 0.76884097884821\n",
       "\n",
       "\n"
      ],
      "text/plain": [
       "[1] 0.7677153 0.7688410"
      ]
     },
     "metadata": {},
     "output_type": "display_data"
    }
   ],
   "source": [
    "#5f\n",
    "exactCI = function(values, alpha) {\n",
    " x.bar = mean(values)\n",
    "         n = length(values)\n",
    " t.n_1 = -qt(alpha/2, df=n-1)\n",
    "         S = sd(values)\n",
    " CI = c(x.bar - (S*t.n_1)/sqrt(n),\n",
    " x.bar + (S*t.n_1)/sqrt(n))\n",
    " return(CI)\n",
    "}\n",
    " (exact.CI = exactCI(theta.hats, alpha=0.01))"
   ]
  },
  {
   "cell_type": "markdown",
   "metadata": {},
   "source": [
    "5f) our 99% CI using bootstrap is tighter than our approximation in our part 5c. Both our CI's contain our null value."
   ]
  }
 ],
 "metadata": {
  "kernelspec": {
   "display_name": "R",
   "language": "R",
   "name": "ir"
  },
  "language_info": {
   "codemirror_mode": "r",
   "file_extension": ".r",
   "mimetype": "text/x-r-source",
   "name": "R",
   "pygments_lexer": "r",
   "version": "3.6.0"
  }
 },
 "nbformat": 4,
 "nbformat_minor": 4
}
