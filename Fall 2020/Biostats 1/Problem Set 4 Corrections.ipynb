{
 "cells": [
  {
   "cell_type": "markdown",
   "metadata": {},
   "source": [
    "# 1. (Based on Rice 6.3) Let Xbar be the average of a sample of n independent standard normal RVs.\n",
    "\n",
    "(a) Determine c such that P(|X| < c) = 0.5. Solve for c as a function of n.\n",
    "\n",
    "(b) Using only R *norm() functions for the standard normal distribution, compute the exact\n",
    "value of c for n = 5,...100 and visualize as a plot of c vs. n.\n",
    "\n",
    "(c) If the variance was not known, how would you solve the problem and what additional\n",
    "piece of information would you need to get an exact answer?\n",
    "\n",
    "(d) If the n RVs are independent and have the same distribution with expectation 0 and variance 1 but the exact distribution is not known, how would you approach the problem?"
   ]
  },
  {
   "cell_type": "markdown",
   "metadata": {},
   "source": [
    "<font color='red'>\n",
    "    \n",
    "1.a) I got this correct.\n",
    "    \n",
    "1.b) I also got this correct.\n",
    "    \n",
    "1.c) Did not mention anything about t-distribution.\n",
    "    \n",
    "1.d) I would approach it by using inverse cdf to find the value."
   ]
  },
  {
   "cell_type": "markdown",
   "metadata": {},
   "source": [
    "# 2.\n",
    "a)\n",
    "\\begin{equation}\n",
    "Show \\; that \\; if \\; T \\sim t_n, \\; then \\; T^2 \\sim F_{1,n}\n",
    "\\end{equation}\n",
    "\n",
    "b) For n=10, demonstrate this equivalence numerically by plotting the kernel density esti-\n",
    "mates for 1000 randomly generated T 2 values and 1000 randomly generated F1,n values.\n"
   ]
  },
  {
   "cell_type": "markdown",
   "metadata": {},
   "source": [
    "<font color='red'>\n",
    "2.a) I got this correct.\n",
    "    \n",
    "2.b) I never attempted this part, but It makes sense seeing the code.\n"
   ]
  },
  {
   "cell_type": "markdown",
   "metadata": {},
   "source": [
    "# 4 Which of the following is a random variable? Justify your answers.\n",
    "\n",
    "(a) The population mean. \n",
    "\n",
    "(b) The population size, N.\n",
    "\n",
    "(c) The sample size, n. \n",
    "\n",
    "(d) The sample mean.\n",
    "\n",
    "(e) The variance of the sample mean. \n",
    "\n",
    "(f) The largest value in the sample.\n",
    "\n",
    "(g) The population variance.\n",
    "\n",
    "(h) The estimated variance of the sample mean."
   ]
  },
  {
   "cell_type": "markdown",
   "metadata": {},
   "source": [
    "<font color='red'>\n",
    "    \n",
    "I got all these correct."
   ]
  },
  {
   "cell_type": "markdown",
   "metadata": {},
   "source": [
    "# 5 Two populations are surveyed with simple random sampling. A sample of size n1 is used for population I, which has a population standard deviation of σ1; a sample of size n2 = 3n1 is used for population II, which has a population standard deviation of σ2 = 2σ1.\n",
    "\n",
    "\n",
    "(a) Ignoring the finite population correction, in which of the two samples would you ex- pect the estimate of the population mean to be more accurate (i.e., smallest variance)? Provide a mathematical justification for your answer.\n",
    "\n",
    "\n",
    "(b) For what ratio of n2/n1 would the estimates have equivalent accuracy (i.e., equivalent variances)?\n"
   ]
  },
  {
   "cell_type": "markdown",
   "metadata": {},
   "source": [
    "<font color='red'>\n",
    "    \n",
    "5.a) I got this part correct.\n",
    "\n",
    "5.b) I didn't use n2 = kn1 in this part and resulted in the wrong constant. \n",
    "    \n",
    "5.c) I wasn't able to attempt this part of this problem. Solution makes intuitive sense now. \n",
    "    "
   ]
  },
  {
   "cell_type": "markdown",
   "metadata": {},
   "source": [
    "# 6 (Based on Rice 7.10) True or false (and state why): If a sample from a population is large, a histogram of the values in the sample will be appropriately normal, even if the population is not normal? Verify your answer via simulation."
   ]
  },
  {
   "cell_type": "markdown",
   "metadata": {},
   "source": [
    "<font color='red'>\n",
    "I approached this problem in an almost similar way and reached the same conclusion.\n",
    " "
   ]
  },
  {
   "cell_type": "markdown",
   "metadata": {},
   "source": [
    "# 7 (Based on Rice 7.16) True or false? Justify your answers.\n",
    "\n",
    "(a) The center of a 95% confidence interval for the population mean is a random variable. \n",
    "\n",
    "(b) A 95% confidence interval for μ contains the sample mean with probability 0.95.\n",
    "\n",
    "(c) A 95% confidence interval contains 95% of the population."
   ]
  },
  {
   "cell_type": "markdown",
   "metadata": {},
   "source": [
    "<font color='red'>\n",
    "    \n",
    "a) I got this correct.\n",
    "\n",
    "b) I got this correct.\n",
    "\n",
    "c) I got this correct."
   ]
  }
 ],
 "metadata": {
  "kernelspec": {
   "display_name": "R",
   "language": "R",
   "name": "ir"
  },
  "language_info": {
   "codemirror_mode": "r",
   "file_extension": ".r",
   "mimetype": "text/x-r-source",
   "name": "R",
   "pygments_lexer": "r",
   "version": "3.6.0"
  }
 },
 "nbformat": 4,
 "nbformat_minor": 4
}
