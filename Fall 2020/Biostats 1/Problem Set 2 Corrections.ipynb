{
 "cells": [
  {
   "cell_type": "markdown",
   "metadata": {},
   "source": [
    "# 1. (Based on Rice 3.18) Let X and Y have the joint density function f(x,y) = kxy,0 ≤ y ≤ x ≤ 2 or 0 elsewhere.\n",
    "\n",
    "   - A) Describe the region over which the density if positive and use it in determining limits of integration to answer the following questions.\n",
    "   - B) Find k.\n",
    "   - C) Find the marginal densities of X and Y.\n",
    "   - D) Find the conditional densities of Y given X and X given Y.\n"
   ]
  },
  {
   "cell_type": "markdown",
   "metadata": {},
   "source": [
    "<font color='red'>\n",
    "I did this problem pretty much correctly. I messed up my integration on part C with a silly mistake, but I had the right logic for this problem.\n",
    "\n",
    "</font>\n"
   ]
  },
  {
   "cell_type": "markdown",
   "metadata": {},
   "source": [
    "# 2. (Based on Rice 3.20) If X1 is uniform on [0,1], and, conditional on X1, X2 is uniform on [X1,2], find the joint and marginal distributions of X1 and X2.\n"
   ]
  },
  {
   "cell_type": "markdown",
   "metadata": {},
   "source": [
    "<font color='red'> I forgot to incorprate the 1/2 constant in my integral for this problem. Other than that it's good.</font>\n"
   ]
  },
  {
   "cell_type": "markdown",
   "metadata": {},
   "source": [
    "# 4. (Based on Rice 3.71) Let X1, ..., Xn be independent RVs all with the same density f. Find an expression for the probability that the interval [X(1),∞) encompasses at least 100v% of the probability mass of density f. Note: remember that the notation X(1) refers to the first order statistic."
   ]
  },
  {
   "cell_type": "markdown",
   "metadata": {},
   "source": [
    "<font color='red'>I forgot to take the inverse CDF on this problem.</font>\n"
   ]
  },
  {
   "cell_type": "markdown",
   "metadata": {},
   "source": [
    "# 5. (Based on Rice 4.31) Let X be uniformly distributed on the interval [1,4]. Find E[1/X]. Is E[1/X] = 1/E[X]? Note: find E[X] using the definition of expectation, don’t just plug in the expectation of a U(a,b) RV.\n"
   ]
  },
  {
   "cell_type": "markdown",
   "metadata": {},
   "source": [
    "<font color='red'> I got everything right on this problem.</font>\n"
   ]
  },
  {
   "cell_type": "markdown",
   "metadata": {},
   "source": [
    "# 6. (Based on Rice 4.49) Two independent measurements, X and Y, are taken of a quantity μ. E[X] = E[Y] = μ, but σx and σy are unequal. The two measurements are combined by means of a weighted average to give:\n",
    "\\begin{align*}\n",
    "Z = αX + (1 − α)Y\n",
    "\\end{align*}\n",
    "\n",
    "## where α is a scalar and 0 ≤ α ≤ 1.\n",
    "\n",
    "\n",
    "* A Show that E[Z] = μ.\n",
    "* B If X and Y are not independent, what is E[Z]?\n",
    "* C What is Var(Z)? Does this result hold if X and Y are not independent?\n",
    "* D Find α in terms of σX and σY to minimize Var(Z).\n",
    "* E Under what circumstances is it better (i.e., minimizing variance) to use the average (X + Y )/2 than either X or Y alone?\n"
   ]
  },
  {
   "cell_type": "markdown",
   "metadata": {},
   "source": [
    "<font color='red'>Only missed a half point on this question due to not going into detail on why b is the same as a. I needed to comment on independence. </font>\n"
   ]
  },
  {
   "cell_type": "markdown",
   "metadata": {},
   "source": [
    "# Problem 7. (Based on Rice 4.57) If X and Y are independent random variables, find E[XY] and Var(XY) in terms of the means and variances of X and Y. Hints: 4.1.1 Corollary A, realize that E[X2] = V ar(X) + E[X]2\n"
   ]
  },
  {
   "cell_type": "markdown",
   "metadata": {},
   "source": [
    "<font color='red'>I got everything right on this problem.</font>\n"
   ]
  }
 ],
 "metadata": {
  "kernelspec": {
   "display_name": "R",
   "language": "R",
   "name": "ir"
  },
  "language_info": {
   "codemirror_mode": "r",
   "file_extension": ".r",
   "mimetype": "text/x-r-source",
   "name": "R",
   "pygments_lexer": "r",
   "version": "3.6.0"
  }
 },
 "nbformat": 4,
 "nbformat_minor": 4
}
