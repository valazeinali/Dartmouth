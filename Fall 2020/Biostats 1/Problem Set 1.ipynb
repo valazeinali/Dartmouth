{
 "cells": [
  {
   "cell_type": "markdown",
   "metadata": {},
   "source": [
    "<h1><center> QBS 120 - Problem Set 1</center></h1>\n"
   ]
  },
  {
   "cell_type": "markdown",
   "metadata": {},
   "source": [
    "## Problems for Rice, Chapter 1:"
   ]
  },
  {
   "cell_type": "markdown",
   "metadata": {},
   "source": [
    "* Scientists discover the life form in the clouds of Venus that is responsible for unusual levels of phosphine. To their surprise, the genetic material is also encoded using DNA but with five possible bases (A,C,T,G,B) rather than 4 for life on Earth (A,C,T,G). Also, this life form uses 2 base codons rather than 3 base codons. Assume the values of the two independent bases in one codon are measured. Compute answers to the following using R:\n",
    "<br />\n",
    "\n",
    "    - – How many unique codons are possible? How does this compare the number of unique 3 base codons for Earth DNA?\n",
    "    - – What are the sequences of these unique 2 base codons?\n",
    "    - – List the elements of the event E1 that both bases are the same.\n",
    "    - – List the elements of the event E2 that both bases are different.\n",
    "    - – List the elements of the event E3 that the first base is B.\n",
    "    - – List the elements of the event E1 ∩ E3.\n",
    "    - – List the elements of the event E1 ∪ E3."
   ]
  },
  {
   "cell_type": "markdown",
   "metadata": {},
   "source": [
    "#### 1.1) How many unique codons are possible? How does this compare the number of unique 3 base codons for Earth DNA?\n",
    " \n",
    " \\begin{equation*}\n",
    " \\end{equation*}"
   ]
  },
  {
   "cell_type": "code",
   "execution_count": 9,
   "metadata": {},
   "outputs": [
    {
     "name": "stdout",
     "output_type": "stream",
     "text": [
      "[1] 64\n"
     ]
    }
   ],
   "source": [
    "#Number of unique codons for Earth DNA can be computed using basic principle of counting\n",
    "unqCod = 4 * 4 * 4\n",
    "print(unqCod)"
   ]
  },
  {
   "cell_type": "code",
   "execution_count": 10,
   "metadata": {},
   "outputs": [
    {
     "name": "stdout",
     "output_type": "stream",
     "text": [
      "[1] 25\n"
     ]
    }
   ],
   "source": [
    "# SO the number of unique codons for the five base DNA is show below with the same logic\n",
    "newUnqCod = 5 * 5\n",
    "print(newUnqCod)"
   ]
  },
  {
   "cell_type": "markdown",
   "metadata": {},
   "source": [
    "\n",
    "<font color='red'>\n",
    "1.1)  Answer: There are 25 possible codon combinations. There are less possible codon combinations than on Earth.\n",
    "\n",
    "\n",
    "\n",
    "\n",
    "</font>\n"
   ]
  },
  {
   "cell_type": "markdown",
   "metadata": {},
   "source": [
    "#### 1.2) What are the sequences of these unique 2 base codons?"
   ]
  },
  {
   "cell_type": "code",
   "execution_count": 11,
   "metadata": {},
   "outputs": [
    {
     "name": "stderr",
     "output_type": "stream",
     "text": [
      "Installing package into ‘/Users/valazeinali/Library/R/3.6/library’\n",
      "(as ‘lib’ is unspecified)\n",
      "\n"
     ]
    },
    {
     "name": "stdout",
     "output_type": "stream",
     "text": [
      "\n",
      "The downloaded binary packages are in\n",
      "\t/var/folders/bx/dp3pc2gx453dz73c35_y9_8h0000gn/T//Rtmp93vsVJ/downloaded_packages\n"
     ]
    },
    {
     "name": "stderr",
     "output_type": "stream",
     "text": [
      "Warning message:\n",
      "“package ‘gtools’ was built under R version 3.6.2”\n"
     ]
    },
    {
     "data": {
      "text/html": [
       "<table>\n",
       "<caption>A matrix: 25 × 2 of type chr</caption>\n",
       "<tbody>\n",
       "\t<tr><td>A</td><td>A</td></tr>\n",
       "\t<tr><td>A</td><td>B</td></tr>\n",
       "\t<tr><td>A</td><td>C</td></tr>\n",
       "\t<tr><td>A</td><td>G</td></tr>\n",
       "\t<tr><td>A</td><td>T</td></tr>\n",
       "\t<tr><td>B</td><td>A</td></tr>\n",
       "\t<tr><td>B</td><td>B</td></tr>\n",
       "\t<tr><td>B</td><td>C</td></tr>\n",
       "\t<tr><td>B</td><td>G</td></tr>\n",
       "\t<tr><td>B</td><td>T</td></tr>\n",
       "\t<tr><td>C</td><td>A</td></tr>\n",
       "\t<tr><td>C</td><td>B</td></tr>\n",
       "\t<tr><td>C</td><td>C</td></tr>\n",
       "\t<tr><td>C</td><td>G</td></tr>\n",
       "\t<tr><td>C</td><td>T</td></tr>\n",
       "\t<tr><td>G</td><td>A</td></tr>\n",
       "\t<tr><td>G</td><td>B</td></tr>\n",
       "\t<tr><td>G</td><td>C</td></tr>\n",
       "\t<tr><td>G</td><td>G</td></tr>\n",
       "\t<tr><td>G</td><td>T</td></tr>\n",
       "\t<tr><td>T</td><td>A</td></tr>\n",
       "\t<tr><td>T</td><td>B</td></tr>\n",
       "\t<tr><td>T</td><td>C</td></tr>\n",
       "\t<tr><td>T</td><td>G</td></tr>\n",
       "\t<tr><td>T</td><td>T</td></tr>\n",
       "</tbody>\n",
       "</table>\n"
      ],
      "text/latex": [
       "A matrix: 25 × 2 of type chr\n",
       "\\begin{tabular}{ll}\n",
       "\t A & A\\\\\n",
       "\t A & B\\\\\n",
       "\t A & C\\\\\n",
       "\t A & G\\\\\n",
       "\t A & T\\\\\n",
       "\t B & A\\\\\n",
       "\t B & B\\\\\n",
       "\t B & C\\\\\n",
       "\t B & G\\\\\n",
       "\t B & T\\\\\n",
       "\t C & A\\\\\n",
       "\t C & B\\\\\n",
       "\t C & C\\\\\n",
       "\t C & G\\\\\n",
       "\t C & T\\\\\n",
       "\t G & A\\\\\n",
       "\t G & B\\\\\n",
       "\t G & C\\\\\n",
       "\t G & G\\\\\n",
       "\t G & T\\\\\n",
       "\t T & A\\\\\n",
       "\t T & B\\\\\n",
       "\t T & C\\\\\n",
       "\t T & G\\\\\n",
       "\t T & T\\\\\n",
       "\\end{tabular}\n"
      ],
      "text/markdown": [
       "\n",
       "A matrix: 25 × 2 of type chr\n",
       "\n",
       "| A | A |\n",
       "| A | B |\n",
       "| A | C |\n",
       "| A | G |\n",
       "| A | T |\n",
       "| B | A |\n",
       "| B | B |\n",
       "| B | C |\n",
       "| B | G |\n",
       "| B | T |\n",
       "| C | A |\n",
       "| C | B |\n",
       "| C | C |\n",
       "| C | G |\n",
       "| C | T |\n",
       "| G | A |\n",
       "| G | B |\n",
       "| G | C |\n",
       "| G | G |\n",
       "| G | T |\n",
       "| T | A |\n",
       "| T | B |\n",
       "| T | C |\n",
       "| T | G |\n",
       "| T | T |\n",
       "\n"
      ],
      "text/plain": [
       "      [,1] [,2]\n",
       " [1,] A    A   \n",
       " [2,] A    B   \n",
       " [3,] A    C   \n",
       " [4,] A    G   \n",
       " [5,] A    T   \n",
       " [6,] B    A   \n",
       " [7,] B    B   \n",
       " [8,] B    C   \n",
       " [9,] B    G   \n",
       "[10,] B    T   \n",
       "[11,] C    A   \n",
       "[12,] C    B   \n",
       "[13,] C    C   \n",
       "[14,] C    G   \n",
       "[15,] C    T   \n",
       "[16,] G    A   \n",
       "[17,] G    B   \n",
       "[18,] G    C   \n",
       "[19,] G    G   \n",
       "[20,] G    T   \n",
       "[21,] T    A   \n",
       "[22,] T    B   \n",
       "[23,] T    C   \n",
       "[24,] T    G   \n",
       "[25,] T    T   "
      ]
     },
     "metadata": {},
     "output_type": "display_data"
    },
    {
     "data": {
      "text/html": [
       "25"
      ],
      "text/latex": [
       "25"
      ],
      "text/markdown": [
       "25"
      ],
      "text/plain": [
       "[1] 25"
      ]
     },
     "metadata": {},
     "output_type": "display_data"
    }
   ],
   "source": [
    "install.packages('gtools')\n",
    "#load library\n",
    "library(gtools)\n",
    "#DNA with 5 bases\n",
    "x <- c('A', 'C', 'T', 'G', 'B')\n",
    "#pick 2 bases from the 5 possible bases with replacement\n",
    "#get all permutations\n",
    "permutations(n=5,r=2,v=x,repeats.allowed=T)\n",
    "nrow(permutations(n=5,r=2,v=x,repeats.allowed=T))"
   ]
  },
  {
   "cell_type": "markdown",
   "metadata": {},
   "source": [
    "<font color='red'>\n",
    "1.2)  Answer: There are 25 possible codon combinations and they are shown above. \n",
    "\n",
    "</font>\n"
   ]
  },
  {
   "cell_type": "markdown",
   "metadata": {},
   "source": [
    "#### 1.3) List the elements of the event E1 that both bases are the same."
   ]
  },
  {
   "cell_type": "code",
   "execution_count": 29,
   "metadata": {},
   "outputs": [
    {
     "ename": "ERROR",
     "evalue": "Error in parse(text = x, srcfile = src): <text>:6:1: unexpected symbol\n5: E1 <- nrow(permutations(n=5,r=2,v=x,!(repeats.allowed=F))\n6: E1\n   ^\n",
     "output_type": "error",
     "traceback": [
      "Error in parse(text = x, srcfile = src): <text>:6:1: unexpected symbol\n5: E1 <- nrow(permutations(n=5,r=2,v=x,!(repeats.allowed=F))\n6: E1\n   ^\nTraceback:\n"
     ]
    }
   ],
   "source": [
    "should be 5 possible combinations SKIP FOR NOW"
   ]
  },
  {
   "cell_type": "markdown",
   "metadata": {},
   "source": [
    "#### 1.4) List the elements of the event E2 that both bases are different."
   ]
  },
  {
   "cell_type": "code",
   "execution_count": 12,
   "metadata": {},
   "outputs": [
    {
     "data": {
      "text/html": [
       "<table>\n",
       "<caption>A matrix: 20 × 2 of type chr</caption>\n",
       "<tbody>\n",
       "\t<tr><td>A</td><td>B</td></tr>\n",
       "\t<tr><td>A</td><td>C</td></tr>\n",
       "\t<tr><td>A</td><td>G</td></tr>\n",
       "\t<tr><td>A</td><td>T</td></tr>\n",
       "\t<tr><td>B</td><td>A</td></tr>\n",
       "\t<tr><td>B</td><td>C</td></tr>\n",
       "\t<tr><td>B</td><td>G</td></tr>\n",
       "\t<tr><td>B</td><td>T</td></tr>\n",
       "\t<tr><td>C</td><td>A</td></tr>\n",
       "\t<tr><td>C</td><td>B</td></tr>\n",
       "\t<tr><td>C</td><td>G</td></tr>\n",
       "\t<tr><td>C</td><td>T</td></tr>\n",
       "\t<tr><td>G</td><td>A</td></tr>\n",
       "\t<tr><td>G</td><td>B</td></tr>\n",
       "\t<tr><td>G</td><td>C</td></tr>\n",
       "\t<tr><td>G</td><td>T</td></tr>\n",
       "\t<tr><td>T</td><td>A</td></tr>\n",
       "\t<tr><td>T</td><td>B</td></tr>\n",
       "\t<tr><td>T</td><td>C</td></tr>\n",
       "\t<tr><td>T</td><td>G</td></tr>\n",
       "</tbody>\n",
       "</table>\n"
      ],
      "text/latex": [
       "A matrix: 20 × 2 of type chr\n",
       "\\begin{tabular}{ll}\n",
       "\t A & B\\\\\n",
       "\t A & C\\\\\n",
       "\t A & G\\\\\n",
       "\t A & T\\\\\n",
       "\t B & A\\\\\n",
       "\t B & C\\\\\n",
       "\t B & G\\\\\n",
       "\t B & T\\\\\n",
       "\t C & A\\\\\n",
       "\t C & B\\\\\n",
       "\t C & G\\\\\n",
       "\t C & T\\\\\n",
       "\t G & A\\\\\n",
       "\t G & B\\\\\n",
       "\t G & C\\\\\n",
       "\t G & T\\\\\n",
       "\t T & A\\\\\n",
       "\t T & B\\\\\n",
       "\t T & C\\\\\n",
       "\t T & G\\\\\n",
       "\\end{tabular}\n"
      ],
      "text/markdown": [
       "\n",
       "A matrix: 20 × 2 of type chr\n",
       "\n",
       "| A | B |\n",
       "| A | C |\n",
       "| A | G |\n",
       "| A | T |\n",
       "| B | A |\n",
       "| B | C |\n",
       "| B | G |\n",
       "| B | T |\n",
       "| C | A |\n",
       "| C | B |\n",
       "| C | G |\n",
       "| C | T |\n",
       "| G | A |\n",
       "| G | B |\n",
       "| G | C |\n",
       "| G | T |\n",
       "| T | A |\n",
       "| T | B |\n",
       "| T | C |\n",
       "| T | G |\n",
       "\n"
      ],
      "text/plain": [
       "      [,1] [,2]\n",
       " [1,] A    B   \n",
       " [2,] A    C   \n",
       " [3,] A    G   \n",
       " [4,] A    T   \n",
       " [5,] B    A   \n",
       " [6,] B    C   \n",
       " [7,] B    G   \n",
       " [8,] B    T   \n",
       " [9,] C    A   \n",
       "[10,] C    B   \n",
       "[11,] C    G   \n",
       "[12,] C    T   \n",
       "[13,] G    A   \n",
       "[14,] G    B   \n",
       "[15,] G    C   \n",
       "[16,] G    T   \n",
       "[17,] T    A   \n",
       "[18,] T    B   \n",
       "[19,] T    C   \n",
       "[20,] T    G   "
      ]
     },
     "metadata": {},
     "output_type": "display_data"
    },
    {
     "data": {
      "text/html": [
       "20"
      ],
      "text/latex": [
       "20"
      ],
      "text/markdown": [
       "20"
      ],
      "text/plain": [
       "[1] 20"
      ]
     },
     "metadata": {},
     "output_type": "display_data"
    }
   ],
   "source": [
    "x <- c('A', 'C', 'T', 'G', 'B')\n",
    "#pick 2 bases from the 5 possible bases with replacement\n",
    "#get all permutations\n",
    "permutations(n=5,r=2,v=x,repeats.allowed=F)\n",
    "E2 <- nrow(permutations(n=5,r=2,v=x,repeats.allowed=F))\n",
    "E2"
   ]
  },
  {
   "cell_type": "markdown",
   "metadata": {},
   "source": [
    "#### 1.5)  List the elements of the event E3 that the first base is B."
   ]
  },
  {
   "cell_type": "markdown",
   "metadata": {},
   "source": [
    "#### 1.6)  List the elements of the event E1 ∩ E3."
   ]
  },
  {
   "cell_type": "markdown",
   "metadata": {},
   "source": [
    "#### 1.7) List the elements of the event E1 ∪ E3.\n"
   ]
  },
  {
   "cell_type": "markdown",
   "metadata": {},
   "source": [
    "# Problem 2\n",
    "Five people want to play a card game so they discard the two cards from a 52 card deck and\n",
    "are each dealt 10 cards. How many unique deals are possible? If there were four playing instead and each was dealt 13 cards, how many unique deals are possible? Before computing, which number do you think will be larger?"
   ]
  },
  {
   "cell_type": "code",
   "execution_count": null,
   "metadata": {},
   "outputs": [],
   "source": []
  }
 ],
 "metadata": {
  "kernelspec": {
   "display_name": "R",
   "language": "R",
   "name": "ir"
  },
  "language_info": {
   "codemirror_mode": "r",
   "file_extension": ".r",
   "mimetype": "text/x-r-source",
   "name": "R",
   "pygments_lexer": "r",
   "version": "3.6.0"
  }
 },
 "nbformat": 4,
 "nbformat_minor": 4
}
