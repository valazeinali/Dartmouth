{
 "cells": [
  {
   "cell_type": "markdown",
   "metadata": {},
   "source": [
    "<h1><center> QBS 120 - Problem Set 1</center></h1>\n"
   ]
  },
  {
   "cell_type": "markdown",
   "metadata": {},
   "source": [
    "## Problems for Rice, Chapter 1:"
   ]
  },
  {
   "cell_type": "markdown",
   "metadata": {},
   "source": [
    "* Scientists discover the life form in the clouds of Venus that is responsible for unusual levels of phosphine. To their surprise, the genetic material is also encoded using DNA but with five possible bases (A,C,T,G,B) rather than 4 for life on Earth (A,C,T,G). Also, this life form uses 2 base codons rather than 3 base codons. Assume the values of the two independent bases in one codon are measured. Compute answers to the following using R:\n",
    "<br />\n",
    "\n",
    "    - – How many unique codons are possible? How does this compare the number of unique 3 base codons for Earth DNA?\n",
    "    - – What are the sequences of these unique 2 base codons?\n",
    "    - – List the elements of the event E1 that both bases are the same.\n",
    "    - – List the elements of the event E2 that both bases are different.\n",
    "    - – List the elements of the event E3 that the first base is B.\n",
    "    - – List the elements of the event E1 ∩ E3.\n",
    "    - – List the elements of the event E1 ∪ E3."
   ]
  },
  {
   "cell_type": "markdown",
   "metadata": {},
   "source": [
    "#### 1.1) How many unique codons are possible? How does this compare the number of unique 3 base codons for Earth DNA?\n",
    " \n",
    " \\begin{equation*}\n",
    " \\end{equation*}"
   ]
  },
  {
   "cell_type": "code",
   "execution_count": 1,
   "metadata": {},
   "outputs": [
    {
     "name": "stdout",
     "output_type": "stream",
     "text": [
      "[1] 64\n"
     ]
    }
   ],
   "source": [
    "#Number of unique codons for Earth DNA can be computed using basic principle of counting\n",
    "unqCod = 4 * 4 * 4\n",
    "print(unqCod)"
   ]
  },
  {
   "cell_type": "code",
   "execution_count": 2,
   "metadata": {},
   "outputs": [
    {
     "name": "stdout",
     "output_type": "stream",
     "text": [
      "[1] 25\n"
     ]
    }
   ],
   "source": [
    "# SO the number of unique codons for the five base DNA is show below with the same logic\n",
    "newUnqCod = 5 * 5\n",
    "print(newUnqCod)"
   ]
  },
  {
   "cell_type": "markdown",
   "metadata": {},
   "source": [
    "\n",
    "<font color='red'>\n",
    "1.1)  Answer: There are 25 possible codon combinations. There are less possible codon combinations than on Earth.\n",
    "\n",
    "\n",
    "\n",
    "\n",
    "</font>\n"
   ]
  },
  {
   "cell_type": "markdown",
   "metadata": {},
   "source": [
    "#### 1.2) What are the sequences of these unique 2 base codons?"
   ]
  },
  {
   "cell_type": "code",
   "execution_count": 3,
   "metadata": {},
   "outputs": [
    {
     "name": "stderr",
     "output_type": "stream",
     "text": [
      "Installing package into ‘/Users/valazeinali/Library/R/3.6/library’\n",
      "(as ‘lib’ is unspecified)\n",
      "\n"
     ]
    },
    {
     "name": "stdout",
     "output_type": "stream",
     "text": [
      "\n",
      "The downloaded binary packages are in\n",
      "\t/var/folders/bx/dp3pc2gx453dz73c35_y9_8h0000gn/T//RtmphjZHu0/downloaded_packages\n"
     ]
    },
    {
     "name": "stderr",
     "output_type": "stream",
     "text": [
      "Warning message:\n",
      "“package ‘gtools’ was built under R version 3.6.2”\n"
     ]
    },
    {
     "data": {
      "text/html": [
       "<table>\n",
       "<caption>A matrix: 25 × 2 of type chr</caption>\n",
       "<tbody>\n",
       "\t<tr><td>A</td><td>A</td></tr>\n",
       "\t<tr><td>A</td><td>B</td></tr>\n",
       "\t<tr><td>A</td><td>C</td></tr>\n",
       "\t<tr><td>A</td><td>G</td></tr>\n",
       "\t<tr><td>A</td><td>T</td></tr>\n",
       "\t<tr><td>B</td><td>A</td></tr>\n",
       "\t<tr><td>B</td><td>B</td></tr>\n",
       "\t<tr><td>B</td><td>C</td></tr>\n",
       "\t<tr><td>B</td><td>G</td></tr>\n",
       "\t<tr><td>B</td><td>T</td></tr>\n",
       "\t<tr><td>C</td><td>A</td></tr>\n",
       "\t<tr><td>C</td><td>B</td></tr>\n",
       "\t<tr><td>C</td><td>C</td></tr>\n",
       "\t<tr><td>C</td><td>G</td></tr>\n",
       "\t<tr><td>C</td><td>T</td></tr>\n",
       "\t<tr><td>G</td><td>A</td></tr>\n",
       "\t<tr><td>G</td><td>B</td></tr>\n",
       "\t<tr><td>G</td><td>C</td></tr>\n",
       "\t<tr><td>G</td><td>G</td></tr>\n",
       "\t<tr><td>G</td><td>T</td></tr>\n",
       "\t<tr><td>T</td><td>A</td></tr>\n",
       "\t<tr><td>T</td><td>B</td></tr>\n",
       "\t<tr><td>T</td><td>C</td></tr>\n",
       "\t<tr><td>T</td><td>G</td></tr>\n",
       "\t<tr><td>T</td><td>T</td></tr>\n",
       "</tbody>\n",
       "</table>\n"
      ],
      "text/latex": [
       "A matrix: 25 × 2 of type chr\n",
       "\\begin{tabular}{ll}\n",
       "\t A & A\\\\\n",
       "\t A & B\\\\\n",
       "\t A & C\\\\\n",
       "\t A & G\\\\\n",
       "\t A & T\\\\\n",
       "\t B & A\\\\\n",
       "\t B & B\\\\\n",
       "\t B & C\\\\\n",
       "\t B & G\\\\\n",
       "\t B & T\\\\\n",
       "\t C & A\\\\\n",
       "\t C & B\\\\\n",
       "\t C & C\\\\\n",
       "\t C & G\\\\\n",
       "\t C & T\\\\\n",
       "\t G & A\\\\\n",
       "\t G & B\\\\\n",
       "\t G & C\\\\\n",
       "\t G & G\\\\\n",
       "\t G & T\\\\\n",
       "\t T & A\\\\\n",
       "\t T & B\\\\\n",
       "\t T & C\\\\\n",
       "\t T & G\\\\\n",
       "\t T & T\\\\\n",
       "\\end{tabular}\n"
      ],
      "text/markdown": [
       "\n",
       "A matrix: 25 × 2 of type chr\n",
       "\n",
       "| A | A |\n",
       "| A | B |\n",
       "| A | C |\n",
       "| A | G |\n",
       "| A | T |\n",
       "| B | A |\n",
       "| B | B |\n",
       "| B | C |\n",
       "| B | G |\n",
       "| B | T |\n",
       "| C | A |\n",
       "| C | B |\n",
       "| C | C |\n",
       "| C | G |\n",
       "| C | T |\n",
       "| G | A |\n",
       "| G | B |\n",
       "| G | C |\n",
       "| G | G |\n",
       "| G | T |\n",
       "| T | A |\n",
       "| T | B |\n",
       "| T | C |\n",
       "| T | G |\n",
       "| T | T |\n",
       "\n"
      ],
      "text/plain": [
       "      [,1] [,2]\n",
       " [1,] A    A   \n",
       " [2,] A    B   \n",
       " [3,] A    C   \n",
       " [4,] A    G   \n",
       " [5,] A    T   \n",
       " [6,] B    A   \n",
       " [7,] B    B   \n",
       " [8,] B    C   \n",
       " [9,] B    G   \n",
       "[10,] B    T   \n",
       "[11,] C    A   \n",
       "[12,] C    B   \n",
       "[13,] C    C   \n",
       "[14,] C    G   \n",
       "[15,] C    T   \n",
       "[16,] G    A   \n",
       "[17,] G    B   \n",
       "[18,] G    C   \n",
       "[19,] G    G   \n",
       "[20,] G    T   \n",
       "[21,] T    A   \n",
       "[22,] T    B   \n",
       "[23,] T    C   \n",
       "[24,] T    G   \n",
       "[25,] T    T   "
      ]
     },
     "metadata": {},
     "output_type": "display_data"
    },
    {
     "data": {
      "text/html": [
       "25"
      ],
      "text/latex": [
       "25"
      ],
      "text/markdown": [
       "25"
      ],
      "text/plain": [
       "[1] 25"
      ]
     },
     "metadata": {},
     "output_type": "display_data"
    }
   ],
   "source": [
    "install.packages('gtools')\n",
    "#load library\n",
    "library(gtools)\n",
    "#DNA with 5 bases\n",
    "x <- c('A', 'C', 'T', 'G', 'B')\n",
    "#pick 2 bases from the 5 possible bases with replacement\n",
    "#get all permutations\n",
    "permutations(n=5,r=2,v=x,repeats.allowed=T)\n",
    "nrow(permutations(n=5,r=2,v=x,repeats.allowed=T))"
   ]
  },
  {
   "cell_type": "markdown",
   "metadata": {},
   "source": [
    "<font color='red'>\n",
    "1.2)  Answer: There are 25 possible codon combinations and they are shown above. \n",
    "\n",
    "</font>\n"
   ]
  },
  {
   "cell_type": "markdown",
   "metadata": {},
   "source": [
    "#### 1.3) List the elements of the event E1 that both bases are the same."
   ]
  },
  {
   "cell_type": "code",
   "execution_count": 25,
   "metadata": {},
   "outputs": [
    {
     "name": "stdout",
     "output_type": "stream",
     "text": [
      "[1] \"A\"\n",
      "[1] \"B\"\n"
     ]
    }
   ],
   "source": []
  },
  {
   "cell_type": "markdown",
   "metadata": {},
   "source": [
    "#### 1.4) List the elements of the event E2 that both bases are different."
   ]
  },
  {
   "cell_type": "code",
   "execution_count": 5,
   "metadata": {},
   "outputs": [
    {
     "data": {
      "text/html": [
       "<table>\n",
       "<caption>A matrix: 20 × 2 of type chr</caption>\n",
       "<tbody>\n",
       "\t<tr><td>A</td><td>B</td></tr>\n",
       "\t<tr><td>A</td><td>C</td></tr>\n",
       "\t<tr><td>A</td><td>G</td></tr>\n",
       "\t<tr><td>A</td><td>T</td></tr>\n",
       "\t<tr><td>B</td><td>A</td></tr>\n",
       "\t<tr><td>B</td><td>C</td></tr>\n",
       "\t<tr><td>B</td><td>G</td></tr>\n",
       "\t<tr><td>B</td><td>T</td></tr>\n",
       "\t<tr><td>C</td><td>A</td></tr>\n",
       "\t<tr><td>C</td><td>B</td></tr>\n",
       "\t<tr><td>C</td><td>G</td></tr>\n",
       "\t<tr><td>C</td><td>T</td></tr>\n",
       "\t<tr><td>G</td><td>A</td></tr>\n",
       "\t<tr><td>G</td><td>B</td></tr>\n",
       "\t<tr><td>G</td><td>C</td></tr>\n",
       "\t<tr><td>G</td><td>T</td></tr>\n",
       "\t<tr><td>T</td><td>A</td></tr>\n",
       "\t<tr><td>T</td><td>B</td></tr>\n",
       "\t<tr><td>T</td><td>C</td></tr>\n",
       "\t<tr><td>T</td><td>G</td></tr>\n",
       "</tbody>\n",
       "</table>\n"
      ],
      "text/latex": [
       "A matrix: 20 × 2 of type chr\n",
       "\\begin{tabular}{ll}\n",
       "\t A & B\\\\\n",
       "\t A & C\\\\\n",
       "\t A & G\\\\\n",
       "\t A & T\\\\\n",
       "\t B & A\\\\\n",
       "\t B & C\\\\\n",
       "\t B & G\\\\\n",
       "\t B & T\\\\\n",
       "\t C & A\\\\\n",
       "\t C & B\\\\\n",
       "\t C & G\\\\\n",
       "\t C & T\\\\\n",
       "\t G & A\\\\\n",
       "\t G & B\\\\\n",
       "\t G & C\\\\\n",
       "\t G & T\\\\\n",
       "\t T & A\\\\\n",
       "\t T & B\\\\\n",
       "\t T & C\\\\\n",
       "\t T & G\\\\\n",
       "\\end{tabular}\n"
      ],
      "text/markdown": [
       "\n",
       "A matrix: 20 × 2 of type chr\n",
       "\n",
       "| A | B |\n",
       "| A | C |\n",
       "| A | G |\n",
       "| A | T |\n",
       "| B | A |\n",
       "| B | C |\n",
       "| B | G |\n",
       "| B | T |\n",
       "| C | A |\n",
       "| C | B |\n",
       "| C | G |\n",
       "| C | T |\n",
       "| G | A |\n",
       "| G | B |\n",
       "| G | C |\n",
       "| G | T |\n",
       "| T | A |\n",
       "| T | B |\n",
       "| T | C |\n",
       "| T | G |\n",
       "\n"
      ],
      "text/plain": [
       "      [,1] [,2]\n",
       " [1,] A    B   \n",
       " [2,] A    C   \n",
       " [3,] A    G   \n",
       " [4,] A    T   \n",
       " [5,] B    A   \n",
       " [6,] B    C   \n",
       " [7,] B    G   \n",
       " [8,] B    T   \n",
       " [9,] C    A   \n",
       "[10,] C    B   \n",
       "[11,] C    G   \n",
       "[12,] C    T   \n",
       "[13,] G    A   \n",
       "[14,] G    B   \n",
       "[15,] G    C   \n",
       "[16,] G    T   \n",
       "[17,] T    A   \n",
       "[18,] T    B   \n",
       "[19,] T    C   \n",
       "[20,] T    G   "
      ]
     },
     "metadata": {},
     "output_type": "display_data"
    },
    {
     "data": {
      "text/html": [
       "20"
      ],
      "text/latex": [
       "20"
      ],
      "text/markdown": [
       "20"
      ],
      "text/plain": [
       "[1] 20"
      ]
     },
     "metadata": {},
     "output_type": "display_data"
    }
   ],
   "source": [
    "x <- c('A', 'C', 'T', 'G', 'B')\n",
    "#pick 2 bases from the 5 possible bases with replacement\n",
    "#get all permutations\n",
    "permutations(n=5,r=2,v=x,repeats.allowed=F)\n",
    "E2 <- nrow(permutations(n=5,r=2,v=x,repeats.allowed=F))\n",
    "E2"
   ]
  },
  {
   "cell_type": "markdown",
   "metadata": {},
   "source": [
    "#### 1.5)  List the elements of the event E3 that the first base is B."
   ]
  },
  {
   "cell_type": "markdown",
   "metadata": {},
   "source": [
    "#### 1.6)  List the elements of the event E1 ∩ E3."
   ]
  },
  {
   "cell_type": "markdown",
   "metadata": {},
   "source": [
    "#### 1.7) List the elements of the event E1 ∪ E3.\n"
   ]
  },
  {
   "cell_type": "markdown",
   "metadata": {},
   "source": [
    "# Problem 2\n",
    "Five people want to play a card game so they discard the two cards from a 52 card deck and\n",
    "are each dealt 10 cards. How many unique deals are possible? If there were four playing instead and each was dealt 13 cards, how many unique deals are possible? Before computing, which number do you think will be larger?"
   ]
  },
  {
   "cell_type": "code",
   "execution_count": 34,
   "metadata": {},
   "outputs": [
    {
     "name": "stdout",
     "output_type": "stream",
     "text": [
      "[1] 6.409191e+34\n",
      "[1] 5.364474e+28\n"
     ]
    }
   ],
   "source": [
    "#(50 choose 10) * (40 choose 10) * (30 choose 10) * (20 choose 10) * (10 choose 10) <- FIRST scenario \n",
    "#(52 choose 13) * (39 choose 13) * (26 choose 13) * (13 choose 13) ??\n",
    "\n",
    "exp1 <- (choose(52,50)*choose(50, 10) * choose(40,10) * choose(30, 10) * choose(20,10) *choose(10,10))\n",
    "exp2 <- (choose(52, 13) * choose(39,13) * choose(26, 13) * choose(13,13))\n",
    "print(exp1)\n",
    "print(exp2)"
   ]
  },
  {
   "cell_type": "markdown",
   "metadata": {},
   "source": [
    "# Problem 3\n",
    "\n",
    "Rice, 1.18 (changed so that probability that at least one defect turns up is 0.8 instead of 0.9): A lot of n items contains k defectives, and m are selected randomly and inspected. How should the value of m be chosen so that the probability that at least one defective item turns up is 0.80? Apply your answer to (a) n = 1000, k = 10 and (b) n = 1000, k = 100. Notes: solve for m numerically using R; hint: remember that P (A) = 1 − P (AC ); for case b), use n=1000, k=100 to ensure a numerical solution without more complex simplifications/approximations."
   ]
  },
  {
   "cell_type": "code",
   "execution_count": 43,
   "metadata": {},
   "outputs": [
    {
     "data": {
      "text/html": [
       "160.137724340166"
      ],
      "text/latex": [
       "160.137724340166"
      ],
      "text/markdown": [
       "160.137724340166"
      ],
      "text/plain": [
       "[1] 160.1377"
      ]
     },
     "metadata": {},
     "output_type": "display_data"
    }
   ],
   "source": [
    "# p(1 or more defects) >= .80\n",
    "# p(no defects) <= .2\n",
    "# (n-k/n)^m <= .2\n",
    "#((1000-10)/1000)^m <= .2\n",
    "m <- ((log(.2))/log(990/1000))\n",
    "m"
   ]
  },
  {
   "cell_type": "code",
   "execution_count": 44,
   "metadata": {},
   "outputs": [
    {
     "data": {
      "text/html": [
       "15.2755318478223"
      ],
      "text/latex": [
       "15.2755318478223"
      ],
      "text/markdown": [
       "15.2755318478223"
      ],
      "text/plain": [
       "[1] 15.27553"
      ]
     },
     "metadata": {},
     "output_type": "display_data"
    }
   ],
   "source": [
    "# p(1 or more defects) >= .80\n",
    "# p(no defects) <= .2\n",
    "# (n-k/n)^m <= .2\n",
    "#((1000-100)/1000)^m <= .2\n",
    "m <- ((log(.2))/log(900/1000))\n",
    "m"
   ]
  },
  {
   "cell_type": "markdown",
   "metadata": {},
   "source": [
    "<font color='red'>\n",
    "3.1a)  Answer: 160.137724340166\n",
    "    \n",
    "    \n",
    "    \n",
    "3.1b)  Answer: 15.2755318478223\n",
    " \n",
    "</font>"
   ]
  },
  {
   "cell_type": "markdown",
   "metadata": {},
   "source": [
    "# Problem 4 \n",
    "Rice 1.49 (changed for 2 coins and 3 tosses): Two fair coins are simultaneously tossed three times.\n",
    "\n",
    "\n",
    "– a. What is the probability of two or more heads given that there was at least one head? \n",
    "\n",
    "\n",
    "<font color='red'>\n",
    "\n",
    "Let A be the event of getting two or more heads for one coin with 3 tosses\n",
    "    \n",
    "    A = {HHT, THH, HTH, HHH}\n",
    "    P(A) = 4/8\n",
    "\n",
    "Let B be the event of getting at least one head for one coin with 3 tosses\n",
    "    \n",
    "    B = {THH, HTT, TTH, HHT, THT, HTH, HHH}\n",
    "    P(B) = 7/8\n",
    "    P(A ∩ B) = {HHT, THH, HTH, HHH} = 4/8\n",
    "\n",
    " \n",
    "\\begin{equation*}\n",
    "     P(A|B) = \\frac{P(A\\cap B)}{P(B)} = \\frac{4/8}{7/8} = \\frac{4}{7} * \\frac{4}{7} = \\frac{16}{49}\n",
    "\\end{equation*}\n",
    "\n",
    "Since we have two experiments and these two experiments are independent we can multiply 4/7 * 4/7 = 16/49 to get the probability for 2 coins.\n",
    "</font>\n",
    "\n",
    "\n",
    "\n",
    "– b. What is the probability of two or more heads given that there was at least one tail?\n",
    "\n",
    "\n",
    "<font color='red'>\n",
    "\n",
    "Let A be the event of getting two or more heads for one coin with 3 tosses\n",
    "    \n",
    "    A = {HHT, THH, HTH, HHH}\n",
    "    P(A) = 4/8\n",
    "\n",
    "Let B be the event of getting at least one tail for one coin with 3 tosses\n",
    "    \n",
    "    B = {HTT, HHT, HTH, THT, TTH, THH, TTT}\n",
    "    P(B) = 7/8\n",
    "    P(A ∩ B) = {HHT, THH, HTH} = 3/8\n",
    "\n",
    " \n",
    "\\begin{equation*}\n",
    "     P(A|B) = \\frac{P(A\\cap B)}{P(B)} = \\frac{3/8}{7/8} = \\frac{3}{7} * \\frac{3}{7} = \\frac{9}{49}\n",
    "\\end{equation*}\n",
    "\n",
    "Since we have two experiments and these two experiments are independent we can multiply 3/7 * 3/7 = 9/49 to get the probability for 2 coins.\n",
    "</font>\n"
   ]
  },
  {
   "cell_type": "markdown",
   "metadata": {},
   "source": [
    "# Problem 5\n",
    "\n",
    "Rice 1.75 (changed so that each individual has either 0, 1 or 2 progeny instead of 0 or 2): A population starts with one member; at a time t = 1, it either has 1 progeny with probability p, 2 progeny with probability 2p, or dies. Also, we know that 3p < 1. If it successfully reproduces, then its children behave independently with the same alternatives at time t = 2. What is the probability that there are no members in the third generation? For what value 1 of p is this probability equal to 0.5? Note: can solve for p numerically; hint: use law of total probability.\n",
    "\n",
    "\\begin{equation*}\n",
    "P(1 progeny) = p = \\frac{1}{3} \n",
    "\\end{equation*}\n",
    "\n",
    "\n",
    "\\begin{equation*}\n",
    "P(2 progeny) = 2p = \\frac{1}{3} * 2 = \\frac{2}{3}\n",
    "\\end{equation*}\n",
    "\n",
    "\n",
    "\\begin{equation*}\n",
    "P(dies) = 1 - P(A ∪ B) = 1 - [\\frac{1}{3} + \\frac{2}{3} - (\\frac{1}{3} * \\frac{2}{3})] = \\frac{2}{9}\n",
    "\\end{equation*}\n",
    "\n",
    "\n",
    "\\begin{equation*}\n",
    "P(NO  . Third .   Gen) = [(\\frac{1}{3} * \\frac{1}{3} * \\frac{2}{9}) + (\\frac{1}{3} * \\frac{2}{3} * \\frac{2}{9}) + ((\\frac{1}{3} * \\frac{2}{9} * \\frac{2}{9}) + (\\frac{2}{3} * \\frac{1}{3} * \\frac{2}{9}) + (\\frac{2}{3} * \\frac{2}{3} * \\frac{2}{9}) + (\\frac{2}{3} * \\frac{2}{9} * \\frac{2}{9}) + (\\frac{2}{9} * \\frac{1}{3} * \\frac{2}{9}) + (\\frac{2}{9} * \\frac{2}{3} * \\frac{2}{9}) + (\\frac{2}{9} * \\frac{2}{9} * \\frac{2}{9})] = .332\n",
    "\\end{equation*}\n",
    "\n",
    "\n"
   ]
  },
  {
   "cell_type": "markdown",
   "metadata": {},
   "source": [
    "# Problem 6 \n",
    "\n",
    "* What is a random variable? Define both discrete and continuous RVs in terms of the sample space.\n",
    "\n",
    "\n",
    "<font color='red'>\n",
    "A \"random variable\" is a set of possible values from a random experiment.\n",
    "\n",
    "     \n",
    "    \n",
    "A discrete random variable is a variable that can take on a finite or countably infinite set of possible values x with P(X = x) > 0 for each of these values.\n",
    "\n",
    "    \n",
    "A random variable X is called continuous if it satisfies P(X = x) = 0 for each x.\n",
    "\n",
    "</font>"
   ]
  },
  {
   "cell_type": "markdown",
   "metadata": {},
   "source": [
    "# Problem 7\n",
    "\n",
    "* One of the observed values in an experiment is 13.4, which is modeled as a RV during analysis. How can a fixed number be modeled as a RV? Where is the random component?\n",
    "\n",
    "<font color='red'>\n",
    "\n",
    "It is a mapping of P(X = 13.4). It is the mapping of some event on Omega.\n",
    "\n",
    "</font>"
   ]
  },
  {
   "cell_type": "markdown",
   "metadata": {},
   "source": [
    "# Problem 8\n",
    "\n",
    "* Rice 2.9 (solve without using R then confirm through visualization): For what values of p is a 2 out of 3 majority decoder better than transmission of the message once? (here p is probability of success on one transmission)\n",
    "<font color='red'>\n",
    "\\begin{equation*}\n",
    "\\sum_{k=0}^{1}\\binom{3}{k}p^k(1-p)^3+\\binom{3}{1}p^1(1-p)^2\n",
    "\\end{equation*}\n",
    "\\begin{equation*}\n",
    "=(1-3p+3p^2-p^3)+3p(1-2p+p^2)\n",
    "\\end{equation*}\n",
    "\\begin{equation*}\n",
    "=(2p^3-3p^2+1)\n",
    "\\end{equation*}\n",
    "</font>"
   ]
  },
  {
   "cell_type": "markdown",
   "metadata": {},
   "source": [
    "# Problem 9\n",
    "* Rice 2.40 (changed so that f(x) = cx(x+2) for 0 ≤ x ≤ 2 and 0 otherwise; also asking to plot the CDF): Suppose X has the density function f(x) = cx(x + 2) for 0 ≤ x ≤ 2 and f(x) = 0 otherwise.\n",
    "    - a) Find c\n",
    "    \n",
    "    - b) Find the CDF\n",
    "    \n",
    "    - c) What is P(0.1 ≤ x ≤ 0.5)?\n",
    "    \n",
    "    - d) Plot the CDF.\n",
    "    \n",
    "<font color='red'>\n",
    "    \n",
    "9.a)\n",
    "\\begin{equation*}    \n",
    "\\int_{0}^{2}cx(x+2)dx =1\n",
    "\\end{equation*}\n",
    "\n",
    "evaluate at 2 and 0\n",
    "\\begin{equation*}    \n",
    "=\\frac{cx^2(x+3)}{3}= 1\n",
    "\\end{equation*}\n",
    "\n",
    "\\begin{equation*}    \n",
    "=\\frac{20c)}{3}= 1\n",
    "\\end{equation*}    \n",
    "    \n",
    "\\begin{equation*}    \n",
    " c = \\frac{3}{20}\n",
    "\\end{equation*}  \n",
    "    \n",
    "</font>\n",
    "\n",
    "\n",
    "<font color='red'>\n",
    "    \n",
    "9.b)\n",
    "    \n",
    "    \n",
    "\\begin{equation*}\n",
    "\\int_{0}^{2}\\frac{3}{20}x(x+2)dx\n",
    "\\end{equation*}\n",
    "\n",
    "\n",
    "evaluate at 2 and 0\n",
    "    \n",
    "\\begin{equation*}    \n",
    "=\\frac{3}{20}[(\\int_{0}^{2}x^2dx + \\int_{0}^{2}2xdx)] = \\frac{3}{20}(\\frac{8}{3} + 4) = 1\n",
    "\\end{equation*}\n",
    " \n",
    "    \n",
    "</font>\n",
    "\n",
    "\n",
    "<font color='red'>\n",
    "    \n",
    "9.C)\n",
    "    \n",
    "    \n",
    "\\begin{equation*}\n",
    "\\int_{0}^{2}\\frac{3}{20}x(x+2)dx\n",
    "\\end{equation*}\n",
    "\n",
    "\n",
    "evaluate at .1 and .5\n",
    "    \n",
    "\\begin{equation*}    \n",
    "=\\frac{3}{20}[(\\int_{.1}^{.5}x^2dx + \\int_{.1}^{.5}2xdx)] = \\frac{3}{20}(0.04133 + 0.24) = 0.0421995\n",
    "\\end{equation*}\n",
    " \n",
    "    \n",
    "</font>"
   ]
  },
  {
   "cell_type": "code",
   "execution_count": 57,
   "metadata": {},
   "outputs": [
    {
     "data": {
      "image/png": "[encoded data removed]",
      "text/plain": [
       "Plot with title “Plot of ((3/20)*x(x+2))”"
      ]
     },
     "metadata": {
      "image/png": {
       "height": 420,
       "width": 420
      }
     },
     "output_type": "display_data"
    }
   ],
   "source": [
    "curve(((3/20)*x*(x+2)), from=0, to=1.99, n=300, xlab=\"xvalue\", ylab=\"yvalue\", \n",
    "             col=\"blue\", lwd=2, main=\"Plot of ((3/20)*x(x+2))\")"
   ]
  },
  {
   "cell_type": "code",
   "execution_count": null,
   "metadata": {},
   "outputs": [],
   "source": [
    "## inverse cdf can produce the probability for every distribution "
   ]
  }
 ],
 "metadata": {
  "kernelspec": {
   "display_name": "R",
   "language": "R",
   "name": "ir"
  },
  "language_info": {
   "codemirror_mode": "r",
   "file_extension": ".r",
   "mimetype": "text/x-r-source",
   "name": "R",
   "pygments_lexer": "r",
   "version": "3.6.0"
  }
 },
 "nbformat": 4,
 "nbformat_minor": 4
}
