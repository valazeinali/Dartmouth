{
 "cells": [
  {
   "cell_type": "markdown",
   "metadata": {},
   "source": [
    "## Problem 1:  (Based on Rice 9.1) A coin is thrown independently 10 times to test the hypothesis that the probability of a heads is 1/2 vs the alternative that the probability is not 1/2. The test rejects if the number of observed heads is 0 or 10.\n",
    "\n",
    "(a) What is the significance level of the test?\n",
    "\n",
    "(b) If the probability of heads is 0.1, what is the power of the test?\n",
    "\n",
    "(c) If the test instead rejects if the number of observed heads is ≤ 1 or ≥ 9, what is the significance level?"
   ]
  },
  {
   "cell_type": "markdown",
   "metadata": {},
   "source": [
    "Got them all correct!"
   ]
  },
  {
   "cell_type": "markdown",
   "metadata": {},
   "source": [
    "## Problem 2: Which of the following hypotheses are simple, and which are composite? Justify your answers.\n",
    "\n",
    "(a) X follows a uniform distribution on [0,1]. \n",
    "\n",
    "(b) A die is unbiased.\n",
    "\n",
    "(c) X follows a normal distribution with mean 0 and variance > 10. \n",
    "\n",
    "(d) X follows a normal distribution with mean = 0."
   ]
  },
  {
   "cell_type": "markdown",
   "metadata": {},
   "source": [
    "Got them all correct."
   ]
  },
  {
   "cell_type": "markdown",
   "metadata": {},
   "source": [
    "## Problem 3: True or false and state why:\n",
    "\n",
    "(a) The significance level of a statistical test is equal to the probability that the null hypothesis is true.\n",
    "\n",
    "(b) If the significance level of a test is decreased, the power would be expected to increase.\n",
    "\n",
    "(c) If a test is rejected at the significance level α, the probability that the null hypothesis is\n",
    "true equals alpha.\n",
    "\n",
    "(d) The probability that the null hypothesis is falsely rejected is equal to the power of the\n",
    "test.\n",
    "\n",
    "(e) A type I error occurs when the test statistic falls in the rejection region of the test.\n",
    "\n",
    "(f) A type II error is more serious than a type I error.\n",
    "\n",
    "(g) The power of a test is determined by the null distribution of the test statistic.\n",
    "\n",
    "(h) The likelihood ratio is a random variable."
   ]
  },
  {
   "cell_type": "markdown",
   "metadata": {},
   "source": [
    "Got them all correct."
   ]
  },
  {
   "cell_type": "markdown",
   "metadata": {},
   "source": [
    "## Problem 5: Suppose that the null hypothesis is true, that the distribution of the test statistic, T say, is continuous with cdf F and that the test rejects for large values of T. Let V denote the p-value of the test.\n",
    "\n",
    "(a) Show that V = 1−F(T).\n",
    "\n",
    "(b) Conclude that the null distribution of V is uniform.\n",
    "\n",
    "(c) If the null hypothesis is true, what is the probability that the p-value is greater than .1? \n",
    "\n",
    "(d) Show that the test that rejects if V < alpha has significance level alpha."
   ]
  },
  {
   "cell_type": "markdown",
   "metadata": {},
   "source": [
    "Got them all correct."
   ]
  },
  {
   "cell_type": "markdown",
   "metadata": {},
   "source": [
    "## Problem 7: Nylon bars were tested for brittleness. Each of the 280 bars was molded under similar conditions and was tested in five places. Assuming that each bar has uniform composition, the number of breaks on a given bar should be binomially distributed with five trials and an unknown probability of p of failure. If the bars are all of the same uniform strength, p should be the same for all of them; if they are of different strengths, p should vary from bar to bar. Thus, the H0 is that the p’s are all equal. The following table summarizes the outcome of the experiment:\n",
    "\n",
    "(a) Under the given assumption, the data in the table consist of 280 observations of inde- pendent binomial random variables. Find the mle of p.\n",
    "\n",
    "(b) Pooling the last three cells, test the agreement of the observed frequency distribution with the binomial distribution using Pearson’s chi-square test."
   ]
  },
  {
   "cell_type": "markdown",
   "metadata": {},
   "source": [
    "Got them both correct."
   ]
  },
  {
   "cell_type": "markdown",
   "metadata": {},
   "source": [
    "## Problem 8: In this problem you will develop and apply a test for normality based on the coefficient of skewness as defined in Section 9.9 of Rice.\n",
    "\n",
    "(a) Write an R function to compute the coefficient of skewness, b1. 2\n",
    "   \n",
    "(b) Use simulation to approximate the sampling distribution of b1 when the data is modeled by 100 independent N (0, 1) RVs.\n",
    "\n",
    "(c) Test 1000 data sets each containing 100 independent N (0, 1) RVs for normality. For this test H0 is that the data are iid N(0,1) and HA is that the data are not iid N(0,1). Use the sampling distribution of b1 to compute an approximate p-value for each test. Generate a Q-Q plot of these p-values relative to a theoretical U (0, 1) distribution. Does the shape of this plot match your expectations? Explain.\n",
    "\n",
    "(d) Test 1000 data sets each containing 100 independent Poisson RVs with λ = 1 for nor- mality. Compute an approximate p-value for each test. Generate a Q-Q plot of these p-values relative to a theoretical U(0,1) distribution. Does the shape of this plot match your expectations? Explain."
   ]
  },
  {
   "cell_type": "markdown",
   "metadata": {},
   "source": [
    "Got them all but c and d, but understand now."
   ]
  }
 ],
 "metadata": {
  "kernelspec": {
   "display_name": "R",
   "language": "R",
   "name": "ir"
  },
  "language_info": {
   "codemirror_mode": "r",
   "file_extension": ".r",
   "mimetype": "text/x-r-source",
   "name": "R",
   "pygments_lexer": "r",
   "version": "3.6.0"
  }
 },
 "nbformat": 4,
 "nbformat_minor": 4
}
