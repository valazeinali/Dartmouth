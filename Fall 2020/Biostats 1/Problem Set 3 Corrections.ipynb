{
 "cells": [
  {
   "cell_type": "markdown",
   "metadata": {},
   "source": [
    "# 1) Let X, Y, and Z be independent RVs with variances σX , σY , σZ . Let:\n",
    "\\begin{equation}\n",
    "U=Z−X \\\\\n",
    "V=Z−Y\n",
    "\\end{equation}\n",
    "## Answer the following questions:\n",
    "(a) Find Cov(U, V) and ρU,V \n",
    "\n",
    "(b)If U=Z+X and V=Z+Y, do the values of Cov(U,V)and ρU,V computed inpart a) change? Explain.\n",
    "\n",
    "(c) How does ρU,V change if σ^2_Z is much larger than σ^2_X or σ^2_Y?\n",
    "\n",
    "(d) How does ρU,V change if σ^2_Z is much smaller than σ^2_X or σ^2_Y?\n",
    "\n",
    "(e) How do the answers for parts c) and d) relate to variable standardization?\n"
   ]
  },
  {
   "cell_type": "markdown",
   "metadata": {},
   "source": [
    "<font color='red'>\n",
    "I had no issues with this problem."
   ]
  },
  {
   "cell_type": "markdown",
   "metadata": {},
   "source": [
    "# 2) Let X and Y be jointly distributed RVs with correlation  define the standardized random variables Xbar and Ybar as:\n",
    "\n",
    "## Answer the following questions:\n",
    "\n",
    "(a) Show that Cov(Xbar,Ybar)= ρX,Y.\n",
    "\n",
    "(b) Principal component analysis (PCA) is normally defined by the eigenvalue decomposition of the sample covariance matrix for multivariate data. Look at the R PCA function prcomp(). What is the impact of setting center=T and scale=T when calling prcomp()? When might this be desirable?"
   ]
  },
  {
   "cell_type": "markdown",
   "metadata": {},
   "source": [
    "<font color='red'>\n",
    "\n",
    "Part a is correct, for b) I should have mentioned the result is that the eigenvalue decomposition is performed on the sample correlation matrix ratherthan the sample covariance matrix "
   ]
  },
  {
   "cell_type": "markdown",
   "metadata": {},
   "source": [
    "# 3) The number of offspring of an organism is a discrete random variable with mean μ and variance σ^2 . Each of its offspring reproduces in the same manner. \n",
    "\n",
    "(a) Find the expected number of offspring in the third generation.\n",
    "\n",
    "(b) Find the variance of the number of offspring in the third generation.\n",
    "\n",
    "(c) Validate your answers to a) and b) via simulation with the number of offspring repre- sented by a Poisson RV with λ = 2. Create 1000 separate populations that each include 3 generations and use a histogram to visualize the empirical distribution of the number of offspring in the third generation. Estimate the expected number of 3rd generation offspring using the average across all 1000 simulations and estimate the variance of the number using the R var() function (we will learn the basis for these estimates in Chapter 8). Compare these estimates with the values computed according to the results in part a) and b)."
   ]
  },
  {
   "cell_type": "markdown",
   "metadata": {},
   "source": [
    "<font color='red'>\n",
    "Used wrong variance formula in b thus leading to wrong variance calculation. Also my estimates were wrong in my graphs."
   ]
  },
  {
   "cell_type": "markdown",
   "metadata": {},
   "source": [
    "# 5) Let X1,X2,... be a sequence of independent random variables with E[Xi]=μ and Var(Xi)=σ^2i. Show that if\n"
   ]
  },
  {
   "cell_type": "markdown",
   "metadata": {},
   "source": [
    "<font color='red'>\n",
    "Used correct theorm and got same answer.\n"
   ]
  },
  {
   "cell_type": "markdown",
   "metadata": {},
   "source": [
    "# 7) Suppose that X1, ..., X20 are independent random variables with density functionsf(x)=3x^2,0≤x≤1. LetS=X1+...+X20.\n",
    "\n",
    "(a) Use the central limit theorem to approximate P (S ≤ 14).\n",
    "\n",
    "(b) If you are instead asked to approximate P(S ≤ 15), what simplification can be made to the calculation?\n",
    "\n",
    "(c) Validate the approximation by plotting the CLT-based density (compute this using dnorm()) and true density of S. Use the inverse CDF method to simulate from the true density and plot using a kernel density estimate (R code plot(kernel()), we’ll learn the details of kernel density estimation later in the course).\n"
   ]
  },
  {
   "cell_type": "markdown",
   "metadata": {},
   "source": [
    "<font color='red'>\n",
    "didnt take part a all the way to final, but did 3/4 correct. Didnt show full work for part c, but my intuition was correct."
   ]
  },
  {
   "cell_type": "markdown",
   "metadata": {},
   "source": [
    "# 8) (Based on Rice 5.21) We wish to evaluate the integral... (couldn't copy this problem)\n",
    "\n",
    "(a) Show that E(I(f)) = I(f)\n",
    "<font color='red'>\n",
    "Correct, but didn't show full steps. Missed the second last step.\n"
   ]
  }
 ],
 "metadata": {
  "kernelspec": {
   "display_name": "R",
   "language": "R",
   "name": "ir"
  },
  "language_info": {
   "codemirror_mode": "r",
   "file_extension": ".r",
   "mimetype": "text/x-r-source",
   "name": "R",
   "pygments_lexer": "r",
   "version": "3.6.0"
  }
 },
 "nbformat": 4,
 "nbformat_minor": 4
}
