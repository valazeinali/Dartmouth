{
 "cells": [
  {
   "cell_type": "markdown",
   "metadata": {},
   "source": [
    "Net ID: f004qm4\n",
    "\n",
    "Date: October 31st, 2020 🎃 "
   ]
  },
  {
   "cell_type": "markdown",
   "metadata": {
    "id": "5Jm7EBaDMYGU"
   },
   "source": [
    "# Week 7 Assignment\n",
    "\n",
    "Coding **best practices applies** to all questions. Print out **informative statements** and use **defensive programming where applicable**. Functions should have informative names, arguments, and inline help."
   ]
  },
  {
   "cell_type": "markdown",
   "metadata": {
    "id": "J3at7pwnMYGV"
   },
   "source": [
    "## Question One (5 pts)\n",
    "\n",
    "Canberra distance is a weighted form of Manhattan distance that is often used for measuring the distance in ranked lists or for applications in the gut microbiome. The distance metric is defined as follows:\n",
    "\n",
    "$$d(p,q)=\\sum_{i=1}^n\\frac{|p_i-q_i|}{|p_i|+|q_i|}$$\n",
    "\n",
    "where $p={p_1,p_2,...,p_n}$ and $q={q_1,q_2,...,q_n}$ are vectors of length $n$. \n",
    "\n",
    "Create a function that accepts two vectors and returns the canberra distance of these vectors."
   ]
  },
  {
   "cell_type": "code",
   "execution_count": 1,
   "metadata": {
    "id": "WLVQUfT7MYGW"
   },
   "outputs": [],
   "source": [
    "#Your Canberra function goes here\n",
    "def Canberra(p,q):\n",
    "    '''\n",
    "    Function computes canbera distance, takes it two vectors and coverts them to numpy types to do operations\n",
    "    '''\n",
    "    #Creating list to append values \n",
    "    difference = [] #top half equation, before we take the abs value\n",
    "    bottomSum1 = [] #bottom half of equation\n",
    "    zip_object = zip(p, q) #zip together for arithmetic purposes \n",
    "    \n",
    "    for p_i, q_i in zip_object:\n",
    "        difference.append(p_i-q_i) #appending each index opperation to list (for top half)\n",
    "        bottomSum1.append(abs(p_i) + abs(q_i)) #same as above (for bottom half)\n",
    "        \n",
    "    topSumTemp = np.array(difference) #convert temproraly for using absolute value function\n",
    "    topSum = np.abs(topSumTemp) #taking absolute value of the difference\n",
    "    bottomSum = np.array(bottomSum1) #convert temproraly for using absolute value function\n",
    "    \n",
    "    print(topSum) #sanity check\n",
    "    print(bottomSum) #sanity check\n",
    "    \n",
    "    fullEqua = topSum / bottomSum #full equation\n",
    "    \n",
    "    #taking sums of the values of each index and rounding to 2 decimal places. \n",
    "    print(f'The Canberra Distance is {str(round(fullEqua.sum(axis=0),2))}') "
   ]
  },
  {
   "cell_type": "code",
   "execution_count": 2,
   "metadata": {},
   "outputs": [
    {
     "name": "stdout",
     "output_type": "stream",
     "text": [
      "[7 3 1 6]\n",
      "[7 9 7 6]\n",
      "The Canberra Distance is 2.48\n"
     ]
    }
   ],
   "source": [
    "import numpy as np\n",
    "p = [0, 3, 4, 5]\n",
    "q = [7, 6, 3, -1]\n",
    "Canberra(p,q)"
   ]
  },
  {
   "cell_type": "markdown",
   "metadata": {
    "id": "POenBRkgMYGc"
   },
   "source": [
    "Run the following chunk of code and then call your canberra function on x and y. Round your answer to two decimal places. "
   ]
  },
  {
   "cell_type": "code",
   "execution_count": 3,
   "metadata": {
    "id": "2zEhiWhwMYGd"
   },
   "outputs": [],
   "source": [
    "import random\n",
    "random.seed(0) #this ensures that the same random numbers are picked everytime\n",
    "x=random.choices(range(1000),k=300) #randomly chooses 300 numbers between 0 and 999\n",
    "y=range(300)"
   ]
  },
  {
   "cell_type": "code",
   "execution_count": 4,
   "metadata": {
    "id": "jddO6lTjx0qq"
   },
   "outputs": [
    {
     "name": "stdout",
     "output_type": "stream",
     "text": [
      "[844 756 418 255 507 399 777 296 468 574 898 493 269 742 604 235 893 965\n",
      " 792 883 290 708 876 660 448  75 408 583 885 937 447 834 228 772 514  21\n",
      " 683 361 786 629  39 452 825 200 281 825 145 520 190 918 753 396  28 267\n",
      " 453 877  53 494 648 488 754 479 901 540 523 379 530 317 507 221 119 115\n",
      " 540 583 402  14 681 799 845 763 818 842 458 308 621 190 725 762 807 500\n",
      " 859 488 358 567 902 821 697  15 514 387 530 744 141 628  13 115 688 225\n",
      " 707   9  36 586  67 460 796 419 564  91 516 487 455 270 248 857  88 104\n",
      " 835  57   5  81 670 805 110 292  33 124  84 509 212  41 363 102  42 845\n",
      "  55 213 585 691 770  20 522 815  94 523 691 187  94 439 284  15 311 248\n",
      " 407 345 147 192 671  83 392 157 571 164 127 107  66 778 176 110 181 767\n",
      " 453 440 533 205 230 465 185   5 146  50 447 187 683 375 220 207 505 221\n",
      " 464 153 245  58  45 324 283 356 549 676 286 103 256 598 663 599  26 784\n",
      " 417 134 507 767 181 457  94  10 493 223 596 301 131 111 419 642  47 745\n",
      " 134 618 160 156  36 213 552 620 109 277 406 102 625  31 230 209 430 307\n",
      " 694 685 655 213 493 444 397 453 642 379 110 274  57 322 258 116  65 520\n",
      " 448  67 348 232 111 706  13 117 270  14 198  42 234 104 239 215 117  41\n",
      " 126 190 618 183 548 683  49 184 403 129   3 435]\n",
      "[ 844  758  422  261  515  409  789  310  484  592  918  515  293  768\n",
      "  632  265  925  999  828  921  330  750  920  706  496  125  460  637\n",
      "  941  995  507  896  292  838  582   49  755  435  862  707   41  534\n",
      "  909  286  369  915  237  614  286 1016  853  498  132  373  561  987\n",
      "  165  608  764  606  874  601 1025  666  651  509  662  451  643  359\n",
      "  259  257  684  729  550  164  833  953 1001  921  978 1004  622  474\n",
      "  789  360  897  936  983  678 1039  670  542  753 1090 1011  889  179\n",
      "  710  585  730  946  345  834  221  325  900  439  923  209  256  808\n",
      "  157  686 1024  649  796  143  752  725  695  512  492 1103  160  146\n",
      " 1087  311  251  339  930 1067  154  558  235  394  356  783  488  319\n",
      "  643  180  242 1131  343  503  877  985 1066  318  822 1117  210  829\n",
      "  999  497  406  753  600  333  631  570  731  671  475  522 1003  417\n",
      "  728  181  911  506  217  453  414 1128  528  464  537 1125  813  802\n",
      "  897  571  598  835  187  379  522  428  827  569 1067  761  608  597\n",
      "  897  615  860  245  645  460  359  730  691  766  961 1090  702  521\n",
      "  676 1020 1087 1025  402 1214  849  300  943 1205  621  899  538  436\n",
      "  941  227 1048  755  325  347  879 1104  511 1211  334 1088  632  318\n",
      "  512  691 1032 1102  375  763  894  592 1117  525  266  289  930  809\n",
      " 1198 1191 1163  297 1005  958  913  971 1162  901  634  800  471  852\n",
      "  274  418  601 1058  988  609  892  314  437 1256  565  671  826  572\n",
      "  758  520  330  462  807  355  689  615  702  388 1198  765 1132 1269\n",
      "  637  774  995  723  599 1033]\n",
      "The Canberra Distance is 168.97\n"
     ]
    }
   ],
   "source": [
    "# Your code goes here\n",
    "Canberra(x,y)"
   ]
  },
  {
   "cell_type": "markdown",
   "metadata": {
    "id": "zvvTtTuIMYGg"
   },
   "source": [
    "## Question Two (7 pts)\n",
    "\n",
    "Write a function that decides what someone's Halloween costume should be based on their date of birth. Use the following adjectives based on month of birth:\n",
    "\n",
    "> January - March: Spooky  \n",
    "> April - June: Baby  \n",
    "> July - September: Fancy  \n",
    "> October - December: Silly\n",
    "\n",
    "and nouns based on day of birth:\n",
    "\n",
    "> 1-5: Sloth  \n",
    "> 6-10: Witch  \n",
    "> 11-15: Pooh Bear  \n",
    "> 16-20: Vampire  \n",
    "> 21-25: Cat  \n",
    "> 26-30: President  \n",
    "> 31: QBS 101 TA\n",
    "\n",
    "Allow your code to take user input, then run your function, and nicely print output. Set your function to have a default date of October 31.\n",
    "\n",
    "You are free to make the input as user-friendly as you wish (eg. 2 separate inuput or a single one, number vs. string months, etc.)"
   ]
  },
  {
   "cell_type": "code",
   "execution_count": 5,
   "metadata": {
    "id": "qVB8LIDhMYGg"
   },
   "outputs": [],
   "source": [
    "# Your code goes here\n",
    "def costume(a = 10,b =31):\n",
    "    '''\n",
    "    Function outputs a adjective and a noun (halloween theme) based oun month and day of birthday.\n",
    "    '''\n",
    "    #defensive programming to check for non logical inputs\n",
    "    if(a < 0 or a > 12):\n",
    "        sys.exit(\"You cannot have a month number less than zero or greather than 12!\")\n",
    "    elif(b < 0 or b > 31):\n",
    "        sys.exit(\"You cannot have a day number less than zero or greather than 31!\")\n",
    "    \n",
    "    # month logic\n",
    "    if(a >= 1 and a <= 3):\n",
    "        adj = \"Spooky\"\n",
    "    if(a >= 4 and a <= 6):\n",
    "        adj = \"Baby\"\n",
    "    if(a >= 7 and a <= 9):\n",
    "        adj = \"Fancy\"\n",
    "    else:\n",
    "        adj = \"Silly\"\n",
    "    \n",
    "    # day logic\n",
    "    if(b >= 1 and b <= 5):\n",
    "        noun = \"Sloth\"\n",
    "    if(b >= 6 and b <= 10):\n",
    "        noun = \"Witch\"\n",
    "    if(b >= 11 and b <= 15):\n",
    "        noun = \"Pooh Bear\"\n",
    "    if(b >= 16 and b <= 20):\n",
    "        noun = \"Vampire\"\n",
    "    if(b >= 21 and b <= 25):\n",
    "        noun = \"Cat\"\n",
    "    if(b >= 26 and b <= 30):\n",
    "        noun = \"President\"\n",
    "    else:\n",
    "        noun = \"QBS 101 TA\"\n",
    "    return(adj,noun)\n"
   ]
  },
  {
   "cell_type": "code",
   "execution_count": 6,
   "metadata": {},
   "outputs": [
    {
     "data": {
      "text/plain": [
       "('Silly', 'President')"
      ]
     },
     "execution_count": 6,
     "metadata": {},
     "output_type": "execute_result"
    }
   ],
   "source": [
    "import sys\n",
    "costume(10,27)"
   ]
  },
  {
   "cell_type": "markdown",
   "metadata": {
    "id": "lLGwzYl6MYGi"
   },
   "source": [
    "## Question Three (8 pts)\n",
    "\n",
    "A common programming challenge is a sort - or taking a collection of elements and putting it into either ascending or descending _natural_ order. \n",
    "\n",
    "There are many sorting algorithms, but one of the simplest is the _bubble sort_. \n",
    "\n",
    "Suppose you have a vector $v={v_1,v_2,..,v_n}$. To sort in the ascending _natural_ order:\n",
    "\n",
    "1. if $v_i>v_{i+1}$ swap places \n",
    "2. repeat for all elements in $v$ (with $i \\in [0,n-1]$)\n",
    "3. repeat steps 1. and 2. up to $n-1$ times or until all items are in correct order.\n",
    "\n",
    "Code your own bubble sort function and sort the vector below. "
   ]
  },
  {
   "cell_type": "code",
   "execution_count": 7,
   "metadata": {
    "id": "c_ev3vt4MYGj"
   },
   "outputs": [
    {
     "name": "stdout",
     "output_type": "stream",
     "text": [
      "The original unsorted list is [12, 13, 1, 8, 15, 6, 19, 4, 7, 5, 9, 3, 2, 11, 17, 0, 14, 16, 18, 10].\n"
     ]
    }
   ],
   "source": [
    "import random\n",
    "random.seed(0)\n",
    "vector=random.sample(range(20),20)\n",
    "\n",
    "print(f\"The original unsorted list is {vector}.\")"
   ]
  },
  {
   "cell_type": "code",
   "execution_count": 8,
   "metadata": {
    "id": "uZYz41tMyA1t"
   },
   "outputs": [],
   "source": [
    "# Your code goes here\n",
    "def bubble_sort(our_list):\n",
    "    '''\n",
    "    Simple bubble sort\n",
    "    '''\n",
    "    # We go through the list as many times as there are elements\n",
    "    for i in range(len(our_list)):\n",
    "        # We want the last pair of adjacent elements to be (n-2, n-1)\n",
    "        for j in range(len(our_list) - 1):\n",
    "            if our_list[j] > our_list[j+1]:\n",
    "                # Swap values\n",
    "                our_list[j], our_list[j+1] = our_list[j+1], our_list[j]\n",
    "    return(our_list)"
   ]
  },
  {
   "cell_type": "code",
   "execution_count": 9,
   "metadata": {},
   "outputs": [
    {
     "data": {
      "text/plain": [
       "[0, 1, 2, 3, 4, 5, 6, 7, 8, 9, 10, 11, 12, 13, 14, 15, 16, 17, 18, 19]"
      ]
     },
     "execution_count": 9,
     "metadata": {},
     "output_type": "execute_result"
    }
   ],
   "source": [
    "bubble_sort(vector)"
   ]
  },
  {
   "cell_type": "markdown",
   "metadata": {
    "id": "bBSQNz4zMYGl"
   },
   "source": [
    "## Bonus (3 pts)\n",
    "\n",
    "Adjust your bubble sort function to take an additional argument which allows the user to specify that they want descending order. Default the _natural_ sorting order to ascending.\n"
   ]
  },
  {
   "cell_type": "code",
   "execution_count": 10,
   "metadata": {
    "id": "W2A-5fGSMYGm"
   },
   "outputs": [],
   "source": [
    "# Your code goes here\n",
    "\n",
    "# for reverse\n",
    "def Reverse(lst): \n",
    "    '''\n",
    "    Reversing a list.\n",
    "    '''\n",
    "    return [ele for ele in reversed(lst)] \n",
    "\n",
    "def bubble_sort_dynamic(our_list):\n",
    "    '''\n",
    "    Bubble sort with option of printing in descending or acsending order.\n",
    "    '''\n",
    "    reverse = input(\"Would you like descending order? (y/n)\")\n",
    "    # We go through the list as many times as there are elements\n",
    "    for i in range(len(our_list)):\n",
    "        # We want the last pair of adjacent elements to be (n-2, n-1)\n",
    "        for j in range(len(our_list) - 1):\n",
    "            if our_list[j] > our_list[j+1]:\n",
    "                # Swap values\n",
    "                our_list[j], our_list[j+1] = our_list[j+1], our_list[j]\n",
    "    if(reverse == \"y\"):\n",
    "        print(Reverse(our_list))\n",
    "    else:\n",
    "        print(our_list)"
   ]
  },
  {
   "cell_type": "code",
   "execution_count": 11,
   "metadata": {},
   "outputs": [
    {
     "name": "stdout",
     "output_type": "stream",
     "text": [
      "Would you like descending order? (y/n)y\n",
      "[19, 18, 17, 16, 15, 14, 13, 12, 11, 10, 9, 8, 7, 6, 5, 4, 3, 2, 1, 0]\n"
     ]
    }
   ],
   "source": [
    "bubble_sort_dynamic(vector) # descending order"
   ]
  },
  {
   "cell_type": "code",
   "execution_count": 12,
   "metadata": {},
   "outputs": [
    {
     "name": "stdout",
     "output_type": "stream",
     "text": [
      "Would you like descending order? (y/n)n\n",
      "[0, 1, 2, 3, 4, 5, 6, 7, 8, 9, 10, 11, 12, 13, 14, 15, 16, 17, 18, 19]\n"
     ]
    }
   ],
   "source": [
    "bubble_sort_dynamic(vector) # acscending order"
   ]
  }
 ],
 "metadata": {
  "colab": {
   "name": "QBS101-F20-week07-StudentVersion.ipynb",
   "provenance": []
  },
  "kernelspec": {
   "display_name": "Python 3",
   "language": "python",
   "name": "python3"
  },
  "language_info": {
   "codemirror_mode": {
    "name": "ipython",
    "version": 3
   },
   "file_extension": ".py",
   "mimetype": "text/x-python",
   "name": "python",
   "nbconvert_exporter": "python",
   "pygments_lexer": "ipython3",
   "version": "3.7.6"
  }
 },
 "nbformat": 4,
 "nbformat_minor": 1
}
