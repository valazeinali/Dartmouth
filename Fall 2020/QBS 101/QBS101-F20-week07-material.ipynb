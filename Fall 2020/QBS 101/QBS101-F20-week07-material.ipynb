{
 "cells": [
  {
   "cell_type": "markdown",
   "metadata": {
    "id": "xZ8hd7hizmGC"
   },
   "source": [
    "# Functions, Returns, Scope\n",
    "\n",
    "Sources: \n",
    "- [DEV.to 30 days of Python](https://dev.to/arindamdawn/series/7425), days 11\n",
    "- [Teclado 30 Days of Python](https://blog.tecladocode.com/30-days-of-python/) days 12,13"
   ]
  },
  {
   "cell_type": "markdown",
   "metadata": {
    "id": "8ugXXh08ftES"
   },
   "source": [
    "# Functions\n",
    "\n",
    "Both **Object-Oriented Programming** and **Functional** paradigms of programming operate on the same principle - **Separation of Concerns**. While Object-Oriented Programming does this by combining properties and their actions in a class, _functional programming_ keeps properties and their actions separate and use functions to perform actions on objects.\n",
    "\n",
    "In the developer universe, there is often a debate between which style of programming paradigm is better. While many have strong opinions about either writing pure Object Oriented code or pure functional code. The more pragmatic approach is to understand the benefits of both paradigms along with their caveats and embrace the best of both worlds whenever necessary.\n",
    "\n",
    "A function commonly used is `print()`. Printing is something done all the time, both when testing code and when providing information/feedback to users.\n",
    "\n",
    "While this is sounds like a fairly simple operation, the code for `print` is actually **over 80 lines** long! `print` also calls several other functions in order to perform a task, so the complete functionality provided by `print` actually requires several hundred lines of code, mostly written in C.\n",
    "\n",
    "Major benefit of using functions:\n",
    "\n",
    "* cut down on repeating potentially long and complicated code for operations performed multiple times.\n",
    "* make  code more readable. It’s much easier to understand print(\"Hello, world!\"), than the lengthy implementation of the print function.\n",
    "* no need to know how the underlying code for a function is written/works. It iss enough to know how to use the function, and what the function will do with the values provided. The implementation details can often be safely ignored."
   ]
  },
  {
   "cell_type": "markdown",
   "metadata": {
    "id": "z9Rqrn19gVPf"
   },
   "source": [
    "## Defining a function\n",
    "\n",
    "Functions are made of 3 major elements that you need to know and understand to define and use them:\n",
    "* a name\n",
    "* parameters (optional)\n",
    "* return type (optional)\n",
    "\n",
    "### Function names\n",
    "\n",
    "A function name follows the same rules and best practices/conventions as variable name:\n",
    "- starts with a lowercase letter, followed by lower case letters or numbers\n",
    "- no spaces or special characters, use _snake_case_ instead\n",
    "\n",
    "The name is followed by a pair of parentheses `()` that may contain the _parameters_ passed to the function. Returns will be addressed later in this notebook. \n",
    "\n",
    "When a function is defined, its name is preceded by the keywork `def` and followed by a colon `:`.\n",
    "\n",
    "Syntax:\n",
    "```\n",
    "def function_name():\n",
    "  # function body\n",
    "```\n",
    "The indented body of the function contains a set of instructions that logically belong together to perform a discrete task that may be reused as a unit.\n",
    "\n",
    "If we want to reuse the following code to print first 10 even numbers:\n",
    "\n",
    "```\n",
    "for n in range(1,11):\n",
    "  print(2*n)\n",
    "```\n",
    "We could create a function that does it for use:"
   ]
  },
  {
   "cell_type": "code",
   "execution_count": null,
   "metadata": {
    "colab": {
     "base_uri": "https://localhost:8080/",
     "height": 188
    },
    "executionInfo": {
     "elapsed": 461,
     "status": "ok",
     "timestamp": 1603229362557,
     "user": {
      "displayName": "Christian Darabos",
      "photoUrl": "https://lh3.googleusercontent.com/a-/AOh14Gj58rX31OVqoCy41duHsoMyAFVv9Ammc6u2HhU3=s64",
      "userId": "13696541032900097213"
     },
     "user_tz": 240
    },
    "id": "EPH058ft6i7d",
    "outputId": "3b13e214-2c39-4137-b74e-a2de8c3b5cd2"
   },
   "outputs": [
    {
     "name": "stdout",
     "output_type": "stream",
     "text": [
      "2\n",
      "4\n",
      "6\n",
      "8\n",
      "10\n",
      "12\n",
      "14\n",
      "16\n",
      "18\n",
      "20\n"
     ]
    }
   ],
   "source": [
    "def even_numbers():     # valid name, no parameters\n",
    "  for n in range(1,11): # function body is indented \n",
    "    print(2*n)          # loop body is further indented\n",
    "\n",
    "even_numbers()"
   ]
  },
  {
   "cell_type": "markdown",
   "metadata": {
    "id": "1BmlV58I6sXO"
   },
   "source": [
    "When calling a function, use its name as defined, followed by the parentheses (and parameters, if any), same as a built-in function like `print` or `range`."
   ]
  },
  {
   "cell_type": "markdown",
   "metadata": {
    "id": "hDxiLP6X7H8t"
   },
   "source": [
    "##\n",
    " Inline help in functions\n",
    "\n",
    "Inline help is very useful when documenting code and ensuring reusability.\n",
    "\n",
    "In a function, immediately after the definition line, add a triple apostrophe `'''` separated comment that explains what the function does. That text is displayed when the `help` function is called on the function name or in auto-complete/hover-over contexts (depending on the development environment)."
   ]
  },
  {
   "cell_type": "code",
   "execution_count": null,
   "metadata": {
    "colab": {
     "base_uri": "https://localhost:8080/",
     "height": 103
    },
    "executionInfo": {
     "elapsed": 397,
     "status": "ok",
     "timestamp": 1603229652802,
     "user": {
      "displayName": "Christian Darabos",
      "photoUrl": "https://lh3.googleusercontent.com/a-/AOh14Gj58rX31OVqoCy41duHsoMyAFVv9Ammc6u2HhU3=s64",
      "userId": "13696541032900097213"
     },
     "user_tz": 240
    },
    "id": "N9QV_jln6pU7",
    "outputId": "44c21eee-8cf9-4cf2-ad14-6699cd2d0487"
   },
   "outputs": [
    {
     "name": "stdout",
     "output_type": "stream",
     "text": [
      "Help on function even_numbers in module __main__:\n",
      "\n",
      "even_numbers()\n",
      "    Prints the first 10 even positive numbers\n",
      "\n"
     ]
    }
   ],
   "source": [
    "def even_numbers():\n",
    "  '''\n",
    "  Prints the first 10 even positive numbers\n",
    "  '''\n",
    "  for n in range(1,11):\n",
    "    print(2*n)\n",
    "\n",
    "help(even_numbers)"
   ]
  },
  {
   "cell_type": "markdown",
   "metadata": {
    "id": "KH11zirE8N7s"
   },
   "source": [
    "## Function parameters and arguments\n",
    "\n",
    "Parameters are the way code interacts with a function and allow the function do change its behavior depending on that input. Arguments are the values passed by the user when calling a function, between the parentheses. For instance:\n",
    "```\n",
    "print() # no argument, prints an empty line\n",
    "print('Hello') # one argument, prints that argument\n",
    "print('Hello','Good bye') # 2 arguments, printed separated by the default separator\n",
    "print('Hello','Good bye', sep='-') # 3 arguments, the last one specifying the separator to use\n",
    "```\n",
    "\n",
    "Parameters that receive argument are specified at the function definition as variable names usable only within the body of the function."
   ]
  },
  {
   "cell_type": "code",
   "execution_count": null,
   "metadata": {
    "id": "3BMyJQ587xV0"
   },
   "outputs": [],
   "source": [
    "def even_numbers(nb_to_print): # one parameter - mendatory!\n",
    "  '''\n",
    "  Prints the first even positive numbers as specified by the parameter\n",
    "  '''\n",
    "  for n in range(1,nb_to_print+1): # upper bound needs to be included\n",
    "    print(2*n)"
   ]
  },
  {
   "cell_type": "code",
   "execution_count": null,
   "metadata": {
    "colab": {
     "base_uri": "https://localhost:8080/",
     "height": 182
    },
    "executionInfo": {
     "elapsed": 332,
     "status": "error",
     "timestamp": 1603230748577,
     "user": {
      "displayName": "Christian Darabos",
      "photoUrl": "https://lh3.googleusercontent.com/a-/AOh14Gj58rX31OVqoCy41duHsoMyAFVv9Ammc6u2HhU3=s64",
      "userId": "13696541032900097213"
     },
     "user_tz": 240
    },
    "id": "pk9BexYs-32x",
    "outputId": "46cf66ae-0e07-4d72-b140-3c59d03adae4"
   },
   "outputs": [
    {
     "ename": "TypeError",
     "evalue": "ignored",
     "output_type": "error",
     "traceback": [
      "\u001b[0;31m---------------------------------------------------------------------------\u001b[0m",
      "\u001b[0;31mTypeError\u001b[0m                                 Traceback (most recent call last)",
      "\u001b[0;32m<ipython-input-7-5487d48edc79>\u001b[0m in \u001b[0;36m<module>\u001b[0;34m()\u001b[0m\n\u001b[0;32m----> 1\u001b[0;31m \u001b[0meven_numbers\u001b[0m\u001b[0;34m(\u001b[0m\u001b[0;34m)\u001b[0m \u001b[0;31m# the parameter is mendatory, so not passing any argument won't work\u001b[0m\u001b[0;34m\u001b[0m\u001b[0;34m\u001b[0m\u001b[0m\n\u001b[0m",
      "\u001b[0;31mTypeError\u001b[0m: even_numbers() missing 1 required positional argument: 'nb_to_print'"
     ]
    }
   ],
   "source": [
    "even_numbers() # the parameter is mendatory, so not passing any argument won't work"
   ]
  },
  {
   "cell_type": "code",
   "execution_count": null,
   "metadata": {
    "colab": {
     "base_uri": "https://localhost:8080/",
     "height": 360
    },
    "executionInfo": {
     "elapsed": 377,
     "status": "ok",
     "timestamp": 1603230795133,
     "user": {
      "displayName": "Christian Darabos",
      "photoUrl": "https://lh3.googleusercontent.com/a-/AOh14Gj58rX31OVqoCy41duHsoMyAFVv9Ammc6u2HhU3=s64",
      "userId": "13696541032900097213"
     },
     "user_tz": 240
    },
    "id": "UTnbySQb_81u",
    "outputId": "9f494b26-390c-4293-bea8-63806064e3e5"
   },
   "outputs": [
    {
     "name": "stdout",
     "output_type": "stream",
     "text": [
      "2\n",
      "4\n",
      "6\n",
      "8\n",
      "10\n",
      "12\n",
      "14\n",
      "16\n",
      "18\n",
      "20\n",
      "22\n",
      "24\n",
      "26\n",
      "28\n",
      "30\n",
      "32\n",
      "34\n",
      "36\n",
      "38\n",
      "40\n"
     ]
    }
   ],
   "source": [
    "even_numbers(20) # now it works"
   ]
  },
  {
   "cell_type": "markdown",
   "metadata": {
    "id": "4p-a9NisBv7W"
   },
   "source": [
    "In this example, `20` is a _positional_ argument, as opposed to a _keyword_ argument like `nb_to_print=20`. This distinction is important if we have more than one parameter."
   ]
  },
  {
   "cell_type": "code",
   "execution_count": null,
   "metadata": {
    "id": "w-MdTGlfADq2"
   },
   "outputs": [],
   "source": [
    "def even_numbers(lower_bound, upper_bound):\n",
    "  '''\n",
    "  Prints even numbers between the specified lower and upper bounds (included)\n",
    "  '''\n",
    "  for n in range(lower_bound, upper_bound+1, 2):\n",
    "    print(n)"
   ]
  },
  {
   "cell_type": "code",
   "execution_count": null,
   "metadata": {
    "colab": {
     "base_uri": "https://localhost:8080/",
     "height": 188
    },
    "executionInfo": {
     "elapsed": 354,
     "status": "ok",
     "timestamp": 1603232870068,
     "user": {
      "displayName": "Christian Darabos",
      "photoUrl": "https://lh3.googleusercontent.com/a-/AOh14Gj58rX31OVqoCy41duHsoMyAFVv9Ammc6u2HhU3=s64",
      "userId": "13696541032900097213"
     },
     "user_tz": 240
    },
    "id": "InMxnVknHnyA",
    "outputId": "2653eb7a-2cfe-4eff-ec08-527ed20f7225"
   },
   "outputs": [
    {
     "name": "stdout",
     "output_type": "stream",
     "text": [
      "1\n",
      "3\n",
      "5\n",
      "7\n",
      "9\n",
      "11\n",
      "13\n",
      "15\n",
      "17\n",
      "19\n"
     ]
    }
   ],
   "source": [
    "even_numbers(1,20) # using positional arguments, the order matters\n",
    "even_numbers(20,1) # prints nothing!!! becaues the lower bound is greater than the upper bound"
   ]
  },
  {
   "cell_type": "code",
   "execution_count": null,
   "metadata": {
    "colab": {
     "base_uri": "https://localhost:8080/",
     "height": 394
    },
    "executionInfo": {
     "elapsed": 351,
     "status": "ok",
     "timestamp": 1603232920534,
     "user": {
      "displayName": "Christian Darabos",
      "photoUrl": "https://lh3.googleusercontent.com/a-/AOh14Gj58rX31OVqoCy41duHsoMyAFVv9Ammc6u2HhU3=s64",
      "userId": "13696541032900097213"
     },
     "user_tz": 240
    },
    "id": "qhSQxZk2HsuA",
    "outputId": "56a2c6ac-efb8-4592-8b97-65bca81cb1c7"
   },
   "outputs": [
    {
     "name": "stdout",
     "output_type": "stream",
     "text": [
      "5\n",
      "7\n",
      "9\n",
      "11\n",
      "13\n",
      "15\n",
      "17\n",
      "19\n",
      "21\n",
      "23\n",
      "25\n",
      "5\n",
      "7\n",
      "9\n",
      "11\n",
      "13\n",
      "15\n",
      "17\n",
      "19\n",
      "21\n",
      "23\n",
      "25\n"
     ]
    }
   ],
   "source": [
    "even_numbers(lower_bound=5,upper_bound=25) # using keyword arguments\n",
    "even_numbers(upper_bound=25,lower_bound=5) # the order doesn't matter!"
   ]
  },
  {
   "cell_type": "markdown",
   "metadata": {
    "id": "nRSdCtW_IX9N"
   },
   "source": [
    "Parameters can be made optional by assigning them a default value. This is very common. For example, the `sep` parameter in the `print` function is set to a single space by default, and that default value can easily be overridden eg. `sep='*'` to replace the space with a star."
   ]
  },
  {
   "cell_type": "code",
   "execution_count": null,
   "metadata": {
    "id": "PpmS-TmRH1cA"
   },
   "outputs": [],
   "source": [
    "def even_numbers(lower_bound=2,upper_bound=20):\n",
    "  '''\n",
    "  Prints even numbers between the optional lower and upper bounds (included). \n",
    "  Default bounds are [2,20].\n",
    "  '''\n",
    "  for n in range(lower_bound, upper_bound+1, 2):\n",
    "    print(n)"
   ]
  },
  {
   "cell_type": "code",
   "execution_count": null,
   "metadata": {
    "colab": {
     "base_uri": "https://localhost:8080/",
     "height": 188
    },
    "executionInfo": {
     "elapsed": 366,
     "status": "ok",
     "timestamp": 1603233270858,
     "user": {
      "displayName": "Christian Darabos",
      "photoUrl": "https://lh3.googleusercontent.com/a-/AOh14Gj58rX31OVqoCy41duHsoMyAFVv9Ammc6u2HhU3=s64",
      "userId": "13696541032900097213"
     },
     "user_tz": 240
    },
    "id": "c_J4Zb41Jjg9",
    "outputId": "73d2407c-db89-4438-a26e-683d2cf45dc2"
   },
   "outputs": [
    {
     "name": "stdout",
     "output_type": "stream",
     "text": [
      "2\n",
      "4\n",
      "6\n",
      "8\n",
      "10\n",
      "12\n",
      "14\n",
      "16\n",
      "18\n",
      "20\n"
     ]
    }
   ],
   "source": [
    "even_numbers() # no argument, default parameter values are used"
   ]
  },
  {
   "cell_type": "code",
   "execution_count": null,
   "metadata": {
    "colab": {
     "base_uri": "https://localhost:8080/",
     "height": 120
    },
    "executionInfo": {
     "elapsed": 376,
     "status": "ok",
     "timestamp": 1603233280585,
     "user": {
      "displayName": "Christian Darabos",
      "photoUrl": "https://lh3.googleusercontent.com/a-/AOh14Gj58rX31OVqoCy41duHsoMyAFVv9Ammc6u2HhU3=s64",
      "userId": "13696541032900097213"
     },
     "user_tz": 240
    },
    "id": "tbc2hGbWJkqw",
    "outputId": "7489526e-78fe-4b40-8080-748faf132127"
   },
   "outputs": [
    {
     "name": "stdout",
     "output_type": "stream",
     "text": [
      "10\n",
      "12\n",
      "14\n",
      "16\n",
      "18\n",
      "20\n"
     ]
    }
   ],
   "source": [
    "even_numbers(10,20) # positional arguments replacing default values"
   ]
  },
  {
   "cell_type": "code",
   "execution_count": null,
   "metadata": {
    "colab": {
     "base_uri": "https://localhost:8080/",
     "height": 206
    },
    "executionInfo": {
     "elapsed": 406,
     "status": "ok",
     "timestamp": 1603233356331,
     "user": {
      "displayName": "Christian Darabos",
      "photoUrl": "https://lh3.googleusercontent.com/a-/AOh14Gj58rX31OVqoCy41duHsoMyAFVv9Ammc6u2HhU3=s64",
      "userId": "13696541032900097213"
     },
     "user_tz": 240
    },
    "id": "FOYoQtUuJ2oM",
    "outputId": "ca44d091-a278-4ba8-eb4b-becf8e332f3e"
   },
   "outputs": [
    {
     "name": "stdout",
     "output_type": "stream",
     "text": [
      "0\n",
      "2\n",
      "4\n",
      "6\n",
      "8\n",
      "10\n",
      "12\n",
      "14\n",
      "16\n",
      "18\n",
      "20\n"
     ]
    }
   ],
   "source": [
    "even_numbers(0) # positional argument relpacing the first default value only"
   ]
  },
  {
   "cell_type": "code",
   "execution_count": null,
   "metadata": {
    "colab": {
     "base_uri": "https://localhost:8080/",
     "height": 137
    },
    "executionInfo": {
     "elapsed": 344,
     "status": "ok",
     "timestamp": 1603233305467,
     "user": {
      "displayName": "Christian Darabos",
      "photoUrl": "https://lh3.googleusercontent.com/a-/AOh14Gj58rX31OVqoCy41duHsoMyAFVv9Ammc6u2HhU3=s64",
      "userId": "13696541032900097213"
     },
     "user_tz": 240
    },
    "id": "uiFNRxWjJnCm",
    "outputId": "52fbd66e-94ff-449c-fd5f-1387a0df8162"
   },
   "outputs": [
    {
     "name": "stdout",
     "output_type": "stream",
     "text": [
      "2\n",
      "4\n",
      "6\n",
      "8\n",
      "10\n",
      "12\n",
      "14\n"
     ]
    }
   ],
   "source": [
    "even_numbers(upper_bound=15) # keyword argument replacing the 2nd parameter's default value"
   ]
  },
  {
   "cell_type": "markdown",
   "metadata": {
    "id": "nDY5apqNKTHh"
   },
   "source": [
    "Parameter types can be heterogeneous (ie. of different types), including simple types, collections, objects, etc."
   ]
  },
  {
   "cell_type": "code",
   "execution_count": null,
   "metadata": {
    "id": "wQKndwQRJtH3"
   },
   "outputs": [],
   "source": [
    "def x_print(requested_output, quantity):\n",
    "  '''\n",
    "  Prints the requested_output the number of times specified in quantity\n",
    "  '''\n",
    "  for _ in range(quantity): # remember that you can use '_' as a variable name ONLY if you don't use it in the loop body\n",
    "    print(requested_output)"
   ]
  },
  {
   "cell_type": "code",
   "execution_count": null,
   "metadata": {
    "colab": {
     "base_uri": "https://localhost:8080/",
     "height": 103
    },
    "executionInfo": {
     "elapsed": 800,
     "status": "ok",
     "timestamp": 1603233601531,
     "user": {
      "displayName": "Christian Darabos",
      "photoUrl": "https://lh3.googleusercontent.com/a-/AOh14Gj58rX31OVqoCy41duHsoMyAFVv9Ammc6u2HhU3=s64",
      "userId": "13696541032900097213"
     },
     "user_tz": 240
    },
    "id": "ihmXNr6fKs1W",
    "outputId": "d04319b4-8f0e-4dff-901d-392668439990"
   },
   "outputs": [
    {
     "name": "stdout",
     "output_type": "stream",
     "text": [
      "Hello!\n",
      "Hello!\n",
      "Hello!\n",
      "Hello!\n",
      "Hello!\n"
     ]
    }
   ],
   "source": [
    "x_print('Hello!',5)"
   ]
  },
  {
   "cell_type": "markdown",
   "metadata": {
    "id": "kND2Z1wbNS26"
   },
   "source": [
    "## Return\n",
    "\n",
    "Rather than (or in addition to) printing, a function can `return` a value. We already know that functions always return something. If the `return` statement is not explicitely specified, `None` will be returned."
   ]
  },
  {
   "cell_type": "code",
   "execution_count": null,
   "metadata": {
    "colab": {
     "base_uri": "https://localhost:8080/",
     "height": 86
    },
    "executionInfo": {
     "elapsed": 480,
     "status": "ok",
     "timestamp": 1603234815939,
     "user": {
      "displayName": "Christian Darabos",
      "photoUrl": "https://lh3.googleusercontent.com/a-/AOh14Gj58rX31OVqoCy41duHsoMyAFVv9Ammc6u2HhU3=s64",
      "userId": "13696541032900097213"
     },
     "user_tz": 240
    },
    "id": "lrXrbMU2K1S1",
    "outputId": "65337323-141b-481e-ea11-cd9aad1c04c7"
   },
   "outputs": [
    {
     "name": "stdout",
     "output_type": "stream",
     "text": [
      "Cat\n",
      "Cat\n",
      "Cat\n",
      "None\n"
     ]
    }
   ],
   "source": [
    "xprint_return = x_print('Cat',3)\n",
    "print(xprint_return)"
   ]
  },
  {
   "cell_type": "markdown",
   "metadata": {
    "id": "H8p5qj1sPfC6"
   },
   "source": [
    "But more often than not, a function will return the _result_ of the execution of the function. A function can return any type of value.\n",
    "\n",
    "```\n",
    "  return value\n",
    "```\n",
    "Note that the return statement interrupts the body of the function and _returns_ to the caller of the function.\n",
    "The returned value can be used or assigned to a variable. If the result of the function is not returned, it is lost, as all variables within the body of the function are ephemeral."
   ]
  },
  {
   "cell_type": "code",
   "execution_count": null,
   "metadata": {
    "id": "XG3SKabYP7qj"
   },
   "outputs": [],
   "source": [
    "def mean(numbers):\n",
    "  '''\n",
    "  Returns the mean of values in the numbers list\n",
    "  '''\n",
    "  sum = 0\n",
    "  for n in numbers:\n",
    "    sum+=n\n",
    "\n",
    "  mean = sum/len(numbers)\n",
    "  return mean"
   ]
  },
  {
   "cell_type": "code",
   "execution_count": null,
   "metadata": {
    "colab": {
     "base_uri": "https://localhost:8080/",
     "height": 34
    },
    "executionInfo": {
     "elapsed": 484,
     "status": "ok",
     "timestamp": 1603300110497,
     "user": {
      "displayName": "Christian Darabos",
      "photoUrl": "https://lh3.googleusercontent.com/a-/AOh14Gj58rX31OVqoCy41duHsoMyAFVv9Ammc6u2HhU3=s64",
      "userId": "13696541032900097213"
     },
     "user_tz": 240
    },
    "id": "x5djxSzpGznD",
    "outputId": "b1c533d6-874c-47e3-8f0a-5a0ab9fc7689"
   },
   "outputs": [
    {
     "name": "stdout",
     "output_type": "stream",
     "text": [
      "72.875\n"
     ]
    }
   ],
   "source": [
    "temp_week1 = [73, 74, 75, 71, 69, 72, 76]\n",
    "avg_temp_w1 = mean(temperatures)\n",
    "print(avg_temp_w1)"
   ]
  },
  {
   "cell_type": "markdown",
   "metadata": {
    "id": "tFTgFLIJIXU8"
   },
   "source": [
    "Retruning a value allows you to use and re-use the result of your function. The following would not be possible if you simply printed out the average without returnin it."
   ]
  },
  {
   "cell_type": "code",
   "execution_count": null,
   "metadata": {
    "colab": {
     "base_uri": "https://localhost:8080/",
     "height": 34
    },
    "executionInfo": {
     "elapsed": 450,
     "status": "ok",
     "timestamp": 1603300223378,
     "user": {
      "displayName": "Christian Darabos",
      "photoUrl": "https://lh3.googleusercontent.com/a-/AOh14Gj58rX31OVqoCy41duHsoMyAFVv9Ammc6u2HhU3=s64",
      "userId": "13696541032900097213"
     },
     "user_tz": 240
    },
    "id": "IUZL7IIIIVtp",
    "outputId": "4f3bb9c6-a821-4f19-fee9-98addc21dc78"
   },
   "outputs": [
    {
     "name": "stdout",
     "output_type": "stream",
     "text": [
      "Difference in average: 3.160714285714292 degrees F\n"
     ]
    }
   ],
   "source": [
    "temp_week2 = [66,72,72,68,69,71,70]\n",
    "avg_temp_w2 = mean(temp_week2)\n",
    "print(f\"Difference in average: {avg_temp_w1-avg_temp_w2} degrees F\")"
   ]
  },
  {
   "cell_type": "markdown",
   "metadata": {
    "id": "GnknxQspTl2h"
   },
   "source": [
    "### Skipping `else`\n",
    "`return` statement are very commonly used in conjunction with a condition as it interrupts the execution of the function body and returns to the caller. It can cut down on the complexity of `if...elif...else` statements by rendering the `else` moot by exiting the function.\n",
    "Note that by convention, all function name that stars with `is` or `has` is expected to return a Boolean, generally `True` if the argument(s) \"is\" or \"has\" something, and `False` if it isn't or hasn't."
   ]
  },
  {
   "cell_type": "code",
   "execution_count": null,
   "metadata": {
    "colab": {
     "base_uri": "https://localhost:8080/",
     "height": 50
    },
    "executionInfo": {
     "elapsed": 709,
     "status": "ok",
     "timestamp": 1603303649091,
     "user": {
      "displayName": "Christian Darabos",
      "photoUrl": "https://lh3.googleusercontent.com/a-/AOh14Gj58rX31OVqoCy41duHsoMyAFVv9Ammc6u2HhU3=s64",
      "userId": "13696541032900097213"
     },
     "user_tz": 240
    },
    "id": "26DSgDDBH9ec",
    "outputId": "9df7bd63-500f-4130-9aa8-3969273564e7"
   },
   "outputs": [
    {
     "name": "stdout",
     "output_type": "stream",
     "text": [
      "False\n",
      "True\n"
     ]
    }
   ],
   "source": [
    "def is_over_age(age): \n",
    "  '''\n",
    "  Returns True if the age argument is >= 21, False otherwise\n",
    "  '''\n",
    "  return age>=21\n",
    "\n",
    "def is_eligible(age, citizenship, degree):\n",
    "  '''\n",
    "  Returns True if the criteria make the criteria make the participant eligible for to apply for a grant\n",
    "  '''\n",
    "  if not is_over_age(age):\n",
    "    return False\n",
    "\n",
    "  ## implicit else - as the return already too care of not running what's below if age<21\n",
    "  return citizenship in ['USA','Canada'] or degree in ['Master','PhD']\n",
    "\n",
    "print(is_eligible(18, 'USA', 'Batchelor'))\n",
    "print(is_eligible(25, 'USA', 'PhD'))\n"
   ]
  },
  {
   "cell_type": "markdown",
   "metadata": {
    "id": "jUqlvA00tYHs"
   },
   "source": [
    "# Multiple return statements\n",
    "Sometimes a function definition might have more than one `return` statement. This is totally legal, but only useful if with conditional logic that directs us towards just one of the return statements. Remember that a function is going to terminate as soon as we encounter any `return` statement, so if we have more than one in series, the ones after the first one are _unreachable_.\n",
    "\n",
    "An example where multiple return statements makes sense is with our divide function:\n",
    "```\n",
    "def divide(a, b):\n",
    "\tif b == 0:\n",
    "\t\treturn \"You can't divide by 0!\"\n",
    "\telse:\n",
    "\t\treturn a / b\n",
    "```\n",
    "The conditional logic directs the code to the proper `return` statement.\n",
    "\n",
    "Because return will cause a function call to terminate, the `else` can be skipped (see above).\n",
    "```\n",
    "def divide(a, b):\n",
    "\tif b == 0:\n",
    "\t\treturn \"You can't divide by 0!\"\n",
    "\n",
    "\treturn a / b\n",
    "```\n",
    "This is a very common pattern that people use to save writing this `else` clause. There's no harm putting on in though."
   ]
  },
  {
   "cell_type": "markdown",
   "metadata": {
    "id": "CQPuE2y9WlVA"
   },
   "source": [
    "## Passing a variable number of arguments\n",
    "One way to make arguments optional is by assigning a default value. However, sometimes, there is a need for a function to allow any number of argument. An example you already know is `print` that can accept 0 to many arguments and will print them all out, separated by spaces.\n",
    "Variable number of arguments to a function are passed using special symbols:\n",
    "\n",
    "* `*args` for non-keyword arguments\n",
    "* `**kwargs` for keyword arguments\n",
    "\n",
    "Note:\n",
    "- the `*` and `**` are the important part, the name of the variable after the star(s) can be anything, just like a regular argument\n",
    "- `*` operators before variable names are used in list unpacking:\n",
    "```\n",
    "a, *b, c = [1,2,3,4,5,6,7,8,9,10]\n",
    "print(a,b,c) # 1 [2, 3, 4, 5, 6, 7, 8, 9] 10\n",
    "```\n",
    "The same logic applies, the `*` and `**` create a list, respectively a dictionary, for any variable number of attributes."
   ]
  },
  {
   "cell_type": "code",
   "execution_count": null,
   "metadata": {
    "colab": {
     "base_uri": "https://localhost:8080/",
     "height": 84
    },
    "executionInfo": {
     "elapsed": 866,
     "status": "ok",
     "timestamp": 1603304524974,
     "user": {
      "displayName": "Christian Darabos",
      "photoUrl": "https://lh3.googleusercontent.com/a-/AOh14Gj58rX31OVqoCy41duHsoMyAFVv9Ammc6u2HhU3=s64",
      "userId": "13696541032900097213"
     },
     "user_tz": 240
    },
    "id": "SACOx5MlYjxY",
    "outputId": "5d037c65-815f-4648-adcd-bb8ed02c2266"
   },
   "outputs": [
    {
     "name": "stdout",
     "output_type": "stream",
     "text": [
      "Hello\n",
      "Welcome\n",
      "to\n",
      "Dartmouth\n"
     ]
    }
   ],
   "source": [
    "def my_fun(*argv): # argv will be a list of all arguments passed \n",
    "  '''\n",
    "  prints all arguments, regardless of how many they are\n",
    "  '''\n",
    "  for arg in argv: \n",
    "      print (arg)\n",
    "  \n",
    "my_fun('Hello', 'Welcome', 'to', 'Dartmouth') "
   ]
  },
  {
   "cell_type": "code",
   "execution_count": null,
   "metadata": {
    "colab": {
     "base_uri": "https://localhost:8080/",
     "height": 84
    },
    "executionInfo": {
     "elapsed": 464,
     "status": "ok",
     "timestamp": 1603304628312,
     "user": {
      "displayName": "Christian Darabos",
      "photoUrl": "https://lh3.googleusercontent.com/a-/AOh14Gj58rX31OVqoCy41duHsoMyAFVv9Ammc6u2HhU3=s64",
      "userId": "13696541032900097213"
     },
     "user_tz": 240
    },
    "id": "g6wYvAT1ZDsO",
    "outputId": "0374f061-41ca-41b5-8ecf-21fffc7ca50d"
   },
   "outputs": [
    {
     "name": "stdout",
     "output_type": "stream",
     "text": [
      "First argument : Hello\n",
      "Next argument through *argv : Welcome\n",
      "Next argument through *argv : to\n",
      "Next argument through *argv : GeeksforGeeks\n"
     ]
    }
   ],
   "source": [
    "def my_fun(arg1, *argv): # arg1 is a string variable, argv is a list of strings\n",
    "  '''\n",
    "  Prints the first argument (mendatory), then all optional arguments that follow\n",
    "  '''\n",
    "  print (\"First argument :\", arg1)\n",
    "  for arg in argv:\n",
    "      print(\"Next argument through *argv :\", arg)\n",
    "\n",
    "my_fun('Hello', 'Welcome', 'to', 'GeeksforGeeks')\n"
   ]
  },
  {
   "cell_type": "code",
   "execution_count": null,
   "metadata": {
    "colab": {
     "base_uri": "https://localhost:8080/",
     "height": 67
    },
    "executionInfo": {
     "elapsed": 963,
     "status": "ok",
     "timestamp": 1603304765918,
     "user": {
      "displayName": "Christian Darabos",
      "photoUrl": "https://lh3.googleusercontent.com/a-/AOh14Gj58rX31OVqoCy41duHsoMyAFVv9Ammc6u2HhU3=s64",
      "userId": "13696541032900097213"
     },
     "user_tz": 240
    },
    "id": "CKu72CfDZyw9",
    "outputId": "2887aeb8-f8d2-4d56-8c1e-68e9675efd99"
   },
   "outputs": [
    {
     "name": "stdout",
     "output_type": "stream",
     "text": [
      "first :: Geeks\n",
      "mid :: for\n",
      "last :: Geeks\n"
     ]
    }
   ],
   "source": [
    "# using \"keyword arguments\"\n",
    "def my_fun(**kwargs):  # kwargs is a dictionary of key:value passed by the caller\n",
    "    for key, value in kwargs.items():\n",
    "        print (\"%s :: %s\" %(key, value)) # note the old formatted string\n",
    "      # print(f'{key} :: {value}')\n",
    "# caller code\n",
    "my_fun(first ='Geeks', mid ='for', last='Geeks')"
   ]
  },
  {
   "cell_type": "markdown",
   "metadata": {
    "id": "SepJ5WuyaqDZ"
   },
   "source": [
    "Read more about [variable argument number](https://www.geeksforgeeks.org/args-kwargs-python/)"
   ]
  },
  {
   "cell_type": "markdown",
   "metadata": {
    "id": "nm-zSxjua2dX"
   },
   "source": [
    "# Scope\n",
    "The scope is a concept describing where a given name (variable, function, etc.) can be referenced from. As mentioned earlier, the _scope_ of a variable declared within a function is the body of that function:"
   ]
  },
  {
   "cell_type": "code",
   "execution_count": null,
   "metadata": {
    "colab": {
     "base_uri": "https://localhost:8080/",
     "height": 213
    },
    "executionInfo": {
     "elapsed": 2578,
     "status": "error",
     "timestamp": 1603305236083,
     "user": {
      "displayName": "Christian Darabos",
      "photoUrl": "https://lh3.googleusercontent.com/a-/AOh14Gj58rX31OVqoCy41duHsoMyAFVv9Ammc6u2HhU3=s64",
      "userId": "13696541032900097213"
     },
     "user_tz": 240
    },
    "id": "HhFNo3X7bSuG",
    "outputId": "8b599c35-2765-4e23-c836-30bd5fa78e6c"
   },
   "outputs": [
    {
     "name": "stdout",
     "output_type": "stream",
     "text": [
      "Hello, Phil!\n"
     ]
    },
    {
     "ename": "NameError",
     "evalue": "ignored",
     "output_type": "error",
     "traceback": [
      "\u001b[0;31m---------------------------------------------------------------------------\u001b[0m",
      "\u001b[0;31mNameError\u001b[0m                                 Traceback (most recent call last)",
      "\u001b[0;32m<ipython-input-19-50e9c96d06c3>\u001b[0m in \u001b[0;36m<module>\u001b[0;34m()\u001b[0m\n\u001b[1;32m      4\u001b[0m \u001b[0;34m\u001b[0m\u001b[0m\n\u001b[1;32m      5\u001b[0m \u001b[0mgreet\u001b[0m\u001b[0;34m(\u001b[0m\u001b[0;34m\"Phil\"\u001b[0m\u001b[0;34m)\u001b[0m\u001b[0;34m\u001b[0m\u001b[0;34m\u001b[0m\u001b[0m\n\u001b[0;32m----> 6\u001b[0;31m \u001b[0mprint\u001b[0m\u001b[0;34m(\u001b[0m\u001b[0mgreeting\u001b[0m\u001b[0;34m)\u001b[0m \u001b[0;31m# but not beyond\u001b[0m\u001b[0;34m\u001b[0m\u001b[0;34m\u001b[0m\u001b[0m\n\u001b[0m",
      "\u001b[0;31mNameError\u001b[0m: name 'greeting' is not defined"
     ]
    }
   ],
   "source": [
    "def greet(name):\n",
    "\tgreeting = f\"Hello, {name}!\"  # <-- variable declared in a function body\n",
    "\tprint(greeting) # can be used within that body\n",
    "\n",
    "greet(\"Phil\") # calling the function works\n",
    "print(greeting) # but not beyond"
   ]
  },
  {
   "cell_type": "markdown",
   "metadata": {
    "id": "-h7GBNMEtC7N"
   },
   "source": [
    "## Namespaces\n",
    "Python  keeps a record of the variables defined, and the values that are associated with those names. This record is a _namespace_, and is represented as a dictionary. The `globals()` function returns the _namespace_ as a dictionary.\n",
    "\n",
    "Printing `globals` in an empty file.\n",
    "```\n",
    "print(globals())\n",
    "\n",
    "{\n",
    "\t'__name__': '__main__',\n",
    "\t'__doc__': None,\n",
    "\t'__package__': None,\n",
    "\t'__loader__': <_frozen_importlib_external.SourceFileLoader object at 0x7f2b30020bb0>,\n",
    "\t'__spec__': None,\n",
    "\t'__annotations__': {},\n",
    "\t'__builtins__': <module 'builtins' (built-in)>,\n",
    "\t'__file__': 'main.py',\n",
    "\t'__cached__': None\n",
    "}\n",
    "```\n",
    "Now on a populated Python script\n",
    "```\n",
    "names = [\"Mike\", \"Fiona\", \"Patrick\"]\n",
    "x = 53657\n",
    "\n",
    "def add(a, b):\n",
    "\tprint(a, b)\n",
    "\n",
    "print(globals())\n",
    "```\n",
    "Here's the content of the `global` dict.\n",
    "```\n",
    "{\n",
    "\t'__name__': '__main__',\n",
    "\t'__doc__': None,\n",
    "\t'__package__': None,\n",
    "\t'__loader__': <_frozen_importlib_external.SourceFileLoader object at 0x7fae511ffbb0>,\n",
    "\t'__spec__': None,\n",
    "\t'__annotations__': {},\n",
    "\t'__builtins__': <module 'builtins' (built-in)>,\n",
    "\t'__file__': 'main.py',\n",
    "\t'__cached__': None,\n",
    "\t'names': ['Mike', 'Fiona', 'Patrick'],\n",
    "\t'x': 53657,\n",
    "\t'add': <function add at 0x7fae512021f0>\n",
    "}\n",
    "```\n",
    "Names are defines (`names`, `x`, and `add`) as keys, and associated with each names is the value we assigned to that name.\n",
    "\n",
    "`add : <function add at 0x7fae512021f0>` is a representation of the function as a memory address. \n",
    "\n",
    "When a name is used, Python looks in the _namespace_. If it is defined, it can  reference the value associated with that name. If it can't find the name, Python throws an error where that the variable is undefined.\n",
    "\n",
    "### Functions and namespaces\n",
    "Looking back at the `globals` output, there are a couple of names which are notably absent: the parameters `a` and `b` defined for `add`. \n",
    "\n",
    "Python actually has more than one _namespace_. The parameters for a function are not part of the `global` namespace.\n",
    "\n",
    "When calling a function, Python creates a new namespace (ie. dictionary) to store any names used while running this function. Once the function finishes running, this namespace is destroyed, so that when we run the function next time, we're working with a blank slate.\n",
    "\n",
    "The function namespace can be accessed using `locals`. \n",
    "```\n",
    "def add(a, b):\n",
    "\tprint(locals())\n",
    "\tprint(a, b)\n",
    "\n",
    "\n",
    "add(7, 25)\n",
    "```\n",
    "The output in this case is as follows:\n",
    "```\n",
    "{'a': 7, 'b': 25}\n",
    "7 25\n",
    "```\n",
    "The first line is the `locals` dictionary, and contains the names located within the namespace for this function call.\n",
    "\n",
    "This helps explain what happened in the example earlier:\n",
    "```\n",
    "def greet(name):\n",
    "\tgreeting = f\"Hello, {name}!\"\n",
    "\tprint(greeting)\n",
    "```\n",
    "The `global` namespace doesn't contain the name `greeting` so it cannot be referenced it outside of the function. Inside `greet`, however, the `local` namespace contains `greeting` that was created within the function. \n",
    "```\n",
    "def greet(name):\n",
    "\tprint(locals())\n",
    "\tgreeting = f\"Hello, {name}!\"\n",
    "\tprint(locals())\n",
    "\tprint(greeting)\n",
    "\n",
    "\n",
    "greet(\"Phil\")\n",
    "```\n",
    "If we run this code, we see the following:\n",
    "```\n",
    "{'name': 'Phil'}\n",
    "{'name': 'Phil', 'greeting': 'Hello, Phil!'}\n",
    "Hello, Phil!\n",
    "```\n",
    "When entering the function body for this function call, only `name` is defined. Onto the second line where greeting gets assigned, and the result of the string interpolation. When printing `locals()` again on the third line of the function body, `greeting` has been added to this `local` namespace for the function call.\n",
    "\n",
    "Python functions have some private variables that only they \"knows about\". When the function returns, the local namespace is wiped clean, because there is no longer a need any of those values."
   ]
  },
  {
   "cell_type": "code",
   "execution_count": null,
   "metadata": {
    "id": "oNxv0pGsbcjn"
   },
   "outputs": [],
   "source": []
  }
 ],
 "metadata": {
  "colab": {
   "authorship_tag": "ABX9TyPZP8EM9Sk7Gx+7jcVSUFq3",
   "collapsed_sections": [],
   "name": "QBS101-F20-week07-material.ipynb",
   "provenance": []
  },
  "kernelspec": {
   "display_name": "Python 3",
   "language": "python",
   "name": "python3"
  },
  "language_info": {
   "codemirror_mode": {
    "name": "ipython",
    "version": 3
   },
   "file_extension": ".py",
   "mimetype": "text/x-python",
   "name": "python",
   "nbconvert_exporter": "python",
   "pygments_lexer": "ipython3",
   "version": "3.7.6"
  }
 },
 "nbformat": 4,
 "nbformat_minor": 1
}
