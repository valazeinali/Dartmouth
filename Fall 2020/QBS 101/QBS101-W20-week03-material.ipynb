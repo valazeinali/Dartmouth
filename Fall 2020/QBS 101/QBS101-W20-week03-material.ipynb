{
 "cells": [
  {
   "cell_type": "markdown",
   "metadata": {
    "id": "a3BO0PZyVsh4"
   },
   "source": [
    "# Compound Operators, Object definition, String manipulation, Collections (lists)\n",
    "\n",
    "Sources: \n",
    "- [DEV.to 30 days of Python](https://dev.to/arindamdawn/series/7425), days 3, 4\n",
    "- [Teclado 30 Days of Python](https://blog.tecladocode.com/30-days-of-python/) days 3, 4"
   ]
  },
  {
   "cell_type": "markdown",
   "metadata": {
    "id": "x1XSG1hSsJ2y"
   },
   "source": [
    "# Compound operators\n",
    "\n",
    "If both sides of an assignment operator `=` have the same variable (ie. reassignment of an exisitng variable), compound operators are commonly used:\n",
    "\n",
    "Operator | Example | Equivalent\n",
    "--- | --- | ---\n",
    "`+=`\t| `x +=4 ` | `x = x+4`\n",
    "`-=`\t| `x -=4 ` | `x = x-4`\n",
    "`*=`\t| `x *=4 ` | `x = x*4`\t\n",
    "`/=`\t| `x /=4 ` | `x = x/4`\n",
    "`%=`\t| `x %=4 ` | `x = x%4`\n",
    "`**=`\t| `x **=4 ` | `x = x**4`\t\n",
    "`//=`\t| `x //=4 ` | `x = x//4`\n",
    "\n",
    "These are commonly used to increment/decrement (`+/-1`) a variable:"
   ]
  },
  {
   "cell_type": "code",
   "execution_count": null,
   "metadata": {
    "colab": {
     "base_uri": "https://localhost:8080/",
     "height": 52
    },
    "executionInfo": {
     "elapsed": 571,
     "status": "ok",
     "timestamp": 1601330205970,
     "user": {
      "displayName": "Christian Darabos",
      "photoUrl": "https://lh3.googleusercontent.com/a-/AOh14Gj58rX31OVqoCy41duHsoMyAFVv9Ammc6u2HhU3=s64",
      "userId": "13696541032900097213"
     },
     "user_tz": 240
    },
    "id": "Z1SmEBq4tg0a",
    "outputId": "a3cc8f18-cd9b-40f6-84d1-44c343a2960b"
   },
   "outputs": [
    {
     "name": "stdout",
     "output_type": "stream",
     "text": [
      "1\n",
      "9\n"
     ]
    }
   ],
   "source": [
    "i = 0\n",
    "i += 1\n",
    "print(i)\n",
    "\n",
    "j=10\n",
    "j-=1\n",
    "print(j)\n",
    "\n",
    "# i++ and j-- does NOT work in Python"
   ]
  },
  {
   "cell_type": "markdown",
   "metadata": {
    "id": "WjGUeNFxXFYV"
   },
   "source": [
    "## Objects and Classes\n",
    "An **object** is the cornerstone of any _object oriented_ programming/scripting language such as Python.\n",
    "\n",
    "An object is a _collection_ data type that encapsulates:\n",
    "- **attributes** (_values_  or _variables_ of _this_ object)\n",
    "- **methods** (_functions_) to act upon the object's attributes\n",
    "\n",
    "A **class** is the *blueprint* (or _mold_) used to **instanciate** (create) an object of a certain _class_ (_kind_)."
   ]
  },
  {
   "cell_type": "code",
   "execution_count": null,
   "metadata": {
    "colab": {
     "base_uri": "https://localhost:8080/",
     "height": 52
    },
    "executionInfo": {
     "elapsed": 625,
     "status": "ok",
     "timestamp": 1601325488091,
     "user": {
      "displayName": "Christian Darabos",
      "photoUrl": "https://lh3.googleusercontent.com/a-/AOh14Gj58rX31OVqoCy41duHsoMyAFVv9Ammc6u2HhU3=s64",
      "userId": "13696541032900097213"
     },
     "user_tz": 240
    },
    "id": "_IPqucmbZgOJ",
    "outputId": "9c80c016-43f7-4806-fefc-d10bee5e5e5c"
   },
   "outputs": [
    {
     "name": "stdout",
     "output_type": "stream",
     "text": [
      "<class 'str'>\n",
      "Hello, my name is Christian Darabos\n"
     ]
    }
   ],
   "source": [
    "# str (string) is a class (though a special one) to create strings of character\n",
    "firstname = \"Christian\" # 'firstname' is an new 'instance' of the 'str' class\n",
    "print(type(firstname))\n",
    "\n",
    "greeting = \"Hello, my name is {} {}\" # is another instance of the 'str' class\n",
    "print(greeting.format(firstname, \"Darabos\")) # calling the 'format' method on the 'greeting' object/instance passing 2 parameters (firstname and a new string \"Darabos\")"
   ]
  },
  {
   "cell_type": "markdown",
   "metadata": {
    "id": "tLaFK580Wpz8"
   },
   "source": [
    "## Basic String Processing\n",
    "### A few built-in string methods\n",
    "\n",
    "Because a _string_ type variable is an instance of the `str` class, it has a [multituted of predefined *methods*](https://docs.python.org/2.5/lib/string-methods.html). \n",
    "\n",
    "_Methods_ can act upon the value of the string. For example, the case of letters in a string: `lower`, `upper`, `capitalize`, and `title`.\n",
    "\n",
    "`lower` and `upper` turn the entire string to lowercase and uppercase, respectively. Characters which don’t have a case, such a punctuation characters, are ignored.\n",
    "\n",
    "`capitalize` is going to turn the first character to uppercase, with the rest being lowercase. `title` is going to turn the string to title case, which means every word starts with a capital letter, and all other letters are turns to lowercase.\n",
    "\n",
    "In order to use these methods, we just need to use the dot notation again, just like with format.\n",
    "```\n",
    "\"Hello, World!\".lower()       # \"hello, world!\"\n",
    "\"Hello, World!\".upper()       # \"HELLO, WORLD!\"\n",
    "\"Hello, World!\".capitalize()  # \"Hello, world!\"\n",
    "\"hello, world!\".title()       # \"Hello, World!\"\n",
    "```\n",
    "In each case, we’re writing an expression, and the value of that expression is a **new string** in the case requested (ie. the original string is **not replaced**).\n",
    "\n",
    "`strip`, without parameters, removes white spaces at the beginning and at the end of the string. It can also remove anything else, passed as a parameter.\n",
    "```\n",
    "\"  Hello, World!  \".strip()  # \"Hello, World!\"\n",
    "```"
   ]
  },
  {
   "cell_type": "markdown",
   "metadata": {
    "id": "Ova7XL03fC9i"
   },
   "source": [
    "### String interpolation with f-strings\n",
    "The format method is really useful, but in Python 3.6 we got a new piece of syntax called f-strings which makes string _interpolation_ a lot easier in many cases.\n",
    "```\n",
    "name = \"John\"\n",
    "age = 24\n",
    "\n",
    "greeting = \"{} is {} years old!\".format(name, age)\n",
    "\n",
    "# or\n",
    "\n",
    "greeting = name+\" is \"+str(age)+\" years old!\" # using the '+' concatenation operator\n",
    "```\n",
    "Becomes f-string syntax:\n",
    "```\n",
    "name = \"John\"\n",
    "age = 24\n",
    "\n",
    "f\"{name} is {age} years old!\"\n",
    "```\n",
    "- `f` directly before the string\n",
    "- refer to values directly inside the placeholders `{}`\n",
    "\n",
    "```\n",
    "name = \"John\"\n",
    "age = 24\n",
    "\n",
    "f\"{name} is {age * 12} months old!\"\n",
    "```\n",
    "\n",
    "f-strings are also expressions, so you can \n",
    "- assign them to a variable\n",
    "- print them\n",
    "\n",
    "```\n",
    "name = \"John\"\n",
    "age = 24\n",
    "greeting = f\"{name} is {age * 12} months old!\"\n",
    "print(f\"{name} is {age * 12} months old!\")\n",
    "```"
   ]
  },
  {
   "cell_type": "markdown",
   "metadata": {
    "id": "HZgfsFQRjJkA"
   },
   "source": [
    "## Collections\n",
    "\n",
    "### Lists\n",
    "A `list` is a type that contains a collection (zero or more) of ***heterogeneous values*** (ie. not necessarily all of the same type). You can assign lists to a variable.\n",
    "\n",
    "List of strings values. Elements of the list are placed in square brackets `[...]` and comma-separated.\n",
    "```\n",
    "names = [\"John\", \"Alice\", \"Sarah\", \"George\"]\n",
    "```\n",
    "Longer lists can be split on multiple lines:\n",
    "```\n",
    "movie_titles = [\n",
    "\t\"Eternal Sunshine of the Spotless Mind\",\n",
    "\t\"Memento\",\n",
    "\t\"Requiem for a Dream\"\n",
    "]\n",
    "```\n",
    "And types can be \"mixed\" in the same list:\n",
    "```\n",
    "friend_details = [\"John\", 27, \"Web Developer\"]\n",
    "print(friend_details) # prints the list\n",
    "```\n",
    "An empty list is defined with empty square brackets:\n",
    "```\n",
    "my_new_list = []\n",
    "```\n"
   ]
  },
  {
   "cell_type": "markdown",
   "metadata": {
    "id": "C_y8chGTmIr3"
   },
   "source": [
    "### Accessing values in a list\n",
    "Each value in a list is indexed according to its position in the list. The item in the first position is at **index 0**; the item at the second position is at index 1; and so on.\n",
    "\n",
    "![List indices](https://cdn.programiz.com/sites/tutorial2program/files/python-list-index.png)\n",
    "\n",
    "Negative indices represent elements from the end. `-1` is the last element, `-2` the second to last, etc.\n",
    "\n",
    "If $N$ is the length of a list, its indices go:\n",
    "- from $0$ to $N-1$ by step of $1$\n",
    "- from $-1$ to $-N$ by step of $-1$\n",
    "\n",
    "Python will throw an error if you try to access indices \"out of bounds\" of the list (outside of the possible/existing indices)\n",
    "\n",
    "We can access values in a list using these indices, and we generally do this with a piece of syntax called a *subscription* expression.\n",
    "\n",
    "> **Subscription expressions** are used for accessing values in many collections. For sequences, they are used for accessing elements by index.\n",
    "\n",
    "In Python, subscriptions (indices) are expressed passing the index/indices using square brackets after the variable name:\n",
    "```\n",
    "names = [\"John\", \"Alice\", \"Sarah\", \"George\"]\n",
    "print(names[2])  # Sarah\n",
    "print(names[-1])  # George\n",
    "```\n",
    "\n",
    "### Slicing lists\n",
    "Subsciption notation can take more than one parameter to create _slices_. Slices have a beginning index $i$ and an end index $j$ and use the _colon_ `:` to separate them.\n",
    "\n",
    "Slices include the element stored at the beginning index and exclude the end index element. **Slices create new lists, they do not mutate (change) the existing list they operate on.**\n",
    "\n",
    "\n",
    "\n",
    "\n",
    "\n",
    "\n",
    "\n",
    "\n",
    "\n"
   ]
  },
  {
   "cell_type": "code",
   "execution_count": null,
   "metadata": {
    "colab": {
     "base_uri": "https://localhost:8080/",
     "height": 70
    },
    "executionInfo": {
     "elapsed": 748,
     "status": "ok",
     "timestamp": 1601333734394,
     "user": {
      "displayName": "Christian Darabos",
      "photoUrl": "https://lh3.googleusercontent.com/a-/AOh14Gj58rX31OVqoCy41duHsoMyAFVv9Ammc6u2HhU3=s64",
      "userId": "13696541032900097213"
     },
     "user_tz": 240
    },
    "id": "0ZrADQqn1T0D",
    "outputId": "65299cbf-afeb-4833-a166-ba49529530f4"
   },
   "outputs": [
    {
     "name": "stdout",
     "output_type": "stream",
     "text": [
      "['suarez', 'messi', 'ibrahimovic', 'zidane', 'beckham']\n",
      "['suarez', 'messi', 'ibrahimovic']\n",
      "['suarez', 'messi', 'ibrahimovic', 'zidane', 'beckham']\n"
     ]
    }
   ],
   "source": [
    "soccer_stars = ['ronaldo', 'messi','ibrahimovic','zidane','beckham']\n",
    "soccer_stars[0] = 'suarez'\n",
    "print(soccer_stars) # ['suarez', 'messi','ibrahimovic','zidane','beckham']\n",
    "sublist = soccer_stars[0:3] # i=0 (element included), and j=3, element excluded\n",
    "print(sublist) # ['suarez', 'messi', 'ibrahimovic']\n",
    "print(soccer_stars) # ['suarez', 'messi','ibrahimovic','zidane','beckham']\n",
    "# Note : Slicing lists does not mutate them\n"
   ]
  },
  {
   "cell_type": "markdown",
   "metadata": {
    "id": "ZKLhaYiU1miQ"
   },
   "source": [
    "Either index ($i$ or $j$) can be omitted. If the beginnig index is omitted, the slice will implicitely use $i=0$. If the end index is omitted, the slice will use $j=N$.\n",
    "\n",
    "**Slices return deep copies, they do not mutate the exisiting list!**"
   ]
  },
  {
   "cell_type": "code",
   "execution_count": null,
   "metadata": {
    "colab": {
     "base_uri": "https://localhost:8080/",
     "height": 70
    },
    "executionInfo": {
     "elapsed": 738,
     "status": "ok",
     "timestamp": 1601333040322,
     "user": {
      "displayName": "Christian Darabos",
      "photoUrl": "https://lh3.googleusercontent.com/a-/AOh14Gj58rX31OVqoCy41duHsoMyAFVv9Ammc6u2HhU3=s64",
      "userId": "13696541032900097213"
     },
     "user_tz": 240
    },
    "id": "ve7J6b292BW7",
    "outputId": "e4e091fc-765a-41a1-eae6-e68c3e10cbdd"
   },
   "outputs": [
    {
     "name": "stdout",
     "output_type": "stream",
     "text": [
      "['suarez', 'messi', 'ibrahimovic']\n",
      "['zidane', 'beckham']\n",
      "['suarez', 'messi', 'ibrahimovic', 'zidane', 'beckham']\n"
     ]
    }
   ],
   "source": [
    "print(soccer_stars[:3]) # first 3\n",
    "print(soccer_stars[3:]) # 4th till the end\n",
    "print(soccer_stars[:]) # slice = entire list"
   ]
  },
  {
   "cell_type": "markdown",
   "metadata": {
    "id": "DGYXkyYs22PQ"
   },
   "source": [
    "There is a 3rd parameter to slices wich is the size of the step. See the help for the [`range()` function](https://www.w3schools.com/python/ref_func_range.asp)"
   ]
  },
  {
   "cell_type": "code",
   "execution_count": null,
   "metadata": {
    "colab": {
     "base_uri": "https://localhost:8080/",
     "height": 1000
    },
    "executionInfo": {
     "elapsed": 542,
     "status": "ok",
     "timestamp": 1601333852075,
     "user": {
      "displayName": "Christian Darabos",
      "photoUrl": "https://lh3.googleusercontent.com/a-/AOh14Gj58rX31OVqoCy41duHsoMyAFVv9Ammc6u2HhU3=s64",
      "userId": "13696541032900097213"
     },
     "user_tz": 240
    },
    "id": "ka6_q7At4rrl",
    "outputId": "bfce82c4-128f-4817-8f20-a4bf3c9dbdea"
   },
   "outputs": [
    {
     "name": "stdout",
     "output_type": "stream",
     "text": [
      "[0, 2, 4, 6, 8]\n",
      "[0, 2, 4, 6, 8]\n",
      "[9, 8, 7, 6, 5, 4, 3, 2, 1, 0]\n",
      "Help on class range in module builtins:\n",
      "\n",
      "class range(object)\n",
      " |  range(stop) -> range object\n",
      " |  range(start, stop[, step]) -> range object\n",
      " |  \n",
      " |  Return an object that produces a sequence of integers from start (inclusive)\n",
      " |  to stop (exclusive) by step.  range(i, j) produces i, i+1, i+2, ..., j-1.\n",
      " |  start defaults to 0, and stop is omitted!  range(4) produces 0, 1, 2, 3.\n",
      " |  These are exactly the valid indices for a list of 4 elements.\n",
      " |  When step is given, it specifies the increment (or decrement).\n",
      " |  \n",
      " |  Methods defined here:\n",
      " |  \n",
      " |  __bool__(self, /)\n",
      " |      self != 0\n",
      " |  \n",
      " |  __contains__(self, key, /)\n",
      " |      Return key in self.\n",
      " |  \n",
      " |  __eq__(self, value, /)\n",
      " |      Return self==value.\n",
      " |  \n",
      " |  __ge__(self, value, /)\n",
      " |      Return self>=value.\n",
      " |  \n",
      " |  __getattribute__(self, name, /)\n",
      " |      Return getattr(self, name).\n",
      " |  \n",
      " |  __getitem__(self, key, /)\n",
      " |      Return self[key].\n",
      " |  \n",
      " |  __gt__(self, value, /)\n",
      " |      Return self>value.\n",
      " |  \n",
      " |  __hash__(self, /)\n",
      " |      Return hash(self).\n",
      " |  \n",
      " |  __iter__(self, /)\n",
      " |      Implement iter(self).\n",
      " |  \n",
      " |  __le__(self, value, /)\n",
      " |      Return self<=value.\n",
      " |  \n",
      " |  __len__(self, /)\n",
      " |      Return len(self).\n",
      " |  \n",
      " |  __lt__(self, value, /)\n",
      " |      Return self<value.\n",
      " |  \n",
      " |  __ne__(self, value, /)\n",
      " |      Return self!=value.\n",
      " |  \n",
      " |  __new__(*args, **kwargs) from builtins.type\n",
      " |      Create and return a new object.  See help(type) for accurate signature.\n",
      " |  \n",
      " |  __reduce__(...)\n",
      " |      helper for pickle\n",
      " |  \n",
      " |  __repr__(self, /)\n",
      " |      Return repr(self).\n",
      " |  \n",
      " |  __reversed__(...)\n",
      " |      Return a reverse iterator.\n",
      " |  \n",
      " |  count(...)\n",
      " |      rangeobject.count(value) -> integer -- return number of occurrences of value\n",
      " |  \n",
      " |  index(...)\n",
      " |      rangeobject.index(value, [start, [stop]]) -> integer -- return index of value.\n",
      " |      Raise ValueError if the value is not present.\n",
      " |  \n",
      " |  ----------------------------------------------------------------------\n",
      " |  Data descriptors defined here:\n",
      " |  \n",
      " |  start\n",
      " |  \n",
      " |  step\n",
      " |  \n",
      " |  stop\n",
      "\n"
     ]
    }
   ],
   "source": [
    "numbers = [0, 1, 2, 3, 4, 5, 6, 7, 8, 9] # or list(range(10))\n",
    "print(numbers[0:9:2]) ## or more simply, for the entire list\n",
    "print(numbers[::2]) \n",
    "print(numbers[::-1]) # to inverse the list\n",
    "\n",
    "help(range)"
   ]
  },
  {
   "cell_type": "markdown",
   "metadata": {
    "id": "OYY0PZI85fLi"
   },
   "source": [
    "### Copy vs. Clone\n",
    "\n",
    "A list copy creates a _shallow copy_ of a list (the new variable name points to the same elements in the same list):\n"
   ]
  },
  {
   "cell_type": "code",
   "execution_count": null,
   "metadata": {
    "colab": {
     "base_uri": "https://localhost:8080/",
     "height": 70
    },
    "executionInfo": {
     "elapsed": 613,
     "status": "ok",
     "timestamp": 1601333988202,
     "user": {
      "displayName": "Christian Darabos",
      "photoUrl": "https://lh3.googleusercontent.com/a-/AOh14Gj58rX31OVqoCy41duHsoMyAFVv9Ammc6u2HhU3=s64",
      "userId": "13696541032900097213"
     },
     "user_tz": 240
    },
    "id": "WJYWUDh96-yg",
    "outputId": "5ba086cd-bde5-4670-c88c-94e743cf05f5"
   },
   "outputs": [
    {
     "name": "stdout",
     "output_type": "stream",
     "text": [
      "[1, 2, 3, 4, 5, 6, 7, 8, 9]\n",
      "[1, 2, 3, 4, 5, 6, 7, 8, 9]\n",
      "[1, 2, 3, 4, 5, 1000, 7, 8, 9] [1, 2, 3, 4, 5, 1000, 7, 8, 9]\n"
     ]
    }
   ],
   "source": [
    "numbers = list(range(1,10))\n",
    "print(numbers)\n",
    "new_numbers = numbers # shallow copy\n",
    "print(new_numbers)\n",
    "new_numbers[5] = 1000 # changing 'new_numbers' also changes 'numbers' and vice-versa\n",
    "print(numbers,new_numbers)"
   ]
  },
  {
   "cell_type": "markdown",
   "metadata": {
    "id": "t851iq4j8gRH"
   },
   "source": [
    "A clone (or deep-copy) copies each individual element:"
   ]
  },
  {
   "cell_type": "code",
   "execution_count": null,
   "metadata": {
    "colab": {
     "base_uri": "https://localhost:8080/",
     "height": 35
    },
    "executionInfo": {
     "elapsed": 533,
     "status": "ok",
     "timestamp": 1601334110367,
     "user": {
      "displayName": "Christian Darabos",
      "photoUrl": "https://lh3.googleusercontent.com/a-/AOh14Gj58rX31OVqoCy41duHsoMyAFVv9Ammc6u2HhU3=s64",
      "userId": "13696541032900097213"
     },
     "user_tz": 240
    },
    "id": "eTyfLumo8mlV",
    "outputId": "bae2dd22-1bb0-40a8-ffa2-6422b869887e"
   },
   "outputs": [
    {
     "name": "stdout",
     "output_type": "stream",
     "text": [
      "[0, 1, 2, 3, 4, 5, 6, 7, 8, 9] [0, 1, 2, 3, 4, 1000, 6, 7, 8, 9]\n"
     ]
    }
   ],
   "source": [
    "numbers = list(range(10))\n",
    "clone_numbers = numbers[:] # using the slice :) OR\n",
    "clone_numbers = numbers.copy() # using the copy method\n",
    "clone_numbers[5]=1000 # now chaning one list doesn't change the other\n",
    "print(numbers,clone_numbers) "
   ]
  },
  {
   "cell_type": "markdown",
   "metadata": {
    "id": "JD9CvnWNz1Yq"
   },
   "source": [
    "###Collections can be **nested** into a _matrix_.\n",
    "\n",
    "Lists can be multi-dimensional. Lists can contain lists (inside lists, etc.). So a 2-D list would look like this:\n",
    "```\n",
    "matrix_2 = [\n",
    "  [1,3,2], \n",
    "  [1,3,2], \n",
    "  [2,3,4], \n",
    "  [2,3,5]\n",
    "]\n",
    "first_item = matrix_2[0]\n",
    "print(first_item) # [1,3,2]\n",
    "first_item_first_element = matrix_2[0][0] # or first_item[0]\n",
    "print(first_item_first_element) # 1\n",
    "```\n",
    "\n",
    "We can similarly nest any number of lists inside lists to create different dimensional matrices similar to the matrices in mathematics. This kind of matrix data is helpful in storing complex data like images and used in machine learning models."
   ]
  },
  {
   "cell_type": "code",
   "execution_count": 4,
   "metadata": {
    "colab": {
     "base_uri": "https://localhost:8080/",
     "height": 90
    },
    "executionInfo": {
     "elapsed": 367,
     "status": "ok",
     "timestamp": 1601466309498,
     "user": {
      "displayName": "Christian Darabos",
      "photoUrl": "https://lh3.googleusercontent.com/a-/AOh14Gj58rX31OVqoCy41duHsoMyAFVv9Ammc6u2HhU3=s64",
      "userId": "13696541032900097213"
     },
     "user_tz": 240
    },
    "id": "Z5uoSHZPpeV5",
    "outputId": "e3d00306-0a91-45ac-abf1-84d83e45edd0"
   },
   "outputs": [
    {
     "name": "stdout",
     "output_type": "stream",
     "text": [
      "[['Joe', 25, 'musician'], ['Liz', 22, 'programmer'], ['Todd', 18, 'student', 'Dartmouth']]\n",
      "['Todd', 18, 'student', 'Dartmouth']\n",
      "Joe\n"
     ]
    }
   ],
   "source": [
    "# nested list\n",
    "people=[\n",
    "        ['Joe', 25, 'musician'],\n",
    "        ['Liz', 22, 'programmer'],\n",
    "        ['Todd', 18, 'student', 'Dartmouth']      \n",
    "]\n",
    "print(people) # the \"outer list\"\n",
    "print(people[2]) # prints the nested list\n",
    "print(people[0][0]) # prints the first element of the first list"
   ]
  },
  {
   "cell_type": "markdown",
   "metadata": {
    "id": "S47Mt7IA-0Kl"
   },
   "source": [
    "## Strings are (immutable) lists\n",
    "Strings in Python are simply ordered collection of characters. We can access characters of a string, select a substring, reverse a string and much more the same way we do with list (and other collections). It is also called slicing of string.\n",
    "```\n",
    "language = 'python'\n",
    "first_character = language[0] # indexing starts from 0\n",
    "second_character = language[1]\n",
    "print(first_character) # p\n",
    "print(second_character) # y\n",
    "# Strings can be manipulated easily with this syntax [start:stop:step-over]\n",
    "range_1 = language[0:2] # here it starts from index 0 and ends at index 1\n",
    "range_2 = language[0::1] # starts at 0, stops at end with step over 1 \n",
    "range_3 = language[::2] # starts at 0, till end with step 2\n",
    "range_4 = language[1:] # starts at index 1 till end of string\n",
    "range_5 = language[-1] # selects last character\n",
    "range_6 = language[-2] # second last character\n",
    "reverse_string = language[::-1] # starts from end and reverses the string\n",
    "reverse_string_2 = language[::-2] # reverses string and skips 1 character\n",
    "\n",
    "print(range_1) # py\n",
    "print(range_2) # python\n",
    "print(range_3) # pto\n",
    "print(range_4) # ython\n",
    "print(range_5) # n\n",
    "print(range_6) # o\n",
    "print(reverse_string) # nohtyp\n",
    "print(reverse_string_2) # nhy\n",
    "```\n",
    "\n",
    "### Immutability\n",
    "\n",
    "Strings are immutable (ie. cannot be changed). \n",
    "```\n",
    "favorite_website = 'Dartmouth.edu'\n",
    "favorite_website[0] = 'F'\n",
    "print(favorite_website) # TypeError: 'str' object does not support item assignment\n",
    "```"
   ]
  },
  {
   "cell_type": "code",
   "execution_count": null,
   "metadata": {
    "colab": {
     "base_uri": "https://localhost:8080/",
     "height": 105
    },
    "executionInfo": {
     "elapsed": 547,
     "status": "ok",
     "timestamp": 1601337659346,
     "user": {
      "displayName": "Christian Darabos",
      "photoUrl": "https://lh3.googleusercontent.com/a-/AOh14Gj58rX31OVqoCy41duHsoMyAFVv9Ammc6u2HhU3=s64",
      "userId": "13696541032900097213"
     },
     "user_tz": 240
    },
    "id": "zM5n_foHKSc7",
    "outputId": "4263dce0-eeea-4601-9cc7-74d220ee8c84"
   },
   "outputs": [
    {
     "name": "stdout",
     "output_type": "stream",
     "text": [
      "15\n",
      "Python is awesome\n",
      "Python is awesome\n",
      "PYTHON IS AWESOME\n",
      "Java is awesome\n"
     ]
    }
   ],
   "source": [
    "quote = 'Java is awesome'\n",
    "print(len(quote)) # 21 (len calculates total no of characters)\n",
    "new_quote = quote.replace('Java', 'python')\n",
    "print(new_quote) # python is awesome\n",
    "capitalize = new_quote.capitalize()\n",
    "print(capitalize) # Python is awesome\n",
    "upper_case = new_quote.upper()\n",
    "print(upper_case) # PYTHON IS AWESOME\n",
    "\n",
    "print(quote) # javascript is awesome (Note: Strings are immutable!)"
   ]
  },
  {
   "cell_type": "markdown",
   "metadata": {
    "id": "CIY_Kqkaogd9"
   },
   "source": [
    "### Mutating a List: Replacing, adding, removing elements, merging lists\n",
    "\n",
    "#### Replacing\n",
    "You can change any value of an existing element value using subsciption notation (index)\n"
   ]
  },
  {
   "cell_type": "code",
   "execution_count": null,
   "metadata": {
    "colab": {
     "base_uri": "https://localhost:8080/",
     "height": 70
    },
    "executionInfo": {
     "elapsed": 571,
     "status": "ok",
     "timestamp": 1601338085606,
     "user": {
      "displayName": "Christian Darabos",
      "photoUrl": "https://lh3.googleusercontent.com/a-/AOh14Gj58rX31OVqoCy41duHsoMyAFVv9Ammc6u2HhU3=s64",
      "userId": "13696541032900097213"
     },
     "user_tz": 240
    },
    "id": "vr6I9aGAo0RL",
    "outputId": "6f7abaa6-442f-43b7-bd95-adf3f9d91ef7"
   },
   "outputs": [
    {
     "name": "stdout",
     "output_type": "stream",
     "text": [
      "['John', 'Alice', 'Sarah', 'George']\n",
      "['John', 'Jane', 'Sarah', 'George']\n",
      "['John', 'Jane', 'Molly', 'George']\n"
     ]
    }
   ],
   "source": [
    "names = [\"John\", \"Alice\", \"Sarah\", \"George\"]\n",
    "print(names)\n",
    "names[1] = \"Jane\" # replacing Alice\n",
    "print(names)\n",
    "names[-2]=\"Molly\" # replacing Sarah\n",
    "print(names)"
   ]
  },
  {
   "cell_type": "markdown",
   "metadata": {
    "id": "xZRs2cfEqgYt"
   },
   "source": [
    "#### Adding\n",
    "Elements can be appended to the end (after the largest existing index) of the list using the `append(element)` method. You can extend an existing list with the `extend(list)` method or the `+` operator. Finally, you can insert values at a specific index (incrementing the index of all subsequent element) using the `insert(index, element)` method."
   ]
  },
  {
   "cell_type": "code",
   "execution_count": null,
   "metadata": {
    "colab": {
     "base_uri": "https://localhost:8080/",
     "height": 123
    },
    "executionInfo": {
     "elapsed": 553,
     "status": "ok",
     "timestamp": 1601338320394,
     "user": {
      "displayName": "Christian Darabos",
      "photoUrl": "https://lh3.googleusercontent.com/a-/AOh14Gj58rX31OVqoCy41duHsoMyAFVv9Ammc6u2HhU3=s64",
      "userId": "13696541032900097213"
     },
     "user_tz": 240
    },
    "id": "9gh6_u8gq5Pz",
    "outputId": "940a3cda-f790-46b1-ce9a-43abe8bf98f2"
   },
   "outputs": [
    {
     "name": "stdout",
     "output_type": "stream",
     "text": [
      "['John', 'Alice', 'Sarah', 'George', 'Thelma']\n",
      "['John', 'Alice', 'Sarah', 'George', 'Thelma', 'Louise']\n",
      "['John', 'Alice', 'Sarah', 'George', 'Thelma', 'Louise', 'Jake', 'Zach']\n",
      "['Christian', 'John', 'Alice', 'Sarah', 'George', 'Thelma', 'Louise', 'Jake', 'Zach']\n",
      "['Christian', 'John', 'Alice', 'Sarah', 'George', 'Thelma', 'Louise', 'Jake', 'Zach', 'Toto']\n",
      "['Christian', 'John', 'Alice', 'Sarah', 'George', 'Thelma', 'Louise', 'Jake', 'Brutus', 'Zach', 'Toto']\n"
     ]
    }
   ],
   "source": [
    "names = [\"John\", \"Alice\", \"Sarah\", \"George\"]\n",
    "names.append(\"Thelma\")\n",
    "print(names)\n",
    "names += [\"Louise\"] # extent with a new list \n",
    "print(names)\n",
    "actors = ['Jake', 'Zach']\n",
    "names.extend(actors)\n",
    "print(names)\n",
    "names.insert(0, \"Christian\")\n",
    "print(names)\n",
    "names.insert(20,\"Toto\") # appends if index doesn't exist!\n",
    "print(names)\n",
    "names.insert(-2, \"Brutus\") # insert instead of what was at \"-2\"\n",
    "print(names)"
   ]
  },
  {
   "cell_type": "markdown",
   "metadata": {
    "id": "PAiPRYL5Nc3C"
   },
   "source": [
    "These methods add items to the list in-place and do not return any value (ie. no copy/clone)\n",
    "```\n",
    "scores = [44,48,55,89,34]\n",
    "newScores = scores.append(100)\n",
    "print(newScores) # None \n",
    "newScores = scores.insert(0,44)\n",
    "print(newScores) # None\n",
    "```\n",
    "### Removing items from list \n",
    "Methods: `pop()`, `remove(element)`, `clear()`\n",
    "These methods too mutate in-place.\n",
    "```\n",
    "languages = ['C', 'C#', 'C++']\n",
    "languages.pop() # removes the last element\n",
    "print(languages) # ['C', 'C#']\n",
    "languages.remove('C') # removes the first occurence\n",
    "print(languages) # ['C#']\n",
    "languages.clear() # empties the list\n",
    "print(languages) # []\n",
    "```\n",
    "### Getting index and counting\n",
    "Methods: `index(element)`, `count(element)`\n",
    "```\n",
    "alphabets = ['a', 'b', 'c', 'b', 'a']\n",
    "print(alphabets.index('a')) # 0 (Returns the first index of the element in list\n",
    "print(alphabets.count('b')) # 2 (counts the occurence of an element\n",
    "```\n",
    "Sorting, reversing and copying lists\n",
    "```\n",
    "numbers = [1,4,6,3,2,5]\n",
    "numbers.sort() # Sorts the list items in place and returns nothing\n",
    "print(numbers) # [1, 2, 3, 4, 5, 6]\n",
    "\n",
    "#Python also has a built in sorting function that returns a new list\n",
    "sorted_numbers = sorted(numbers) # note - this is not a method\n",
    "print(sorted_numbers) # [1, 2, 3, 4, 5, 6]\n",
    "\n",
    "numbers.reverse() # reverse the indices in place\n",
    "print(numbers) # [6, 5, 4, 3, 2, 1]\n",
    "\n",
    "numbers_clone = numbers.copy() # another approach is numbers[:]\n",
    "print(numbers_clone) # [6, 5, 4, 3, 2, 1]\n",
    "```\n",
    "\n",
    "### Joining (imploding) elements of a list into a string\n",
    "```\n",
    "avengers = ['ironman', 'spiderman', 'antman', 'hulk']\n",
    "merge_avengers = ' '.join(avengers) # used to join list into string\n",
    "print(merge_avengers) # \"ironman spiderman antman hulk\"\n",
    "```\n",
    "### Generating sequences\n",
    "```\n",
    "range_of_numbers = list(range(10)) # quickly generates a list of specific range\n",
    "print(range_of_numbers) # [0, 1, 2, 3, 4, 5, 6, 7, 8, 9]\n",
    "another_range = list(range(0,5)) # with start stop\n",
    "print(another_range) # [0, 1, 2, 3, 4]\n",
    "```\n",
    "\n",
    "See [Python List methods](https://www.w3schools.com/python/python_ref_list.asp)\n",
    "\n",
    "\n",
    "### List Unpacking\n",
    "\n",
    "Unpacking a list assigns each element of a list to a separate variable in order. You can use `*`-variable to assign \"sublists\":\n",
    "```\n",
    "first,second,third = ['tesla','ford','ferarri']\n",
    "print(first) # tesla\n",
    "print(second) # second\n",
    "print(third) # ferarri\n",
    "\n",
    "a,*others = [1,2,3,4,5] # remaining values are stored in others\n",
    "print(a) # 1\n",
    "print(others) # [2, 3, 4, 5]\n",
    "\n",
    "first,*others,last= [😄,😋,😠,😔,😉]\n",
    "print(first) # 😄\n",
    "print(others) # ['😋', '😠', '😔']\n",
    "print(last) # 😉\n",
    "```"
   ]
  },
  {
   "cell_type": "code",
   "execution_count": 1,
   "metadata": {},
   "outputs": [
    {
     "name": "stdout",
     "output_type": "stream",
     "text": [
      "4\n"
     ]
    }
   ],
   "source": [
    "x=list(range(8))\n",
    "x*=2\n",
    "print(x[4])"
   ]
  },
  {
   "cell_type": "code",
   "execution_count": 2,
   "metadata": {},
   "outputs": [
    {
     "data": {
      "text/plain": [
       "True"
      ]
     },
     "execution_count": 2,
     "metadata": {},
     "output_type": "execute_result"
    }
   ],
   "source": [
    "isinstance(3, object)"
   ]
  },
  {
   "cell_type": "code",
   "execution_count": null,
   "metadata": {},
   "outputs": [],
   "source": []
  }
 ],
 "metadata": {
  "colab": {
   "collapsed_sections": [],
   "name": "QBS101-W20-week03-material.ipynb",
   "provenance": []
  },
  "kernelspec": {
   "display_name": "Python 3",
   "language": "python",
   "name": "python3"
  },
  "language_info": {
   "codemirror_mode": {
    "name": "ipython",
    "version": 3
   },
   "file_extension": ".py",
   "mimetype": "text/x-python",
   "name": "python",
   "nbconvert_exporter": "python",
   "pygments_lexer": "ipython3",
   "version": "3.7.6"
  }
 },
 "nbformat": 4,
 "nbformat_minor": 1
}
