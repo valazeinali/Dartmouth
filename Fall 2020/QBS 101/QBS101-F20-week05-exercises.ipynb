{
 "cells": [
  {
   "cell_type": "markdown",
   "metadata": {
    "id": "i3TD-xpEMCmG"
   },
   "source": [
    "# Boolean Arithmetic\n",
    "Solve for $x$ by hand, then check with the computer:\n",
    "- $x =$ `True and True or False`\n",
    "- $x =$ `not(10>5) and True`\n",
    "- $x =$ `bool('hello') or []`\n",
    "- $x =$ `len('True') > False`\n",
    "- $x =$ `not not True or False`\n",
    "- $x =$ `(x > 10) and (x < 10)` for any value of $x$"
   ]
  },
  {
   "cell_type": "code",
   "execution_count": null,
   "metadata": {
    "colab": {
     "base_uri": "https://localhost:8080/",
     "height": 120
    },
    "executionInfo": {
     "elapsed": 289,
     "status": "ok",
     "timestamp": 1602532549607,
     "user": {
      "displayName": "Christian Darabos",
      "photoUrl": "https://lh3.googleusercontent.com/a-/AOh14Gj58rX31OVqoCy41duHsoMyAFVv9Ammc6u2HhU3=s64",
      "userId": "13696541032900097213"
     },
     "user_tz": 240
    },
    "id": "IZXG9tBbMBYe",
    "outputId": "f10b04a7-5f19-4e83-8cbf-cd115f1dad13"
   },
   "outputs": [
    {
     "name": "stdout",
     "output_type": "stream",
     "text": [
      "True\n",
      "False\n",
      "True\n",
      "True\n",
      "True\n",
      "False\n"
     ]
    }
   ],
   "source": [
    "# your code here"
   ]
  },
  {
   "cell_type": "markdown",
   "metadata": {
    "id": "5PMWNT4BXzuH"
   },
   "source": [
    "# True and False\n",
    "\n",
    "Rewrite the following condition using the `and` operator. The rest of the code remains unchanged:\n",
    "```\n",
    "x = 10\n",
    "if (x<10) or (x>20):\n",
    "  print(\"x is out of range\")\n",
    "```"
   ]
  },
  {
   "cell_type": "code",
   "execution_count": 3,
   "metadata": {
    "colab": {
     "base_uri": "https://localhost:8080/",
     "height": 34
    },
    "executionInfo": {
     "elapsed": 269,
     "status": "ok",
     "timestamp": 1602623936972,
     "user": {
      "displayName": "Christian Darabos",
      "photoUrl": "https://lh3.googleusercontent.com/a-/AOh14Gj58rX31OVqoCy41duHsoMyAFVv9Ammc6u2HhU3=s64",
      "userId": "13696541032900097213"
     },
     "user_tz": 240
    },
    "id": "VRs99x0TY09Y",
    "outputId": "e82d9f0f-b1af-4be3-9308-07a83d774296"
   },
   "outputs": [
    {
     "name": "stdout",
     "output_type": "stream",
     "text": [
      "x is out of range\n"
     ]
    }
   ],
   "source": [
    "# your code here\n",
    "x = 10\n",
    "if (x>=10) and (x<=20):\n",
    "  print(\"x is out of range\")"
   ]
  },
  {
   "cell_type": "markdown",
   "metadata": {
    "id": "19DbV_xIAq2R"
   },
   "source": [
    "# You can't spell ... without ...\n",
    "\n",
    "Ask Python if you can write:\n",
    "- \"average\" without \"rage\"\n",
    "- \"manslaughter\" without \"laughter\""
   ]
  },
  {
   "cell_type": "code",
   "execution_count": 4,
   "metadata": {
    "colab": {
     "base_uri": "https://localhost:8080/",
     "height": 51
    },
    "executionInfo": {
     "elapsed": 318,
     "status": "ok",
     "timestamp": 1602529261040,
     "user": {
      "displayName": "Christian Darabos",
      "photoUrl": "https://lh3.googleusercontent.com/a-/AOh14Gj58rX31OVqoCy41duHsoMyAFVv9Ammc6u2HhU3=s64",
      "userId": "13696541032900097213"
     },
     "user_tz": 240
    },
    "id": "U5tKnIaYLPtX",
    "outputId": "619b04cf-7723-4df5-fe16-9c9bd8d648eb"
   },
   "outputs": [
    {
     "name": "stdout",
     "output_type": "stream",
     "text": [
      "You can't spell average without rage: True\n"
     ]
    }
   ],
   "source": [
    "# your code here\n",
    "a,b = \"average\",\"rage\"\n",
    "print(f'You can\\'t spell {a} without {b}: {b in a}')"
   ]
  },
  {
   "cell_type": "markdown",
   "metadata": {
    "id": "t8zaKcG47_Ba"
   },
   "source": [
    "# What's my number?\n",
    "Ask the user to enter a number. Tell the user whether the number is positive, negative, or zero.\n",
    "\n",
    "Test your solution with a couple of _corner cases_: `1e-323` and `1e-324`\n",
    "\n",
    "What happens? If you need to, how can you fix it?"
   ]
  },
  {
   "cell_type": "code",
   "execution_count": 12,
   "metadata": {
    "colab": {
     "base_uri": "https://localhost:8080/",
     "height": 51
    },
    "executionInfo": {
     "elapsed": 6211,
     "status": "ok",
     "timestamp": 1602526093286,
     "user": {
      "displayName": "Christian Darabos",
      "photoUrl": "https://lh3.googleusercontent.com/a-/AOh14Gj58rX31OVqoCy41duHsoMyAFVv9Ammc6u2HhU3=s64",
      "userId": "13696541032900097213"
     },
     "user_tz": 240
    },
    "id": "3JE11o3s6kGH",
    "outputId": "3d8c5989-f55d-46b7-8fff-486fa362cc78"
   },
   "outputs": [
    {
     "name": "stdout",
     "output_type": "stream",
     "text": [
      "Enter you age:1e-324\n",
      "Number is 0\n"
     ]
    }
   ],
   "source": [
    "# your code here\n",
    "num = float(input('Enter you num:'))\n",
    "\n",
    "if(num < 0):\n",
    "    print(\"Number is negative\")\n",
    "elif (num > 0):\n",
    "    print(\"Number is positive\")\n",
    "else:\n",
    "    print(\"Number is 0\")  "
   ]
  },
  {
   "cell_type": "markdown",
   "metadata": {
    "id": "sUHVUPiImrk-"
   },
   "source": [
    "#Consolidate and separate\n",
    "\n",
    "The following patients come to you."
   ]
  },
  {
   "cell_type": "code",
   "execution_count": 14,
   "metadata": {
    "id": "49N6dJuimq9g"
   },
   "outputs": [],
   "source": [
    "patients = {\n",
    "    \"joe\"   : {\"age\":41, \"bmi\":25, \"diabetic\": True},\n",
    "    \"elise\" : {\"age\":78, \"bmi\":31, \"diabetic\": False},\n",
    "    \"frank\" : {\"age\":18, \"bmi\":22, \"diabetic\": False}\n",
    "}"
   ]
  },
  {
   "cell_type": "markdown",
   "metadata": {
    "id": "37h1Mic1srMU"
   },
   "source": [
    "For each patient, calculate and add (manually) a Boolean dictionary entry `COVID@risk` that is `True` if at least one risk factor is met: 70yo or older, overweight, diabetic. Print the resulting `dict`."
   ]
  },
  {
   "cell_type": "code",
   "execution_count": 21,
   "metadata": {},
   "outputs": [
    {
     "name": "stdout",
     "output_type": "stream",
     "text": [
      "{'joe': {'age': 41, 'bmi': 25, 'diabetic': True, 'COVID@risk': True}, 'elise': {'age': 78, 'bmi': 31, 'diabetic': False, 'COVID@risk': True}, 'frank': {'age': 18, 'bmi': 22, 'diabetic': False, 'COVID@risk': False}}\n"
     ]
    },
    {
     "data": {
      "text/plain": [
       "'\\nfor patient in patients:\\n  if patients[patient][\"age\"] >= 70:\\n    patients[patient][\"COVID@risk\"] = True\\n  elif patients[patient][\"bmi\"] >= 25:\\n    patients[patient][\"COVID@risk\"] = True\\n  elif patients[patient][\"diabetic\"] == True:\\n    patients[patient][\"COVID@risk\"] = True\\n  else:\\n    patients[patient][\"COVID@risk\"] = False\\n\\nprint(patients)\\n'"
      ]
     },
     "execution_count": 21,
     "metadata": {},
     "output_type": "execute_result"
    }
   ],
   "source": [
    "name = 'joe'\n",
    "patients[name]['COVID@risk']=patients[name]['age']>=70 or patients[name]['bmi']>=25 or patients[name]['diabetic']\n",
    "name = 'elise'\n",
    "patients[name]['COVID@risk']=patients[name]['age']>=70 or patients[name]['bmi']>=25 or patients[name]['diabetic']\n",
    "name = 'frank'\n",
    "patients[name]['COVID@risk']=patients[name]['age']>=70 or patients[name]['bmi']>=25 or patients[name]['diabetic']\n",
    "print(patients)\n",
    "\n",
    "# or\n",
    "'''\n",
    "for patient in patients:\n",
    "  if patients[patient][\"age\"] >= 70:\n",
    "    patients[patient][\"COVID@risk\"] = True\n",
    "  elif patients[patient][\"bmi\"] >= 25:\n",
    "    patients[patient][\"COVID@risk\"] = True\n",
    "  elif patients[patient][\"diabetic\"] == True:\n",
    "    patients[patient][\"COVID@risk\"] = True\n",
    "  else:\n",
    "    patients[patient][\"COVID@risk\"] = False\n",
    "\n",
    "print(patients)\n",
    "'''"
   ]
  },
  {
   "cell_type": "markdown",
   "metadata": {
    "id": "IOqMWlNgApxd"
   },
   "source": [
    "# Working Overtime\n",
    "Write a program to determine whether an employee is owed any overtime. You should ask the user how many hours the employee worked this week, as well as the hourly wage for this employee.\n",
    "\n",
    "If the employee worked more than 40 hours, you should print a message which says the employee is due some additional pay, as well as the amount due. The additional amount owed is 10% of the employees hourly wage for each hour worked over the 40 hours. In effect, the employees get paid 110% of their hourly wage for any overtime."
   ]
  },
  {
   "cell_type": "code",
   "execution_count": 23,
   "metadata": {
    "colab": {
     "base_uri": "https://localhost:8080/",
     "height": 68
    },
    "executionInfo": {
     "elapsed": 10364,
     "status": "ok",
     "timestamp": 1602526586293,
     "user": {
      "displayName": "Christian Darabos",
      "photoUrl": "https://lh3.googleusercontent.com/a-/AOh14Gj58rX31OVqoCy41duHsoMyAFVv9Ammc6u2HhU3=s64",
      "userId": "13696541032900097213"
     },
     "user_tz": 240
    },
    "id": "cMQUY-X--4a5",
    "outputId": "4c13237f-e59b-498f-eebf-f202efe780c8"
   },
   "outputs": [
    {
     "name": "stdout",
     "output_type": "stream",
     "text": [
      "Hours worked this week: 41\n",
      "Hourly wage in $: 20\n",
      "Overtime owed: $22.0\n"
     ]
    },
    {
     "data": {
      "text/plain": [
       "\"\\nhours = float(input('Hours:'))\\npay = float(input('Rate:'))\\n\\nif(hours <= 40):\\n    print(f'Pay is {hours * pay}')\\nelse:\\n    print(f'Pay with overtime is {((hours - 40) * (pay * .10)) + hours*pay}')\\n\\n\""
      ]
     },
     "execution_count": 23,
     "metadata": {},
     "output_type": "execute_result"
    }
   ],
   "source": [
    "# your code here\n",
    "## others solution \n",
    "hours = float(input(\"Hours worked this week: \"))\n",
    "wage = float(input(\"Hourly wage in $: \"))\n",
    "if hours > 40:\n",
    "  print(f\"Overtime owed: ${(hours-40)*(1.10*wage)}\")\n",
    "else:\n",
    "  print(\"Overtime owed: N/A\")\n",
    "\n",
    "\n",
    "# my solution \n",
    "'''\n",
    "hours = float(input('Hours:'))\n",
    "pay = float(input('Rate:'))\n",
    "\n",
    "if(hours <= 40):\n",
    "    print(f'Pay is {hours * pay}')\n",
    "else:\n",
    "    print(f'Pay with overtime is {((hours - 40) * (pay * 1.10)) + hours*pay}')\n",
    "\n",
    "'''"
   ]
  },
  {
   "cell_type": "markdown",
   "metadata": {
    "id": "MP1WCb6YCApj"
   },
   "source": [
    "Improve on the previous report by:\n",
    "- printing the regular salary (0-40 hours)\n",
    "- adding an overtime line if applicable\n",
    "- printing a \"total\" line\n",
    "- do not have the same print statement twice!"
   ]
  },
  {
   "cell_type": "code",
   "execution_count": null,
   "metadata": {
    "colab": {
     "base_uri": "https://localhost:8080/",
     "height": 86
    },
    "executionInfo": {
     "elapsed": 3098,
     "status": "ok",
     "timestamp": 1602527721985,
     "user": {
      "displayName": "Christian Darabos",
      "photoUrl": "https://lh3.googleusercontent.com/a-/AOh14Gj58rX31OVqoCy41duHsoMyAFVv9Ammc6u2HhU3=s64",
      "userId": "13696541032900097213"
     },
     "user_tz": 240
    },
    "id": "kKE4Q-HXBv0O",
    "outputId": "1914429a-1980-4adf-f72b-7dce9bd67ac3"
   },
   "outputs": [
    {
     "name": "stdout",
     "output_type": "stream",
     "text": [
      "Hours worked this week: 20\n",
      "Hourly wage in $: 20\n",
      "Salary:\t\t$400.0\n",
      "Total:\t\t400.0\n"
     ]
    }
   ],
   "source": [
    "# your code here"
   ]
  },
  {
   "cell_type": "markdown",
   "metadata": {
    "id": "eF4Si1X0HyWK"
   },
   "source": [
    "Think of ways to make your code more defensive. Implement some of those measures."
   ]
  },
  {
   "cell_type": "code",
   "execution_count": 27,
   "metadata": {
    "colab": {
     "base_uri": "https://localhost:8080/",
     "height": 68
    },
    "executionInfo": {
     "elapsed": 8279,
     "status": "ok",
     "timestamp": 1602540805561,
     "user": {
      "displayName": "Christian Darabos",
      "photoUrl": "https://lh3.googleusercontent.com/a-/AOh14Gj58rX31OVqoCy41duHsoMyAFVv9Ammc6u2HhU3=s64",
      "userId": "13696541032900097213"
     },
     "user_tz": 240
    },
    "id": "UNJZ6k_QDHqn",
    "outputId": "c56a9765-c959-4269-a44a-8c6a10c93e6d"
   },
   "outputs": [
    {
     "name": "stdout",
     "output_type": "stream",
     "text": [
      "Hours worked this week: 45\n",
      "Hourly wage in $: 20\n",
      "Salary:\t\t$800.0\n",
      "Overtime:\t$110.0\n",
      "Total:\t\t910.0\n"
     ]
    }
   ],
   "source": [
    "# your code here\n",
    "hours = input(\"Hours worked this week: \")\n",
    "wage = input(\"Hourly wage in $: \")\n",
    "\n",
    "if not hours.isnumeric() or not wage.isnumeric():\n",
    "  print('Hours and wages must be positive numeric values.')\n",
    "\n",
    "else:\n",
    "\n",
    "  hours = float(hours)\n",
    "  wage = float(wage)\n",
    "\n",
    "  if hours>80 and wage<7.25:\n",
    "    print('Hours must be between 0 and 80. Wage can be no less than $7.25')\n",
    "  else:\n",
    "    overtime = 0\n",
    "\n",
    "    if hours <= 40:\n",
    "      salary = hours*wage\n",
    "    else:\n",
    "      salary = 40*wage\n",
    "      overtime = (hours-40)*1.1*wage\n",
    "\n",
    "    print(f'Salary:\\t\\t${salary}')\n",
    "    if(overtime >0):\n",
    "      print(f'Overtime:\\t${overtime}')\n",
    "\n",
    "    print(f'Total:\\t\\t{salary+overtime}')"
   ]
  },
  {
   "cell_type": "code",
   "execution_count": null,
   "metadata": {},
   "outputs": [],
   "source": []
  }
 ],
 "metadata": {
  "colab": {
   "authorship_tag": "ABX9TyMZL3GjQm3+GPddmqB2RaSs",
   "collapsed_sections": [],
   "name": "QBS101-W20-week05-exercises.ipynb",
   "provenance": []
  },
  "kernelspec": {
   "display_name": "Python 3",
   "language": "python",
   "name": "python3"
  },
  "language_info": {
   "codemirror_mode": {
    "name": "ipython",
    "version": 3
   },
   "file_extension": ".py",
   "mimetype": "text/x-python",
   "name": "python",
   "nbconvert_exporter": "python",
   "pygments_lexer": "ipython3",
   "version": "3.7.6"
  }
 },
 "nbformat": 4,
 "nbformat_minor": 1
}
