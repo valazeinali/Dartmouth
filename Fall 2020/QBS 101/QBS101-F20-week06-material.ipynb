{
 "cells": [
  {
   "cell_type": "markdown",
   "metadata": {
    "id": "xZ8hd7hizmGC"
   },
   "source": [
    "# Ternary Conditional Operator, `for` loops, iterators, `while` loops\n",
    "\n",
    "Sources: \n",
    "- [DEV.to 30 days of Python](https://dev.to/arindamdawn/series/7425), days 5, 6\n",
    "- [Teclado 30 Days of Python](https://blog.tecladocode.com/30-days-of-python/) days 6, 8"
   ]
  },
  {
   "cell_type": "markdown",
   "metadata": {
    "id": "Ko74v6mrNxw4"
   },
   "source": [
    "# Ternary Conditional Operator\n",
    "Most programming languages have a _ternary operator_ for conditionals. It is a _short_ syntax for an `if...else...` statement that usually fits on one line. They are mostly used for conditional variable assignments.\n",
    "\n",
    "In ternary conditional statements, you want to assign `value1` to the `variable` if the `condition` is met, otherwise, assign `value2`:\n",
    "```\n",
    "variable = value1 if condition else value2\n",
    "```\n",
    "\n",
    "```\n",
    "is_single = True\n",
    "message = 'You can date' if is_single else 'you cannot date'\n",
    "print(message) # You can date\n",
    "```\n",
    "_Ternary operator_ is also sometimes called a _conditional expression_."
   ]
  },
  {
   "cell_type": "code",
   "execution_count": 2,
   "metadata": {
    "colab": {
     "base_uri": "https://localhost:8080/",
     "height": 34
    },
    "executionInfo": {
     "elapsed": 2133,
     "status": "ok",
     "timestamp": 1603117513246,
     "user": {
      "displayName": "Christian Darabos",
      "photoUrl": "https://lh3.googleusercontent.com/a-/AOh14Gj58rX31OVqoCy41duHsoMyAFVv9Ammc6u2HhU3=s64",
      "userId": "13696541032900097213"
     },
     "user_tz": 240
    },
    "id": "kOVPoJkGPDgD",
    "outputId": "67890b61-099e-4f50-f959-39cf6080e104"
   },
   "outputs": [
    {
     "name": "stdout",
     "output_type": "stream",
     "text": [
      "Age: gj\n",
      "None\n"
     ]
    }
   ],
   "source": [
    "age_string = input(\"Age: \")\n",
    "age = int(age_string) if age_string.isnumeric() else None\n",
    "print(age)"
   ]
  },
  {
   "cell_type": "code",
   "execution_count": 2,
   "metadata": {
    "colab": {
     "base_uri": "https://localhost:8080/",
     "height": 51
    },
    "executionInfo": {
     "elapsed": 1808,
     "status": "ok",
     "timestamp": 1603117666217,
     "user": {
      "displayName": "Christian Darabos",
      "photoUrl": "https://lh3.googleusercontent.com/a-/AOh14Gj58rX31OVqoCy41duHsoMyAFVv9Ammc6u2HhU3=s64",
      "userId": "13696541032900097213"
     },
     "user_tz": 240
    },
    "id": "pxid7pS5QHQW",
    "outputId": "987eaa71-5cc4-45af-ae55-92aab684d8ce"
   },
   "outputs": [
    {
     "name": "stdout",
     "output_type": "stream",
     "text": [
      "Hourly wage or enter for min. wage:3\n",
      "Hourly wage: $7.25\n"
     ]
    }
   ],
   "source": [
    "min_wage = 7.25\n",
    "hourly_wage = input(\"Hourly wage or enter for min. wage:\")\n",
    "hwage = float(hourly_wage) if len(hourly_wage)>=min_wage else min_wage\n",
    "print(f'Hourly wage: ${hwage}')"
   ]
  },
  {
   "cell_type": "markdown",
   "metadata": {
    "id": "Pzgi0W6mNYy_"
   },
   "source": [
    "# Loops\n",
    "\n",
    "Let's use an example from one of our previous weeks where we defined a list of tuples representing films in a film library.\n",
    "```\n",
    "movies = [\n",
    "\t(\n",
    "\t\t\"Eternal Sunshine of the Spotless Mind\",\n",
    "\t\t\"Michel Gondry\",\n",
    "\t\t2004\n",
    "\t),\n",
    "\t(\n",
    "\t\t\"Memento\",\n",
    "\t\t\"Christopher Nolan\",\n",
    "\t\t2000\n",
    "\t),\n",
    "\t(\n",
    "\t\t\"Requiem for a Dream\",\n",
    "\t\t\"Darren Aronofsky\",\n",
    "\t\t2000\n",
    "\t)\n",
    "]\n",
    "```\n",
    "Here we have a list called `movies`, which contains a number of tuples. These tuples contain data in a set order: the first element in each tuple is the film title; the second element is the film's director; and the final element is the year of release.\n",
    "\n",
    "To print out the contents of this movie list is a repeptitive process where most thing are the same, except for the `movies` list indicies:\n",
    "```\n",
    "movie = movies[0]\n",
    "print(f\"{movie[0]} ({movie[2]}), by {movie[1]}\")\n",
    "\n",
    "movie = movies[1]\n",
    "print(f\"{movie[0]} ({movie[2]}), by {movie[1]}\")\n",
    "\n",
    "movie = movies[2]\n",
    "print(f\"{movie[0]} ({movie[2]}), by {movie[1]}\")\n",
    "```\n",
    "Output:\n",
    "```\n",
    "Eternal Sunshine of the Spotless Mind (2004), by Michel Gondry\n",
    "Memento (2000), by Christopher Nolan\n",
    "Requiem for a Dream (2000), by Darren Aronofsky\n",
    "```\n",
    "More succinctly: \n",
    "```\n",
    "print(f\"{movies[0][0]} ({movies[0][2]}), by {movies[0][1]}\")\n",
    "print(f\"{movies[1][0]} ({movies[1][2]}), by {movies[1][1]}\")\n",
    "print(f\"{movies[2][0]} ({movies[2][2]}), by {movies[2][1]}\")\n",
    "```\n",
    "This solution has a **lot of duplicate code**, which makes this program hard to maintain. Imagine if we wanted to change the output from this:\n",
    "```\n",
    "Eternal Sunshine of the Spotless Mind (2004), by Michel Gondry\n",
    "```\n",
    "To this:\n",
    "```\n",
    "Eternal Sunshine of the Spotless Mind (2004) - Michel Gondry\n",
    "```\n",
    "This requires change in 3 different places. Even with this small number of movies, it is quite easy to miss one, or to make a small mistake in the formatting, which could lead to unintended differences in the output from movie to movie.\n",
    "\n",
    "Attempting to scale this up to more entries (10 movies? 1000 movies) becomes completely impractical to both write in the first place and maintain.\n",
    "\n",
    "Finally, this code is really brittle. It does not  account for any changes to the movies list, and the number of movies must be defined beforehand, so that the appropriate number of print calls can be made.\n",
    "\n",
    "Because this kind of code duplication presents such major challenges, modern programming languages give us a lot of tools to remove this kind of duplication. In this particular case, the tool we want is a for loop."
   ]
  },
  {
   "cell_type": "markdown",
   "metadata": {
    "id": "Vhev7_HOb_um"
   },
   "source": [
    "# The `FOR` Loop\n",
    "\n",
    "Loops allow to run a block of code multiple number of times. In Python, the basic form of loop is a for loop which can loop over an _iterable_.\n",
    "```\n",
    "for item in 'Python': # String is iterable\n",
    "  print(item) # prints all characters of the string\n",
    "\n",
    "for item in [1,2,3,4,5]: # List is iterable\n",
    "    print(item) # prints all numbers one at a time\n",
    "\n",
    "for item in {1,2,3,4,5}: # Set is iterable\n",
    "    print(item)\n",
    "\n",
    "for item in (1,2,3,4,5): # Tuple is iterable\n",
    "    print(item)\n",
    "```\n",
    "A `for` loop is a means of performing some set of operations **for each item in a collection**, or more generally, an **iterable**. In a informal way, an iterable is an object capable of giving us values one at a time.\n",
    "\n",
    "In the case of our movie library example, a `for` loop is going to iterate through the list and provide items from the movies list one at a time, and perform an action (or series of actions) for each movie. In this case, that action is printing the movie in some particular format.\n",
    "```\n",
    "movies = [\n",
    "\t(\n",
    "\t\t\"Eternal Sunshine of the Spotless Mind\",\n",
    "\t\t\"Michel Gondry\",\n",
    "\t\t2004\n",
    "\t),\n",
    "\t(\n",
    "\t\t\"Memento\",\n",
    "\t\t\"Christopher Nolan\",\n",
    "\t\t2000\n",
    "\t),\n",
    "\t(\n",
    "\t\t\"Requiem for a Dream\",\n",
    "\t\t\"Darren Aronofsky\",\n",
    "\t\t2000\n",
    "\t)\n",
    "]\n",
    "\n",
    "for movie in movies:\n",
    "\t  print(f\"{movie[0]} ({movie[2]}), by {movie[1]}\")\n",
    "```\n",
    "In this example, the movies list could have 10,000 movies in it and all could be printed with just two lines of code.\n",
    "\n"
   ]
  },
  {
   "cell_type": "markdown",
   "metadata": {
    "id": "1CRvbeOOc_x7"
   },
   "source": [
    "### Defining a `for` loop\n",
    "The loop definition starts with the `for` keyword. This keyword is what tells Python that we want to define a `for` loop.\n",
    "\n",
    "Directly after this comes a new variable name.\n",
    "\n",
    "Next comes the `in` keyword, followed by the `iterable` containing the values/items to loop over. This whole line is capped off with a **colon**.\n",
    "\n",
    "After the colon comes the (indented) block of code to run for each item in the iterable. Just like with conditional statements, this indentation is important, as it indicates what code is associated with the `for` loop. This indented block is sometimes referred to as the **body of the loop**.\n",
    "\n",
    "The *new variable* we define as part of the loop is going to allow refering to a given element in our iterable. \n",
    "\n",
    "The `for` loop runs as follows:\n",
    "1. if the iterable yiels nothing:\n",
    "  - the iterable is \"empty\" (eg. empty list) OR \n",
    "  - the last item has been yielded \n",
    "\n",
    "  then the loop is excited and the body is skipped;\n",
    "2. otherwise, the iterable object yields the next element it contains (eg. next element in the list). That item is assigned to the _new variable_ name defined after the keyword `for`;\n",
    "3. the body of the loop is exectued (all indented commands)\n",
    "4. go back to 1.\n",
    "\n",
    "In the \"movies\" example, during the first iteration (cycle) of the loop, the first item from the `movies` list, which is this tuple:\n",
    "```\n",
    "(\n",
    "\t\"Eternal Sunshine of the Spotless Mind\",\n",
    "\t\"Michel Gondry\",\n",
    "\t2004\n",
    ")\n",
    "```\n",
    "This tuple is assigned to `movie` (singular!), and then the code in the loop body is run. \n",
    "```\n",
    "print(f\"{movie[0]} ({movie[2]}), by {movie[1]}\")\n",
    "```\n",
    "Using the `movie` variable, which is assigned  the first tuple in the `movies` list (ie. `movie = movies[0]`). So on this first iteration of the loop, `movie[0]` (ie. `movies[0][0]`) is the string, \"Eternal Sunshine of the Spotless Mind\"; `movie[1]` (ie. `movies[0][1]`) is the string, \"Michel Gondry\"; and `movie[2]` (ie. `movies[0][2]`) is the integer: 2004.\n",
    "\n",
    "When the loop body is executed in its entirety, the iterable *tries* to assign the next item to the `movie` variable. Since we still have movies in the list, Python gives us the next tuple:\n",
    "```\n",
    "(\n",
    "\t\"Memento\",\n",
    "\t\"Christopher Nolan\",\n",
    "\t2000\n",
    ")\n",
    "```\n",
    "This new tuple is assigned to `movie`, replacing the old value, and the loop body runs once again.\n",
    "\n",
    "This happens again and again until all items in `movies` were assigned to `movie` one by one.\n",
    "\n",
    "An important thing to keep in mind is that the name, `movie`, is *not important* from a functionality perspective. Python isn't making the connection between the names `movie` and `movies`. Therefore, any variable name would work the same way:\n",
    "```\n",
    "for m in movies:\n",
    "\tprint(f\"{m[0]} ({m[2]}), by {m[1]}\")\n",
    "\n",
    "for film in movies:\n",
    "\tprint(f\"{film[0]} ({film[2]}), by {film[1]}\")\n",
    "\n",
    "for movie_details in movies:\n",
    "\tprint(f\"{movie_details[0]} ({movie_details[2]}), by {movie_details[1]}\")\n",
    "  ```\n",
    "\n",
    "However, it is good practice to make sure the variable name accurately describethe data it will contain.\n",
    "\n",
    "In the example above, each tuple represents information about a single movie, so a name like `movie` is very appropriate and descriptive. A name like `x` would work equally well but would not be as descriptive, and it can make the code harder to reason about, especially in more complex loops."
   ]
  },
  {
   "cell_type": "markdown",
   "metadata": {
    "id": "XZvif8rPGNZ1"
   },
   "source": [
    "## Iterable\n",
    "An iterable is a object that contains a countable number of value iterated. It means the items of the collection can be processed one by one. Lists, strings, tuples, sets and dictionaries are all iterables. The action that is performed on an iterable is iteration.\n",
    "\n",
    "More technically:\n",
    "- an iterable is an instance (object) of a class that implements the _magic method_ `__iter__()`\n",
    "- the `iter` magic method returns an instance of an `iterator` object that `for` can iterate over\n",
    "- the `iter` magic method is called _implicitly_ when used in a `for` statement (ie. no need to call it explicitly)"
   ]
  },
  {
   "cell_type": "code",
   "execution_count": 1,
   "metadata": {
    "colab": {
     "base_uri": "https://localhost:8080/",
     "height": 281
    },
    "executionInfo": {
     "elapsed": 753,
     "status": "ok",
     "timestamp": 1603279264450,
     "user": {
      "displayName": "Christian Darabos",
      "photoUrl": "https://lh3.googleusercontent.com/a-/AOh14Gj58rX31OVqoCy41duHsoMyAFVv9Ammc6u2HhU3=s64",
      "userId": "13696541032900097213"
     },
     "user_tz": 240
    },
    "id": "dS0gIxLzGmDE",
    "outputId": "26644a1c-f8e7-478d-9472-05e59508d955"
   },
   "outputs": [
    {
     "name": "stdout",
     "output_type": "stream",
     "text": [
      "firstname\n",
      "lastname\n",
      "role\n",
      "firstname\n",
      "lastname\n",
      "role\n",
      "Virat\n",
      "Kohli\n",
      "captain\n",
      "('firstname', 'Virat')\n",
      "('lastname', 'Kohli')\n",
      "('role', 'captain')\n",
      "firstname Virat\n",
      "lastname Kohli\n",
      "role captain\n"
     ]
    }
   ],
   "source": [
    "player = {\n",
    "  'firstname': 'Virat',\n",
    "  'lastname': 'Kohli',\n",
    "  'role': 'captain'\n",
    "}\n",
    "\n",
    "for attribute in player: # iterates over the keys of player\n",
    "  print(attribute) # prints all keys\n",
    "\n",
    "for attribute in player.keys(): \n",
    "  print(attribute) # prints all keys\n",
    "\n",
    "for value in player.values():\n",
    "  print(value) # prints all values\n",
    "\n",
    "for item in player.items(): \n",
    "  print(item) # prints key and value as tuple\n",
    "\n",
    "for key, value in player.items(): # <------------ UNPACKING !!!!!\n",
    "  print(key, value) # prints key and value using unpacking"
   ]
  },
  {
   "cell_type": "markdown",
   "metadata": {
    "id": "1sP9xgYyG0k3"
   },
   "source": [
    "**NOTE** the use of unpacking in a `for` loop when dealing with tuples"
   ]
  },
  {
   "cell_type": "markdown",
   "metadata": {
    "id": "9ZPRk_YeHDn0"
   },
   "source": [
    "## The break statement\n",
    "Sometimes it is desirable not to iterate over an entire collection, or to stop looping under certain circumstances (ie. condition). In these cases, a statement called `break` is used.\n",
    "\n",
    "`break` is usually used in *conjunction with a conditional statement*, because otherwise it's going to run during the first iteration of the loop, which renders the loop basically moot.\n",
    "\n",
    "One common use of a `break` statement is to **prevent unnecessary operations**. For example, a loop can be stopped when a value in an iterable has been found.\n",
    "```\n",
    "movies = [\n",
    "\t(\n",
    "\t\t\"Eternal Sunshine of the Spotless Mind\",\n",
    "\t\t\"Michel Gondry\",\n",
    "\t\t2004\n",
    "\t),\n",
    "\t(\n",
    "\t\t\"Memento\",\n",
    "\t\t\"Christopher Nolan\",\n",
    "\t\t2000\n",
    "\t),\n",
    "\t(\n",
    "\t\t\"Requiem for a Dream\",\n",
    "\t\t\"Darren Aronofsky\",\n",
    "\t\t2000\n",
    "\t)\n",
    "]\n",
    "\n",
    "for movie in movies:\n",
    "\t  # Check the title of the current movie is Memento\n",
    "\t  if movie[0] == \"Memento\":\n",
    "\t\t    # If the title is Memento, inform the user that the movie exists and break the loop\n",
    "\t\t    print(\"Memento is in the movie library!\")\n",
    "\t\t    break\n",
    "```\n",
    "This is basically a _search algorithm_ that stops the loop as soon as the searched element is found in the collection/iterable. Once found, there is no need to keep searching/comparing.\n",
    "In the examlpe above, if there were 10,000 movies, we just potentially saved checking 9,999 movies.\n",
    "\n",
    "Remember that in order to include the `if` statement inside the `for` loop, it needs to be indented with 4 spaces (or 1 tab). Therefore, the body of the if statement needs to be indented with 8 spaces (or 2 tabs) to be both inside the loop and the if statement.\n",
    "\n"
   ]
  },
  {
   "cell_type": "markdown",
   "metadata": {
    "id": "NDcImzRdOFrn"
   },
   "source": [
    "## `range` in `for` loops\n",
    "One thing `range` is really useful for is **running a loop a set number of times**.\n",
    "\n",
    "Generate a range using an _upper bound_ like `range(10)`, this range is capable of providing a list of ten numbers. Iterating over this collection, `range` is going to give these numbers one at a time, assigning them to a variable.\n",
    "```\n",
    "for number in range(10):\n",
    "    print(number)\n",
    "\n",
    "# 0\n",
    "# 1\n",
    "# 2\n",
    "# ...\n",
    "# 9\n",
    "```\n",
    "Even the numbers range generated are **not used** (ie. `number` variable in not used in the body of the loop), there is going to be ten iterations of the loop.\n",
    "\n",
    "Print a given string ten times:\n",
    "```\n",
    "for number in range(10):\n",
    "\tprint(\"Hello!\")\n",
    "```\n",
    "Output:\n",
    "```\n",
    "Hello!\n",
    "Hello!\n",
    "Hello!\n",
    "Hello!\n",
    "Hello!\n",
    "Hello!\n",
    "Hello!\n",
    "Hello!\n",
    "Hello!\n",
    "Hello!\n",
    "```\n",
    "When writing a loop like this, where the number generated is not being used, it is common convention to name the loop variable: `_`. This is a clear signal to readers of our code that the loop variable doesn't feature in our loop body.\n",
    "\n",
    "##### Style note\n",
    "Sometimes you're going to encounter loops with `_` as the loop variable. This is perfectly legal, because `_` is a valid variable name, and Python therefore won't complain.\n",
    "\n",
    "While this is legal, please don't use `_` in place of good descriptive names. It serves a specific purpose, which is to indicate to readers that the loop variable is not actually being used in the loop body.\n",
    "\n",
    "A good time to use `_` as a loop variable is in situations like this:\n",
    "```\n",
    "for _ in range(10):\n",
    "\tprint(\"Hello!\")\n",
    "```\n",
    "Using the range only to ensure a certain number of iterations, never refering to the numbers that range is generating. This is good practice, and very helpful to readers accustomed to this naming convention.\n",
    "\n",
    "Never use `_` in a loop like the one below, even though it would work:\n",
    "```\n",
    "for _ in range(10):\n",
    "\tprint(_)\n",
    "```\n",
    "Referencing `_` inside the loop body is throwing away the opportunity to use good, descriptive names."
   ]
  },
  {
   "cell_type": "markdown",
   "metadata": {
    "id": "wXo2IeVHQXzE"
   },
   "source": [
    "## `enumerate` in `for` loops\n",
    "`enumerate()` a function that turns any collection into an instance of an `enumerate` object. `enumerate` objects can be iterated over and each element/item can be unpacked in an index (or key, starting at 0) and a value . It is useful when we need the index of the iterator while looping.\n"
   ]
  },
  {
   "cell_type": "code",
   "execution_count": null,
   "metadata": {
    "colab": {
     "base_uri": "https://localhost:8080/",
     "height": 377
    },
    "executionInfo": {
     "elapsed": 349,
     "status": "ok",
     "timestamp": 1603134800887,
     "user": {
      "displayName": "Christian Darabos",
      "photoUrl": "https://lh3.googleusercontent.com/a-/AOh14Gj58rX31OVqoCy41duHsoMyAFVv9Ammc6u2HhU3=s64",
      "userId": "13696541032900097213"
     },
     "user_tz": 240
    },
    "id": "unyh44cNRGf8",
    "outputId": "bfb5ee79-a4cc-4817-e70d-639176d541c7"
   },
   "outputs": [
    {
     "name": "stdout",
     "output_type": "stream",
     "text": [
      "key is 0 and value is -10\n",
      "key is 1 and value is -9\n",
      "key is 2 and value is -8\n",
      "key is 3 and value is -7\n",
      "key is 4 and value is -6\n",
      "key is 5 and value is -5\n",
      "key is 6 and value is -4\n",
      "key is 7 and value is -3\n",
      "key is 8 and value is -2\n",
      "key is 9 and value is -1\n",
      "key is 10 and value is 0\n",
      "key is 11 and value is 1\n",
      "key is 12 and value is 2\n",
      "key is 13 and value is 3\n",
      "key is 14 and value is 4\n",
      "key is 15 and value is 5\n",
      "key is 16 and value is 6\n",
      "key is 17 and value is 7\n",
      "key is 18 and value is 8\n",
      "key is 19 and value is 9\n",
      "key is 20 and value is 10\n"
     ]
    }
   ],
   "source": [
    "for key, value in enumerate(range(-10,11)): # using unpacking techique \n",
    "  print(f'key is {key} and value is {value}') # prints key and value at the same time"
   ]
  },
  {
   "cell_type": "markdown",
   "metadata": {
    "id": "Hc1yPoCzYepx"
   },
   "source": [
    "## `for` short form - list/dict comprehension\n",
    "We have seen a short form of the `for` loop when applied to collections: comprehension. It applies the same command to each element in a collection **in place** (ie. replaces the existing element). In the example below, a multi-line for loop is shortened into a single-line list comprehension:"
   ]
  },
  {
   "cell_type": "code",
   "execution_count": null,
   "metadata": {
    "colab": {
     "base_uri": "https://localhost:8080/",
     "height": 54
    },
    "executionInfo": {
     "elapsed": 332,
     "status": "ok",
     "timestamp": 1603137082283,
     "user": {
      "displayName": "Christian Darabos",
      "photoUrl": "https://lh3.googleusercontent.com/a-/AOh14Gj58rX31OVqoCy41duHsoMyAFVv9Ammc6u2HhU3=s64",
      "userId": "13696541032900097213"
     },
     "user_tz": 240
    },
    "id": "sR38TTbsRTrU",
    "outputId": "5a3608a0-7a06-4e32-e6d7-689938f15c64"
   },
   "outputs": [
    {
     "name": "stdout",
     "output_type": "stream",
     "text": [
      "[0, 2, 4, 6, 8, 10, 12, 14, 16, 18, 20, 22, 24, 26, 28, 30, 32, 34, 36, 38, 40, 42, 44, 46, 48, 50, 52, 54, 56, 58, 60, 62, 64, 66, 68, 70, 72, 74, 76, 78, 80, 82, 84, 86, 88, 90, 92, 94, 96, 98, 100, 102, 104, 106, 108, 110, 112, 114, 116, 118, 120, 122, 124, 126, 128, 130, 132, 134, 136, 138, 140, 142, 144, 146, 148, 150, 152, 154, 156, 158, 160, 162, 164, 166, 168, 170, 172, 174, 176, 178, 180, 182, 184, 186, 188, 190, 192, 194, 196, 198]\n"
     ]
    }
   ],
   "source": [
    "numbers = list(range(100))\n",
    "\n",
    "for i,n in enumerate(numbers):\n",
    "  numbers[i]=(n*2) ## dangerous operation to replace items in a collection while working on it\n",
    "print(numbers)"
   ]
  },
  {
   "cell_type": "markdown",
   "metadata": {
    "id": "iYeNbeaqazCo"
   },
   "source": [
    "becomes:"
   ]
  },
  {
   "cell_type": "code",
   "execution_count": null,
   "metadata": {
    "colab": {
     "base_uri": "https://localhost:8080/",
     "height": 54
    },
    "executionInfo": {
     "elapsed": 302,
     "status": "ok",
     "timestamp": 1603137166437,
     "user": {
      "displayName": "Christian Darabos",
      "photoUrl": "https://lh3.googleusercontent.com/a-/AOh14Gj58rX31OVqoCy41duHsoMyAFVv9Ammc6u2HhU3=s64",
      "userId": "13696541032900097213"
     },
     "user_tz": 240
    },
    "id": "pqb30g5RZ6ll",
    "outputId": "1bb52faa-b0a0-4062-bb91-272c8505cd8c"
   },
   "outputs": [
    {
     "name": "stdout",
     "output_type": "stream",
     "text": [
      "[0, 2, 4, 6, 8, 10, 12, 14, 16, 18, 20, 22, 24, 26, 28, 30, 32, 34, 36, 38, 40, 42, 44, 46, 48, 50, 52, 54, 56, 58, 60, 62, 64, 66, 68, 70, 72, 74, 76, 78, 80, 82, 84, 86, 88, 90, 92, 94, 96, 98, 100, 102, 104, 106, 108, 110, 112, 114, 116, 118, 120, 122, 124, 126, 128, 130, 132, 134, 136, 138, 140, 142, 144, 146, 148, 150, 152, 154, 156, 158, 160, 162, 164, 166, 168, 170, 172, 174, 176, 178, 180, 182, 184, 186, 188, 190, 192, 194, 196, 198]\n"
     ]
    }
   ],
   "source": [
    "numbers = list(range(100))\n",
    "\n",
    "numbers = [n*2 for n in numbers] # safer, shorter, more elegant = LIST COMPREHENSION!\n",
    "print(numbers)"
   ]
  },
  {
   "cell_type": "markdown",
   "metadata": {
    "id": "Pn3d-60sbG20"
   },
   "source": [
    "Read more about [list comprehensions](https://blog.teamtreehouse.com/python-single-line-loops)"
   ]
  },
  {
   "cell_type": "markdown",
   "metadata": {
    "id": "LJgX7X7noHUb"
   },
   "source": [
    "### Dictionary comprehension\n",
    "\n",
    "Dictionary comprehension is a technique for transforming one dictionary into another dictionary. During this transformation, items within the original dictionary can be conditionally included in the new dictionary and each item can be transformed as needed.\n",
    "\n",
    "The way to do dictionary comprehension in Python is to be able to access the `key` objects and the `value` objects of a `dict`.\n",
    "\n",
    "```\n",
    "dict1 = {'a': 1, 'b': 2, 'c': 3, 'd': 4}\n",
    "# Put all keys of `dict1` in a list and returns the list\n",
    "dict1.keys()\n",
    "dict_keys(['c', 'd', 'a', 'b'])\n",
    "# Put all values saved in `dict1` in a list and returns the list\n",
    "dict1.values()\n",
    "dict_values([3, 4, 1, 2])\n",
    "```\n",
    "Similarly, one can access each `key-value` pair within a dictionary using the `items()` method:\n",
    "```\n",
    "dict1.items()\n",
    "dict_items([('c', 3), ('d', 4), ('a', 1), ('b', 2)])\n",
    "```\n",
    "The general template to follow for dictionary comprehension. Note that dictionary comprehension uses curly braces `{}`, rather than `[]` in other collections:\n",
    "```\n",
    "dict_variable = {key:value for (key,value) in dictonary.items()}\n",
    "```\n",
    "Simple dictionary comprehension:\n",
    "```\n",
    "dict1 = {'a': 1, 'b': 2, 'c': 3, 'd': 4, 'e': 5}\n",
    "# Double each value in the dictionary\n",
    "double_dict1 = {k:v*2 for (k,v) in dict1.items()}\n",
    "print(double_dict1)\n",
    "{'e': 10, 'a': 2, 'c': 6, 'b': 4, 'd': 8}\n",
    "```\n",
    "In the comprehension code above, a new dictionary `double_dict1` is created from a dictionary `dict1` by  doubling each `value` in it and leaving the keys intact.\n",
    "\n",
    "But the key values can also be modified in a dictionary comprehension. For example, one can create the same dictionary as above but also change the names of the key.\n",
    "```\n",
    "dict1_keys = {k*2:v for (k,v) in dict1.items()}\n",
    "print(dict1_keys)\n",
    "{'dd': 4, 'ee': 5, 'aa': 1, 'bb': 2, 'cc': 3}\n",
    "```\n",
    "This only works because we are creating a new dictionary, as dictionaries keys are immutable.\n",
    "\n",
    "Read more about [dictionary comprehension](https://www.datacamp.com/community/tutorials/python-dictionary-comprehension#pdc)"
   ]
  },
  {
   "cell_type": "markdown",
   "metadata": {
    "id": "eMlF04ZPbQFH"
   },
   "source": [
    "# `while` loop\n",
    "`for` loops are great for two kinds of repeated actions:\n",
    "\n",
    "1. do something for each item in an iterable\n",
    "1. do something a set number of times\n",
    "\n",
    "Other kinds of repetition might need to be repeated an number of times that is unknow at the onset of the loop. For example, perform an action as many times as needed until some condition is met? Or perform some action over and over again forever?\n",
    "\n",
    "For this kind of repeated action, use a `while` loop.\n",
    "\n",
    "A `while` loop uses the `while` keyword, followed by some condition to test, like in an `if...else...` statement. If the condition evaluates to a truthy value, the loop will run one iteration (ie. the body of the loop will run once), and then it will test the condition again.\n",
    "\n",
    "For example, here's a `while` loop which is going to run until the user enters a value of 10 or higher.\n",
    "```\n",
    "user_number = input(\"Please enter a number: \")\n",
    "\n",
    "while int(user_number) < 10:\n",
    "\tprint(\"Your number was less than 10.\")\n",
    "\tuser_number = input(\"Please select another number: \")\n",
    "\n",
    "print(\"Your number was at least 10.\")\n",
    "```\n",
    "First gather an initial number from outside of the loop. This is necessary, because the name `user_number` is used as part of the `while` loop condition.\n",
    "\n",
    "Once a user enters a number, the `while` loop begins with the condition check. If the condition is met (ie. evaluates to True), run the loop body once. In the case above, the loop body is going to run if the user enters 9 or less.\n",
    "\n",
    "If inside the loop body, the message about the number being less than 10 will be printed, and then the user is asked for another number. \n",
    "\n",
    "**Note**: This new value is assigend to `user_number`, which means that when the condition again is evaluated again, it is now testing a new value. If this variable was named something else inside the loop, the condition would keep checking the original value over and over again, and nothing is going to change another variable is being updated. This would result in an infinite loop.\n",
    "\n",
    "In a `while` loop where the condition is set to check a variable's value, make sure that to change the value within the loop."
   ]
  },
  {
   "cell_type": "markdown",
   "metadata": {
    "id": "g9PIcudkiU8M"
   },
   "source": [
    "## `break` a `while` loop\n",
    "Just like in a `for` loop, a `break` statement can be used to to stop the exectution of a loop and continue the code below the loop body. `break` statements are common in Python's `while` loop, as there is no concept of a `do...while` loop. Breaks can be combine with _infinite loops_ (ie. `while` loops with a condition that always evaluates to `True`)"
   ]
  },
  {
   "cell_type": "code",
   "execution_count": null,
   "metadata": {
    "id": "cBAsUbQA9FVp"
   },
   "outputs": [],
   "source": [
    "import random\n",
    "print(\"Play until you lose...\")\n",
    "\n",
    "toss=random.choice(['win','lose'])\n",
    "print(f'you {toss}')\n",
    "\n",
    "while toss=='win':\n",
    "  toss=random.choice(['win','lose'])\n",
    "  print(f'you {toss}')\n",
    "  "
   ]
  },
  {
   "cell_type": "code",
   "execution_count": null,
   "metadata": {
    "colab": {
     "base_uri": "https://localhost:8080/",
     "height": 103
    },
    "executionInfo": {
     "elapsed": 456,
     "status": "ok",
     "timestamp": 1603139820019,
     "user": {
      "displayName": "Christian Darabos",
      "photoUrl": "https://lh3.googleusercontent.com/a-/AOh14Gj58rX31OVqoCy41duHsoMyAFVv9Ammc6u2HhU3=s64",
      "userId": "13696541032900097213"
     },
     "user_tz": 240
    },
    "id": "9242zT8EjRZr",
    "outputId": "be4165e4-ceef-4d6c-f6a4-5d280552908b"
   },
   "outputs": [
    {
     "name": "stdout",
     "output_type": "stream",
     "text": [
      "Play until you lose...\n",
      "you win\n",
      "you win\n",
      "you win\n",
      "you lose\n"
     ]
    }
   ],
   "source": [
    "import random\n",
    "print(\"Play until you lose...\")\n",
    "\n",
    "while True:\n",
    "  toss=random.choice(['win','lose'])\n",
    "  print(f'you {toss}')\n",
    "  if toss=='lose':\n",
    "    break"
   ]
  },
  {
   "cell_type": "markdown",
   "metadata": {
    "id": "Qpms7UNbjSAF"
   },
   "source": [
    "### No `do...while` loop in Python\n",
    "In a `while` loop, the condition is evaluated **before** the body is exectued. Sometimes, it is necessary to run the loop at least once, that's what a `do...while` loop does. The condition is evaluated after the body of the loop runs. Simulating a `do...while` loop in Python can have the advantage of not having to \"collect data\" before loop (eg. \"user number\" example above), but rather to run the loop body at least once to collect the data (eg. \"win/lose\" example above).\n",
    "In the \"win/lose\" example above, the loop is a de-facto `do...while` loop, where the body is at least exectued once (because of the condition always evaluating to `True'), and the **termination condition** is evaluated **at the end** of the loop body."
   ]
  },
  {
   "cell_type": "markdown",
   "metadata": {
    "id": "XcIP--P90N5D"
   },
   "source": [
    "##Infinite loops\n",
    "Much like with conditional statements, no need to use comparisons operators for our loop condition: specify a value instead, and the truthiness of this value is then going to determine whether or not the loop runs the next iteration.\n",
    "\n",
    "Any expression can be used, because all expressions are going to evaluate to some value, and that value will have truth value. Use function calls, or arithmetic operations, or refer to variables.\n",
    "\n",
    "For an infinite loop, we want to write an expression which is always going to be evaluate to a truthy value. A good example is the Boolean value, `True`, which is always going to evaluate to `True` if its truth value is tested.\n",
    "```\n",
    "while True:\n",
    "\tprint(\"Hello there!\")\n",
    "```\n",
    "Python is going to very quickly run many iterations of this loop, and print a constant stream of \"Hello there!\" printed to the console.\n",
    "\n",
    "Infinite loops a way stopping them, and this is most often accomplished with some kind of conditional statement in combination with `break`.\n",
    "\n",
    "In this example, the user can select an option, and one of these options is going to close the menu. That option is going to be the string \"q\".\n",
    "```\n",
    "while True:\n",
    "\tselected_option = input(\"Please enter 'a', 'b', or 'c', or enter 'q' to quit: \")\n",
    "\t\n",
    "\tif selected_option == \"a\":\n",
    "\t\tprint(\"You selected option 'a'!\")\n",
    "\telif selected_option == \"b\":\n",
    "\t\tprint(\"You selected option 'b'!\")\n",
    "\telif selected_option == \"c\":\n",
    "\t\tprint(\"You selected option 'c'!\")\n",
    "\telif selected_option == \"q\":\n",
    "\t\tprint(\"You selected option 'q'! Quitting the menu!\")\n",
    "\t\tbreak\n",
    "\telse:\n",
    "\t\tprint(\"You selected an invalid option.\")\n",
    "```\n",
    "Instead of simply printing the user's selection, each of these branches could perform some actions on behalf of the user, and then when it is done, prompt the user for another option.\n",
    "\n",
    "Note: \n",
    "> Unlike other programming/scripting languages, Python does not have a `switch` statement.\n",
    "\n",
    "If the user enters an invalid option, we catch all of these cases with an else clause, and inform the user of their mistake.\n",
    "\n",
    "If the user enters \"q\", the user is informed that they are quitting the menu, and then we use a `break` statement to break out of the loop.\n",
    "\n",
    "Note that for this style of loop, no need to define anything outside of the loop, because  condition that relies does not on some variable (ie. `do...while` loop)\n",
    "\n",
    "####Style note\n",
    "Some people like infinitel loops written like the one below, with 1 as the loop condition:\n",
    "```\n",
    "while 1:\n",
    "\t... some actions here ...\n",
    "```\n",
    "This works, because `1` is a truthy value, just like all non-zero numbers. Or:\n",
    "```\n",
    "while \"llama\":\n",
    "```\n",
    "Both `1` and \"`llama`\" are truthy values, but they're way less explicit than just writing while True. Being explicit, and making our code as easy to read as possible, is more important than saving on writing three characters. Additionally, it is more computationally expensive to use a non-Boolean value, as it need to be evaluated, which takes time."
   ]
  },
  {
   "cell_type": "markdown",
   "metadata": {
    "id": "987dlq3r27so"
   },
   "source": [
    "# The `continue` keyword\n",
    "Similar to the `break` statement, `continue` is another option for **controlling the flow of our loops**. \n",
    "\n",
    "While `break` allows to **exit a loop entirely** and execute the code outside the loop body, `continue` allows to **skip the remainder of the loop body for the current iteration** and evaluate the condition, and possibly execute the body again (if condition evaluates to `False`).\n",
    "\n",
    "For example, this loop only prints even numbers:\n",
    "```\n",
    "for number in range(10):\n",
    "\tif number % 2 != 0:   # only even numbers%2 evaluate to `True`\n",
    "\t\tcontinue\n",
    "\tprint(number)\n",
    "```\n",
    "For each iteration of the loop, the condition uses the modulo operator to determine whether or not the current number is divisible by 2. If it is not (ie. odd number), the rest of the loop body is skipped by the `continue` statement, which immediately moves us onto the next iteration of the loop. This means the remainder of the loop body, and the print is not executed.\n",
    "\n",
    "The output will therefore look like this:\n",
    "```\n",
    "0\n",
    "2\n",
    "4\n",
    "6\n",
    "8\n",
    "```\n",
    "While this example uses a `continue` statement in a `for` loop, they can of course be used with `while` loops.\n",
    "\n",
    "### NOTE:\n",
    "`break` and `continue` statements are a clean way to reduce the length of your code by removing the need for an `else` statement. See the \"odd/even\" number example below that is **not** using a `continue` statement.\n"
   ]
  },
  {
   "cell_type": "code",
   "execution_count": null,
   "metadata": {
    "colab": {
     "base_uri": "https://localhost:8080/",
     "height": 188
    },
    "executionInfo": {
     "elapsed": 328,
     "status": "ok",
     "timestamp": 1603145198397,
     "user": {
      "displayName": "Christian Darabos",
      "photoUrl": "https://lh3.googleusercontent.com/a-/AOh14Gj58rX31OVqoCy41duHsoMyAFVv9Ammc6u2HhU3=s64",
      "userId": "13696541032900097213"
     },
     "user_tz": 240
    },
    "id": "EstavxsI5BNA",
    "outputId": "6c2b3353-b024-446a-a892-509c3f63fac1"
   },
   "outputs": [
    {
     "name": "stdout",
     "output_type": "stream",
     "text": [
      "0\n",
      "2\n",
      "4\n",
      "6\n",
      "8\n",
      "0\n",
      "2\n",
      "4\n",
      "6\n",
      "8\n"
     ]
    }
   ],
   "source": [
    "for number in range(10):\n",
    "  if number % 2 != 0:   # only even numbers%2 evaluate to `True`\n",
    "    pass\n",
    "  else:\n",
    "    print(number)\n",
    "   \n",
    "## OR \n",
    "\n",
    "for number in range(10):\n",
    "\tif number % 2 == 0:   # only even numbers%2 evaluate to `True`\n",
    "\t\tprint(number)"
   ]
  },
  {
   "cell_type": "markdown",
   "metadata": {
    "id": "bWFvUXhN548L"
   },
   "source": [
    "#Using an else clause with loops\n",
    "\n",
    "The `else` clause in the context of loops is not as intuitive as it is with an `if` statement. It is worth thinking about `else` as a \"no break\" clause when we use it with loops.\n",
    "\n",
    "An `else` clause attached to a loop **will only run** if a **no break statement** was encountered during the execution of that loop.\n",
    "\n",
    "For example, here's a loop to determine whether or not a number is prime. A prime number is a number divisible only by itself and 1. For example, 2, 3, 5, 7, 11, and 13 are prime numbers.\n",
    "\n",
    "One way we can determine whether or not something is prime is by dividing it by every number which comes before it. If none of these divisions produce an integer result, the number is prime.\n",
    "\n",
    "If a division which produces an integer result is found, the number isn't prime, no need to check any further using a `break` statement in the loop.\n",
    "\n",
    "If a `break` is encountered, the number is not prime. Therefore, if the loop is completed (ie. no `break` is encountered)the number is prime. These are also the **conditions for triggering an `else` clause*** in the loop.\n",
    "```\n",
    "# Get a number to test from the user\n",
    "dividend = int(input(\"Please enter a number: \"))\n",
    "\n",
    "# Grab numbers one at a time from the range sequence\n",
    "for divisor in range(2, dividend):\n",
    "\t# If user's number is divisible by the curent divisor, break the loop\n",
    "\tif dividend % divisor == 0:\n",
    "\t\tprint(f\"{dividend} is not prime!\")\n",
    "\t\tbreak\n",
    "else:\n",
    "\t# This line only runs if no divisors produced integer results\n",
    "\tprint(f\"{dividend} is prime!\")\n",
    "```\n",
    "Similar example with a `while` loop as well:\n",
    "```\n",
    "# Get a number to test from the user, and set the initial divisor to 2\n",
    "dividend = int(input(\"Please enter a number: \"))\n",
    "divisor = 2\n",
    "\n",
    "# Keep looping until the divisor equals the number we're testing\n",
    "while divisor < dividend:\n",
    "\t# If user's number is divisible by the curent divisor, break the loop\n",
    "\tif dividend % divisor == 0:\n",
    "\t\tprint(f\"{dividend} is not prime!\")\n",
    "\t\tbreak\n",
    "\t\t\n",
    "\t# Increment the divisor for the next iteration\n",
    "\tdivisor = divisor + 1\n",
    "else:\n",
    "\t# This line only runs if no divisors produced integer results\n",
    "\tprint(f\"{dividend} is prime!\")\n",
    "```\n",
    "There are more sophisticated ways to find prime numbers, but these serve well enough as demonstrations."
   ]
  },
  {
   "cell_type": "code",
   "execution_count": null,
   "metadata": {},
   "outputs": [],
   "source": []
  }
 ],
 "metadata": {
  "colab": {
   "collapsed_sections": [],
   "name": "QBS101-F20-week06-material.ipynb",
   "provenance": []
  },
  "kernelspec": {
   "display_name": "Python 3",
   "language": "python",
   "name": "python3"
  },
  "language_info": {
   "codemirror_mode": {
    "name": "ipython",
    "version": 3
   },
   "file_extension": ".py",
   "mimetype": "text/x-python",
   "name": "python",
   "nbconvert_exporter": "python",
   "pygments_lexer": "ipython3",
   "version": "3.7.6"
  }
 },
 "nbformat": 4,
 "nbformat_minor": 1
}
