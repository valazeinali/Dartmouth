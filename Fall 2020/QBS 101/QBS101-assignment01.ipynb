{
 "cells": [
  {
   "cell_type": "markdown",
   "metadata": {
    "colab_type": "text",
    "id": "WrXf4YYK4Csg"
   },
   "source": [
    "QBS 101\n",
    "Assignment 1\n",
    "\n",
    "Dartmouth ID: f004qm4\n",
    "\n",
    "Date: 09/20/2020\n"
   ]
  },
  {
   "cell_type": "markdown",
   "metadata": {
    "colab_type": "text",
    "id": "37XIs9KZ4Csi"
   },
   "source": [
    "## Question One "
   ]
  },
  {
   "cell_type": "markdown",
   "metadata": {
    "colab_type": "text",
    "id": "oCyAFxUa4Csk"
   },
   "source": [
    "Practice with $\\LaTeX$ in Python. Recreate the below examples in $\\LaTeX$ format in the subsequent markdown cell. Writing equations with $\\LaTeX$ in Python and R Markdown will be very useful in your QBS classwork.\n",
    "\n",
    "LaTeX Resource(s): \n",
    "\n",
    "* [Learn How to Write Markdown & LaTeX in The Jupyter Notebook](https://towardsdatascience.com/write-markdown-latex-in-the-jupyter-notebook-10985edb91fd)\n",
    "\n",
    "* [$\\LaTeX$ - Mathematical Python$](https://www.math.ubc.ca/~pwalls/math-python/jupyter/latex/)\n",
    "\n"
   ]
  },
  {
   "cell_type": "markdown",
   "metadata": {
    "colab_type": "text",
    "id": "otFjaLrI4Csk"
   },
   "source": [
    "$$\n",
    "x_a\\\\\n",
    "x_{ab}\\\\\n",
    "x^3\\\\\n",
    "\\frac{x}{y} \\\\\n",
    "e^{i\\alpha}\\\\\n",
    "\\sqrt[x]{y}\t\n",
    "$$"
   ]
  },
  {
   "cell_type": "markdown",
   "metadata": {
    "colab_type": "text",
    "id": "pQKa7sHU4Csm"
   },
   "source": [
    "Enter your $\\LaTeX$ code here.\n",
    "\n",
    "$$\n",
    "x_a\\\\\n",
    "x_{ab}\\\\\n",
    "x^3\\\\\n",
    "\\frac{x}{y} \\\\\n",
    "e^{i\\alpha}\\\\\n",
    "\\sqrt[x]{y}\t\n",
    "$$"
   ]
  },
  {
   "cell_type": "markdown",
   "metadata": {
    "colab_type": "text",
    "id": "QgFPyuyP4Cso"
   },
   "source": [
    "## Question Two"
   ]
  },
  {
   "cell_type": "markdown",
   "metadata": {
    "colab_type": "text",
    "id": "62_M6KXM4Csp"
   },
   "source": [
    "Below is code that will check if any user supplied number is prime. Run this, and check to see if your birthday is a prime number."
   ]
  },
  {
   "cell_type": "code",
   "execution_count": 1,
   "metadata": {
    "colab": {
     "base_uri": "https://localhost:8080/",
     "height": 52
    },
    "colab_type": "code",
    "executionInfo": {
     "elapsed": 5678,
     "status": "ok",
     "timestamp": 1600208825877,
     "user": {
      "displayName": "Christian Darabos",
      "photoUrl": "https://lh3.googleusercontent.com/a-/AOh14Gj58rX31OVqoCy41duHsoMyAFVv9Ammc6u2HhU3=s64",
      "userId": "13696541032900097213"
     },
     "user_tz": 240
    },
    "id": "NsTq0A5R4Cst",
    "outputId": "cea77330-a3c4-43e7-e579-f6e536842aed"
   },
   "outputs": [
    {
     "name": "stdout",
     "output_type": "stream",
     "text": [
      "Enter a number: 10\n",
      "10 is not a prime number\n",
      "2 times 5 is 10\n"
     ]
    }
   ],
   "source": [
    "# Program to check if a number is prime or not\n",
    "# Code from https://www.programiz.com/python-programming/examples/prime-number\n",
    "\n",
    "# To take input from the user\n",
    "num = int(input(\"Enter a number: \"))\n",
    "\n",
    "# prime numbers are greater than 1\n",
    "if num > 1:\n",
    "   # check for factors\n",
    "   for i in range(2,num):\n",
    "       if (num % i) == 0:\n",
    "           print(num,\"is not a prime number\")\n",
    "           print(i,\"times\",num//i,\"is\",num)\n",
    "           break\n",
    "   else:\n",
    "       print(num,\"is a prime number\")\n",
    "       \n",
    "# if input number is less than\n",
    "# or equal to 1, it is not prime\n",
    "else:\n",
    "   print(num,\"is not a prime number\")"
   ]
  },
  {
   "cell_type": "markdown",
   "metadata": {
    "colab_type": "text",
    "id": "n0H5jrls4Csz"
   },
   "source": [
    "## Question Three"
   ]
  },
  {
   "cell_type": "markdown",
   "metadata": {
    "colab_type": "text",
    "id": "52xxJewG4Cs0"
   },
   "source": [
    "Save the chunk above as a .py file and drop it into your DartFS. Remote login to either Andes and Polaris and run the file using python3 filename.py. Check the following numbers: 513,717,65537. Attach a screen shot of the output to Canvas."
   ]
  }
 ],
 "metadata": {
  "colab": {
   "collapsed_sections": [],
   "name": "QBS101-assignment01.ipynb",
   "provenance": []
  },
  "kernelspec": {
   "display_name": "Python 3",
   "language": "python",
   "name": "python3"
  },
  "language_info": {
   "codemirror_mode": {
    "name": "ipython",
    "version": 3
   },
   "file_extension": ".py",
   "mimetype": "text/x-python",
   "name": "python",
   "nbconvert_exporter": "python",
   "pygments_lexer": "ipython3",
   "version": "3.7.6"
  },
  "toc": {
   "base_numbering": 1,
   "nav_menu": {},
   "number_sections": true,
   "sideBar": true,
   "skip_h1_title": false,
   "title_cell": "Table of Contents",
   "title_sidebar": "Contents",
   "toc_cell": false,
   "toc_position": {},
   "toc_section_display": true,
   "toc_window_display": false
  },
  "varInspector": {
   "cols": {
    "lenName": 16,
    "lenType": 16,
    "lenVar": 40
   },
   "kernels_config": {
    "python": {
     "delete_cmd_postfix": "",
     "delete_cmd_prefix": "del ",
     "library": "var_list.py",
     "varRefreshCmd": "print(var_dic_list())"
    },
    "r": {
     "delete_cmd_postfix": ") ",
     "delete_cmd_prefix": "rm(",
     "library": "var_list.r",
     "varRefreshCmd": "cat(var_dic_list()) "
    }
   },
   "types_to_exclude": [
    "module",
    "function",
    "builtin_function_or_method",
    "instance",
    "_Feature"
   ],
   "window_display": false
  }
 },
 "nbformat": 4,
 "nbformat_minor": 1
}
