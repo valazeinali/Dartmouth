{
 "cells": [
  {
   "cell_type": "markdown",
   "metadata": {
    "id": "iBDsXVAC0dUv"
   },
   "source": [
    "# Pseudocode to code\n",
    "\n",
    "Explain what this pseudocode does. Specify which assumptions you would have to make as you translate this code into Python.\n",
    "```\n",
    "initialize passes to zero\n",
    "initialize failures to zero\n",
    "initialize student to one\n",
    "\n",
    "while student counter is less than or equal to ten\n",
    "\n",
    "  input the next exam result\n",
    "  \n",
    "  if the student passed\n",
    "    add one to passes\n",
    "  else\n",
    "    add one to failures\n",
    "\n",
    "  add one to student counter\n",
    "\n",
    "print the number of passes\n",
    "print the number of failures\n",
    "if eight or more students passed\n",
    "  print \"raise tuition\"\n",
    "```\n",
    "\n",
    "Now code this example in Python:"
   ]
  },
  {
   "cell_type": "code",
   "execution_count": null,
   "metadata": {
    "id": "YlEAllJA28z-"
   },
   "outputs": [],
   "source": [
    "# your code here"
   ]
  },
  {
   "cell_type": "markdown",
   "metadata": {
    "id": "Pnf8Ym_p4u2r"
   },
   "source": [
    "# Pizza time\n",
    "\n",
    "Formally also known as the central polygonal numbers, it describes the maximum number of pieces (or bounded/unbounded regions) of a circle (a pancake or pizza is usually used to describe the situation) that can be made with a given number of straight cuts. For example, three cuts across a pancake will produce six pieces if the cuts all meet at a common point, but seven if they do not.\n",
    "\n",
    "![pic](https://edublognss.files.wordpress.com/2013/04/fig-6.gif?w=470&zoom=2)\n",
    "\n",
    "The maximum number $p$ of pieces that can be created with a given number of cuts $n$, where $n \\ge 0$, is given by the formula:\n",
    "\n",
    "$$\n",
    "  p=\\frac{n^2+n+2}{2}\n",
    "$$\n",
    "\n",
    "Write a function that returns the result $p$ for any number of straight cuts $n$.\n",
    "\n",
    "Start by writing pseudocode. Feel free to do that part on paper."
   ]
  },
  {
   "cell_type": "code",
   "execution_count": 1,
   "metadata": {
    "id": "9Nf9mQgM727a"
   },
   "outputs": [],
   "source": [
    "# your pseudocode and code here\n",
    "'''\n",
    "initialize p as n squared\n",
    "add n to p \n",
    "add 2 to p \n",
    "divide p by 2\n",
    "make sure p is an int\n",
    "return p \n",
    "'''\n",
    "def pizza(n):\n",
    "    return int((n**2 + n + 2) / 2)"
   ]
  },
  {
   "cell_type": "code",
   "execution_count": 2,
   "metadata": {
    "colab": {
     "base_uri": "https://localhost:8080/"
    },
    "executionInfo": {
     "elapsed": 474,
     "status": "ok",
     "timestamp": 1604958415061,
     "user": {
      "displayName": "Christian Darabos",
      "photoUrl": "https://lh3.googleusercontent.com/a-/AOh14Gj58rX31OVqoCy41duHsoMyAFVv9Ammc6u2HhU3=s64",
      "userId": "13696541032900097213"
     },
     "user_tz": 300
    },
    "id": "dEr2tKv1-Mrr",
    "outputId": "c8ceb753-8e81-46a4-eafa-baadfac2cc58"
   },
   "outputs": [
    {
     "name": "stdout",
     "output_type": "stream",
     "text": [
      "1,2,4,7,11,16,22,29,37,46,56,67,79,92,106,121,137,154,172,191,211,232,254,277,301,326,352,379,407,436,466,497,529,562,596,631,667,704,742,781,821,862,904,947,991,1036,1082,1129,1177,1226,1276,1327,1379,1432,1486,1541,1597,1654,1712,1771,1831,1892,1954,2017,2081,2146,2212,2279,2347,2416,2486,2557,2629,2702,2776,2851,2927,3004,3082,3161,3241,3322,3404,3487,3571,3656,3742,3829,3917,4006,4096,4187,4279,4372,4466,4561,4657,4754,4852,4951,"
     ]
    }
   ],
   "source": [
    "# test your code\n",
    "for n in range(100):\n",
    "  print(pizza(n),end=',')"
   ]
  },
  {
   "cell_type": "markdown",
   "metadata": {
    "id": "ce2WuTln-nYV"
   },
   "source": [
    "# Generator pizza\n",
    "\n",
    "Create a _generator_ function that generates the central polygonal numbers. Try reusing the existing `pizza` function.\n",
    "\n",
    "Don't forget pseudocode and test your code with `next` if you need to as the for loop will run through 100 values of $n$ which is too many for testing."
   ]
  },
  {
   "cell_type": "code",
   "execution_count": 3,
   "metadata": {
    "id": "m1pLDM5d-apR"
   },
   "outputs": [],
   "source": [
    "# your pseudocode and code here\n",
    "'''\n",
    "define a generatr fuction \n",
    "for each i in 0 to n (included)\n",
    "    compute p using the pizza function\n",
    "    send p back and pause\n",
    "'''\n",
    "\n",
    "\n",
    "\n",
    "def pizza_generator(n):\n",
    "    for i in range(n+1):\n",
    "        yield pizza(i)\n",
    "    "
   ]
  },
  {
   "cell_type": "code",
   "execution_count": 4,
   "metadata": {
    "colab": {
     "base_uri": "https://localhost:8080/"
    },
    "executionInfo": {
     "elapsed": 482,
     "status": "ok",
     "timestamp": 1604966707653,
     "user": {
      "displayName": "Christian Darabos",
      "photoUrl": "https://lh3.googleusercontent.com/a-/AOh14Gj58rX31OVqoCy41duHsoMyAFVv9Ammc6u2HhU3=s64",
      "userId": "13696541032900097213"
     },
     "user_tz": 300
    },
    "id": "p7ILpAQoBRvB",
    "outputId": "c6712816-0a40-4fbc-825b-9f747dcd3f0e"
   },
   "outputs": [
    {
     "name": "stdout",
     "output_type": "stream",
     "text": [
      "<class 'generator'>\n",
      "1\n",
      "2\n",
      "1,2,4,7,11,16,22,29,37,46,56,67,79,92,106,121,137,154,172,191,211,232,254,277,301,326,352,379,407,436,466,497,529,562,596,631,667,704,742,781,821,862,904,947,991,1036,1082,1129,1177,1226,1276,1327,1379,1432,1486,1541,1597,1654,1712,1771,1831,1892,1954,2017,2081,2146,2212,2279,2347,2416,2486,2557,2629,2702,2776,2851,2927,3004,3082,3161,3241,3322,3404,3487,3571,3656,3742,3829,3917,4006,4096,4187,4279,4372,4466,4561,4657,4754,4852,4951,5051,"
     ]
    }
   ],
   "source": [
    "# test code\n",
    "generator = pizza_generator(5)\n",
    "print(type(generator))\n",
    "print(next(generator))\n",
    "print(next(generator))\n",
    "\n",
    "for p in pizza_generator(100):\n",
    "  print(p, end=',')"
   ]
  },
  {
   "cell_type": "markdown",
   "metadata": {
    "id": "RdaUG0pJCO2X"
   },
   "source": [
    "Now use your generator function to create a list called `pizzas`"
   ]
  },
  {
   "cell_type": "code",
   "execution_count": null,
   "metadata": {
    "id": "5RUvOFOoIjQ0"
   },
   "outputs": [],
   "source": [
    "# your code here\n"
   ]
  },
  {
   "cell_type": "markdown",
   "metadata": {
    "id": "YIOvJgHxInj_"
   },
   "source": [
    "The code below illustrates why generators are so memory efficient. Discuss with a partner the code below and try explaining it to each other, using pseudocode if necessary."
   ]
  },
  {
   "cell_type": "code",
   "execution_count": null,
   "metadata": {
    "colab": {
     "base_uri": "https://localhost:8080/"
    },
    "executionInfo": {
     "elapsed": 1066,
     "status": "ok",
     "timestamp": 1604962109807,
     "user": {
      "displayName": "Christian Darabos",
      "photoUrl": "https://lh3.googleusercontent.com/a-/AOh14Gj58rX31OVqoCy41duHsoMyAFVv9Ammc6u2HhU3=s64",
      "userId": "13696541032900097213"
     },
     "user_tz": 300
    },
    "id": "CvlzYm57Jwzd",
    "outputId": "6b18923d-f42b-4e14-e81c-7c7b71c61531"
   },
   "outputs": [
    {
     "name": "stdout",
     "output_type": "stream",
     "text": [
      "Size of object <class 'list'> in memory (in bytes): 83112\n",
      "Size of object pizza_generator in memory (in bytes): 88\n"
     ]
    }
   ],
   "source": [
    "import sys\n",
    "\n",
    "def print_size(obj):\n",
    "  '''\n",
    "  Prints the size an object occupies in memory\n",
    "  '''\n",
    "  try:\n",
    "    name = obj.__name__\n",
    "    \n",
    "  except AttributeError:\n",
    "    name = type(obj)\n",
    "  \n",
    "  print(f'Size of object {name} in memory (in bytes):', sys.getsizeof(obj))\n",
    "\n",
    "p_list = pizzas\n",
    "p_gen = pizza_generator(10000)\n",
    "\n",
    "print_size(p_list)\n",
    "print_size(p_gen)"
   ]
  },
  {
   "cell_type": "markdown",
   "metadata": {
    "id": "PTfnGfV9NWkp"
   },
   "source": [
    "# Import `fractions`\n",
    "\n",
    "Import the `fractions` module and create a Fraction from the float 2.25. You can find information on how to create fractions in [the documentation](https://docs.python.org/3/library/fractions.html#fractions.Fraction) or use the `help` function."
   ]
  },
  {
   "cell_type": "code",
   "execution_count": null,
   "metadata": {
    "id": "aS7K0LWrK1HJ"
   },
   "outputs": [],
   "source": [
    "# your code here"
   ]
  },
  {
   "cell_type": "markdown",
   "metadata": {
    "id": "icDgOerTQAkh"
   },
   "source": [
    "# `fsum` import\n",
    "\n",
    "Import only the `fsum` function from the `math` module and use it to find the sum of the following series of floats:"
   ]
  },
  {
   "cell_type": "code",
   "execution_count": null,
   "metadata": {
    "colab": {
     "base_uri": "https://localhost:8080/"
    },
    "executionInfo": {
     "elapsed": 453,
     "status": "ok",
     "timestamp": 1604963126592,
     "user": {
      "displayName": "Christian Darabos",
      "photoUrl": "https://lh3.googleusercontent.com/a-/AOh14Gj58rX31OVqoCy41duHsoMyAFVv9Ammc6u2HhU3=s64",
      "userId": "13696541032900097213"
     },
     "user_tz": 300
    },
    "id": "5keu2XK6P2a4",
    "outputId": "94d8316b-fce3-4eea-a700-605278a6e118"
   },
   "outputs": [
    {
     "name": "stdout",
     "output_type": "stream",
     "text": [
      "118.482\n"
     ]
    }
   ],
   "source": [
    "numbers = [1.43, 1.1, 5.32, 87.032, 0.2, 23.4]\n",
    "print(sum(numbers))"
   ]
  },
  {
   "cell_type": "code",
   "execution_count": null,
   "metadata": {
    "id": "T8TJIhB6QLJA"
   },
   "outputs": [],
   "source": [
    "# your code here"
   ]
  },
  {
   "cell_type": "markdown",
   "metadata": {
    "id": "Qyg3oM7wSd3g"
   },
   "source": [
    "# Guessing Game\n",
    "\n",
    "Implement guessing game that allows the user to try and guess a randomly generated number between 0 and 100 included. The game only responds by `higher` or `lower` or `found` to any valid user input.\n",
    "\n",
    "Use:\n",
    "- write pseudocode\n",
    "- `random` module\n",
    "- defensive code with error/exception handling"
   ]
  },
  {
   "cell_type": "code",
   "execution_count": null,
   "metadata": {
    "id": "6DJunzTwTQob"
   },
   "outputs": [],
   "source": [
    "# your code here"
   ]
  },
  {
   "cell_type": "markdown",
   "metadata": {
    "id": "NUOAHP6RY4qO"
   },
   "source": [
    "# Grades\n",
    "Create a short program that prompts the user for a list of grades separated by commas. Split the string into individual grades and use a list comprehension to convert each string to an integer. You should use a `try` statement to inform the user when the values they entered cannot be converted. Print the grades if possible. Regardless of the outcome, print an end-of-processing message.\n",
    "\n",
    "Brownie points: use the exception to inform the user about which value could not be converted"
   ]
  },
  {
   "cell_type": "code",
   "execution_count": null,
   "metadata": {
    "id": "98i-UaCqWgTn"
   },
   "outputs": [],
   "source": [
    "# your code here"
   ]
  }
 ],
 "metadata": {
  "colab": {
   "authorship_tag": "ABX9TyO7OW+y1whKXofOSN3dszP9",
   "collapsed_sections": [],
   "name": "QBS101-F20-week09-exercises.ipynb",
   "provenance": []
  },
  "kernelspec": {
   "display_name": "Python 3",
   "language": "python",
   "name": "python3"
  },
  "language_info": {
   "codemirror_mode": {
    "name": "ipython",
    "version": 3
   },
   "file_extension": ".py",
   "mimetype": "text/x-python",
   "name": "python",
   "nbconvert_exporter": "python",
   "pygments_lexer": "ipython3",
   "version": "3.7.6"
  }
 },
 "nbformat": 4,
 "nbformat_minor": 1
}
