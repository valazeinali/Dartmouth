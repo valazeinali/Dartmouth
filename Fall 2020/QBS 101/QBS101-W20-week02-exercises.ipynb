{
 "cells": [
  {
   "cell_type": "markdown",
   "metadata": {
    "colab_type": "text",
    "id": "BHnx4HADVQl9"
   },
   "source": [
    "#Exercise 1 - Discussion\n",
    "\n",
    "What are some of the potential benefits from installing software separately for each project? What are some of the potential costs?"
   ]
  },
  {
   "cell_type": "markdown",
   "metadata": {
    "colab_type": "text",
    "id": "f8yCXqGgdhAZ"
   },
   "source": [
    "# Exersise 2 - Personalize your HPC experience\n",
    "Automate the sourcing of the `conda` command in your HPC environment by adding the following line to the `.bashrc` file at the root of your DartFS home (via a Finder/Explorer, or terminal SSH conncetion:\n",
    "```\n",
    "source /optnfs/common/miniconda3/etc/profile.d/conda.sh\n",
    "```\n",
    "Reload your .bashrc file by closing and reopning the SSH connection or running the follwing command on HPC:\n",
    "```\n",
    "$ source .bashrc\n",
    "```"
   ]
  },
  {
   "cell_type": "markdown",
   "metadata": {
    "colab_type": "text",
    "id": "OYAdrfuehN5O"
   },
   "source": [
    "#Exercise 3 - Creating a new environment\n",
    "Create a new environment called “machine-learning-env” with Python and the most current versions of IPython, Matplotlib, Pandas, and Scikit-Learn."
   ]
  },
  {
   "cell_type": "markdown",
   "metadata": {
    "colab_type": "text",
    "id": "Oetn1BsGiswc"
   },
   "source": [
    "#Exercise 4 - Activate an existing environment by name\n",
    "Activate the machine-learning-env environment created in the previous challenge by name."
   ]
  },
  {
   "cell_type": "markdown",
   "metadata": {
    "colab_type": "text",
    "id": "cQdIcLDojZUK"
   },
   "source": [
    "# Exelcise 5 - Deactivate the active environment\n",
    "Deactivate the machine-learning-env environment that you activated in the previous challenge."
   ]
  },
  {
   "cell_type": "markdown",
   "metadata": {
    "colab_type": "text",
    "id": "Zp3ZmswIkwPr"
   },
   "source": [
    "#Exercise 6 - Installing a package into a specific environment\n",
    "[Dask](https://dask.org/) provides advanced parallelism for data science workflows enabling performance at scale for the core Python data science tools such as Numpy Pandas, and Scikit-Learn. Have a read through the [official documentation](https://docs.conda.io/projects/conda/en/latest/commands/install.html) for the `conda install` command and see if you can figure out how to install Dask into the `machine-learning-env` that you created in the previous challenge."
   ]
  },
  {
   "cell_type": "markdown",
   "metadata": {
    "colab_type": "text",
    "id": "Jv9W-p0blE3T"
   },
   "source": [
    "#Exercise 7 - Installing packages into Conda environments using pip\n",
    "[Combo](https://github.com/yzhao062/combo) is a comprehensive Python toolbox for combining machine learning models and scores. Model combination can be considered as a subtask of [ensemble learning](https://en.wikipedia.org/wiki/Ensemble_learning), and has been widely used in real-world tasks and data science competitions like [Kaggle](https://www.kaggle.com/).\n",
    "\n",
    "Activate the machine-learning-env you created in a previous challenge and use \n",
    "```\n",
    "pip to install combo.\n",
    "```\n"
   ]
  },
  {
   "cell_type": "markdown",
   "metadata": {
    "colab_type": "text",
    "id": "ZszQ1IdpprZK"
   },
   "source": [
    "#Exercise 8 - Listing the contents of a particular environment.\n",
    "List the packages installed in the `machine-learning-env` environment that you created in a previous exercise.\n"
   ]
  },
  {
   "cell_type": "markdown",
   "metadata": {
    "colab_type": "text",
    "id": "b4J9fYuXqos4"
   },
   "source": [
    "#Exercise 9 - Delete an entire environment\n",
    "Delete the entire `basic-scipy-env` environment."
   ]
  },
  {
   "cell_type": "markdown",
   "metadata": {
    "colab_type": "text",
    "id": "pakJpi5Smx_1"
   },
   "source": [
    "# Exercise 10\n",
    "Declare 3 new variables:\n",
    "- first name\n",
    "- last name\n",
    "- age\n",
    "\n",
    "then create a greetings variable and print it so that it looks like:\n",
    "```\n",
    "Hello, my name is Christian Darabos and I'm 41 years old\n",
    "```\n"
   ]
  },
  {
   "cell_type": "code",
   "execution_count": 7,
   "metadata": {
    "colab": {},
    "colab_type": "code",
    "id": "owcAnsO6TVOP"
   },
   "outputs": [
    {
     "ename": "SyntaxError",
     "evalue": "invalid syntax (<ipython-input-7-d166d594a560>, line 6)",
     "output_type": "error",
     "traceback": [
      "\u001b[0;36m  File \u001b[0;32m\"<ipython-input-7-d166d594a560>\"\u001b[0;36m, line \u001b[0;32m6\u001b[0m\n\u001b[0;31m    greetings = ()\"Hello, my name is \"+first+' '+ last+'and im '+str(age)+' years old\")\u001b[0m\n\u001b[0m                                     ^\u001b[0m\n\u001b[0;31mSyntaxError\u001b[0m\u001b[0;31m:\u001b[0m invalid syntax\n"
     ]
    }
   ],
   "source": [
    "# YOUR CODE / SOLUTION\n",
    "first = \"Christian\"\n",
    "last = \"Darabos\"\n",
    "age = 19\n",
    "\n",
    "greetings = ()\"Hello, my name is \"+first+' '+ last+'and im '+str(age)+' years old\")\n",
    "\n",
    "print(\"Hello, my name is \"+first+' '+ last+'and im '+str(age)+' years old')\n",
    "\n",
    "print(f'Hello, my name is {first}{last} and im {age} years old')  # with f string\n",
    "\n",
    "print(gretings)"
   ]
  },
  {
   "cell_type": "markdown",
   "metadata": {
    "colab_type": "text",
    "id": "mY3dxIwYpgjM"
   },
   "source": [
    "# Exercise 11\n",
    "Calculate and print the number of days, weeks, and months in 27 years. Don’t worry about leap years!"
   ]
  },
  {
   "cell_type": "code",
   "execution_count": 9,
   "metadata": {
    "colab": {},
    "colab_type": "code",
    "id": "BZWPWyb8Tahj"
   },
   "outputs": [
    {
     "name": "stdout",
     "output_type": "stream",
     "text": [
      "27\n",
      "27 years is 9855 days or 1404 weeks or 324 months\n"
     ]
    }
   ],
   "source": [
    "# YOUR CODE / SOLUTION\n",
    "\n",
    "#years = 27 * 365\n",
    "\n",
    "weeks = 52 * 27\n",
    "\n",
    "months = 12 * 27 \n",
    "\n",
    "print(years)\n",
    "\n",
    "\n",
    "years = 27\n",
    "\n",
    "print(f'{years} years is {years*365} days or {years * 52} weeks or { years * 12 } months')"
   ]
  },
  {
   "cell_type": "markdown",
   "metadata": {
    "colab_type": "text",
    "id": "aMrqq7tCqc25"
   },
   "source": [
    "# Exercise 12\n",
    "What's wrong with this code:\n",
    "```\n",
    "print(Hello_World)\n",
    "```\n",
    "you are printing a variabke that does not exsist.\n",
    "\n"
   ]
  },
  {
   "cell_type": "code",
   "execution_count": 10,
   "metadata": {
    "colab": {},
    "colab_type": "code",
    "id": "IaSrerBrTeqg"
   },
   "outputs": [
    {
     "name": "stdout",
     "output_type": "stream",
     "text": [
      "Hekk0_World\n"
     ]
    }
   ],
   "source": [
    "# YOUR CODE / SOLUTION\n",
    "print(\"Hekk0_World\")"
   ]
  },
  {
   "cell_type": "markdown",
   "metadata": {
    "colab_type": "text",
    "id": "XKu0LB0EtDwK"
   },
   "source": [
    "# Exercise 13\n",
    "Use the inline `help` function to lookup a function you know. Then, lookup the help for the `input` function. What's going on? How do you get passed that hurdle? Then use it in a relevant example."
   ]
  },
  {
   "cell_type": "code",
   "execution_count": null,
   "metadata": {
    "colab": {},
    "colab_type": "code",
    "id": "tgDg7e1NTkHL"
   },
   "outputs": [],
   "source": [
    "# YOUR CODE / SOLUTION"
   ]
  },
  {
   "cell_type": "markdown",
   "metadata": {
    "colab_type": "text",
    "id": "3z4DiiwdsUFI"
   },
   "source": [
    "#Exercise 14\n",
    "Below you’ll find some code with a number of errors. Try to go through the program line by line and fix the issues in the code. I’d encourage you to try running the program while you’re working on it, as reading the error messages is great practice for debugging your own programs.\n",
    "hourly_wage = input(\"Please enter your hourly wage: ')\n",
    "```\n",
    "prnt(\"Hourly wage: \")\n",
    "print(hourlywage)\n",
    "print(\"Hours worked: \")\n",
    "print(hours_worked)\n",
    "\n",
    "hours_worked = input(\"How many hours did you work this week? \")\n",
    "```"
   ]
  },
  {
   "cell_type": "code",
   "execution_count": null,
   "metadata": {
    "colab": {},
    "colab_type": "code",
    "id": "WPBuswUVTngi"
   },
   "outputs": [],
   "source": [
    "# YOUR CODE / SOLUTION"
   ]
  }
 ],
 "metadata": {
  "colab": {
   "authorship_tag": "ABX9TyOha2T23H3rCL2RO9CjzkGs",
   "collapsed_sections": [],
   "name": "QBS101-W20-week02-exercises.ipynb",
   "provenance": []
  },
  "kernelspec": {
   "display_name": "Python 3",
   "language": "python",
   "name": "python3"
  },
  "language_info": {
   "codemirror_mode": {
    "name": "ipython",
    "version": 3
   },
   "file_extension": ".py",
   "mimetype": "text/x-python",
   "name": "python",
   "nbconvert_exporter": "python",
   "pygments_lexer": "ipython3",
   "version": "3.7.6"
  }
 },
 "nbformat": 4,
 "nbformat_minor": 1
}
