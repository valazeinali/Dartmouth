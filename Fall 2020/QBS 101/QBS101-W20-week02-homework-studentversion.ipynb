{
 "cells": [
  {
   "cell_type": "markdown",
   "metadata": {
    "colab_type": "text",
    "id": "uKm_er61Cn0g"
   },
   "source": [
    "QBS 101\n",
    "Assignment 2\n",
    "\n",
    "Dartmouth ID: <font color='green'>F004QM4</font>\n",
    "\n",
    "Date: <font color='green'>September 25th, 2020</font>"
   ]
  },
  {
   "cell_type": "markdown",
   "metadata": {
    "colab_type": "text",
    "id": "M6xhT3QqCn0l"
   },
   "source": [
    "# Question 1. Conda Environment (2 points total, 1 point each)"
   ]
  },
  {
   "cell_type": "markdown",
   "metadata": {
    "colab_type": "text",
    "id": "ztcXxRoJCn0n"
   },
   "source": [
    "Let's start our assignment this week by setting up a Conda environment with two of the most popular libraries used in data science: numpy and pandas\n",
    "\n",
    "\n",
    "- **Name**: qbs_101_envt_hw2\n",
    "\n",
    "- **Language**: Python (version: 3.8.5)\n",
    "\n",
    "- **Packages**: \n",
    "    - numpy (version: 1.19.1)\n",
    "    - pandas (version: 1.1.1)"
   ]
  },
  {
   "cell_type": "markdown",
   "metadata": {
    "colab_type": "text",
    "id": "21jQeOo-Cn0p"
   },
   "source": [
    "## 1a. In the markdown block below, copy the line of code used to create the environment"
   ]
  },
  {
   "cell_type": "markdown",
   "metadata": {
    "colab_type": "text",
    "id": "ts1i3kdUCn0r"
   },
   "source": [
    "<font color='green'> conda create --name qbs_101_envt_hw2 ipython numpy pandas pip python</font>\n"
   ]
  },
  {
   "cell_type": "markdown",
   "metadata": {
    "colab_type": "text",
    "id": "GYk1H_PNCn0t"
   },
   "source": [
    "Your environment should now be up-and-running, so let's test it out! Please open your new environment and try the following:\n",
    "\n",
    "```\n",
    "import numpy as np, pandas as pd\n",
    "list = [5,3,2]\n",
    "print(np.mean(list))\n",
    "s = pd.Series([1,3,5,6,8])\n",
    "print(s)\n",
    "```\n"
   ]
  },
  {
   "cell_type": "markdown",
   "metadata": {
    "colab_type": "text",
    "id": "UQ01R6FfCn0u"
   },
   "source": [
    "## 1b. In your submission to Canvas, upload a screenshot of your results from the terminal\n",
    "\n",
    "<font color='green'>Submitted 👍✅</font>"
   ]
  },
  {
   "cell_type": "markdown",
   "metadata": {
    "colab_type": "text",
    "id": "OX95SXlHCn0w"
   },
   "source": [
    "*****"
   ]
  },
  {
   "cell_type": "markdown",
   "metadata": {
    "colab_type": "text",
    "id": "sxZOo5KyCn0x"
   },
   "source": [
    "# Question 2. Data Types (2 point total, 0.5 points each)"
   ]
  },
  {
   "cell_type": "markdown",
   "metadata": {
    "colab_type": "text",
    "id": "KpGdSLIXCn0y"
   },
   "source": [
    "Using Python's standard arithemtic operations, perform the following operations:"
   ]
  },
  {
   "cell_type": "markdown",
   "metadata": {
    "colab_type": "text",
    "id": "yAFnxsmpCn0z"
   },
   "source": [
    "## 2a. Three times five"
   ]
  },
  {
   "cell_type": "code",
   "execution_count": 1,
   "metadata": {
    "ExecuteTime": {
     "start_time": "2020-09-21T22:29:09.748Z"
    },
    "colab": {},
    "colab_type": "code",
    "id": "Nwer-QUKCn0z"
   },
   "outputs": [
    {
     "name": "stdout",
     "output_type": "stream",
     "text": [
      "Three times five is 15.\n"
     ]
    }
   ],
   "source": [
    "#SOLUTION GOES HERE\n",
    "three_times_five = 3*5 # simple multiplication arithemtic \n",
    "\n",
    "print(f'Three times five is {three_times_five}.')"
   ]
  },
  {
   "cell_type": "markdown",
   "metadata": {
    "colab_type": "text",
    "id": "BvTBcHZUCn05"
   },
   "source": [
    "## 2b. Three to the power of five"
   ]
  },
  {
   "cell_type": "code",
   "execution_count": 2,
   "metadata": {
    "ExecuteTime": {
     "start_time": "2020-09-21T22:29:49.265Z"
    },
    "colab": {},
    "colab_type": "code",
    "id": "DD2A8ZbbCn06"
   },
   "outputs": [
    {
     "name": "stdout",
     "output_type": "stream",
     "text": [
      "Three to the power of five is 243.\n"
     ]
    }
   ],
   "source": [
    "#SOLUTION GOES HERE\n",
    "three_to_5th = 3**5 # ** is the operator to raise the lhs to the power of the rhs\n",
    "\n",
    "print(f'Three to the power of five is {three_to_5th}.')"
   ]
  },
  {
   "cell_type": "markdown",
   "metadata": {
    "colab_type": "text",
    "id": "wXETLWLnCn09"
   },
   "source": [
    "## 2c. Three divided by nine, rounded to the nearest hundredths place"
   ]
  },
  {
   "cell_type": "code",
   "execution_count": 3,
   "metadata": {
    "colab": {},
    "colab_type": "code",
    "id": "1A4Sgzr3Cn09"
   },
   "outputs": [
    {
     "name": "stdout",
     "output_type": "stream",
     "text": [
      "Three divided by nine, rounded to the nearest hundredths place is 0.33.\n"
     ]
    }
   ],
   "source": [
    "#SOLUTION GOES HERE\n",
    "three_divided_nine = 3/9\n",
    "rounded = round(three_divided_nine, 2) # rounding our computation to the nearest hundredths place\n",
    "\n",
    "print(f'Three divided by nine, rounded to the nearest hundredths place is {rounded}.')"
   ]
  },
  {
   "cell_type": "markdown",
   "metadata": {
    "colab_type": "text",
    "id": "oHzKhUecCn1A"
   },
   "source": [
    "## 2d. The largest integer that is closest to \"nine divided by negative two\""
   ]
  },
  {
   "cell_type": "code",
   "execution_count": 4,
   "metadata": {
    "colab": {},
    "colab_type": "code",
    "id": "mozpz5ThCn1B"
   },
   "outputs": [
    {
     "name": "stdout",
     "output_type": "stream",
     "text": [
      "The largest integer that is closest to nine divided by negative two is -4.\n"
     ]
    }
   ],
   "source": [
    "#SOLUTION GOES HERE\n",
    "import math # needed for ceiling function\n",
    "nine_divided_negtwo = 9/(-2) \n",
    "ceiling = math.ceil(nine_divided_negtwo) #We are taking the ceiling of the value computed. Ceiling returns the next \n",
    "                                                                                        #  highest integer.\n",
    "print(f'The largest integer that is closest to nine divided by negative two is {ceiling}.')"
   ]
  },
  {
   "cell_type": "markdown",
   "metadata": {
    "colab_type": "text",
    "id": "NQPiG7KYCn1D"
   },
   "source": [
    "*****"
   ]
  },
  {
   "cell_type": "markdown",
   "metadata": {
    "colab_type": "text",
    "id": "L8aJW1m-Cn1D"
   },
   "source": [
    "# Question 3. Strings (1 point total, 0.5 points each)"
   ]
  },
  {
   "cell_type": "markdown",
   "metadata": {
    "colab_type": "text",
    "id": "9kYLtp-9Cn1E"
   },
   "source": [
    "Using string concatenation, perform the following:"
   ]
  },
  {
   "cell_type": "markdown",
   "metadata": {
    "colab_type": "text",
    "id": "hhSrZ8qZCn1E"
   },
   "source": [
    "## 3a. My favorite food is __________________, and my favorite color is ___________________"
   ]
  },
  {
   "cell_type": "code",
   "execution_count": 5,
   "metadata": {
    "colab": {},
    "colab_type": "code",
    "id": "vmQ4GAW9EW5S"
   },
   "outputs": [],
   "source": [
    "food = \"wings\" #food variable\n",
    "color = \"orange\" #color variable"
   ]
  },
  {
   "cell_type": "markdown",
   "metadata": {
    "colab_type": "text",
    "id": "YedEyGJmCn1F"
   },
   "source": [
    "Note: The \"_\" should be replaced with your favorite food and favorite color, respectively. "
   ]
  },
  {
   "cell_type": "code",
   "execution_count": 6,
   "metadata": {
    "colab": {},
    "colab_type": "code",
    "id": "JA1fPgwVCn1F"
   },
   "outputs": [
    {
     "name": "stdout",
     "output_type": "stream",
     "text": [
      "My favorite food is wings, and my favorite color is orange.\n"
     ]
    }
   ],
   "source": [
    "#SOLUTION GOES HERE\n",
    "print('My favorite food is ' + food + ', ' + 'and my favorite color is ' + color + '.')"
   ]
  },
  {
   "cell_type": "markdown",
   "metadata": {
    "colab_type": "text",
    "id": "Me_FLGPNCn1H"
   },
   "source": [
    "## 3b. I wonder when Python 4.0 will be released."
   ]
  },
  {
   "cell_type": "code",
   "execution_count": 7,
   "metadata": {
    "colab": {},
    "colab_type": "code",
    "id": "71EzOeMQCn1I"
   },
   "outputs": [
    {
     "name": "stdout",
     "output_type": "stream",
     "text": [
      "I wonder when Python 4.0 will be released.\n"
     ]
    }
   ],
   "source": [
    "#SOLUTION GOES HERE\n",
    "language = \"Python\" # declare a variable to store Python.\n",
    "version = 4.0       # declare a variable to store version of Python.\n",
    "\n",
    "print(f'I wonder when {language} {version} will be released.') # Use f string to put it together, Python converts types."
   ]
  },
  {
   "cell_type": "markdown",
   "metadata": {
    "colab_type": "text",
    "id": "qHYTSYIzEPwx"
   },
   "source": [
    "*****"
   ]
  },
  {
   "cell_type": "markdown",
   "metadata": {
    "colab_type": "text",
    "id": "7iFSxSREEShC"
   },
   "source": [
    "# What to turn in:\n",
    "- This Python notebook with solutions to the above questions\n",
    "- A screenshot from your terminal to satisfy **Question 1b**"
   ]
  }
 ],
 "metadata": {
  "colab": {
   "name": "QBS101-W20-week02-homework-empty_draft1.ipynb",
   "provenance": []
  },
  "kernelspec": {
   "display_name": "Python 3",
   "language": "python",
   "name": "python3"
  },
  "language_info": {
   "codemirror_mode": {
    "name": "ipython",
    "version": 3
   },
   "file_extension": ".py",
   "mimetype": "text/x-python",
   "name": "python",
   "nbconvert_exporter": "python",
   "pygments_lexer": "ipython3",
   "version": "3.7.6"
  },
  "toc": {
   "base_numbering": 1,
   "nav_menu": {},
   "number_sections": true,
   "sideBar": true,
   "skip_h1_title": false,
   "title_cell": "Table of Contents",
   "title_sidebar": "Contents",
   "toc_cell": false,
   "toc_position": {},
   "toc_section_display": true,
   "toc_window_display": false
  },
  "varInspector": {
   "cols": {
    "lenName": 16,
    "lenType": 16,
    "lenVar": 40
   },
   "kernels_config": {
    "python": {
     "delete_cmd_postfix": "",
     "delete_cmd_prefix": "del ",
     "library": "var_list.py",
     "varRefreshCmd": "print(var_dic_list())"
    },
    "r": {
     "delete_cmd_postfix": ") ",
     "delete_cmd_prefix": "rm(",
     "library": "var_list.r",
     "varRefreshCmd": "cat(var_dic_list()) "
    }
   },
   "types_to_exclude": [
    "module",
    "function",
    "builtin_function_or_method",
    "instance",
    "_Feature"
   ],
   "window_display": false
  }
 },
 "nbformat": 4,
 "nbformat_minor": 1
}
