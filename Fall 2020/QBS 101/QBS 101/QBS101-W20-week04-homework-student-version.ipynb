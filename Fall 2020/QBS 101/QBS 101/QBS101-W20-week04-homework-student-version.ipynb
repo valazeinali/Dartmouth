{
 "cells": [
  {
   "cell_type": "markdown",
   "metadata": {
    "id": "uKm_er61Cn0g"
   },
   "source": [
    "QBS 101\n",
    "Assignment 4\n",
    "\n",
    "Dartmouth ID: F004QM4\n",
    "\n",
    "Date: October 9th, 2020"
   ]
  },
  {
   "cell_type": "markdown",
   "metadata": {
    "id": "M6xhT3QqCn0l"
   },
   "source": [
    "# Question 1. Multiple Variable Assignment (4 points total)"
   ]
  },
  {
   "cell_type": "markdown",
   "metadata": {
    "id": "21jQeOo-Cn0p"
   },
   "source": [
    "## 1a. (3 Points)\n",
    "\n",
    "Recreate the string: \"I am learning multiple variable assignment.\" \n",
    "\n",
    "Using the multiple variable assignment command, assign *non-null* string values to the variables: `string1`, `string2`, `string3`. \n",
    "\n",
    "The string assignments can be done in any way such that, usin the variables, the output reads: \"I am learning multiple variable assignment.\" \n",
    "\n",
    "Print your output."
   ]
  },
  {
   "cell_type": "code",
   "execution_count": 1,
   "metadata": {
    "ExecuteTime": {
     "end_time": "2020-09-21T22:16:20.685777Z",
     "start_time": "2020-09-21T22:16:20.682832Z"
    },
    "id": "APbwpzoJCn0q",
    "outputId": "46cc462e-4178-4f78-8579-21c634ae5bc0"
   },
   "outputs": [],
   "source": [
    "## SOLUTION GOES HERE\n",
    "string1,string2,string3 = \"I am learning \",\"multiple variable \",\"assignment.\"\n",
    "print(string1+string2+string3)"
   ]
  },
  {
   "cell_type": "markdown",
   "metadata": {
    "id": "ts1i3kdUCn0r"
   },
   "source": [
    "*****"
   ]
  },
  {
   "cell_type": "markdown",
   "metadata": {
    "id": "UQ01R6FfCn0u"
   },
   "source": [
    "## 1b. (1 Point)\n",
    "\n",
    "Convert your variables (`string1`, `string2`, `string3`) to type 'None', and write a print statement to show `None` is a class. "
   ]
  },
  {
   "cell_type": "code",
   "execution_count": 2,
   "metadata": {
    "colab": {
     "base_uri": "https://localhost:8080/",
     "height": 34
    },
    "executionInfo": {
     "elapsed": 953,
     "status": "ok",
     "timestamp": 1602006532221,
     "user": {
      "displayName": "Christian Darabos",
      "photoUrl": "https://lh3.googleusercontent.com/a-/AOh14Gj58rX31OVqoCy41duHsoMyAFVv9Ammc6u2HhU3=s64",
      "userId": "13696541032900097213"
     },
     "user_tz": 240
    },
    "id": "81UfHGEHl8Vm",
    "outputId": "7bfbab9c-a433-4075-d8e1-648b6f57bea7"
   },
   "outputs": [
    {
     "name": "stdout",
     "output_type": "stream",
     "text": [
      "<class 'NoneType'>\n",
      "<class 'NoneType'>\n",
      "<class 'NoneType'>\n"
     ]
    }
   ],
   "source": [
    "## SOLUTION GOES HERE\n",
    "string1,string2,string3 = None, None, None\n",
    "print(type(string3))\n",
    "print(type(string2))\n",
    "print(type(string1))"
   ]
  },
  {
   "cell_type": "markdown",
   "metadata": {
    "id": "OX95SXlHCn0w"
   },
   "source": [
    "*****"
   ]
  },
  {
   "cell_type": "markdown",
   "metadata": {
    "id": "sxZOo5KyCn0x"
   },
   "source": [
    "# Question 2. Dictionaries (10 point total)"
   ]
  },
  {
   "cell_type": "markdown",
   "metadata": {
    "id": "yAFnxsmpCn0z"
   },
   "source": [
    "## 2a. (5 Points)\n",
    "\n",
    "Create a dictionary named `courses` that lists two courses you are taking in the QBS program where the key for each class is the class name, and the value for each class is the professor of that class.\n",
    "\n",
    "Then, print the instructor's name of the second course listed in your dictionary."
   ]
  },
  {
   "cell_type": "code",
   "execution_count": 3,
   "metadata": {
    "ExecuteTime": {
     "start_time": "2020-09-21T22:29:09.748Z"
    },
    "colab": {
     "base_uri": "https://localhost:8080/",
     "height": 34
    },
    "executionInfo": {
     "elapsed": 437,
     "status": "ok",
     "timestamp": 1601477744897,
     "user": {
      "displayName": "Catherine Pollack",
      "photoUrl": "",
      "userId": "11197461103070537819"
     },
     "user_tz": 240
    },
    "id": "Nwer-QUKCn0z",
    "outputId": "d970495e-a22d-41e5-de73-5ea1673439b5"
   },
   "outputs": [
    {
     "name": "stdout",
     "output_type": "stream",
     "text": [
      "Dr. Gilbert-Diamond\n"
     ]
    }
   ],
   "source": [
    "## SOLUTION GOES HERE\n",
    "courses = {\n",
    "    \"Foundations of Biostatistics I\" : \"Dr. Frost\",\n",
    "    \"Foundations of Epidemiology I\" : \"Dr. Gilbert-Diamond\"\n",
    "}\n",
    "print(courses['Foundations of Epidemiology I']) "
   ]
  },
  {
   "cell_type": "markdown",
   "metadata": {
    "id": "BvTBcHZUCn05"
   },
   "source": [
    "## 2b. (5 Points)\n",
    "\n",
    "Create a new dictionary `course_three` that lists a third QBS course you are taking in the same format as part 2a.\n",
    "\n",
    "* If you are not enrolled in three courses in the QBS program, feel free to make up a course/instructor name, or use one from prrevious schooling.\n",
    "\n",
    "Next, update the `courses` dictionary with the  course_three   dictionary.\n",
    "\n",
    "Print out the updated `courses` dictionary."
   ]
  },
  {
   "cell_type": "code",
   "execution_count": 4,
   "metadata": {
    "ExecuteTime": {
     "start_time": "2020-09-21T22:29:49.265Z"
    },
    "colab": {
     "base_uri": "https://localhost:8080/",
     "height": 34
    },
    "executionInfo": {
     "elapsed": 382,
     "status": "ok",
     "timestamp": 1601477746187,
     "user": {
      "displayName": "Catherine Pollack",
      "photoUrl": "",
      "userId": "11197461103070537819"
     },
     "user_tz": 240
    },
    "id": "DD2A8ZbbCn06",
    "outputId": "5dfb9217-f185-4a90-b35f-a6a618e77aea"
   },
   "outputs": [
    {
     "name": "stdout",
     "output_type": "stream",
     "text": [
      "{'Foundations of Biostatistics I': 'Dr. Frost', 'Foundations of Epidemiology I': 'Dr. Gilbert-Diamond', 'Fndn of Programming-Data Sci': 'Dr. Darabos'}\n"
     ]
    }
   ],
   "source": [
    "## SOLUTION GOES HERE\n",
    "course_three = {\n",
    "    \"Foundations of Biostatistics I\" : \"Dr. Frost\",\n",
    "    \"Foundations of Epidemiology I\" : \"Dr. Gilbert-Diamond\",\n",
    "    \"Fndn of Programming-Data Sci\" : \"Dr. Darabos\"\n",
    "}\n",
    "\n",
    "courses.update(course_three) #updating old dict with new dict\n",
    "print(courses)"
   ]
  },
  {
   "cell_type": "markdown",
   "metadata": {
    "id": "wXETLWLnCn09"
   },
   "source": [
    "## Bonus (2 Points)\n",
    "\n",
    "Delete the last class listed from your updated `courses` dictionary.\n",
    "\n",
    "Print the updated `courses` dictionary."
   ]
  },
  {
   "cell_type": "code",
   "execution_count": 5,
   "metadata": {
    "colab": {
     "base_uri": "https://localhost:8080/",
     "height": 34
    },
    "executionInfo": {
     "elapsed": 420,
     "status": "ok",
     "timestamp": 1601477748889,
     "user": {
      "displayName": "Catherine Pollack",
      "photoUrl": "",
      "userId": "11197461103070537819"
     },
     "user_tz": 240
    },
    "id": "1A4Sgzr3Cn09",
    "outputId": "d58ed9fa-1056-484b-e6fa-6b666b5b98c2"
   },
   "outputs": [
    {
     "name": "stdout",
     "output_type": "stream",
     "text": [
      "{'Foundations of Biostatistics I': 'Dr. Frost', 'Foundations of Epidemiology I': 'Dr. Gilbert-Diamond'}\n"
     ]
    }
   ],
   "source": [
    "## SOLUTION GOES HERE\n",
    "courses.popitem() #removing last element put into dict\n",
    "print(courses)"
   ]
  },
  {
   "cell_type": "markdown",
   "metadata": {
    "id": "NQPiG7KYCn1D"
   },
   "source": [
    "*****"
   ]
  },
  {
   "cell_type": "markdown",
   "metadata": {
    "id": "L8aJW1m-Cn1D"
   },
   "source": [
    "# Question 3. Sets (6 points total)"
   ]
  },
  {
   "cell_type": "markdown",
   "metadata": {
    "id": "hhSrZ8qZCn1E"
   },
   "source": [
    "## 3. (6 Points)\n",
    "\n",
    "Create 4 sets in one line of code. Have each set consist of three random, separate letters. `example: (f,v,l)`\n"
   ]
  },
  {
   "cell_type": "code",
   "execution_count": 6,
   "metadata": {},
   "outputs": [
    {
     "name": "stdout",
     "output_type": "stream",
     "text": [
      "{'zle'}\n",
      "{'bkk'}\n",
      "{'vns'}\n",
      "{'doz'}\n"
     ]
    }
   ],
   "source": [
    "'''\n",
    "# was trying to make a unique random set\n",
    "\n",
    "import random\n",
    "import string\n",
    "#creating function that produces 3 unique characters from alphabet\n",
    "def generate(unique):\n",
    "    #chars = \"abcdefghijklmnopqrstuvwxyz\"\n",
    "    chars = string.ascii_lowercase \n",
    "    #chars = [r'a','b','c','d','e','f','g','h','i','j','k','l','m','n','o','p','q','r','s','t','u','v','w','x','y','z']\n",
    "    while True:\n",
    "        value = \"\".join(random.choice(chars) for _ in range(3))\n",
    "        if value not in unique:\n",
    "            unique.add(value)\n",
    "            break\n",
    "\n",
    "set1,set2,set3,set4 = set(),set(),set(),set() \n",
    "generate(set1),generate(set2),generate(set3),generate(set4)\n",
    "print(set1)\n",
    "print(set2)\n",
    "print(set3)\n",
    "print(set4)\n",
    "--------------------------------------------------------------\n",
    "OUTPUT:\n",
    "{'zle'}\n",
    "{'bkk'}\n",
    "{'vns'}\n",
    "{'doz'}"
   ]
  },
  {
   "cell_type": "code",
   "execution_count": 7,
   "metadata": {},
   "outputs": [
    {
     "name": "stdout",
     "output_type": "stream",
     "text": [
      "{'u', 'o', 'j'}\n",
      "{'y', 'k', 'g'}\n",
      "{'u', 'o', 'j'}\n",
      "{'d', 'a', 'j'}\n"
     ]
    },
    {
     "data": {
      "text/plain": [
       "set"
      ]
     },
     "execution_count": 7,
     "metadata": {},
     "output_type": "execute_result"
    }
   ],
   "source": [
    "# simple as this. George from office hours said this is okay even though it isnt unique random\n",
    "set1,set2,set3,set4 = {'u','j','o'}, {'k','y','g'}, {'o','j','u'}, {'d','j','a'}\n",
    "print(set1)\n",
    "print(set2)\n",
    "print(set3)\n",
    "print(set4)\n",
    "type(set1) #sanity check to make sure we are in sets"
   ]
  },
  {
   "cell_type": "markdown",
   "metadata": {
    "id": "I2MizdcHM02C"
   },
   "source": [
    "Combine the first two sets and last two sets and assign these sets to new variables."
   ]
  },
  {
   "cell_type": "code",
   "execution_count": 8,
   "metadata": {
    "id": "DN2IctPYM02D",
    "outputId": "2e7a2ee8-ee8f-4ae7-ea4d-b7176071bbab"
   },
   "outputs": [
    {
     "name": "stdout",
     "output_type": "stream",
     "text": [
      "{'y', 'g', 'u', 'k', 'o', 'j'}\n",
      "{'d', 'a', 'u', 'o', 'j'}\n"
     ]
    },
    {
     "data": {
      "text/plain": [
       "set"
      ]
     },
     "execution_count": 8,
     "metadata": {},
     "output_type": "execute_result"
    }
   ],
   "source": [
    "## SOLUTION GOES HERE\n",
    "new_set1 = set1.union(set2) #add distinct values in sets together\n",
    "new_set2 = set3.union(set4)\n",
    "print(new_set1)\n",
    "print(new_set2)\n",
    "type(new_set1) #sanity check"
   ]
  },
  {
   "cell_type": "markdown",
   "metadata": {
    "id": "YbnwlJ-7M02F"
   },
   "source": [
    "Check the intersection of these new sets with a print statement. "
   ]
  },
  {
   "cell_type": "code",
   "execution_count": 9,
   "metadata": {
    "id": "0SWL_43eM02F",
    "outputId": "83f6525a-3743-4efb-da83-33c2c77db58b"
   },
   "outputs": [
    {
     "name": "stdout",
     "output_type": "stream",
     "text": [
      "{'u', 'o', 'j'}\n"
     ]
    }
   ],
   "source": [
    "## SOLUTION GOES HERE\n",
    "print(new_set1.intersection(new_set2))\n"
   ]
  },
  {
   "cell_type": "markdown",
   "metadata": {
    "id": "OyChj7WVM02H"
   },
   "source": [
    "Next, swap the letters that were assigned to set 1 with the letters that were assigned to set 4 (and vice versa) without a temporary variable."
   ]
  },
  {
   "cell_type": "code",
   "execution_count": 10,
   "metadata": {
    "id": "KTHd5V5qM02I",
    "outputId": "04fba533-e43e-4bd9-b705-b16f15d81b88"
   },
   "outputs": [
    {
     "name": "stdout",
     "output_type": "stream",
     "text": [
      "{'u', 'o', 'j'}\n",
      "{'d', 'a', 'j'}\n",
      "After Switch\n",
      "{'d', 'a', 'j'}\n",
      "{'u', 'o', 'j'}\n"
     ]
    }
   ],
   "source": [
    "## SOLUTION GOES HERE\n",
    "print(set1)\n",
    "print(set4)\n",
    "set1,set4 = set4,set1\n",
    "print(\"After Switch\")\n",
    "print(set1)\n",
    "print(set4)"
   ]
  },
  {
   "cell_type": "markdown",
   "metadata": {
    "id": "wEDhRSGCM02K"
   },
   "source": [
    "Now, combine the updated first set with the second set, and combine the third set with the updated fourth set assigning both groups to new variables."
   ]
  },
  {
   "cell_type": "code",
   "execution_count": 11,
   "metadata": {
    "id": "S8zMWjfbM02K",
    "outputId": "10b82047-196c-45eb-a4ab-1c40e2827e1f"
   },
   "outputs": [
    {
     "name": "stdout",
     "output_type": "stream",
     "text": [
      "{'y', 'd', 'g', 'a', 'k', 'j'}\n",
      "{'u', 'o', 'j'}\n"
     ]
    }
   ],
   "source": [
    "## SOLUTION GOES HERE\n",
    "updated_set1 = set1.union(set2)\n",
    "updated_set2 = set3.union(set4)\n",
    "print(updated_set1)\n",
    "print(updated_set2) #only has 3 characters due to union operation"
   ]
  },
  {
   "cell_type": "markdown",
   "metadata": {
    "id": "v4AzIBCVM02M"
   },
   "source": [
    "Lastly, write two print statements. The first to check the new intersection of these sets with a print statement. The second to show the letters that only exist in the intersection of the the updated variables."
   ]
  },
  {
   "cell_type": "code",
   "execution_count": 12,
   "metadata": {
    "colab": {
     "base_uri": "https://localhost:8080/",
     "height": 34
    },
    "executionInfo": {
     "elapsed": 359,
     "status": "ok",
     "timestamp": 1601477752108,
     "user": {
      "displayName": "Catherine Pollack",
      "photoUrl": "",
      "userId": "11197461103070537819"
     },
     "user_tz": 240
    },
    "id": "JA1fPgwVCn1F",
    "outputId": "423f2a7d-488b-4f63-d45c-c31e82f488e5"
   },
   "outputs": [
    {
     "name": "stdout",
     "output_type": "stream",
     "text": [
      "True\n",
      "{'j'}\n"
     ]
    }
   ],
   "source": [
    "## SOLUTION GOES HERE\n",
    "# to check for intersection\n",
    "def contains(set1, set2):\n",
    "\n",
    "    set1 = updated_set1\n",
    "    set2 = updated_set2\n",
    "\n",
    "    for i in set1:\n",
    "        if i in set2:\n",
    "            return True\n",
    "\n",
    "    return False\n",
    "\n",
    "print(contains(updated_set1,updated_set2))  #first print statement to check for intersection\n",
    "print(updated_set1.intersection(updated_set2)) #second to print the intersection"
   ]
  },
  {
   "cell_type": "markdown",
   "metadata": {
    "id": "qHYTSYIzEPwx"
   },
   "source": [
    "*****"
   ]
  },
  {
   "cell_type": "markdown",
   "metadata": {
    "id": "7iFSxSREEShC"
   },
   "source": [
    "# What to turn in:\n",
    "- This Python notebook with solutions to the above questions. Be sure to double-check your work such that print statements are included and executed where appropriate. "
   ]
  }
 ],
 "metadata": {
  "colab": {
   "name": "QBS101-W20-week04-homework-solutions.ipynb",
   "provenance": []
  },
  "kernelspec": {
   "display_name": "Python 3",
   "language": "python",
   "name": "python3"
  },
  "language_info": {
   "codemirror_mode": {
    "name": "ipython",
    "version": 3
   },
   "file_extension": ".py",
   "mimetype": "text/x-python",
   "name": "python",
   "nbconvert_exporter": "python",
   "pygments_lexer": "ipython3",
   "version": "3.7.6"
  },
  "toc": {
   "base_numbering": 1,
   "nav_menu": {},
   "number_sections": true,
   "sideBar": true,
   "skip_h1_title": false,
   "title_cell": "Table of Contents",
   "title_sidebar": "Contents",
   "toc_cell": false,
   "toc_position": {},
   "toc_section_display": true,
   "toc_window_display": false
  },
  "varInspector": {
   "cols": {
    "lenName": 16,
    "lenType": 16,
    "lenVar": 40
   },
   "kernels_config": {
    "python": {
     "delete_cmd_postfix": "",
     "delete_cmd_prefix": "del ",
     "library": "var_list.py",
     "varRefreshCmd": "print(var_dic_list())"
    },
    "r": {
     "delete_cmd_postfix": ") ",
     "delete_cmd_prefix": "rm(",
     "library": "var_list.r",
     "varRefreshCmd": "cat(var_dic_list()) "
    }
   },
   "types_to_exclude": [
    "module",
    "function",
    "builtin_function_or_method",
    "instance",
    "_Feature"
   ],
   "window_display": false
  }
 },
 "nbformat": 4,
 "nbformat_minor": 4
}
