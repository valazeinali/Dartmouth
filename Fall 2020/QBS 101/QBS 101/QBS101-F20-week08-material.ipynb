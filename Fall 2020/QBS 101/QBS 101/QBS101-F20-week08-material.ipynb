{
 "cells": [
  {
   "cell_type": "markdown",
   "metadata": {
    "id": "xZ8hd7hizmGC"
   },
   "source": [
    "# Recursions, Higher-Order Functions\n",
    "\n",
    "Sources: \n",
    "- [Teclado 30 Days of Python](https://blog.tecladocode.com/30-days-of-python/) days 16\n",
    "- [Wikipedia on Recursions](https://en.wikipedia.org/wiki/Recursion_(computer_science))"
   ]
  },
  {
   "cell_type": "markdown",
   "metadata": {
    "id": "fo_hIVIEQZKq"
   },
   "source": [
    "# Recursion\n",
    "\n",
    "In computer science, recursion is a method of solving a problem where the solution depends on solutions to smaller instances of the same problem. Such problems can generally be solved by iteration, but this needs to identify and index the smaller instances at programming time. Recursion solves such recursive problems by using functions that call themselves from within their own code. The approach can be applied to many types of problems, and recursion is one of the central ideas of computer science.\n",
    "\n",
    "Most computer programming languages, including Python, support recursion by allowing a function to call itself from within its own code.\n"
   ]
  },
  {
   "cell_type": "code",
   "execution_count": 1,
   "metadata": {
    "id": "MOjvOgbqR6Dg"
   },
   "outputs": [],
   "source": [
    "def say_hello():\n",
    "  '''\n",
    "  says hello over and over over to \n",
    "  '''\n",
    "  print(\"Hello...\")\n",
    "  say_hello()"
   ]
  },
  {
   "cell_type": "markdown",
   "metadata": {
    "id": "aCRP3Vs7UGug"
   },
   "source": [
    "This create an infinite recursion, so just like in an infinite `while True` loop, it will need a \"stopping condition\" to escape the loop (or a \"continuing condition\")."
   ]
  },
  {
   "cell_type": "code",
   "execution_count": 2,
   "metadata": {
    "colab": {
     "base_uri": "https://localhost:8080/"
    },
    "executionInfo": {
     "elapsed": 411,
     "status": "ok",
     "timestamp": 1604492219062,
     "user": {
      "displayName": "Christian Darabos",
      "photoUrl": "https://lh3.googleusercontent.com/a-/AOh14Gj58rX31OVqoCy41duHsoMyAFVv9Ammc6u2HhU3=s64",
      "userId": "13696541032900097213"
     },
     "user_tz": 300
    },
    "id": "GTK401GBXhVL",
    "outputId": "d89d1ebe-90db-463d-fd6d-120ee35b0842"
   },
   "outputs": [
    {
     "name": "stdout",
     "output_type": "stream",
     "text": [
      "Hello...\n",
      "Hello...\n",
      "Hello...\n",
      "Hello...\n",
      "Hello...\n"
     ]
    }
   ],
   "source": [
    "def say_hello(n=5):\n",
    "  '''\n",
    "  prints hello n times, default \n",
    "  '''\n",
    "  if n<=0:\n",
    "      return\n",
    "      \n",
    "  print(\"Hello...\")\n",
    "  say_hello(n-1)\n",
    "\n",
    "say_hello()"
   ]
  },
  {
   "cell_type": "markdown",
   "metadata": {
    "id": "lodv3Owydxlz"
   },
   "source": [
    "The idea is to replace an explicit loop with a recursion. Because you always need at least one stopping condition, you can a recursive relationship:\n",
    "\n",
    "- return a set value if stopping condition is met\n",
    "- return the result of (a function of) the recursive call of the fonction otherwise\n",
    "\n",
    "Recursion relies on the fact that you can break down the problem into smaller instance that are solved \"the same way\". For example, searching for an element in a list can be broken down into:\n",
    "- searching for that element in a list that is _shorter by one_ than the list `search` is called on"
   ]
  },
  {
   "cell_type": "code",
   "execution_count": 4,
   "metadata": {
    "colab": {
     "base_uri": "https://localhost:8080/"
    },
    "executionInfo": {
     "elapsed": 361,
     "status": "ok",
     "timestamp": 1604347804901,
     "user": {
      "displayName": "Christian Darabos",
      "photoUrl": "https://lh3.googleusercontent.com/a-/AOh14Gj58rX31OVqoCy41duHsoMyAFVv9Ammc6u2HhU3=s64",
      "userId": "13696541032900097213"
     },
     "user_tz": 300
    },
    "id": "wpbFuQRta88R",
    "outputId": "476f560d-5ff4-4981-83f4-97979103deb3"
   },
   "outputs": [
    {
     "name": "stdout",
     "output_type": "stream",
     "text": [
      "Looking for 30, found: True\n"
     ]
    }
   ],
   "source": [
    "import random\n",
    "\n",
    "# searching for a needle in a haystack\n",
    "def search(needle, haystack):\n",
    "  '''\n",
    "  Recursive search *memory intensive*\n",
    "  '''\n",
    "  if haystack[0]==needle: # termination conditions\n",
    "    return True\n",
    "\n",
    "  if len(haystack)==0:\n",
    "    return False\n",
    "\n",
    "  return search(needle, haystack[1:]) # searching on a sublist that is one shorter than the original\n",
    "\n",
    "my_list = list(range(100))\n",
    "random.shuffle(my_list)\n",
    "x = random.randint(0,100)\n",
    "print(f'Looking for {x}, found: {search(x,my_list)}')"
   ]
  },
  {
   "cell_type": "markdown",
   "metadata": {
    "id": "_cTiPQbrj2Z7"
   },
   "source": [
    "Searching through a list using recursion using a needle, a haystack and the current index.\n",
    "\n",
    "Returns:\n",
    "- `False` if there is no more element in the list\n",
    "- `True` if the list starts with `needle`\n",
    "- the result of searching on a sublist starting at index `1`\n",
    "\n",
    "This method is elegant but memory intensive, as it creates multiple copies of the list in memory.\n",
    "\n",
    "A less elegant but more memory consious way is to carry through a \"current index variable\" and always pass the original list."
   ]
  },
  {
   "cell_type": "code",
   "execution_count": 6,
   "metadata": {
    "id": "CS0p8XCmlB43"
   },
   "outputs": [
    {
     "name": "stdout",
     "output_type": "stream",
     "text": [
      "Looking for 47, found: True\n"
     ]
    }
   ],
   "source": [
    "import random\n",
    "\n",
    "def search_mem(needle, haystack, index=0):  # using a 3rd optional parameter saves memory\n",
    "  '''\n",
    "  Recursive search using an index argument\n",
    "  '''\n",
    "  if haystack[index]==needle:\n",
    "    return True\n",
    "\n",
    "  if index == len(haystack):\n",
    "    return False\n",
    "\n",
    "  return search_mem(needle, haystack, index+1)\n",
    "\n",
    "\n",
    "my_list = list(range(100))\n",
    "random.shuffle(my_list)\n",
    "x = random.randint(0,100)\n",
    "print(f'Looking for {x}, found: {search(x,my_list)}')"
   ]
  },
  {
   "cell_type": "markdown",
   "metadata": {
    "id": "lH23GhTHlIW1"
   },
   "source": [
    "Searching through a list using recursion using a needle, a haystack and the current index.\n",
    "\n",
    "Returns:\n",
    "- `False` if `index == len(haystack)`\n",
    "- `True` if `haystack[index]==needle`\n",
    "- otherwise:\n",
    "  - `index +=1`\n",
    "  - search with new `index`"
   ]
  },
  {
   "cell_type": "markdown",
   "metadata": {
    "id": "jLIWgGxClBbV"
   },
   "source": [
    "Finally, a method that might be more intuitive would be to use a _binary_ search, and search for that element in _the first and the second half_ of the list, which in turn can be broken down into searching into quarters, etc. until you only have one element left."
   ]
  },
  {
   "cell_type": "code",
   "execution_count": 7,
   "metadata": {
    "colab": {
     "base_uri": "https://localhost:8080/"
    },
    "executionInfo": {
     "elapsed": 326,
     "status": "ok",
     "timestamp": 1604346217396,
     "user": {
      "displayName": "Christian Darabos",
      "photoUrl": "https://lh3.googleusercontent.com/a-/AOh14Gj58rX31OVqoCy41duHsoMyAFVv9Ammc6u2HhU3=s64",
      "userId": "13696541032900097213"
     },
     "user_tz": 300
    },
    "id": "6GrPGBQ0aQK0",
    "outputId": "5a1c5f9b-d7a7-42b9-eb28-54a6b36f4f07"
   },
   "outputs": [
    {
     "name": "stdout",
     "output_type": "stream",
     "text": [
      "Looking for 86, found: True\n"
     ]
    }
   ],
   "source": [
    "import random\n",
    "\n",
    "def search_by_half(needle, haystack):\n",
    "  '''\n",
    "  Recursive search using 2 halfs of the list\n",
    "  '''\n",
    "  if len(haystack)==1:\n",
    "    return needle==haystack[0]\n",
    "\n",
    "  halfway = int(len(haystack)/2)\n",
    "  return search_by_half(needle, haystack[:halfway]) or search_by_half(needle, haystack[halfway:])\n",
    "\n",
    "my_list = list(range(100))\n",
    "random.shuffle(my_list)\n",
    "x = random.randint(0,100)\n",
    "print(f'Looking for {x}, found: {search(x,my_list)}')"
   ]
  },
  {
   "cell_type": "markdown",
   "metadata": {
    "id": "3kbBw9MluiTB"
   },
   "source": [
    "# First Order/Class Functions\n",
    "\n",
    "A programming language is said to have first class functions when functions in that language are treated like any other type. They're said to be _first class citizens_ of the language.\n",
    "\n",
    "Generally speaking, this means we can \n",
    "- pass functions in as arguments to other functions, \n",
    "- return them from functions, and \n",
    "- assign them to variables.\n",
    "\n",
    "## Assigning functions to variables\n",
    "\n",
    "When defining a function using `def`, we provide a _name_ for our function. Two things happen at that time:\n",
    "\n",
    "1. The function gets named according to the specification. Meaning it gets its own entry in the namespace:\n",
    "```\n",
    "  def hello():\n",
    "    print('Hello')\n",
    "  \n",
    "  print(hello)  # <function hello at 0x7f3923a92488>\n",
    "```\n",
    "2. The function name becomes part of this representation of the function.Python creates a variable using this name, and it assigns the function to this name.\n",
    "\n",
    "These are actually two very different things, and we can demonstrate this by assigning a function to a different variable name, and printing the values associated with these different names.\n",
    "```\n",
    "def add(a, b):\n",
    "\tprint(a + b)\n",
    "\n",
    "adder = add\n",
    "\n",
    "print(add)\n",
    "print(adder)\n",
    "```\n",
    "Output\n",
    "```\n",
    "<function add at 0x7f11bc6451f0>\n",
    "<function add at 0x7f11bc6451f0>\n",
    "```\n",
    "There are a couple of interesting things to note here.\n",
    "\n",
    "1. both of the functions are the exact same object. Their memory addresses are identical.\n",
    "\n",
    "2.both of the functions are still called `add` when printing this string representation of the functions. That's because the variable name wused to refer to the function, and the function's name, are different things."
   ]
  },
  {
   "cell_type": "markdown",
   "metadata": {
    "id": "STduphZYyLaD"
   },
   "source": [
    "##Functions as arguments\n",
    "Since functions can be assigned to variables, it makes sense that they can also be passed in functions as arguments: Parameters are variables, and arguments are the values assigned to those variables.\n",
    "\n",
    "Functions that can receive functions as argument or return a function are said to be of _higher-order_.\n",
    "\n",
    "Some existing functions can take (other) functions as argument in order to specify how to perfom certain task.\n",
    "\n",
    "Take the example of the `max()` function. Without any information, it performs as expected on numbers and strings:\n",
    "\n"
   ]
  },
  {
   "cell_type": "code",
   "execution_count": null,
   "metadata": {
    "colab": {
     "base_uri": "https://localhost:8080/"
    },
    "executionInfo": {
     "elapsed": 340,
     "status": "ok",
     "timestamp": 1604351648348,
     "user": {
      "displayName": "Christian Darabos",
      "photoUrl": "https://lh3.googleusercontent.com/a-/AOh14Gj58rX31OVqoCy41duHsoMyAFVv9Ammc6u2HhU3=s64",
      "userId": "13696541032900097213"
     },
     "user_tz": 300
    },
    "id": "SUrt_f-9zdTX",
    "outputId": "525f363d-5688-4fcf-9879-5185bdf76092"
   },
   "outputs": [
    {
     "name": "stdout",
     "output_type": "stream",
     "text": [
      "9\n",
      "zebra\n"
     ]
    }
   ],
   "source": [
    "my_list = [5,9,5,7,5,1,8,7,6]\n",
    "print(max(my_list))\n",
    "my_strings = ['fish','zebra','baboon']\n",
    "print(max(my_strings)) # prints the \"max string\" or last in alphabetical order"
   ]
  },
  {
   "cell_type": "markdown",
   "metadata": {
    "id": "Yhj7Qoiiz5ot"
   },
   "source": [
    "But what happens if the order is not _natural_ to the computer, for instace, months of the year:"
   ]
  },
  {
   "cell_type": "code",
   "execution_count": null,
   "metadata": {
    "colab": {
     "base_uri": "https://localhost:8080/"
    },
    "executionInfo": {
     "elapsed": 332,
     "status": "ok",
     "timestamp": 1604351784875,
     "user": {
      "displayName": "Christian Darabos",
      "photoUrl": "https://lh3.googleusercontent.com/a-/AOh14Gj58rX31OVqoCy41duHsoMyAFVv9Ammc6u2HhU3=s64",
      "userId": "13696541032900097213"
     },
     "user_tz": 300
    },
    "id": "reWfwVxC0Fw5",
    "outputId": "b77521bc-2767-49cb-a3f0-22e6f20e326d"
   },
   "outputs": [
    {
     "name": "stdout",
     "output_type": "stream",
     "text": [
      "September\n"
     ]
    }
   ],
   "source": [
    "months=['December', 'July', 'August', 'September']\n",
    "print(max(months)) # prints the \"max string\" or last in alphabetical order"
   ]
  },
  {
   "cell_type": "markdown",
   "metadata": {
    "id": "gigA-R4h0hpv"
   },
   "source": [
    "Python has no way of knowing that `Decemeber` comes after `September` in this case. A new function is needed to _help_ `max()` to order `months` properly."
   ]
  },
  {
   "cell_type": "code",
   "execution_count": null,
   "metadata": {
    "colab": {
     "base_uri": "https://localhost:8080/"
    },
    "executionInfo": {
     "elapsed": 810,
     "status": "ok",
     "timestamp": 1604352432920,
     "user": {
      "displayName": "Christian Darabos",
      "photoUrl": "https://lh3.googleusercontent.com/a-/AOh14Gj58rX31OVqoCy41duHsoMyAFVv9Ammc6u2HhU3=s64",
      "userId": "13696541032900097213"
     },
     "user_tz": 300
    },
    "id": "DLGYAnx81dE2",
    "outputId": "8f84f4a7-3ec5-4d4d-fa76-225a399e3150"
   },
   "outputs": [
    {
     "name": "stdout",
     "output_type": "stream",
     "text": [
      "7\n"
     ]
    }
   ],
   "source": [
    "import calendar\n",
    "\n",
    "def get_month_index(month):\n",
    "  '''\n",
    "  Returns the index of the month starting from 1\n",
    "  '''\n",
    "  return list(calendar.month_name).index(month)\n",
    "\n",
    "print(get_month_index('July'))"
   ]
  },
  {
   "cell_type": "markdown",
   "metadata": {
    "id": "wnBBN9hd3BRO"
   },
   "source": [
    "This new function returning a _sortable_ (or _comparable_) value for an element input that will allow `max` to order properly the months. Their name is no indication of the order, but the _index_ 1 through 12 is."
   ]
  },
  {
   "cell_type": "code",
   "execution_count": null,
   "metadata": {
    "colab": {
     "base_uri": "https://localhost:8080/"
    },
    "executionInfo": {
     "elapsed": 492,
     "status": "ok",
     "timestamp": 1604352575364,
     "user": {
      "displayName": "Christian Darabos",
      "photoUrl": "https://lh3.googleusercontent.com/a-/AOh14Gj58rX31OVqoCy41duHsoMyAFVv9Ammc6u2HhU3=s64",
      "userId": "13696541032900097213"
     },
     "user_tz": 300
    },
    "id": "e-1zK24t3XGD",
    "outputId": "0eea2699-50c4-476e-8008-6095bd6f18b3"
   },
   "outputs": [
    {
     "name": "stdout",
     "output_type": "stream",
     "text": [
      "Help on built-in function max in module builtins:\n",
      "\n",
      "max(...)\n",
      "    max(iterable, *[, default=obj, key=func]) -> value\n",
      "    max(arg1, arg2, *args, *[, key=func]) -> value\n",
      "    \n",
      "    With a single iterable argument, return its biggest item. The\n",
      "    default keyword-only argument specifies an object to return if\n",
      "    the provided iterable is empty.\n",
      "    With two or more arguments, return the largest argument.\n",
      "\n"
     ]
    }
   ],
   "source": [
    "help(max)"
   ]
  },
  {
   "cell_type": "markdown",
   "metadata": {
    "id": "rtghbRv83glO"
   },
   "source": [
    "The help provides some valuable information. The `max` function can take a function to a keyword only parameter called `key`. This function gets called for **every item** in the iterable, and each item is passed to the function, one at a time."
   ]
  },
  {
   "cell_type": "code",
   "execution_count": null,
   "metadata": {
    "colab": {
     "base_uri": "https://localhost:8080/"
    },
    "executionInfo": {
     "elapsed": 363,
     "status": "ok",
     "timestamp": 1604352733534,
     "user": {
      "displayName": "Christian Darabos",
      "photoUrl": "https://lh3.googleusercontent.com/a-/AOh14Gj58rX31OVqoCy41duHsoMyAFVv9Ammc6u2HhU3=s64",
      "userId": "13696541032900097213"
     },
     "user_tz": 300
    },
    "id": "f9CspKfS300X",
    "outputId": "ba8df526-7488-4594-ffda-13f6964f14dc"
   },
   "outputs": [
    {
     "name": "stdout",
     "output_type": "stream",
     "text": [
      "December\n"
     ]
    }
   ],
   "source": [
    "months=['December', 'July', 'August', 'September']\n",
    "print(max(months, key=get_month_index))"
   ]
  },
  {
   "cell_type": "markdown",
   "metadata": {
    "id": "N1d2XjCH4Cod"
   },
   "source": [
    "Because each element is now sorted according to the value returned by the `key` function when the element is passed as a parameter, the `max` function is able to sort values correctly.\n",
    "\n",
    "Note that for the case of `max`, the `key` function must have exactly one parameter as it will pass each individual element to that function in turn."
   ]
  },
  {
   "cell_type": "markdown",
   "metadata": {
    "id": "Cz_CSe9yzbwB"
   },
   "source": [
    "Functions can be somewhat more complex, depending on the argument(s) passed.\n",
    "\n",
    "For example, let's say student grades are stored in a `list` of `dict`:\n",
    "```\n",
    "students = [\n",
    "\t{\"name\": \"Hannah\", \"grade_average\": 83},\n",
    "\t{\"name\": \"Charlie\", \"grade_average\": 91},\n",
    "\t{\"name\": \"Peter\", \"grade_average\": 85},\n",
    "\t{\"name\": \"Rachel\", \"grade_average\": 79},\n",
    "\t{\"name\": \"Lauren\", \"grade_average\": 92}\n",
    "]\n",
    "```\n",
    "Realistically this list could be ordered this alphabetically, or by grade. However, without indication (`key` function), `max` is actually trying to compare a whole dictionary to another dictionary using the `>` operator, which is not a legal operation.\n",
    "\n",
    "The following function:\n",
    "```\n",
    "def get_grade_average(student):\n",
    "\treturn student[\"grade_average\"]\n",
    "```\n",
    "accepts a dictionary, and returns the value associated with the \"grade_average\" key of that dictionary. In our case this is an integer, and integers can be legally compared using `>`.\n",
    "\n",
    "```\n",
    "valedictorian = max(students, key=get_grade_average)\n",
    "print(valedictorian)\n",
    "```\n",
    "The `get_grade_average` function is provided as an argument for `max`, and max called this function internally to determine the order of the items in our list. It then correctly returned this dictionary as the student with the highest grade average:\n",
    "```\n",
    "{\"name\": \"Lauren\", \"grade_average\": 92}\n",
    "```\n"
   ]
  },
  {
   "cell_type": "markdown",
   "metadata": {
    "id": "83pbDdT98PWu"
   },
   "source": [
    "Without passing a function as a parameter, we would have had to write a brand new `max` function that can deal with list of dictionaries of student grade averages."
   ]
  },
  {
   "cell_type": "markdown",
   "metadata": {
    "id": "0asC98BS7tp_"
   },
   "source": [
    "The `key` parameter is not reserved to existing functions, but it can be called anything (usually `func`):"
   ]
  },
  {
   "cell_type": "code",
   "execution_count": null,
   "metadata": {
    "colab": {
     "base_uri": "https://localhost:8080/"
    },
    "executionInfo": {
     "elapsed": 638,
     "status": "ok",
     "timestamp": 1604354419255,
     "user": {
      "displayName": "Christian Darabos",
      "photoUrl": "https://lh3.googleusercontent.com/a-/AOh14Gj58rX31OVqoCy41duHsoMyAFVv9Ammc6u2HhU3=s64",
      "userId": "13696541032900097213"
     },
     "user_tz": 300
    },
    "id": "YDIpzxuZ7o58",
    "outputId": "25992880-2368-4f3c-8898-a1cc82ec8d9a"
   },
   "outputs": [
    {
     "name": "stdout",
     "output_type": "stream",
     "text": [
      "30\n",
      "200\n"
     ]
    }
   ],
   "source": [
    "def add(a, b):\n",
    "  return (a + b)\n",
    "\n",
    "def subtract(a, b):\n",
    "  return (a - b)\n",
    "\n",
    "def multiply(a, b):\n",
    "  return (a * b)\n",
    "\n",
    "def divide(a, b):\n",
    "  if b == 0:\n",
    "    print(\"You can't divide by 0!\")\n",
    "    return\n",
    "  else:\n",
    "    return (a / b)\n",
    "  \n",
    "def do_operation(func, a, b):\n",
    "  '''\n",
    "  Performs the function passed in parameter using the values of a and b\n",
    "  '''\n",
    "  return func(a,b)\n",
    "\n",
    "a,b=10,20\n",
    "print(do_operation(add, a, b))\n",
    "print(do_operation(multiply, a, b))"
   ]
  },
  {
   "cell_type": "markdown",
   "metadata": {
    "id": "g1r7uqOR74aF"
   },
   "source": [
    "## Returning a function\n",
    "\n",
    "A function can not only take a function as parameter but also return one:"
   ]
  },
  {
   "cell_type": "code",
   "execution_count": 8,
   "metadata": {
    "colab": {
     "base_uri": "https://localhost:8080/"
    },
    "executionInfo": {
     "elapsed": 4963,
     "status": "ok",
     "timestamp": 1604354875282,
     "user": {
      "displayName": "Christian Darabos",
      "photoUrl": "https://lh3.googleusercontent.com/a-/AOh14Gj58rX31OVqoCy41duHsoMyAFVv9Ammc6u2HhU3=s64",
      "userId": "13696541032900097213"
     },
     "user_tz": 300
    },
    "id": "OzRo3bAK_EfD",
    "outputId": "fec0acfa-4109-4803-8038-b373822882f9"
   },
   "outputs": [
    {
     "name": "stdout",
     "output_type": "stream",
     "text": [
      "Please select one of the following options:\n",
      "\n",
      "a: add\n",
      "s: subtract\n",
      "m: multiply\n",
      "d: divide\n",
      "\n",
      "What would you like to do? a\n"
     ]
    },
    {
     "ename": "NameError",
     "evalue": "name 'add' is not defined",
     "output_type": "error",
     "traceback": [
      "\u001b[0;31m---------------------------------------------------------------------------\u001b[0m",
      "\u001b[0;31mNameError\u001b[0m                                 Traceback (most recent call last)",
      "\u001b[0;32m<ipython-input-8-52ed35de89f1>\u001b[0m in \u001b[0;36m<module>\u001b[0;34m\u001b[0m\n\u001b[1;32m     14\u001b[0m What would you like to do? \"\"\")\n\u001b[1;32m     15\u001b[0m \u001b[0;34m\u001b[0m\u001b[0m\n\u001b[0;32m---> 16\u001b[0;31m \u001b[0moperation\u001b[0m \u001b[0;34m=\u001b[0m \u001b[0mget_option\u001b[0m\u001b[0;34m(\u001b[0m\u001b[0mselected_option\u001b[0m\u001b[0;34m)\u001b[0m\u001b[0;34m\u001b[0m\u001b[0;34m\u001b[0m\u001b[0m\n\u001b[0m\u001b[1;32m     17\u001b[0m \u001b[0;34m\u001b[0m\u001b[0m\n\u001b[1;32m     18\u001b[0m \u001b[0;32mif\u001b[0m \u001b[0moperation\u001b[0m\u001b[0;34m:\u001b[0m\u001b[0;34m\u001b[0m\u001b[0;34m\u001b[0m\u001b[0m\n",
      "\u001b[0;32m<ipython-input-8-52ed35de89f1>\u001b[0m in \u001b[0;36mget_option\u001b[0;34m(abbrev)\u001b[0m\n\u001b[1;32m      3\u001b[0m   \u001b[0mReturn\u001b[0m \u001b[0mthe\u001b[0m \u001b[0mfunction\u001b[0m \u001b[0mthat\u001b[0m \u001b[0mmatches\u001b[0m \u001b[0mthe\u001b[0m \u001b[0mabbrev\u001b[0m \u001b[0mkey\u001b[0m \u001b[0;32min\u001b[0m \u001b[0mthe\u001b[0m \u001b[0mdictionary\u001b[0m\u001b[0;34m\u001b[0m\u001b[0;34m\u001b[0m\u001b[0m\n\u001b[1;32m      4\u001b[0m   '''\n\u001b[0;32m----> 5\u001b[0;31m   \u001b[0;32mreturn\u001b[0m \u001b[0;34m{\u001b[0m\u001b[0;34m'a'\u001b[0m\u001b[0;34m:\u001b[0m\u001b[0madd\u001b[0m\u001b[0;34m,\u001b[0m \u001b[0;34m's'\u001b[0m\u001b[0;34m:\u001b[0m\u001b[0msubtract\u001b[0m\u001b[0;34m,\u001b[0m \u001b[0;34m'm'\u001b[0m\u001b[0;34m:\u001b[0m\u001b[0mmultiply\u001b[0m\u001b[0;34m,\u001b[0m \u001b[0;34m'd'\u001b[0m\u001b[0;34m:\u001b[0m\u001b[0mdivide\u001b[0m\u001b[0;34m}\u001b[0m\u001b[0;34m.\u001b[0m\u001b[0mget\u001b[0m\u001b[0;34m(\u001b[0m\u001b[0mabbrev\u001b[0m\u001b[0;34m)\u001b[0m\u001b[0;34m\u001b[0m\u001b[0;34m\u001b[0m\u001b[0m\n\u001b[0m\u001b[1;32m      6\u001b[0m \u001b[0;34m\u001b[0m\u001b[0m\n\u001b[1;32m      7\u001b[0m selected_option = input(\"\"\"Please select one of the following options:\n",
      "\u001b[0;31mNameError\u001b[0m: name 'add' is not defined"
     ]
    }
   ],
   "source": [
    "def get_option(abbrev):\n",
    "  '''\n",
    "  Return the function that matches the abbrev key in the dictionary\n",
    "  '''\n",
    "  return {'a':add, 's':subtract, 'm':multiply, 'd':divide}.get(abbrev)\n",
    "\n",
    "selected_option = input(\"\"\"Please select one of the following options:\n",
    "\n",
    "a: add\n",
    "s: subtract\n",
    "m: multiply\n",
    "d: divide\n",
    "\n",
    "What would you like to do? \"\"\")\n",
    "\n",
    "operation = get_option(selected_option)\n",
    "\n",
    "if operation:\n",
    "\ta = int(input(\"Please enter a value for a: \"))\n",
    "\tb = int(input(\"Please enter a value for b: \"))\n",
    "\n",
    "\tprint(operation(a, b))\n",
    "else:\n",
    "\tprint(\"Invalid selection\")"
   ]
  },
  {
   "cell_type": "code",
   "execution_count": null,
   "metadata": {},
   "outputs": [],
   "source": []
  }
 ],
 "metadata": {
  "colab": {
   "authorship_tag": "ABX9TyMFBBISIhvoEmA4b6SD/swi",
   "collapsed_sections": [],
   "name": "QBS101-F20-week08-material.ipynb",
   "provenance": []
  },
  "kernelspec": {
   "display_name": "Python 3",
   "language": "python",
   "name": "python3"
  },
  "language_info": {
   "codemirror_mode": {
    "name": "ipython",
    "version": 3
   },
   "file_extension": ".py",
   "mimetype": "text/x-python",
   "name": "python",
   "nbconvert_exporter": "python",
   "pygments_lexer": "ipython3",
   "version": "3.7.6"
  }
 },
 "nbformat": 4,
 "nbformat_minor": 1
}
