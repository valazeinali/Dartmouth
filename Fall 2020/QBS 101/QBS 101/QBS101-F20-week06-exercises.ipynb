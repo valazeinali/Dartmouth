{
 "cells": [
  {
   "cell_type": "markdown",
   "metadata": {
    "id": "a38cRh0cAHR3"
   },
   "source": [
    "# Age calculation\n",
    "Ask for a date of birth in the American date format `mm/dd/yyyy` and print the age of the participant. Correct month and day of the month. Think about what edge-cases you will have to test for.\n",
    "\n",
    "The code below will help you determining todays day, month, and year as separate integers. "
   ]
  },
  {
   "cell_type": "code",
   "execution_count": 3,
   "metadata": {
    "colab": {
     "base_uri": "https://localhost:8080/",
     "height": 34
    },
    "executionInfo": {
     "elapsed": 384,
     "status": "ok",
     "timestamp": 1603217325258,
     "user": {
      "displayName": "Christian Darabos",
      "photoUrl": "https://lh3.googleusercontent.com/a-/AOh14Gj58rX31OVqoCy41duHsoMyAFVv9Ammc6u2HhU3=s64",
      "userId": "13696541032900097213"
     },
     "user_tz": 240
    },
    "id": "FQdST5BKKNMn",
    "outputId": "63eba6b8-f5fd-4d22-e893-cc3c840d18b8"
   },
   "outputs": [
    {
     "name": "stdout",
     "output_type": "stream",
     "text": [
      "21 10 2020\n"
     ]
    }
   ],
   "source": [
    "from datetime import datetime as dt\n",
    "today = dt.today()\n",
    "print(today.day, today.month, today.year)"
   ]
  },
  {
   "cell_type": "code",
   "execution_count": 18,
   "metadata": {
    "colab": {
     "base_uri": "https://localhost:8080/",
     "height": 51
    },
    "executionInfo": {
     "elapsed": 9161,
     "status": "ok",
     "timestamp": 1603217335675,
     "user": {
      "displayName": "Christian Darabos",
      "photoUrl": "https://lh3.googleusercontent.com/a-/AOh14Gj58rX31OVqoCy41duHsoMyAFVv9Ammc6u2HhU3=s64",
      "userId": "13696541032900097213"
     },
     "user_tz": 240
    },
    "id": "nj8CvD7uL116",
    "outputId": "d30f45f9-2875-4bf0-b95c-601f736e2049"
   },
   "outputs": [
    {
     "ename": "SyntaxError",
     "evalue": "invalid syntax (<ipython-input-18-24d9a7c8a260>, line 2)",
     "output_type": "error",
     "traceback": [
      "\u001b[0;36m  File \u001b[0;32m\"<ipython-input-18-24d9a7c8a260>\"\u001b[0;36m, line \u001b[0;32m2\u001b[0m\n\u001b[0;31m    look online\u001b[0m\n\u001b[0m              ^\u001b[0m\n\u001b[0;31mSyntaxError\u001b[0m\u001b[0;31m:\u001b[0m invalid syntax\n"
     ]
    }
   ],
   "source": [
    "# your code here\n",
    "look at his solution!"
   ]
  },
  {
   "cell_type": "markdown",
   "metadata": {
    "id": "BgN_kEZaLp3H"
   },
   "source": [
    "Now use \n",
    "  * list unpacking\n",
    "  * the ternary conditional operator\n",
    "  * list comprehension \n",
    "  \n",
    "to make your code as short as possible (FYI, mine is 3 lines)"
   ]
  },
  {
   "cell_type": "code",
   "execution_count": 10,
   "metadata": {
    "colab": {
     "base_uri": "https://localhost:8080/",
     "height": 51
    },
    "executionInfo": {
     "elapsed": 10483,
     "status": "ok",
     "timestamp": 1603216595120,
     "user": {
      "displayName": "Christian Darabos",
      "photoUrl": "https://lh3.googleusercontent.com/a-/AOh14Gj58rX31OVqoCy41duHsoMyAFVv9Ammc6u2HhU3=s64",
      "userId": "13696541032900097213"
     },
     "user_tz": 240
    },
    "id": "Zmd6KmNQDZXM",
    "outputId": "39256a1f-8d97-4fc6-d65b-2acdfeb9dc4b"
   },
   "outputs": [
    {
     "name": "stdout",
     "output_type": "stream",
     "text": [
      "Date of birth: 10/21/1978\n",
      "41\n"
     ]
    }
   ],
   "source": [
    "# your code here"
   ]
  },
  {
   "cell_type": "markdown",
   "metadata": {
    "id": "fS7qOiLsV-l6"
   },
   "source": [
    "# Pay calculator\n",
    "Below is a list of tuples, where each tuple contains details about an employee of a shop: their name, the number of hours worked last week, and their hourly rate."
   ]
  },
  {
   "cell_type": "code",
   "execution_count": 20,
   "metadata": {
    "id": "_gV1pckhWNcz"
   },
   "outputs": [],
   "source": [
    "employees = [\n",
    "    (\"Rolf Smith\", 35, 8.75),\n",
    "    (\"Anne Pun\", 30, 12.50),\n",
    "    (\"Charlie Lee\", 50, 15.50),\n",
    "    (\"Bob Smith\", 20, 7.00)\n",
    "]"
   ]
  },
  {
   "cell_type": "markdown",
   "metadata": {
    "id": "aUHWRa_VWOqT"
   },
   "source": [
    "Print how much each employee is due to be paid at the end of the week in a nice, readable format.\n"
   ]
  },
  {
   "cell_type": "code",
   "execution_count": 32,
   "metadata": {
    "colab": {
     "base_uri": "https://localhost:8080/",
     "height": 86
    },
    "executionInfo": {
     "elapsed": 273,
     "status": "ok",
     "timestamp": 1603136061887,
     "user": {
      "displayName": "Christian Darabos",
      "photoUrl": "https://lh3.googleusercontent.com/a-/AOh14Gj58rX31OVqoCy41duHsoMyAFVv9Ammc6u2HhU3=s64",
      "userId": "13696541032900097213"
     },
     "user_tz": 240
    },
    "id": "ySUnoY7IWWz3",
    "outputId": "6df3db91-1c8d-4985-fe65-eded8c5bb777"
   },
   "outputs": [
    {
     "name": "stdout",
     "output_type": "stream",
     "text": [
      "Rolf Smith is due $306.25 this week.\n",
      "Anne Pun is due $375.0 this week.\n",
      "Charlie Lee is due $775.0 this week.\n",
      "Bob Smith is due $140.0 this week.\n"
     ]
    }
   ],
   "source": [
    "# your code here\n",
    "#print(f'{employees[0][0]} is due ${employees[0][1]*employees[0][2]} this week')\n",
    "#print(f'{employees[1][0]} is due ${employees[1][1]*employees[1][2]} this week')\n",
    "#print(f'{employees[2][0]} is due ${employees[2][1]*employees[2][2]} this week')\n",
    "#print(f'{employees[3][0]} is due ${employees[3][1]*employees[3][2]} this week')\n",
    "\n",
    "# or\n",
    "\n",
    "for employee in employees:\n",
    "    print(f'{employee[0]} is due ${employee[1]*employee[2]} this week.')\n"
   ]
  },
  {
   "cell_type": "markdown",
   "metadata": {
    "id": "j44VeONAW3bZ"
   },
   "source": [
    "For the employees above, print out those who are earning an hourly wage above average.\n",
    "\n",
    "Hint: use a variable to keep track of the total wage. Then, use that variable to calculate the average. You will probably need 2 loops..."
   ]
  },
  {
   "cell_type": "code",
   "execution_count": null,
   "metadata": {
    "colab": {
     "base_uri": "https://localhost:8080/",
     "height": 51
    },
    "executionInfo": {
     "elapsed": 342,
     "status": "ok",
     "timestamp": 1603136397150,
     "user": {
      "displayName": "Christian Darabos",
      "photoUrl": "https://lh3.googleusercontent.com/a-/AOh14Gj58rX31OVqoCy41duHsoMyAFVv9Ammc6u2HhU3=s64",
      "userId": "13696541032900097213"
     },
     "user_tz": 240
    },
    "id": "4JxFS-lfW2y_",
    "outputId": "7538ade0-4d72-4f0d-ec57-681889e6b921"
   },
   "outputs": [
    {
     "name": "stdout",
     "output_type": "stream",
     "text": [
      "('Rolf Smith', 35, 8.75)\n",
      "('Charlie Lee', 50, 15.5)\n"
     ]
    }
   ],
   "source": [
    "# your code here\n",
    "# look at his solution\n",
    "wageTotal = 0 \n",
    "for employee in employees:\n",
    "    wageTotal += employee[2]\n",
    "average = wageTotal/len(employees)\n",
    "\n",
    "for employee in employees:"
   ]
  },
  {
   "cell_type": "markdown",
   "metadata": {
    "id": "stv7IKokSVvv"
   },
   "source": [
    "# `index_of`\n",
    "Create a `haystack` list of 1000 consecutive integers numbers starting at 0. Then use `random.shuffle()` to, well, shuffle that list :) Read the `help(random.shuffle)` article for more info.\n",
    "Create a `needle` variable that is a random integer between 0 and 999 included.\n",
    "Initialize an `index` variable to -1.\n",
    "\n",
    "Write a loop that:\n",
    "- searches for the `needle` in the `haystack`\n",
    "- sets the `index` to the index at which the `needle` can be found in the `haystack`\n",
    "- interrupts the loop once the `needle` is found\n",
    "\n",
    "Print the index and the number of comparion operations that were saved by interrupting the loop."
   ]
  },
  {
   "cell_type": "code",
   "execution_count": 47,
   "metadata": {},
   "outputs": [
    {
     "name": "stdout",
     "output_type": "stream",
     "text": [
      "170\n",
      "582\n"
     ]
    }
   ],
   "source": [
    "import random\n",
    "haystack = list(range(0,1000))\n",
    "random.shuffle(haystack)\n",
    "#print(haystack)\n",
    "needle = random.choice(haystack)\n",
    "print(needle)\n",
    "i=0\n",
    "#while(True):\n",
    "#    if(needle == haystack):\n",
    "#        print(i)\n",
    "#        break\n",
    "\n",
    "index = -1\n",
    "for i,n in enumerate(haystack):\n",
    "    if n == needle:\n",
    "        print(i)\n",
    "        break"
   ]
  },
  {
   "cell_type": "code",
   "execution_count": 15,
   "metadata": {
    "colab": {
     "base_uri": "https://localhost:8080/",
     "height": 34
    },
    "executionInfo": {
     "elapsed": 274,
     "status": "ok",
     "timestamp": 1603220583830,
     "user": {
      "displayName": "Christian Darabos",
      "photoUrl": "https://lh3.googleusercontent.com/a-/AOh14Gj58rX31OVqoCy41duHsoMyAFVv9Ammc6u2HhU3=s64",
      "userId": "13696541032900097213"
     },
     "user_tz": 240
    },
    "id": "OkUq9l0rSOJN",
    "outputId": "d8f29835-7111-4c54-dd37-2e8d1ab0698a"
   },
   "outputs": [
    {
     "name": "stdout",
     "output_type": "stream",
     "text": [
      "Needle: 322, Index: 857, op. saved: 144\n"
     ]
    }
   ],
   "source": [
    "# your code here"
   ]
  },
  {
   "cell_type": "markdown",
   "metadata": {
    "id": "7bSQE9DutqPG"
   },
   "source": [
    "# Find duplicates\n",
    "\n",
    "In the below email list, print only the duplicates."
   ]
  },
  {
   "cell_type": "code",
   "execution_count": 21,
   "metadata": {
    "executionInfo": {
     "elapsed": 296,
     "status": "ok",
     "timestamp": 1603143116731,
     "user": {
      "displayName": "Christian Darabos",
      "photoUrl": "https://lh3.googleusercontent.com/a-/AOh14Gj58rX31OVqoCy41duHsoMyAFVv9Ammc6u2HhU3=s64",
      "userId": "13696541032900097213"
     },
     "user_tz": 240
    },
    "id": "Pk3TReU5t3NC"
   },
   "outputs": [],
   "source": [
    "email_list = ['roger@hey.com','michael@hey.com','roger@hey.com','prince@gmail.com']"
   ]
  },
  {
   "cell_type": "code",
   "execution_count": 23,
   "metadata": {
    "colab": {
     "base_uri": "https://localhost:8080/",
     "height": 51
    },
    "executionInfo": {
     "elapsed": 293,
     "status": "ok",
     "timestamp": 1603143120816,
     "user": {
      "displayName": "Christian Darabos",
      "photoUrl": "https://lh3.googleusercontent.com/a-/AOh14Gj58rX31OVqoCy41duHsoMyAFVv9Ammc6u2HhU3=s64",
      "userId": "13696541032900097213"
     },
     "user_tz": 240
    },
    "id": "g9wNNSwft9EB",
    "outputId": "7302d058-b1a0-4d20-fa69-ed36f76dbc6b"
   },
   "outputs": [
    {
     "name": "stdout",
     "output_type": "stream",
     "text": [
      "roger@hey.com\n",
      "roger@hey.com\n"
     ]
    }
   ],
   "source": [
    "# your code here"
   ]
  },
  {
   "cell_type": "markdown",
   "metadata": {
    "id": "flbjZcH9uJR1"
   },
   "source": [
    "Improve on your code to print duplicate values only once."
   ]
  },
  {
   "cell_type": "code",
   "execution_count": 31,
   "metadata": {
    "colab": {
     "base_uri": "https://localhost:8080/",
     "height": 34
    },
    "executionInfo": {
     "elapsed": 377,
     "status": "ok",
     "timestamp": 1603143729195,
     "user": {
      "displayName": "Christian Darabos",
      "photoUrl": "https://lh3.googleusercontent.com/a-/AOh14Gj58rX31OVqoCy41duHsoMyAFVv9Ammc6u2HhU3=s64",
      "userId": "13696541032900097213"
     },
     "user_tz": 240
    },
    "id": "8h-LYg19uXc5",
    "outputId": "87c97d0f-a28f-45cd-9e2c-5221403d6016"
   },
   "outputs": [
    {
     "name": "stdout",
     "output_type": "stream",
     "text": [
      "roger@hey.com\n"
     ]
    }
   ],
   "source": [
    "# your code here"
   ]
  },
  {
   "cell_type": "markdown",
   "metadata": {
    "id": "2ckgY2o9lZNV"
   },
   "source": [
    "# Heads or Tails\n",
    "\n",
    "In a casino in the Nevada desert, you are gambling your last \\$5 on coin toss game. Each toss costs \\$1. If you call it right, you get \\$2, otherwise, nothing. Play until you run out of money or decide to quit.\n",
    "\n",
    "<details>\n",
    "<summary>Spoiler alert! Hints here</summary>\n",
    "\n",
    "* use a `wallet` variable initialize at 5\n",
    "* use a `while` loop and a condition on the `wallet` content\n",
    "* ask the user for `heads`, `tails` or `quit`\n",
    "* print the value of the wallet at each turn \n",
    "</details>"
   ]
  },
  {
   "cell_type": "code",
   "execution_count": 19,
   "metadata": {
    "colab": {
     "base_uri": "https://localhost:8080/",
     "height": 994
    },
    "executionInfo": {
     "elapsed": 32709,
     "status": "ok",
     "timestamp": 1603141688964,
     "user": {
      "displayName": "Christian Darabos",
      "photoUrl": "https://lh3.googleusercontent.com/a-/AOh14Gj58rX31OVqoCy41duHsoMyAFVv9Ammc6u2HhU3=s64",
      "userId": "13696541032900097213"
     },
     "user_tz": 240
    },
    "id": "ycL96w1_qREP",
    "outputId": "ea109df0-4875-4d54-8875-53c6d4e18feb"
   },
   "outputs": [
    {
     "name": "stdout",
     "output_type": "stream",
     "text": [
      "You have $5 in your wallet. Type: 'h'=heads, 't'=tail, 'q'=quit\n",
      "Your call: h\n",
      "You win!\n",
      "You have $6 in your wallet. Type: 'h'=heads, 't'=tail, 'q'=quit\n",
      "Your call: h\n",
      "You win!\n",
      "You have $7 in your wallet. Type: 'h'=heads, 't'=tail, 'q'=quit\n",
      "Your call: h\n",
      "You win!\n",
      "You have $8 in your wallet. Type: 'h'=heads, 't'=tail, 'q'=quit\n",
      "Your call: h\n",
      "You lose :(\n",
      "You have $7 in your wallet. Type: 'h'=heads, 't'=tail, 'q'=quit\n",
      "Your call: h\n",
      "You win!\n",
      "You have $8 in your wallet. Type: 'h'=heads, 't'=tail, 'q'=quit\n",
      "Your call: h\n",
      "You lose :(\n",
      "You have $7 in your wallet. Type: 'h'=heads, 't'=tail, 'q'=quit\n",
      "Your call: h\n",
      "You win!\n",
      "You have $8 in your wallet. Type: 'h'=heads, 't'=tail, 'q'=quit\n",
      "Your call: h\n",
      "You lose :(\n",
      "You have $7 in your wallet. Type: 'h'=heads, 't'=tail, 'q'=quit\n",
      "Your call: h\n",
      "You win!\n",
      "You have $8 in your wallet. Type: 'h'=heads, 't'=tail, 'q'=quit\n",
      "Your call: t\n",
      "You win!\n",
      "You have $9 in your wallet. Type: 'h'=heads, 't'=tail, 'q'=quit\n",
      "Your call: t\n",
      "You win!\n",
      "You have $10 in your wallet. Type: 'h'=heads, 't'=tail, 'q'=quit\n",
      "Your call: t\n",
      "You win!\n",
      "You have $11 in your wallet. Type: 'h'=heads, 't'=tail, 'q'=quit\n",
      "Your call: t\n",
      "You lose :(\n",
      "You have $10 in your wallet. Type: 'h'=heads, 't'=tail, 'q'=quit\n",
      "Your call: t\n",
      "You win!\n",
      "You have $11 in your wallet. Type: 'h'=heads, 't'=tail, 'q'=quit\n",
      "Your call: t\n",
      "You lose :(\n",
      "You have $10 in your wallet. Type: 'h'=heads, 't'=tail, 'q'=quit\n",
      "Your call: t\n",
      "You win!\n",
      "You have $11 in your wallet. Type: 'h'=heads, 't'=tail, 'q'=quit\n",
      "Your call: t\n",
      "You lose :(\n",
      "You have $10 in your wallet. Type: 'h'=heads, 't'=tail, 'q'=quit\n",
      "Your call: t\n",
      "You win!\n",
      "You have $11 in your wallet. Type: 'h'=heads, 't'=tail, 'q'=quit\n",
      "Your call: q\n",
      "Good bye!\n"
     ]
    }
   ],
   "source": [
    "# your code here\n"
   ]
  }
 ],
 "metadata": {
  "colab": {
   "authorship_tag": "ABX9TyPCCSsXDBvvZB2HejlGQTMl",
   "collapsed_sections": [],
   "name": "QBS101-F20-week06-exercises.ipynb",
   "provenance": []
  },
  "kernelspec": {
   "display_name": "Python 3",
   "language": "python",
   "name": "python3"
  },
  "language_info": {
   "codemirror_mode": {
    "name": "ipython",
    "version": 3
   },
   "file_extension": ".py",
   "mimetype": "text/x-python",
   "name": "python",
   "nbconvert_exporter": "python",
   "pygments_lexer": "ipython3",
   "version": "3.7.6"
  }
 },
 "nbformat": 4,
 "nbformat_minor": 1
}
