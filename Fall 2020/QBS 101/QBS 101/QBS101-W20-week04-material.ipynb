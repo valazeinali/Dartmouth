{
 "cells": [
  {
   "cell_type": "markdown",
   "metadata": {
    "id": "RF_jUnuEaybj"
   },
   "source": [
    "# Multiple Variable Assignments, None, Collections (tuples, dicts, sets)\n",
    "\n",
    "Sources: \n",
    "- [DEV.to 30 days of Python](https://dev.to/arindamdawn/series/7425), days 4\n",
    "- [Teclado 30 Days of Python](https://blog.tecladocode.com/30-days-of-python/) days 4, 10, 11"
   ]
  },
  {
   "cell_type": "markdown",
   "metadata": {
    "id": "xi7ZCy17cF4q"
   },
   "source": [
    "## Assigning multiple variables **simultaneously**\n",
    "\n",
    "Python allows you to assign more than one variable at a time using the comma `,` operator on either side of the assignment operator `=`."
   ]
  },
  {
   "cell_type": "code",
   "execution_count": null,
   "metadata": {
    "colab": {
     "base_uri": "https://localhost:8080/",
     "height": 35
    },
    "executionInfo": {
     "elapsed": 284,
     "status": "ok",
     "timestamp": 1601342541626,
     "user": {
      "displayName": "Christian Darabos",
      "photoUrl": "https://lh3.googleusercontent.com/a-/AOh14Gj58rX31OVqoCy41duHsoMyAFVv9Ammc6u2HhU3=s64",
      "userId": "13696541032900097213"
     },
     "user_tz": 240
    },
    "id": "d32-6qKBcYtc",
    "outputId": "831589c4-6047-4359-d9ab-4308378d7482"
   },
   "outputs": [
    {
     "name": "stdout",
     "output_type": "stream",
     "text": [
      "Home Sweet Home 10 Home 5 10\n"
     ]
    }
   ],
   "source": [
    "x,y = 5, 10 # x=5, y=10\n",
    "i,j = y, 'Home' # i=y(=10), j='Home'\n",
    "a,b,c = j, \"Sweet\", j\n",
    "print(a,b,c,i,j,x,y)"
   ]
  },
  {
   "cell_type": "markdown",
   "metadata": {
    "id": "g3riPlxgcYEC"
   },
   "source": [
    "## None\n",
    "None is a special data type in Python which just represents the absence of value. In most other programming languages, it is commonly referred to as null.\n",
    "\n"
   ]
  },
  {
   "cell_type": "code",
   "execution_count": 2,
   "metadata": {
    "colab": {
     "base_uri": "https://localhost:8080/",
     "height": 50
    },
    "executionInfo": {
     "elapsed": 527,
     "status": "ok",
     "timestamp": 1601901984106,
     "user": {
      "displayName": "Christian Darabos",
      "photoUrl": "https://lh3.googleusercontent.com/a-/AOh14Gj58rX31OVqoCy41duHsoMyAFVv9Ammc6u2HhU3=s64",
      "userId": "13696541032900097213"
     },
     "user_tz": 240
    },
    "id": "ZzCd96a7y6hh",
    "outputId": "ddc5cfc4-ebb8-4c2c-f3ba-009053c8be1d"
   },
   "outputs": [
    {
     "name": "stdout",
     "output_type": "stream",
     "text": [
      "<class 'NoneType'>\n",
      "<class 'builtin_function_or_method'>\n"
     ]
    }
   ],
   "source": [
    "my_var = None\n",
    "print(type(my_var)) # even None is a Class "
   ]
  },
  {
   "cell_type": "markdown",
   "metadata": {
    "id": "h6bqiI2BzTfY"
   },
   "source": [
    "## Dictionaries\n",
    "A dictionary or `dict` is a data type `class` (object type) in Python that contains an *unorganized collection* of data in a **key-value pair**. \n",
    "\n",
    "The keys of `dict` are represented by strings (or any _hashable object_) and the **values can hold any data types* (including objects ie. instance of classes). The values can be accessed using the corresponding keys. Since dictionaries don't have any order, they are _scattered around in the memory_, unlike lists where they are stored in order in memory.\n",
    "\n",
    "In other words, in a `list`, you can only use `int` as the index (ie. key) to refer to/access. In a `dict`, you can use `string` or other objects instances to refer to an element.\n",
    "\n",
    "The `dict()` function creates an empty dictionary.\n",
    "\n",
    "To instanciate a `dict`, use the curly braces and comma separated _key:value_ pairs:\n",
    "\n",
    "```{key1:value1, key2:value2, key3:value3}```\n",
    "\n"
   ]
  },
  {
   "cell_type": "code",
   "execution_count": 4,
   "metadata": {
    "colab": {
     "base_uri": "https://localhost:8080/",
     "height": 67
    },
    "executionInfo": {
     "elapsed": 331,
     "status": "ok",
     "timestamp": 1601902576540,
     "user": {
      "displayName": "Christian Darabos",
      "photoUrl": "https://lh3.googleusercontent.com/a-/AOh14Gj58rX31OVqoCy41duHsoMyAFVv9Ammc6u2HhU3=s64",
      "userId": "13696541032900097213"
     },
     "user_tz": 240
    },
    "id": "l_bUv5_vzHcZ",
    "outputId": "0cd49308-75d6-40e1-87bf-dce96ebe9226"
   },
   "outputs": [
    {
     "name": "stdout",
     "output_type": "stream",
     "text": [
      "Max\n",
      "False\n",
      "<class 'dict'>\n"
     ]
    }
   ],
   "source": [
    "user = {'name': 'Max', 'age': 40, 'married': False}\n",
    "print(user['name']) # Max\n",
    "print(user['married']) # False\n",
    "print(type(user))"
   ]
  },
  {
   "cell_type": "markdown",
   "metadata": {
    "id": "elHfLQB4192B"
   },
   "source": [
    "### Dictionary Keys\n",
    "\n",
    "I mentioned that keys in a dictionary need to be of string data type, immutable, or be _hashable_ (ie. implement the ``__hash__()`` method). Additionally, keys need to be **unique**. If a dictionary has more than one identical key, then the values are overridden. This is also termed as _collision_."
   ]
  },
  {
   "cell_type": "code",
   "execution_count": 18,
   "metadata": {
    "colab": {
     "base_uri": "https://localhost:8080/",
     "height": 84
    },
    "executionInfo": {
     "elapsed": 266,
     "status": "ok",
     "timestamp": 1601903299676,
     "user": {
      "displayName": "Christian Darabos",
      "photoUrl": "https://lh3.googleusercontent.com/a-/AOh14Gj58rX31OVqoCy41duHsoMyAFVv9Ammc6u2HhU3=s64",
      "userId": "13696541032900097213"
     },
     "user_tz": 240
    },
    "id": "5X1OvJLz29K5",
    "outputId": "32984f16-f798-466e-85d8-37c048e2dfc1"
   },
   "outputs": [
    {
     "name": "stdout",
     "output_type": "stream",
     "text": [
      "123\n",
      "hello\n",
      "[1, 3, 4, 5]\n",
      "james\n"
     ]
    }
   ],
   "source": [
    "abstract = {\n",
    " 'first': 123,\n",
    " True: 'hello',\n",
    " 777: [1,3,4,5]\n",
    "}\n",
    "\n",
    "print(abstract['first']) # 123\n",
    "print(abstract[True]) # 'hello\n",
    "print(abstract[777]) # [1,3,4,5]\n",
    "\n",
    "sample = {\n",
    "    'username': 'hisenberg',\n",
    "    'username': 'james'\n",
    "}\n",
    "print(sample['username']) # james\n"
   ]
  },
  {
   "cell_type": "markdown",
   "metadata": {
    "id": "_WgDIaJzQVNk"
   },
   "source": [
    "### Creating a dictionary\n",
    "\n",
    "You can create a dictionary \"from scratch\" using `{}` or by creating an empty dictionary with `dict()`.\n",
    "\n",
    "```\n",
    "my_dict = dict() # creates an empty dictionary\n",
    "```\n",
    "\n",
    "You can also use the `zip()` function to create a dictionary from two lists, one being the keys and the other the values. If a list is shorter than the other, the resulting `dict` will only be as long as the shortest list. \n",
    "\n",
    "Note the type conversion `zip`->`dict` as the `zip()` function returns an instance of a `zip` object that needs to be turned into a `dict`."
   ]
  },
  {
   "cell_type": "code",
   "execution_count": 5,
   "metadata": {
    "colab": {
     "base_uri": "https://localhost:8080/",
     "height": 34
    },
    "executionInfo": {
     "elapsed": 365,
     "status": "ok",
     "timestamp": 1601935983474,
     "user": {
      "displayName": "Christian Darabos",
      "photoUrl": "https://lh3.googleusercontent.com/a-/AOh14Gj58rX31OVqoCy41duHsoMyAFVv9Ammc6u2HhU3=s64",
      "userId": "13696541032900097213"
     },
     "user_tz": 240
    },
    "id": "nhS16RqDz9F_",
    "outputId": "8b3acf4d-644c-40a5-8834-9ad7e5eb1051"
   },
   "outputs": [
    {
     "name": "stdout",
     "output_type": "stream",
     "text": [
      "{'Joe': 41, 'Jane': 18, 'Bob': 52}\n"
     ]
    }
   ],
   "source": [
    "names = ('Joe', 'Jane', 'Bob', 'Sheila')\n",
    "ages = (41, 18, 52, 35)\n",
    "\n",
    "people = dict(zip(names, ages))\n",
    "print(people)"
   ]
  },
  {
   "cell_type": "markdown",
   "metadata": {
    "id": "lPEENXexYs_9"
   },
   "source": [
    "### Adding items to a dictionary\n",
    "All we need to do to add a new key value pair to a dictionary is assign a value to a key which doesn't yet exist.\n",
    "```\n",
    "student = {\n",
    "\t\"name\": \"John Smith\",\n",
    "\t\"grades\": [88, 76, 92, 85, 69]\n",
    "}\n",
    "\n",
    "student[\"age\"] = 17\n",
    "```\n",
    "\n",
    "We can also extend a dictionary using an existing dictionary and the `update` method.\n",
    "```\n",
    "movie = {\n",
    "\t\"title\": \"Avengers: Endgame\",\n",
    "\t\"directors\": [\"Anthony Russo\", \"Joe Russo\"],\n",
    "\t\"year\": 2019\n",
    "}\n",
    "\n",
    "meta_info = {\n",
    "\t\"runtime\": 181,\n",
    "\t\"budget\": \"$356 million\",\n",
    "\t\"earnings\": \"$2.798 billion\",\n",
    "\t\"producer\": \"Kevin Feige\"\n",
    "}\n",
    "```\n",
    "You can merge (update) the `movie` dictionary with the `meta_info` dictionary:\n",
    "```\n",
    "movie.update(meta_info)\n",
    "```\n",
    "###Modifying existing items in a dictionary\n",
    "The approach for modifying items is actually exactly the same as when we want to add new ones. Instead of using a key which doesn't exist, we can assign a value to an existing key, which will replace the current value:\n",
    "```\n",
    "student = {\n",
    "\t'name': 'John Smith',\n",
    "\t'grades': [88, 76, 92, 85, 69],\n",
    "\t'age': 17\n",
    "}\n",
    "\n",
    "student[\"age\"] = 18\n",
    "```\n",
    "We can also use the update method to either replace many values at once, or perform some combination of addition and replacement. Any keys which already exist will have their values replaced, while new keys will be created like we saw before.\n",
    "\n",
    "###Deleting items from a dictionary\n",
    "The approach for deleting items from a dictionary is very similar to what do for lists.\n",
    "\n",
    "Our first option is using del to delete a specific key from the dictionary, which will remove the key value pair:\n",
    "```\n",
    "movie = {\n",
    "\t\"title\": \"Avengers: Endgame\",\n",
    "\t\"directors\": [\"Anthony Russo\", \"Joe Russo\"],\n",
    "\t\"year\": 2019,\n",
    "\t\"runtime\": 181\n",
    "}\n",
    "\n",
    "del movie[\"runtime\"]\n",
    "```\n",
    "\n",
    "We can also use `pop(key)`, passing in a key. Much like with lists, **this will also return the value that was removed**.\n",
    "\n",
    "If we refer to a key which doesn't exist using either of these methods, we get a `KeyError`.\n",
    "\n",
    "We also have the `clear` method, which will completely empty a dictionary, just like when we used it with lists."
   ]
  },
  {
   "cell_type": "markdown",
   "metadata": {
    "id": "Qt8oQwIA4JrM"
   },
   "source": [
    "###Dictionary Methods\n",
    "\n",
    "Checking for errors is a good programming practice. \n",
    "\n",
    "If we try to access a key that does not exist, Python will throw an error and stop the program execution. \n",
    "\n",
    "Rather than accessing the value directly using `[]`, use the `get()` method that returns the value specified by the key, or `None` if it the key doesn't exist.\n",
    "\n",
    "```\n",
    "house = {\n",
    "    'rooms' : 4,\n",
    "    'occupants': 2,\n",
    "    'doors': 6\n",
    "}\n",
    "print(house['windows']) # KeyError: 'windows'\n",
    "#instead\n",
    "print(house.get('windows')) # None\n",
    "print(house.get('windows', 5)) # 5 (This sets a default value if no value is found)\n",
    "```\n",
    "Check if a specific key or value exists in a dictionary:\n",
    "```\n",
    "user = {'name': 'Raghav', 'age': 20, 'country': 'India'}\n",
    "print('name' in user.keys()) # True\n",
    "print('gender' in user.keys()) # False\n",
    "print('Raghav' in user.values()) # True\n",
    "```\n",
    "Some other useful dictionary methods are copy, clear, pop, update\n",
    "\n",
    "```\n",
    "cat = {\n",
    "    'name': 'Tom',\n",
    "    'greet': 'meow',\n",
    "    'health': 100\n",
    "}\n",
    "cat_copy = cat.copy()\n",
    "print(cat_copy) # {'name': 'Tom', 'greet': 'meow', 'health': 100}\n",
    "\n",
    "cat.pop('name')\n",
    "print(cat) # {'greet': 'meow', 'health': 100}\n",
    "\n",
    "cat.clear()\n",
    "print(cat) # {}\n",
    "\n",
    "cat_copy.update({'name': 'Polo'})\n",
    "print(cat_copy) # {'name': 'Polo', 'greet': 'meow', 'health': 100}\n",
    "cat_copy.update({'color': 'Black'}) # adds key value if not present\n",
    "print(cat_copy) # {'name': 'Polo', 'greet': 'meow', 'health': 100, 'color': 'Black'}\n",
    "```\n",
    "[Python dictionary methods](https://www.w3schools.com/python/python_ref_dictionary.asp)"
   ]
  },
  {
   "cell_type": "markdown",
   "metadata": {
    "id": "_v9_6N-45RQ5"
   },
   "source": [
    "## Tuples\n",
    "Tuple data type is very similar to lists but they are **immutable** (ie. values cannot be modified nor they can be sorted like lists).\n",
    "```\n",
    "my_tuple = (1,2,3) # Can be any no of items\n",
    "print(my_tuple[1]) # 2 (Values can be accessed just like lists)\n",
    "print(1 in my_tuple) # True (Checks if element is present)\n",
    "```\n",
    "\n",
    "Since tuples are immutable, they can be used as keys in dictionaries as well.\n",
    "\n",
    "###Actions on tuples\n",
    "\n",
    "Just like lists, we can slice tuples because slicing returns a new copy and does not change the original data.\n",
    "```\n",
    "colors = ('red', 'orange', 'blue', 'yellow')\n",
    "new_colors = colors[1:4]\n",
    "print(new_colors) # ('orange', 'blue', 'yellow')\n",
    "\n",
    "color_1,*others = colors # unpacking!\n",
    "print(color_1) # 'red'\n",
    "print(others) # ['orange', 'blue', 'yellow']\n",
    "\n",
    "print(len(colors)) # 4\n",
    "print(colors.count('red')) # 1 \n",
    "print(colors.index('orange')) # 1\n",
    "```\n",
    "[Python tuple methods](https://www.w3schools.com/python/python_ref_tuple.asp)"
   ]
  },
  {
   "cell_type": "markdown",
   "metadata": {
    "id": "mSuRinkGNE6g"
   },
   "source": [
    "###Tuples vs lists\n",
    "One of big differences between `tuples` and `lists` is that tuples are immutable. We can’t change them once we define them.\n",
    "\n",
    "This means you won’t find any `pop` or `append` methods for tuples, and the `del` keyword isn’t going to allow you to remove values using an index.\n",
    "\n",
    "One thing that will work is the `+` operator, but if we remember back to our discussion of `+` with lists, this operator gives us a **new collection**. If we use it with a `tuple`, the original `tuple` is going to remain unchanged: we’ve just created a new one.\n",
    "\n",
    "**Note** that you can only use `+` to join two tuples.\n",
    "\n",
    "The fact that tuples can’t change is a very desirable property, because it allows us to define a consistent structure for their contents, which means we use the values like cells in a table row."
   ]
  },
  {
   "cell_type": "markdown",
   "metadata": {
    "id": "wgcOvD5F7xg3"
   },
   "source": [
    "## Sets\n",
    "\n",
    "Sets are a data structure that stores an unordered collection of **unique objects**. Sets can be instanciated using curly braces and comma-separated values.\n",
    "\n",
    "```\n",
    "set_of_numbers = {1,2,3,4,5,5}\n",
    "print(set_of_numbers) # {1,2,3,4,5}  (Only unique values are stored)\n",
    "This can be very helpful to remove say duplicate email addresses from a list of emails\n",
    "emails = ['samantha@hey.com', 'rock@hey.com', 'samantha@hey.com']\n",
    "emails_set = set(emails)\n",
    "unique_emails = list(emails_set)\n",
    "print(unique_emails) # ['rock@hey.com', 'samantha@hey.com']\n",
    "```\n",
    "###Actions on sets\n",
    "\n",
    "The built-in methods of sets perform actions that are similar to those applicable to Venn Diagrams.\n",
    "\n",
    "![venn-diagrams.png](data:image/png;base64,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)\n",
    "\n",
    "[Python Set methods](https://www.w3schools.com/python/python_ref_set.asp)"
   ]
  },
  {
   "cell_type": "code",
   "execution_count": 23,
   "metadata": {
    "colab": {
     "base_uri": "https://localhost:8080/",
     "height": 134
    },
    "executionInfo": {
     "elapsed": 367,
     "status": "ok",
     "timestamp": 1601908664279,
     "user": {
      "displayName": "Christian Darabos",
      "photoUrl": "https://lh3.googleusercontent.com/a-/AOh14Gj58rX31OVqoCy41duHsoMyAFVv9Ammc6u2HhU3=s64",
      "userId": "13696541032900097213"
     },
     "user_tz": 240
    },
    "id": "i_mNxHolMKIs",
    "outputId": "0f105422-ab9f-475d-a75a-111e319cf2dd"
   },
   "outputs": [
    {
     "name": "stdout",
     "output_type": "stream",
     "text": [
      "{1, 2, 3, 4, 5, 6, 7, 8}\n",
      "{1, 2, 3, 4, 5, 6, 7, 8}\n",
      "{4, 5}\n",
      "{4, 5}\n",
      "{1, 2, 3}\n",
      "{8, 6, 7}\n",
      "{2, 3, 4, 5}\n"
     ]
    }
   ],
   "source": [
    "set_a = {1,2,3,4,5}\n",
    "set_b = {4,5,6,7,8}\n",
    "print(set_a.union(set_b)) # {1, 2, 3, 4, 5, 6, 7, 8}\n",
    "print(set_a | set_b) # same as above just a compact syntax\n",
    " \n",
    "print(set_a.intersection(set_b)) # {4, 5}\n",
    "print(set_a & set_b) # same as above\n",
    " \n",
    "print(set_a.difference(set_b)) # {1,2,3}\n",
    "print(set_b.difference(set_a)) # {8,6,7}\n",
    "\n",
    "set_a.discard(1) # mutates the set!\n",
    "print(set_a) # {2,3,4,5}"
   ]
  },
  {
   "cell_type": "code",
   "execution_count": 3,
   "metadata": {
    "id": "-w3W8J4CMVNt"
   },
   "outputs": [
    {
     "name": "stdout",
     "output_type": "stream",
     "text": [
      "{'name': 'steve', 'greet': 'meow', 'health': 100}\n"
     ]
    }
   ],
   "source": [
    "cat = {\n",
    "    'name': 'Tom',\n",
    "    'name': 'steve',\n",
    "    'greet': 'meow',\n",
    "    'health': 100\n",
    "}\n",
    "print(cat)"
   ]
  },
  {
   "cell_type": "code",
   "execution_count": null,
   "metadata": {},
   "outputs": [],
   "source": []
  }
 ],
 "metadata": {
  "colab": {
   "authorship_tag": "ABX9TyOVgHs9Ya8H5IkMIDeIK/EK",
   "collapsed_sections": [],
   "name": "QBS101-W20-week04-material.ipynb",
   "provenance": []
  },
  "kernelspec": {
   "display_name": "Python 3",
   "language": "python",
   "name": "python3"
  },
  "language_info": {
   "codemirror_mode": {
    "name": "ipython",
    "version": 3
   },
   "file_extension": ".py",
   "mimetype": "text/x-python",
   "name": "python",
   "nbconvert_exporter": "python",
   "pygments_lexer": "ipython3",
   "version": "3.7.6"
  }
 },
 "nbformat": 4,
 "nbformat_minor": 1
}
