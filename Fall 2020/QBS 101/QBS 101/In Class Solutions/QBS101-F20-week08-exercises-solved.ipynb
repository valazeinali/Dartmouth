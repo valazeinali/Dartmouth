{
 "cells": [
  {
   "cell_type": "markdown",
   "metadata": {
    "id": "1HhPKPB_rq5q"
   },
   "source": [
    "# Recursive print\n",
    "\n",
    "Write a recursive function that prints out a string character-by-character, one line per character. "
   ]
  },
  {
   "cell_type": "code",
   "execution_count": null,
   "metadata": {
    "id": "BaUHVbiWydl2"
   },
   "outputs": [],
   "source": [
    "# your code here"
   ]
  },
  {
   "cell_type": "code",
   "execution_count": null,
   "metadata": {
    "id": "Kcgi1OjXsCVb"
   },
   "outputs": [],
   "source": [
    "def rprint(string):\n",
    "  if len(string) < 1:\n",
    "    return\n",
    "  print(string[0])\n",
    "  rprint(string[1:])"
   ]
  },
  {
   "cell_type": "code",
   "execution_count": null,
   "metadata": {
    "colab": {
     "base_uri": "https://localhost:8080/"
    },
    "executionInfo": {
     "elapsed": 434,
     "status": "ok",
     "timestamp": 1604451848955,
     "user": {
      "displayName": "Christian Darabos",
      "photoUrl": "https://lh3.googleusercontent.com/a-/AOh14Gj58rX31OVqoCy41duHsoMyAFVv9Ammc6u2HhU3=s64",
      "userId": "13696541032900097213"
     },
     "user_tz": 300
    },
    "id": "15EuefY8xBf-",
    "outputId": "079647cf-c8dd-4ace-dd5f-fee0d023e6b7"
   },
   "outputs": [
    {
     "name": "stdout",
     "output_type": "stream",
     "text": [
      "h\n",
      "e\n",
      "l\n",
      "l\n",
      "o\n",
      " \n",
      "w\n",
      "o\n",
      "r\n",
      "l\n",
      "d\n"
     ]
    }
   ],
   "source": [
    "# test code\n",
    "rprint('hello world')"
   ]
  },
  {
   "cell_type": "markdown",
   "metadata": {
    "id": "dduZBYJogszA"
   },
   "source": [
    "# Factorial\n",
    "The factorial of $n$ is \n",
    "$$n! = n \\times (n-1) \\times ... \\times 1 $$\n",
    "or, in a more _recursive_ manner: \n",
    "$$n! = n\\times(n-1)!$$ \n",
    "\n",
    "Write the recursive relationship below:\n",
    "```\n",
    "```\n"
   ]
  },
  {
   "cell_type": "markdown",
   "metadata": {
    "id": "RR4qgZ7QtDJR"
   },
   "source": [
    "```\n",
    "1 if n == 0 or n == 1;      \n",
    "f(n) = n*f(n-1) if n> 1;\n",
    "```"
   ]
  },
  {
   "cell_type": "code",
   "execution_count": null,
   "metadata": {
    "id": "zEy_NYAeUNyM"
   },
   "outputs": [],
   "source": [
    "# your code here"
   ]
  },
  {
   "cell_type": "code",
   "execution_count": 1,
   "metadata": {
    "executionInfo": {
     "elapsed": 1220,
     "status": "ok",
     "timestamp": 1604527040690,
     "user": {
      "displayName": "Christian Darabos",
      "photoUrl": "https://lh3.googleusercontent.com/a-/AOh14Gj58rX31OVqoCy41duHsoMyAFVv9Ammc6u2HhU3=s64",
      "userId": "13696541032900097213"
     },
     "user_tz": 300
    },
    "id": "e7Peb-nHM4rb"
   },
   "outputs": [],
   "source": [
    "def factorial(n):\n",
    "  '''\n",
    "  Returns the factorial value of the n value passed in argument\n",
    "  '''\n",
    "  if n in [0,1]:\n",
    "    return 1\n",
    "\n",
    "  return n * factorial(n-1)"
   ]
  },
  {
   "cell_type": "code",
   "execution_count": null,
   "metadata": {
    "id": "j9vWd09VgT_G"
   },
   "outputs": [],
   "source": [
    "# test code"
   ]
  },
  {
   "cell_type": "markdown",
   "metadata": {
    "id": "01v9e_waQunk"
   },
   "source": [
    "# Recursive Fibonacci Series\n",
    "\n",
    "The following function returns the first `n` elements in the Fibonacci sequence:"
   ]
  },
  {
   "cell_type": "code",
   "execution_count": null,
   "metadata": {
    "id": "7BH_jzHmycl0"
   },
   "outputs": [],
   "source": [
    "# your code here"
   ]
  },
  {
   "cell_type": "code",
   "execution_count": null,
   "metadata": {
    "id": "BI6ZnVg8RI0g"
   },
   "outputs": [],
   "source": [
    "def fibonacci(n):\n",
    "  '''\n",
    "  Returns the first n elements of the Fibonacci sequence\n",
    "  '''\n",
    "\n",
    "  fib = [0,1]\n",
    "\n",
    "  if n in fib:\n",
    "    return n;\n",
    "\n",
    "  for i in range(2,n):\n",
    "    fib.append(fib[i-2]+fib[i-1])\n",
    " \n",
    "  return fib"
   ]
  },
  {
   "cell_type": "code",
   "execution_count": null,
   "metadata": {
    "colab": {
     "base_uri": "https://localhost:8080/"
    },
    "executionInfo": {
     "elapsed": 280,
     "status": "ok",
     "timestamp": 1604451876513,
     "user": {
      "displayName": "Christian Darabos",
      "photoUrl": "https://lh3.googleusercontent.com/a-/AOh14Gj58rX31OVqoCy41duHsoMyAFVv9Ammc6u2HhU3=s64",
      "userId": "13696541032900097213"
     },
     "user_tz": 300
    },
    "id": "F3CJ80kayIXr",
    "outputId": "2903714c-717d-46ee-802f-ee51c040ef03"
   },
   "outputs": [
    {
     "name": "stdout",
     "output_type": "stream",
     "text": [
      "[0, 1, 1, 2, 3, 5, 8, 13, 21, 34]\n"
     ]
    }
   ],
   "source": [
    "# test your code\n",
    "print(fibonacci(10))"
   ]
  },
  {
   "cell_type": "markdown",
   "metadata": {
    "id": "kOo-0FDPTFEn"
   },
   "source": [
    "The Fibonacci sequence is a \"classical\" example of using recursion to solve the problem. Solving the problem using the recursion means solving it for each instance that _comes before it_: solving for `n` means solving it for `n-1`,`n-2`,...,`1`.\n",
    "In this case, in order to solve `fibonacci(n)`, you have to solve:\n",
    "- `fibonacci(n-1)`+`fibonacci(n-2)` which means solving\n",
    "- `fibonacci(n-2)`+`fibonacci(n-3)` and `fibonacci(n-3)`+`fibonacci(n-4)`\n",
    "- ...\n",
    "- `fibonacci(1)`+`fibonacci(0)` and ... and ...\n",
    "\n",
    "![fib1.jpg](data:image/jpeg;base64,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)\n",
    "\n",
    "What is the _mathematical equation_ or _recursion relationship_ for the Fibonacci series?"
   ]
  },
  {
   "cell_type": "markdown",
   "metadata": {
    "id": "NB7lPG4cngbB"
   },
   "source": [
    "```\n",
    "Your equation here\n",
    "```"
   ]
  },
  {
   "cell_type": "markdown",
   "metadata": {
    "id": "cxE3doiAovgD"
   },
   "source": [
    "```\n",
    "n if n == 0, n == 1;      \n",
    "fib(n) = fib(n-1) + fib(n-2) otherwise;\n",
    "```"
   ]
  },
  {
   "cell_type": "markdown",
   "metadata": {
    "id": "GDglkR9xnf_p"
   },
   "source": [
    "Write the `fibonacci` funcion to be recursive rather than rely on an explicit loop."
   ]
  },
  {
   "cell_type": "code",
   "execution_count": null,
   "metadata": {
    "id": "Wur-IKb7fv-Z"
   },
   "outputs": [],
   "source": [
    "# your code below"
   ]
  },
  {
   "cell_type": "code",
   "execution_count": null,
   "metadata": {
    "id": "zR3RVJaITLqE"
   },
   "outputs": [],
   "source": [
    "def _fibonacci(n):\n",
    "  '''\n",
    "  Returns the n-th element of the Fibonacci sequence\n",
    "  '''\n",
    "  #if n in [0,1]:\n",
    "  #  return n\n",
    "\n",
    "  #return fibonacci(n-1) + fibonacci(n-2)\n",
    "\n",
    "  # or \n",
    "  return _fibonacci(n-1) + _fibonacci(n-2) if n not in [0,1] else n\n",
    "\n",
    "def fibonacci(n):\n",
    "  return [_fibonacci(i) for i in range(n)]"
   ]
  },
  {
   "cell_type": "code",
   "execution_count": null,
   "metadata": {
    "colab": {
     "base_uri": "https://localhost:8080/"
    },
    "executionInfo": {
     "elapsed": 291,
     "status": "ok",
     "timestamp": 1604451909977,
     "user": {
      "displayName": "Christian Darabos",
      "photoUrl": "https://lh3.googleusercontent.com/a-/AOh14Gj58rX31OVqoCy41duHsoMyAFVv9Ammc6u2HhU3=s64",
      "userId": "13696541032900097213"
     },
     "user_tz": 300
    },
    "id": "yyeHXHW_yRzi",
    "outputId": "f3e05862-5d6e-4d11-dd20-4adc535676aa"
   },
   "outputs": [
    {
     "data": {
      "text/plain": [
       "[0, 1, 1, 2, 3, 5, 8, 13, 21, 34]"
      ]
     },
     "execution_count": 30,
     "metadata": {
      "tags": []
     },
     "output_type": "execute_result"
    }
   ],
   "source": [
    "# test code\n",
    "fibonacci(10)"
   ]
  },
  {
   "cell_type": "code",
   "execution_count": null,
   "metadata": {
    "id": "nf07Fd5WXUU1"
   },
   "outputs": [],
   "source": [
    "def fibonacci(n, seq=[]):\n",
    "  if n == 0:\n",
    "    return [0]\n",
    "  if n == 1:\n",
    "    return [0,1]\n",
    "\n",
    "  return fibonacci(n-1, seq)+"
   ]
  },
  {
   "cell_type": "markdown",
   "metadata": {
    "id": "IKqMfSJly5bs"
   },
   "source": [
    "# Sort poems and fish\n",
    "\n",
    "Just like `min` or `max`, `sorted` and `list.sort` allows to specify the function to use in order to get a _sortable_ or _comparable_ value for each value in the collection to be sorted (`key` parameter).\n",
    "\n",
    "Given the `words` list of strings below, sort them by their length (as opposed to their alphabetical order)."
   ]
  },
  {
   "cell_type": "code",
   "execution_count": null,
   "metadata": {
    "colab": {
     "base_uri": "https://localhost:8080/"
    },
    "executionInfo": {
     "elapsed": 439,
     "status": "ok",
     "timestamp": 1604454892613,
     "user": {
      "displayName": "Christian Darabos",
      "photoUrl": "https://lh3.googleusercontent.com/a-/AOh14Gj58rX31OVqoCy41duHsoMyAFVv9Ammc6u2HhU3=s64",
      "userId": "13696541032900097213"
     },
     "user_tz": 300
    },
    "id": "bK4DyF5f0KSJ",
    "outputId": "06b2f380-42f9-41af-c99b-59c8f7c3ac2e"
   },
   "outputs": [
    {
     "name": "stdout",
     "output_type": "stream",
     "text": [
      "['The', 'Programmer', 'and', 'The', 'Poetess', 'I', 'love', 'a', 'programmer', 'He', 'is', 'always', 'there', 'making', 'codes', 'On', 'different', 'ways', 'in', 'order', 'To', 'show', 'how', 'much', 'he', 'loves', 'you', 'so', 'There', 'are', 'times', 'when', 'he', 'would', 'Just', 'throw', 'some', 'complex', 'hints', 'at', 'me', 'With', 'utmost', 'best', 'I', 'could', 'Try', 'to', 'find', 'the', 'meaning', 'and', 'see', 'See', 'that', 'maybe', \"I'm\", 'right', 'With', 'the', 'theory', 'that', 'I', 'have', 'made', 'And', 'maybe,', 'just', 'maybe', 'My', 'words', 'rhyme', 'with', \"what's\", 'in', 'your', 'head', 'But', 'sometimes', 'I', 'want', 'to', 'Just', 'let', 'go', 'and', 'then', 'erase', 'it', 'Sometimes', 'I', 'want', 'you', 'to', 'Be', 'brave', 'enough', 'to', 'just', 'admit', 'That', \"I'm\", 'something', 'to', 'you', 'Not', 'a', 'computer', 'you', 'play', 'with', 'That', 'your', 'feelings', 'are', 'true', \"There's\", 'no', 'condition', 'that', 'you', 'need', 'I', 'am', 'afraid', 'to', 'feel', 'The', 'tragic', 'end', 'of', 'a', 'sonnet', 'Where', 'two', 'lovers', 'for', 'real', 'Are', 'mere', 'strangers', \"who'll\", 'never', 'ever', 'meet']\n"
     ]
    }
   ],
   "source": [
    "poem = '''The Programmer and The Poetess\n",
    "I love a programmer\n",
    "He is always there making codes\n",
    "On different ways in order\n",
    "To show how much he loves you so\n",
    "\n",
    "There are times when he would\n",
    "Just throw some complex hints at me\n",
    "With utmost best I could\n",
    "Try to find the meaning and see\n",
    "\n",
    "See that maybe I'm right\n",
    "With the theory that I have made\n",
    "And maybe, just maybe\n",
    "My words rhyme with what's in your head\n",
    "\n",
    "But sometimes I want to\n",
    "Just let go and then erase it\n",
    "Sometimes I want you to\n",
    "Be brave enough to just admit\n",
    "\n",
    "That I'm something to you\n",
    "Not a computer you play with\n",
    "That your feelings are true\n",
    "There's no condition that you need\n",
    "\n",
    "I am afraid to feel\n",
    "The tragic end of a sonnet\n",
    "Where two lovers for real\n",
    "Are mere strangers who'll never ever meet'''\n",
    "words = poem.replace('\\n\\n',' ').replace('\\n',' ').split(' ')\n",
    "print(words)"
   ]
  },
  {
   "cell_type": "code",
   "execution_count": null,
   "metadata": {
    "id": "L8nEBPQqzEYZ"
   },
   "outputs": [],
   "source": [
    "# your code here"
   ]
  },
  {
   "cell_type": "code",
   "execution_count": null,
   "metadata": {
    "colab": {
     "base_uri": "https://localhost:8080/"
    },
    "executionInfo": {
     "elapsed": 421,
     "status": "ok",
     "timestamp": 1604454895335,
     "user": {
      "displayName": "Christian Darabos",
      "photoUrl": "https://lh3.googleusercontent.com/a-/AOh14Gj58rX31OVqoCy41duHsoMyAFVv9Ammc6u2HhU3=s64",
      "userId": "13696541032900097213"
     },
     "user_tz": 300
    },
    "id": "G4-q4qSfzF6V",
    "outputId": "b79e8e6e-5960-4f9b-91e1-da1822cfd007"
   },
   "outputs": [
    {
     "name": "stdout",
     "output_type": "stream",
     "text": [
      "['I', 'a', 'I', 'I', 'I', 'I', 'a', 'I', 'a', 'He', 'is', 'On', 'in', 'To', 'he', 'so', 'he', 'at', 'me', 'to', 'My', 'in', 'to', 'go', 'it', 'to', 'Be', 'to', 'to', 'no', 'am', 'to', 'of', 'The', 'and', 'The', 'how', 'you', 'are', 'Try', 'the', 'and', 'see', 'See', \"I'm\", 'the', 'And', 'But', 'let', 'and', 'you', \"I'm\", 'you', 'Not', 'you', 'are', 'you', 'The', 'end', 'two', 'for', 'Are', 'love', 'ways', 'show', 'much', 'when', 'Just', 'some', 'With', 'best', 'find', 'that', 'With', 'that', 'have', 'made', 'just', 'with', 'your', 'head', 'want', 'Just', 'then', 'want', 'just', 'That', 'play', 'with', 'That', 'your', 'true', 'that', 'need', 'feel', 'real', 'mere', 'ever', 'meet', 'there', 'codes', 'order', 'loves', 'There', 'times', 'would', 'throw', 'hints', 'could', 'maybe', 'right', 'maybe', 'words', 'rhyme', 'erase', 'brave', 'admit', 'Where', 'never', 'always', 'making', 'utmost', 'theory', 'maybe,', \"what's\", 'enough', 'afraid', 'tragic', 'sonnet', 'lovers', \"who'll\", 'Poetess', 'complex', 'meaning', \"There's\", 'computer', 'feelings', 'different', 'sometimes', 'Sometimes', 'something', 'condition', 'strangers', 'Programmer', 'programmer']\n",
      "['The', 'Programmer', 'and', 'The', 'Poetess', 'I', 'love', 'a', 'programmer', 'He', 'is', 'always', 'there', 'making', 'codes', 'On', 'different', 'ways', 'in', 'order', 'To', 'show', 'how', 'much', 'he', 'loves', 'you', 'so', 'There', 'are', 'times', 'when', 'he', 'would', 'Just', 'throw', 'some', 'complex', 'hints', 'at', 'me', 'With', 'utmost', 'best', 'I', 'could', 'Try', 'to', 'find', 'the', 'meaning', 'and', 'see', 'See', 'that', 'maybe', \"I'm\", 'right', 'With', 'the', 'theory', 'that', 'I', 'have', 'made', 'And', 'maybe,', 'just', 'maybe', 'My', 'words', 'rhyme', 'with', \"what's\", 'in', 'your', 'head', 'But', 'sometimes', 'I', 'want', 'to', 'Just', 'let', 'go', 'and', 'then', 'erase', 'it', 'Sometimes', 'I', 'want', 'you', 'to', 'Be', 'brave', 'enough', 'to', 'just', 'admit', 'That', \"I'm\", 'something', 'to', 'you', 'Not', 'a', 'computer', 'you', 'play', 'with', 'That', 'your', 'feelings', 'are', 'true', \"There's\", 'no', 'condition', 'that', 'you', 'need', 'I', 'am', 'afraid', 'to', 'feel', 'The', 'tragic', 'end', 'of', 'a', 'sonnet', 'Where', 'two', 'lovers', 'for', 'real', 'Are', 'mere', 'strangers', \"who'll\", 'never', 'ever', 'meet']\n",
      "['I', 'a', 'I', 'I', 'I', 'I', 'a', 'I', 'a', 'He', 'is', 'On', 'in', 'To', 'he', 'so', 'he', 'at', 'me', 'to', 'My', 'in', 'to', 'go', 'it', 'to', 'Be', 'to', 'to', 'no', 'am', 'to', 'of', 'The', 'and', 'The', 'how', 'you', 'are', 'Try', 'the', 'and', 'see', 'See', \"I'm\", 'the', 'And', 'But', 'let', 'and', 'you', \"I'm\", 'you', 'Not', 'you', 'are', 'you', 'The', 'end', 'two', 'for', 'Are', 'love', 'ways', 'show', 'much', 'when', 'Just', 'some', 'With', 'best', 'find', 'that', 'With', 'that', 'have', 'made', 'just', 'with', 'your', 'head', 'want', 'Just', 'then', 'want', 'just', 'That', 'play', 'with', 'That', 'your', 'true', 'that', 'need', 'feel', 'real', 'mere', 'ever', 'meet', 'there', 'codes', 'order', 'loves', 'There', 'times', 'would', 'throw', 'hints', 'could', 'maybe', 'right', 'maybe', 'words', 'rhyme', 'erase', 'brave', 'admit', 'Where', 'never', 'always', 'making', 'utmost', 'theory', 'maybe,', \"what's\", 'enough', 'afraid', 'tragic', 'sonnet', 'lovers', \"who'll\", 'Poetess', 'complex', 'meaning', \"There's\", 'computer', 'feelings', 'different', 'sometimes', 'Sometimes', 'something', 'condition', 'strangers', 'Programmer', 'programmer']\n"
     ]
    }
   ],
   "source": [
    "# SOLUTION\n",
    "print(sorted(words, key=len))\n",
    "print(words)\n",
    "words.sort(key=len)\n",
    "print(words)"
   ]
  },
  {
   "cell_type": "markdown",
   "metadata": {
    "id": "1A_XerJ_25R8"
   },
   "source": [
    "Now consider the following list of fish and their weight (in grams) measured at a market.\n",
    "\n",
    "---\n",
    "\n"
   ]
  },
  {
   "cell_type": "code",
   "execution_count": null,
   "metadata": {
    "id": "_mhplWj67ANn"
   },
   "outputs": [],
   "source": [
    "fish = {\n",
    "    'bream' : [242,290,340,363,430,450,500,390,450,500,475,500,500,340,600,600,700,700,610,650,575,685,620,680,700,725,720,714,850,1000,920,955,925,975,950],\n",
    "    'roach' : [40,69,78,87,120,0,110,120,150,145,160,140,160,169,161,200,180,290,272,390],\n",
    "    'whitefish' : [270,270,306,540,800,1000],\n",
    "    'parkki' : [55,60,90,120,150,140,170,145,200,273,300],\n",
    "    'perch' : [5.9,32,40,51.5,70,100,78,80,85,85,110,115,125,130,120,120,130,135,110,130,150,145,150,170,225,145,188,180,197,218,300,260,265,250,250,300,320,514,556,840,685,700,700,690,900,650,820,850,900,1015,820,1100,1000,1100,1000,1000],\n",
    "    'pike' : [200,300,300,300,430,345,456,510,540,500,567,770,950,1250,1600,1550,1650],\n",
    "    'smelt' : [6.7,7.5,7,9.7,9.8,8.7,10,9.9,9.8,12.2,13.4,12.2,19.7,19.9]\n",
    "}"
   ]
  },
  {
   "cell_type": "markdown",
   "metadata": {
    "id": "MVpZ4OFL8IBv"
   },
   "source": [
    "Sort those fish by:\n",
    "- by name\n",
    "- number of observations\n",
    "- average weight\n",
    "- weight spread (max-min)\n",
    "Only print the fish names, not the entire `dict`"
   ]
  },
  {
   "cell_type": "code",
   "execution_count": null,
   "metadata": {
    "id": "q2ckWKeP8u5s"
   },
   "outputs": [],
   "source": [
    "# your code here"
   ]
  },
  {
   "cell_type": "code",
   "execution_count": null,
   "metadata": {
    "colab": {
     "base_uri": "https://localhost:8080/"
    },
    "executionInfo": {
     "elapsed": 290,
     "status": "ok",
     "timestamp": 1604455899380,
     "user": {
      "displayName": "Christian Darabos",
      "photoUrl": "https://lh3.googleusercontent.com/a-/AOh14Gj58rX31OVqoCy41duHsoMyAFVv9Ammc6u2HhU3=s64",
      "userId": "13696541032900097213"
     },
     "user_tz": 300
    },
    "id": "PesHldCY4jG_",
    "outputId": "fa326d35-bd77-42e9-dbb0-85d4c00c294d"
   },
   "outputs": [
    {
     "name": "stdout",
     "output_type": "stream",
     "text": [
      "['bream', 'parkki', 'perch', 'pike', 'roach', 'smelt', 'whitefish']\n",
      "<class 'dict'>\n",
      "By #observations: ['whitefish', 'parkki', 'smelt', 'pike', 'roach', 'bream', 'perch']\n",
      "By avg. weight: ['smelt', 'roach', 'parkki', 'perch', 'whitefish', 'bream', 'pike']\n",
      "By weight spread: ['bream', 'roach', 'whitefish', 'parkki', 'perch', 'pike', 'smelt']\n"
     ]
    }
   ],
   "source": [
    "# SOLUTION\n",
    "print(sorted(fish))\n",
    "print(type(fish))\n",
    "# by number of observations\n",
    "def nb_observations(name):\n",
    "  return len(fish[name])\n",
    "\n",
    "print('By #observations:', sorted(fish, key=nb_observations))\n",
    "\n",
    "# by avg weight of observations\n",
    "def avg_weight(name):\n",
    "  return sum(fish[name])/nb_observations(name)\n",
    "\n",
    "print('By avg. weight:', sorted(fish, key=avg_weight))\n",
    "\n",
    "# by weight spread of observations\n",
    "def weight_spread(name):\n",
    "  return max(fish[name])-max(fish[name])\n",
    "\n",
    "print('By weight spread:', sorted(fish, key=weight_spread))"
   ]
  }
 ],
 "metadata": {
  "colab": {
   "authorship_tag": "ABX9TyNGMHv2KLTHPeYpvVDmTuMS",
   "collapsed_sections": [],
   "name": "QBS101-F20-week08-exercises-solved.ipynb",
   "provenance": []
  },
  "kernelspec": {
   "display_name": "Python 3",
   "language": "python",
   "name": "python3"
  },
  "language_info": {
   "codemirror_mode": {
    "name": "ipython",
    "version": 3
   },
   "file_extension": ".py",
   "mimetype": "text/x-python",
   "name": "python",
   "nbconvert_exporter": "python",
   "pygments_lexer": "ipython3",
   "version": "3.7.6"
  }
 },
 "nbformat": 4,
 "nbformat_minor": 1
}
