{
 "cells": [
  {
   "cell_type": "markdown",
   "metadata": {
    "id": "5Jm7EBaDMYGU"
   },
   "source": [
    "# Week 8 Assignment\n",
    "\n",
    "\n",
    "\n",
    "Coding **best practices applies** to all questions. Print out **informative statements** and use **defensive programming** where applicable. Functions should have informative names, arguments, and inline help.\n",
    "\n",
    "#### **Turn-in:** a Colab/Jupyter Notebook file (.ipynb)"
   ]
  },
  {
   "cell_type": "markdown",
   "metadata": {
    "id": "FI_eU8AOANo9"
   },
   "source": [
    "# Question One\n",
    "\n",
    "Implement a recursive `sum` function that takes a list of an arbitrary number of numeric elements and returns the sum of those elements. No need to be defensive.\n",
    "\n",
    "BONUS: body of the function is one line long"
   ]
  },
  {
   "cell_type": "code",
   "execution_count": null,
   "metadata": {},
   "outputs": [],
   "source": [
    "# your code here\n",
    "def sumNum(numList):\n",
    "    return numList[0] if len(numList) == 1 else numList[0] + sumNum(numList[1:])"
   ]
  },
  {
   "cell_type": "code",
   "execution_count": null,
   "metadata": {
    "colab": {
     "base_uri": "https://localhost:8080/"
    },
    "executionInfo": {
     "elapsed": 392,
     "status": "ok",
     "timestamp": 1604426635285,
     "user": {
      "displayName": "Christian Darabos",
      "photoUrl": "https://lh3.googleusercontent.com/a-/AOh14Gj58rX31OVqoCy41duHsoMyAFVv9Ammc6u2HhU3=s64",
      "userId": "13696541032900097213"
     },
     "user_tz": 300
    },
    "id": "VWRrzqRdRAh2",
    "outputId": "1f3d785a-d574-4427-d73f-080002ad8431"
   },
   "outputs": [],
   "source": [
    "# test your code with this\n",
    "sum1(range(-10,10))"
   ]
  },
  {
   "cell_type": "markdown",
   "metadata": {
    "id": "J3at7pwnMYGV"
   },
   "source": [
    "## Question Two\n",
    "\n",
    "In 2018, over 2.5 billion packages were shipped over the Holidays worldwide (I imagine that number will be much higher this year!) \n",
    "\n",
    "That is a lot of traveling! For this question, let's consider just Lebanon and some of it's surrounding towns in New Hampshire and Vermont. \n",
    "\n",
    "```\n",
    "distances = {\n",
    "    \"West Lebanon\" : 3.31,\n",
    "    \"Wilder\" : 4.67,\n",
    "    \"Hartford\" : 5.07,\n",
    "    \"Enfield\" : 6.52,\n",
    "    \"White River Junction\" : 7.56,\n",
    "    \"Hanover\" : 8.02,\n",
    "    \"Norwich\" : 8.74,\n",
    "    \"Hartland\" : 9.38\n",
    "}\n",
    "```\n",
    "\n",
    "Create a function that takes one or more town names (but at least one) as **separate arguments** (not a collection!). Your function must return the distances as a list of numbers.\n"
   ]
  },
  {
   "cell_type": "code",
   "execution_count": 12,
   "metadata": {},
   "outputs": [],
   "source": [
    "def input_function():\n",
    "    while True:  \n",
    "        inp = input(\"Enter town name, enter quit to quit \")\n",
    "        if inp == \"quit\":  \n",
    "            break"
   ]
  },
  {
   "cell_type": "code",
   "execution_count": 13,
   "metadata": {},
   "outputs": [
    {
     "name": "stdout",
     "output_type": "stream",
     "text": [
      "Enter town name, enter quit to quitquit\n"
     ]
    }
   ],
   "source": [
    "input_function()"
   ]
  },
  {
   "cell_type": "code",
   "execution_count": null,
   "metadata": {
    "id": "x8KqOek9I5IZ"
   },
   "outputs": [],
   "source": [
    "# your code here\n",
    "def distance_to_LebNH():\n",
    "    a,b,c,d,e,f,g,h = input_function()\n",
    "    m = x * y\n",
    "    print \"Multiplication result\", m\n",
    "\n",
    "multiplication()"
   ]
  },
  {
   "cell_type": "code",
   "execution_count": null,
   "metadata": {
    "colab": {
     "base_uri": "https://localhost:8080/"
    },
    "executionInfo": {
     "elapsed": 539,
     "status": "ok",
     "timestamp": 1604448832307,
     "user": {
      "displayName": "Christian Darabos",
      "photoUrl": "https://lh3.googleusercontent.com/a-/AOh14Gj58rX31OVqoCy41duHsoMyAFVv9Ammc6u2HhU3=s64",
      "userId": "13696541032900097213"
     },
     "user_tz": 300
    },
    "id": "YeUj_0NMW_Cq",
    "outputId": "81ee40d0-b05c-4029-cb55-2c38f097f207"
   },
   "outputs": [],
   "source": [
    "# test your code\n",
    "distance_to_LebNH('Enfield', 'Hanover', 'Norwich')"
   ]
  },
  {
   "cell_type": "markdown",
   "metadata": {
    "id": "egIcK6zQXCHS"
   },
   "source": [
    "A _wrapper_ function is a small function that transforms/adds to the input (arguments) or output (return value) to accommodate a different data type or default values. By definition, a wrapper function must call the function it \"wraps around\".\n",
    "\n",
    "We want to be able to specify the unit (miles or KMs) of the returned list of distances. Create a wrapper function that:\n",
    "- takes an an optional parameter that allows defines the output unit (default is miles)\n",
    "- calls the `distance_to_LebNH` function and returns the distances in the specified unit \n",
    "\n",
    "As it is a common task, make sure to define a new function that helps with converting miles to kilometers.\n",
    "\n",
    "BONUS: define the conversion function as an _inner function_ and make it \"smart\" so that it only converts only if needed. "
   ]
  },
  {
   "cell_type": "code",
   "execution_count": null,
   "metadata": {
    "id": "sC0h0kELJIZ0"
   },
   "outputs": [],
   "source": [
    "# your code here"
   ]
  },
  {
   "cell_type": "code",
   "execution_count": null,
   "metadata": {
    "colab": {
     "base_uri": "https://localhost:8080/"
    },
    "executionInfo": {
     "elapsed": 412,
     "status": "ok",
     "timestamp": 1604438814893,
     "user": {
      "displayName": "Christian Darabos",
      "photoUrl": "https://lh3.googleusercontent.com/a-/AOh14Gj58rX31OVqoCy41duHsoMyAFVv9Ammc6u2HhU3=s64",
      "userId": "13696541032900097213"
     },
     "user_tz": 300
    },
    "id": "key2toyE8a2q",
    "outputId": "63f4656c-bb64-4bc2-865c-ff9796ddb362"
   },
   "outputs": [],
   "source": [
    "# test your code\n",
    "distance_to_LebNH_inKm('Enfield', 'Hanover', 'Norwich', inMiles=False)"
   ]
  },
  {
   "cell_type": "markdown",
   "metadata": {
    "id": "zvvTtTuIMYGg"
   },
   "source": [
    "## Question Three\n",
    "\n",
    "The Least Common Multiple (LCM) is the smallest positive integer that is perfectly divisible by the two given numbers. While one is able to brute-force calculate the LCM, using an equation that incorporates the greatest common divisor (GCD) much more elegant. \n",
    "\n",
    "$$LCM(a,b) = \\frac {a*b}{GCD(a*b)}$$\n",
    "\n",
    "So, start by writing a function for the greatest common divisor that takes in two numbers, and returns the greatest common divisor.\n",
    "\n",
    "You can assume integer inputs, but might still have to do some defensive coding, depending on your implementation.\n"
   ]
  },
  {
   "cell_type": "code",
   "execution_count": null,
   "metadata": {
    "id": "KCLbs_sVJHgh"
   },
   "outputs": [],
   "source": [
    "# your code here"
   ]
  },
  {
   "cell_type": "code",
   "execution_count": null,
   "metadata": {
    "colab": {
     "base_uri": "https://localhost:8080/"
    },
    "executionInfo": {
     "elapsed": 482,
     "status": "ok",
     "timestamp": 1604428983906,
     "user": {
      "displayName": "Christian Darabos",
      "photoUrl": "https://lh3.googleusercontent.com/a-/AOh14Gj58rX31OVqoCy41duHsoMyAFVv9Ammc6u2HhU3=s64",
      "userId": "13696541032900097213"
     },
     "user_tz": 300
    },
    "id": "JtgPd-XbZ6m_",
    "outputId": "e6239d63-e44c-4065-9536-0d5908f728e4"
   },
   "outputs": [],
   "source": [
    "# test your code\n",
    "x = 10\n",
    "y = 5\n",
    "gcd(x, y)"
   ]
  },
  {
   "cell_type": "markdown",
   "metadata": {
    "id": "JXFRhuhGmU5M"
   },
   "source": [
    "Using the provided equation, write a function for the Least Common Multiple that uses the Greatest Common Divisor function you created within the calculation. "
   ]
  },
  {
   "cell_type": "code",
   "execution_count": null,
   "metadata": {
    "id": "8tsKcVBSmQ3c"
   },
   "outputs": [],
   "source": [
    "# your code here"
   ]
  },
  {
   "cell_type": "code",
   "execution_count": null,
   "metadata": {
    "colab": {
     "base_uri": "https://localhost:8080/"
    },
    "executionInfo": {
     "elapsed": 600,
     "status": "ok",
     "timestamp": 1604429022635,
     "user": {
      "displayName": "Christian Darabos",
      "photoUrl": "https://lh3.googleusercontent.com/a-/AOh14Gj58rX31OVqoCy41duHsoMyAFVv9Ammc6u2HhU3=s64",
      "userId": "13696541032900097213"
     },
     "user_tz": 300
    },
    "id": "u-oXsQ7ja55m",
    "outputId": "38e6222b-6497-46d2-c2b3-f067c9605638"
   },
   "outputs": [],
   "source": [
    "# test your code\n",
    "x, y = 8 , 10\n",
    "lcm(x,y)"
   ]
  },
  {
   "cell_type": "markdown",
   "metadata": {
    "id": "a8ZpoZSQxpJY"
   },
   "source": [
    "The following code creates a list of pairs (tuples) of integers. "
   ]
  },
  {
   "cell_type": "code",
   "execution_count": null,
   "metadata": {
    "colab": {
     "base_uri": "https://localhost:8080/"
    },
    "executionInfo": {
     "elapsed": 525,
     "status": "ok",
     "timestamp": 1604437685211,
     "user": {
      "displayName": "Christian Darabos",
      "photoUrl": "https://lh3.googleusercontent.com/a-/AOh14Gj58rX31OVqoCy41duHsoMyAFVv9Ammc6u2HhU3=s64",
      "userId": "13696541032900097213"
     },
     "user_tz": 300
    },
    "id": "kulrIxgalWN0",
    "outputId": "1b9b2ff4-cf19-493c-cb34-e8a87d5e127b"
   },
   "outputs": [],
   "source": [
    "# generating pairs of integers\n",
    "pairs = []\n",
    "for i in range(1,101):\n",
    "  for j in range(i+1,101):\n",
    "    pairs.append((i,j))\n",
    "\n",
    "print([(k,v) for k,v in enumerate(pairs)])"
   ]
  },
  {
   "cell_type": "markdown",
   "metadata": {
    "id": "1xKuDbAr1ybP"
   },
   "source": [
    "We want to be able to use the `lcm` and `gcd` functions using one tuple rather than 2 arguments.\n",
    "Write two wrapper functions without rewriting the entire functions acommodate this."
   ]
  },
  {
   "cell_type": "code",
   "execution_count": null,
   "metadata": {
    "id": "HyEIzg5XJZ7u"
   },
   "outputs": [],
   "source": [
    "# your code here"
   ]
  },
  {
   "cell_type": "code",
   "execution_count": null,
   "metadata": {
    "colab": {
     "base_uri": "https://localhost:8080/"
    },
    "executionInfo": {
     "elapsed": 425,
     "status": "ok",
     "timestamp": 1604437749703,
     "user": {
      "displayName": "Christian Darabos",
      "photoUrl": "https://lh3.googleusercontent.com/a-/AOh14Gj58rX31OVqoCy41duHsoMyAFVv9Ammc6u2HhU3=s64",
      "userId": "13696541032900097213"
     },
     "user_tz": 300
    },
    "id": "XqeJN2xu24Em",
    "outputId": "444c9880-1aef-46cd-f7b3-7ebaa0b139a0"
   },
   "outputs": [],
   "source": [
    "# test your code\n",
    "print(f\"LCM of {pairs[22]} is {lcm_4tuple(pairs[22])}\")\n",
    "print(f\"GCD of {pairs[3159]} is {gcd_4tuple(pairs[3159])}\")"
   ]
  },
  {
   "cell_type": "markdown",
   "metadata": {
    "id": "jycbCWM04E97"
   },
   "source": [
    "Now use the built-in `min` and `max` functions to find the mininum and maximum LCM and GDC of the entier list of pairs. Print both the pairs and values associated.\n",
    "\n",
    "BONUS: only write a single `print` statement that uses variables for the function names"
   ]
  },
  {
   "cell_type": "code",
   "execution_count": null,
   "metadata": {
    "id": "WSNy8IR0JelC"
   },
   "outputs": [],
   "source": [
    "# your code here"
   ]
  },
  {
   "cell_type": "markdown",
   "metadata": {
    "id": "CVqvd5ftmU5S"
   },
   "source": [
    "## Question Four\n",
    "\n",
    "Write a recursive function to `find_codon` that takes 2 parameters:\n",
    "- needle, the sequence to look for (eg. 'ATG')\n",
    "- haystack, the complete sequence of bases to search through as a string\n",
    "    \n",
    "and returns a list of indices at which _needle_ codon begins (the needle may be present more than once)."
   ]
  },
  {
   "cell_type": "code",
   "execution_count": null,
   "metadata": {
    "id": "pLGYSryrjPdc"
   },
   "outputs": [],
   "source": [
    "# your code here"
   ]
  },
  {
   "cell_type": "code",
   "execution_count": null,
   "metadata": {
    "colab": {
     "base_uri": "https://localhost:8080/"
    },
    "executionInfo": {
     "elapsed": 669,
     "status": "ok",
     "timestamp": 1604447918326,
     "user": {
      "displayName": "Christian Darabos",
      "photoUrl": "https://lh3.googleusercontent.com/a-/AOh14Gj58rX31OVqoCy41duHsoMyAFVv9Ammc6u2HhU3=s64",
      "userId": "13696541032900097213"
     },
     "user_tz": 300
    },
    "id": "JsoEH6qQmU5V",
    "outputId": "5e1186db-2de2-4250-f645-430320fc9350"
   },
   "outputs": [],
   "source": [
    "# test your code\n",
    "sequence = \"TTACGTTATGACATGGCGGGGTAGCA\"\n",
    "\n",
    "start_codon = 'ATG'\n",
    "print(f'{start_codon} codon indices: {find_codon(start_codon, sequence)}')\n",
    "\n",
    "stop_codon = 'TAG'\n",
    "print(f'{stop_codon} codon indices: {find_codon(stop_codon, sequence)}')"
   ]
  },
  {
   "cell_type": "markdown",
   "metadata": {
    "id": "hpfaDcqmmU5Y"
   },
   "source": [
    "Wrapper functions are often used as shorthand for common tasks. \n",
    "\n",
    "The DNA _start codon_ is 'ATG'. Write a wrapper function called `start_conod` to automatically search for this codon in any given sequence. Use the existing `find_codon` function."
   ]
  },
  {
   "cell_type": "code",
   "execution_count": null,
   "metadata": {
    "id": "m7g3LLddkBhP"
   },
   "outputs": [],
   "source": [
    "# your code here"
   ]
  },
  {
   "cell_type": "code",
   "execution_count": null,
   "metadata": {
    "colab": {
     "base_uri": "https://localhost:8080/"
    },
    "executionInfo": {
     "elapsed": 630,
     "status": "ok",
     "timestamp": 1604448363163,
     "user": {
      "displayName": "Christian Darabos",
      "photoUrl": "https://lh3.googleusercontent.com/a-/AOh14Gj58rX31OVqoCy41duHsoMyAFVv9Ammc6u2HhU3=s64",
      "userId": "13696541032900097213"
     },
     "user_tz": 300
    },
    "id": "jgQyObEhkCCE",
    "outputId": "5d667fa6-7ab6-413c-d588-0c0d5b28e7a4"
   },
   "outputs": [],
   "source": [
    "# test your code\n",
    "sequence = \"TTACGTTATGACATGGCGGGGTAGCA\"\n",
    "print(start_codon(sequence))"
   ]
  },
  {
   "cell_type": "markdown",
   "metadata": {
    "id": "hpib2fb5lIx5"
   },
   "source": [
    "Finally, write a wrapper to find the indices of any of the three DNA _stop codons_ \"TAG\", \"TAA\", and \"TGA\""
   ]
  },
  {
   "cell_type": "code",
   "execution_count": null,
   "metadata": {
    "id": "XUnDx3KGleG3"
   },
   "outputs": [],
   "source": [
    "# your code here"
   ]
  },
  {
   "cell_type": "code",
   "execution_count": null,
   "metadata": {
    "colab": {
     "base_uri": "https://localhost:8080/"
    },
    "executionInfo": {
     "elapsed": 349,
     "status": "ok",
     "timestamp": 1604448781121,
     "user": {
      "displayName": "Christian Darabos",
      "photoUrl": "https://lh3.googleusercontent.com/a-/AOh14Gj58rX31OVqoCy41duHsoMyAFVv9Ammc6u2HhU3=s64",
      "userId": "13696541032900097213"
     },
     "user_tz": 300
    },
    "id": "TlUyiqFaleZv",
    "outputId": "911f840f-c960-49c9-dd2b-18ae593994d3"
   },
   "outputs": [],
   "source": [
    "# test your code\n",
    "sequence = \"TTACGTTATGACATGGCGGGGTAGCA\"\n",
    "print(stop_codon(sequence))"
   ]
  }
 ],
 "metadata": {
  "colab": {
   "collapsed_sections": [],
   "name": "QBS101-F20-week08-assignment-student-version.ipynb",
   "provenance": []
  },
  "kernelspec": {
   "display_name": "Python 3",
   "language": "python",
   "name": "python3"
  },
  "language_info": {
   "codemirror_mode": {
    "name": "ipython",
    "version": 3
   },
   "file_extension": ".py",
   "mimetype": "text/x-python",
   "name": "python",
   "nbconvert_exporter": "python",
   "pygments_lexer": "ipython3",
   "version": "3.7.6"
  }
 },
 "nbformat": 4,
 "nbformat_minor": 1
}
