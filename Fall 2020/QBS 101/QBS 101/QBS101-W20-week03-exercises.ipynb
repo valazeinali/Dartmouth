{
 "cells": [
  {
   "cell_type": "markdown",
   "metadata": {
    "id": "7gaCTqzLw4h5"
   },
   "source": [
    "# Exercise - Compound Operators\n",
    "\n",
    "Using compound operators, re-write the following assignment expressions:\n",
    "```\n",
    "  x = x+y\n",
    "  a = a-b+c\n",
    "  i = 10*j*i\n",
    "  m = 10/m\n",
    "```"
   ]
  },
  {
   "cell_type": "code",
   "execution_count": 12,
   "metadata": {
    "id": "3otfkO_FPwq_"
   },
   "outputs": [
    {
     "data": {
      "text/plain": [
       "1.1111111111111112"
      ]
     },
     "execution_count": 12,
     "metadata": {},
     "output_type": "execute_result"
    }
   ],
   "source": [
    "# YOUR CODE HERE\n",
    "x,y,a,b,c,i,j,m = 1,2,3,3,4,2,3,9\n",
    "\n",
    "x+=y\n",
    "a-=b+c\n",
    "i*=10*j\n",
    "m **= -1\n",
    "m *= 10\n",
    "m"
   ]
  },
  {
   "cell_type": "markdown",
   "metadata": {
    "id": "UuYWx_iCgwKP"
   },
   "source": [
    "# Exercise - Classes Basics\n",
    "\n",
    "What do the `type()` and `dir()` functions do.\n",
    " \n",
    " type() tells you the type of the object. dir() is one of the basic commands to help navigate the file system.\n",
    "\n",
    "* Use the `dir()` function to list a class' _attributes_ and _methods_. \n",
    "* Use a function that you didn't know about before using `dir()` on object/class in an example."
   ]
  },
  {
   "cell_type": "markdown",
   "metadata": {
    "id": "joVG2ehslku0"
   },
   "source": [
    "# Exercise - Make a Camel/Snake Case String\n",
    "\n",
    "Turn the following sentence into a:\n",
    "- snake_case\n",
    "- camelCase\n",
    "\n"
   ]
  },
  {
   "cell_type": "code",
   "execution_count": 15,
   "metadata": {
    "id": "xYvg65QTolpu"
   },
   "outputs": [],
   "source": [
    "sentence = \"The quick brown fox jumps over the lazy dog\""
   ]
  },
  {
   "cell_type": "code",
   "execution_count": 16,
   "metadata": {
    "colab": {
     "base_uri": "https://localhost:8080/",
     "height": 70
    },
    "executionInfo": {
     "elapsed": 784,
     "status": "ok",
     "timestamp": 1601396315378,
     "user": {
      "displayName": "Christian Darabos",
      "photoUrl": "https://lh3.googleusercontent.com/a-/AOh14Gj58rX31OVqoCy41duHsoMyAFVv9Ammc6u2HhU3=s64",
      "userId": "13696541032900097213"
     },
     "user_tz": 240
    },
    "id": "JXHDSH_opL9X",
    "outputId": "9bbcbefe-a00b-470d-8a4c-866ce6a6cb0e"
   },
   "outputs": [
    {
     "name": "stdout",
     "output_type": "stream",
     "text": [
      "the_quick_brown_fox_jumps_over_the_lazy_dog\n"
     ]
    }
   ],
   "source": [
    "# YOUR CODE HERE\n",
    "def snake(string) :  \n",
    "  \n",
    "    n = len(string); \n",
    "    string = list(string); \n",
    "      \n",
    "    for i in range(n) :  \n",
    "      \n",
    "        # Converting space to underscor  \n",
    "        if (string[i] == ' ') : \n",
    "            string[i] = '_';  \n",
    "        else : \n",
    "            # If not space, convert  \n",
    "            # into lower character  \n",
    "            string[i] = string[i].lower();  \n",
    "      \n",
    "    string = \"\".join(string) \n",
    "    print(string);  \n",
    "snake(sentence)\n",
    "\n",
    "'''\n",
    "Easier way of doing it\n",
    "\n",
    "snake = sentence.lower().replace(' ','_')\n",
    "print snake\n",
    "'''"
   ]
  },
  {
   "cell_type": "code",
   "execution_count": 17,
   "metadata": {},
   "outputs": [
    {
     "name": "stdout",
     "output_type": "stream",
     "text": [
      "thequickbrownfoxjumpsoverthelazydog\n"
     ]
    }
   ],
   "source": [
    "def lower(string) :  \n",
    "  \n",
    "    n = len(string); \n",
    "    string = list(string); \n",
    "      \n",
    "    for i in range(n) :  \n",
    "      \n",
    "        # Converting space to underscor  \n",
    "        if (string[i] == ' ') : \n",
    "            string[i] = '';  \n",
    "        else : \n",
    "            # If not space, convert  \n",
    "            # into lower character  \n",
    "            string[i] = string[i].lower();  \n",
    "      \n",
    "    string = \"\".join(string) \n",
    "    print(string);\n",
    "lower(sentence)\n",
    "\n",
    "'''\n",
    "Easier way of doing it\n",
    "\n",
    "lower = sentence.lower().replace(' ','')\n",
    "print lower\n",
    "'''"
   ]
  },
  {
   "cell_type": "code",
   "execution_count": 23,
   "metadata": {},
   "outputs": [
    {
     "name": "stdout",
     "output_type": "stream",
     "text": [
      "theQuickBrownFoxJumpsOverTheLazyDog\n"
     ]
    }
   ],
   "source": [
    "camel = (sentence[0].lower()+sentence.title()[1:]).replace(' ','')\n",
    "print(camel)"
   ]
  },
  {
   "cell_type": "markdown",
   "metadata": {
    "id": "VuKYcOiWeDJN"
   },
   "source": [
    "# Exercice - String Formatting\n",
    "\n",
    "Using the variable below, print `\"Hello, world!\"`.\n",
    "```\n",
    "greeting = \"Hello, world\"\n",
    "```\n",
    "Add the missing exclamation mark using all 3 string farmatting methods:\n",
    "- concatenation\n",
    "- format\n",
    "- f-strings\n",
    "\n"
   ]
  },
  {
   "cell_type": "code",
   "execution_count": 28,
   "metadata": {
    "id": "phlMQhSjg1bW"
   },
   "outputs": [],
   "source": [
    "greeting = \"Hello, world\"\n",
    "# YOUR CODE BELOW :)"
   ]
  },
  {
   "cell_type": "code",
   "execution_count": 39,
   "metadata": {
    "colab": {
     "base_uri": "https://localhost:8080/",
     "height": 70
    },
    "executionInfo": {
     "elapsed": 290,
     "status": "ok",
     "timestamp": 1601326798365,
     "user": {
      "displayName": "Christian Darabos",
      "photoUrl": "https://lh3.googleusercontent.com/a-/AOh14Gj58rX31OVqoCy41duHsoMyAFVv9Ammc6u2HhU3=s64",
      "userId": "13696541032900097213"
     },
     "user_tz": 240
    },
    "id": "Giuv46gkggGz",
    "outputId": "9a0c3efa-4716-4a5b-b675-989c82bc7ca3"
   },
   "outputs": [
    {
     "name": "stdout",
     "output_type": "stream",
     "text": [
      "Hello, world!\n",
      "Hello, world!\n",
      "Hello, world!\n"
     ]
    }
   ],
   "source": [
    "# YOUR CODE HERE\n",
    "print(greeting+\"!\") #concat\n",
    "\n",
    "formatgreeting = \"Hello, world{}\" #format\n",
    "print (formatgreeting.format(\"!\"))\n",
    "\n",
    "print(f'{greeting}!') #fstring"
   ]
  },
  {
   "cell_type": "markdown",
   "metadata": {
    "id": "QnHdi6o7g_dk"
   },
   "source": [
    "# Exercice - More String Formatting\n",
    "\n",
    "Format and print the information below using string interpolation:\n",
    "```\n",
    "title = \"Joker\"\n",
    "director = \"Todd Phillips\"\n",
    "release_year = 2019\n",
    "```\n",
    "The output should look like this:\n",
    "```\n",
    "Joker (2019), directed by Todd Phillips\n",
    "```"
   ]
  },
  {
   "cell_type": "code",
   "execution_count": null,
   "metadata": {
    "id": "5jlBheaLhIUY"
   },
   "outputs": [],
   "source": [
    "title = \"Joker\"\n",
    "director = \"Todd Phillips\"\n",
    "release_year = 2019\n",
    "# YOUR CODE BELOW :)"
   ]
  },
  {
   "cell_type": "code",
   "execution_count": null,
   "metadata": {
    "colab": {
     "base_uri": "https://localhost:8080/",
     "height": 35
    },
    "executionInfo": {
     "elapsed": 283,
     "status": "ok",
     "timestamp": 1601326897503,
     "user": {
      "displayName": "Christian Darabos",
      "photoUrl": "https://lh3.googleusercontent.com/a-/AOh14Gj58rX31OVqoCy41duHsoMyAFVv9Ammc6u2HhU3=s64",
      "userId": "13696541032900097213"
     },
     "user_tz": 240
    },
    "id": "yY3sljtQhL4r",
    "outputId": "bf88e9ed-0059-4bd4-c58b-6049e4bda9ba"
   },
   "outputs": [
    {
     "name": "stdout",
     "output_type": "stream",
     "text": [
      "Joker (2019), directed by Todd Phillips\n"
     ]
    }
   ],
   "source": [
    "# YOUR CODE HERE"
   ]
  },
  {
   "cell_type": "markdown",
   "metadata": {
    "id": "DxNl9DNDhWeL"
   },
   "source": [
    "# Exercise - Fibonacci sequence\n",
    "\n",
    "The Fibonacci sequence of integers is defined as follow:\n",
    "\n",
    "$$\n",
    "e_0 = 0 \\\\\n",
    "e_1 = 1 \\\\\n",
    "e_n = e_{n-2}+e_{n-1}\n",
    "$$\n",
    "\n",
    "Without a loop, building a Fibonacci sequence by hand is tedious, but let's do the first 5 elements without doing any adding in our heads and store them in a list:"
   ]
  },
  {
   "cell_type": "code",
   "execution_count": null,
   "metadata": {
    "colab": {
     "base_uri": "https://localhost:8080/",
     "height": 35
    },
    "executionInfo": {
     "elapsed": 474,
     "status": "ok",
     "timestamp": 1601402164066,
     "user": {
      "displayName": "Christian Darabos",
      "photoUrl": "https://lh3.googleusercontent.com/a-/AOh14Gj58rX31OVqoCy41duHsoMyAFVv9Ammc6u2HhU3=s64",
      "userId": "13696541032900097213"
     },
     "user_tz": 240
    },
    "id": "oNUNEhnK7ER0",
    "outputId": "14d2b6d2-d236-4fde-f1d0-3efca78de5f4"
   },
   "outputs": [
    {
     "name": "stdout",
     "output_type": "stream",
     "text": [
      "[0, 1, 1, 2, 3]\n"
     ]
    }
   ],
   "source": [
    "# YOUR CODE HERE"
   ]
  },
  {
   "cell_type": "markdown",
   "metadata": {
    "id": "afgd66vDAffv"
   },
   "source": [
    "Try the a few arithmetic operators on this Fibanacci list. What works? What doesn't? Is the outcome intuitive?"
   ]
  },
  {
   "cell_type": "code",
   "execution_count": 2,
   "metadata": {
    "executionInfo": {
     "elapsed": 668,
     "status": "ok",
     "timestamp": 1601423087242,
     "user": {
      "displayName": "Christian Darabos",
      "photoUrl": "https://lh3.googleusercontent.com/a-/AOh14Gj58rX31OVqoCy41duHsoMyAFVv9Ammc6u2HhU3=s64",
      "userId": "13696541032900097213"
     },
     "user_tz": 240
    },
    "id": "LGGDG-_hAlsx"
   },
   "outputs": [],
   "source": [
    "# YOUR CODE HERE"
   ]
  },
  {
   "cell_type": "markdown",
   "metadata": {
    "id": "c-2BuZ6BO2S4"
   },
   "source": [
    "What about strings?"
   ]
  },
  {
   "cell_type": "code",
   "execution_count": 3,
   "metadata": {
    "executionInfo": {
     "elapsed": 626,
     "status": "ok",
     "timestamp": 1601423096284,
     "user": {
      "displayName": "Christian Darabos",
      "photoUrl": "https://lh3.googleusercontent.com/a-/AOh14Gj58rX31OVqoCy41duHsoMyAFVv9Ammc6u2HhU3=s64",
      "userId": "13696541032900097213"
     },
     "user_tz": 240
    },
    "id": "TEEii06tOTEN"
   },
   "outputs": [],
   "source": [
    "# YOUR CODE HERE"
   ]
  },
  {
   "cell_type": "markdown",
   "metadata": {
    "id": "XO1uasP9YCu7"
   },
   "source": [
    "# Exercise - Applying Function and Operators to List Elements\n",
    "\n",
    "Collections in Python have a syntax of their own that mimics a loop, without the full syntax of a loop, that allow you to apply the same _operation_ to all _elements_ in the _list_:\n",
    "\n",
    "```\n",
    "[operation for element in list]\n",
    "```\n",
    "\n",
    "For example, you can square each element of a list:\n"
   ]
  },
  {
   "cell_type": "code",
   "execution_count": null,
   "metadata": {
    "colab": {
     "base_uri": "https://localhost:8080/",
     "height": 35
    },
    "executionInfo": {
     "elapsed": 533,
     "status": "ok",
     "timestamp": 1601408726562,
     "user": {
      "displayName": "Christian Darabos",
      "photoUrl": "https://lh3.googleusercontent.com/a-/AOh14Gj58rX31OVqoCy41duHsoMyAFVv9Ammc6u2HhU3=s64",
      "userId": "13696541032900097213"
     },
     "user_tz": 240
    },
    "id": "SLi0Q0kxZNU6",
    "outputId": "33feea10-490f-4eb7-9c76-37ef4ffde384"
   },
   "outputs": [
    {
     "name": "stdout",
     "output_type": "stream",
     "text": [
      "[0, 1, 4, 9]\n"
     ]
    }
   ],
   "source": [
    "nbs = [0,1,2,3]\n",
    "sqr_nbs = [e**2 for e in nbs]\n",
    "print(sqr_nbs)"
   ]
  },
  {
   "cell_type": "markdown",
   "metadata": {
    "id": "ahUbZriUZl1B"
   },
   "source": [
    "Using the code above as inspiration:\n",
    "- define a list of integers [-100,100] by step of 10 and then divide each element by 2. Print the new list.\n",
    "- the following code creates a list populated with the 12 months name:\n",
    "```\n",
    "import calendar\n",
    "months = calendar.month_name[1:13]\n",
    "```\n",
    "ALL CAPS the name of each month and print them. Then print the length of each month's name."
   ]
  },
  {
   "cell_type": "code",
   "execution_count": 48,
   "metadata": {
    "executionInfo": {
     "elapsed": 739,
     "status": "ok",
     "timestamp": 1601423125605,
     "user": {
      "displayName": "Christian Darabos",
      "photoUrl": "https://lh3.googleusercontent.com/a-/AOh14Gj58rX31OVqoCy41duHsoMyAFVv9Ammc6u2HhU3=s64",
      "userId": "13696541032900097213"
     },
     "user_tz": 240
    },
    "id": "yeZLGNwrZfO5"
   },
   "outputs": [
    {
     "data": {
      "text/plain": [
       "[-50.0,\n",
       " -45.0,\n",
       " -40.0,\n",
       " -35.0,\n",
       " -30.0,\n",
       " -25.0,\n",
       " -20.0,\n",
       " -15.0,\n",
       " -10.0,\n",
       " -5.0,\n",
       " 0.0,\n",
       " 5.0,\n",
       " 10.0,\n",
       " 15.0,\n",
       " 20.0,\n",
       " 25.0,\n",
       " 30.0,\n",
       " 35.0,\n",
       " 40.0,\n",
       " 45.0,\n",
       " 50.0]"
      ]
     },
     "execution_count": 48,
     "metadata": {},
     "output_type": "execute_result"
    }
   ],
   "source": [
    "# YOUR CODE HERE\n",
    "temp = list(range(-100, 101,10))\n",
    "div = [x/2 for x in temp]\n",
    "div"
   ]
  },
  {
   "cell_type": "code",
   "execution_count": 51,
   "metadata": {},
   "outputs": [
    {
     "name": "stdout",
     "output_type": "stream",
     "text": [
      "['JANUARY', 'FEBRUARY', 'MARCH', 'APRIL', 'MAY', 'JUNE', 'JULY', 'AUGUST', 'SEPTEMBER', 'OCTOBER', 'NOVEMBER', 'DECEMBER']\n",
      "[7, 8, 5, 5, 3, 4, 4, 6, 9, 7, 8, 8]\n"
     ]
    }
   ],
   "source": [
    "import calendar\n",
    "months = calendar.month_name[1:13]\n",
    "\n",
    "print([x.upper() for x in months])\n",
    "print([len(x) for x in months])"
   ]
  },
  {
   "cell_type": "markdown",
   "metadata": {
    "id": "Tbt4fFnYcuGO"
   },
   "source": [
    "# Exercise - Implode and Explode\n",
    "\n",
    "Build a list of the ingredients of your favorite Ben & Jerry's ice cream (min. 4 ingredients) and concatenate them into a `+` separated string. Then add the `= name_of_the_flavor` at the end, where `end of the flavor` is the actual name of the flavor."
   ]
  },
  {
   "cell_type": "code",
   "execution_count": null,
   "metadata": {
    "colab": {
     "base_uri": "https://localhost:8080/",
     "height": 35
    },
    "executionInfo": {
     "elapsed": 502,
     "status": "ok",
     "timestamp": 1601410321209,
     "user": {
      "displayName": "Christian Darabos",
      "photoUrl": "https://lh3.googleusercontent.com/a-/AOh14Gj58rX31OVqoCy41duHsoMyAFVv9Ammc6u2HhU3=s64",
      "userId": "13696541032900097213"
     },
     "user_tz": 240
    },
    "id": "ALfjALeMdnvX",
    "outputId": "86ad8247-4499-4525-95be-619acbca288d"
   },
   "outputs": [
    {
     "name": "stdout",
     "output_type": "stream",
     "text": [
      "banana + fudge chunks + vanilla + wallnuts= Chunky Monkey\n"
     ]
    }
   ],
   "source": [
    "# YOUR CODE HERE"
   ]
  },
  {
   "cell_type": "markdown",
   "metadata": {
    "id": "PqOL-N93f3c3"
   },
   "source": [
    "Now turn this string into an list:\n",
    "```\n",
    "2, 3, 5, 7, 11, 13, 17, 19, 23, 29, 31, 37, 41, 43, 47, 53, 59, 61, 67, 71, 73, 79, 83, 89, 97\n",
    "```\n",
    "**Brownie point** if you can convert a list of strings into a list of integers!"
   ]
  },
  {
   "cell_type": "code",
   "execution_count": null,
   "metadata": {
    "colab": {
     "base_uri": "https://localhost:8080/",
     "height": 72
    },
    "executionInfo": {
     "elapsed": 493,
     "status": "ok",
     "timestamp": 1601410571244,
     "user": {
      "displayName": "Christian Darabos",
      "photoUrl": "https://lh3.googleusercontent.com/a-/AOh14Gj58rX31OVqoCy41duHsoMyAFVv9Ammc6u2HhU3=s64",
      "userId": "13696541032900097213"
     },
     "user_tz": 240
    },
    "id": "0iDVXMp-gJur",
    "outputId": "031d0ea4-f1ea-4fe3-8169-fb3de632ca00"
   },
   "outputs": [
    {
     "name": "stdout",
     "output_type": "stream",
     "text": [
      "['2', '3', '5', '7', '11', '13', '17', '19', '23', '29', '31', '37', '41', '43', '47', '53', '59', '61', '67', '71', '73', '79', '83', '89', '97']\n",
      "[2, 3, 5, 7, 11, 13, 17, 19, 23, 29, 31, 37, 41, 43, 47, 53, 59, 61, 67, 71, 73, 79, 83, 89, 97]\n"
     ]
    }
   ],
   "source": [
    "# YOUR CODE HERE"
   ]
  }
 ],
 "metadata": {
  "colab": {
   "authorship_tag": "ABX9TyP9CEK/Do/zNg9hb3oJ/Jbj",
   "collapsed_sections": [],
   "name": "QBS101-W20-week03-exercises.ipynb",
   "provenance": []
  },
  "kernelspec": {
   "display_name": "Python 3",
   "language": "python",
   "name": "python3"
  },
  "language_info": {
   "codemirror_mode": {
    "name": "ipython",
    "version": 3
   },
   "file_extension": ".py",
   "mimetype": "text/x-python",
   "name": "python",
   "nbconvert_exporter": "python",
   "pygments_lexer": "ipython3",
   "version": "3.7.6"
  }
 },
 "nbformat": 4,
 "nbformat_minor": 1
}
