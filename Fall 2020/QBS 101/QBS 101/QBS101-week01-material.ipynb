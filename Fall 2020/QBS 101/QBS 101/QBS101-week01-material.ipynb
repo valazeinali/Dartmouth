{
 "cells": [
  {
   "cell_type": "markdown",
   "metadata": {
    "colab_type": "text",
    "id": "RVcMjmcpQ3Tv"
   },
   "source": [
    "#Welcome to QBS101 - WEEK 1\n",
    "\n",
    "## Outline / Learning Objectives\n",
    "* Logistics announcements\n",
    "* Introduction to Python and Notebooks\n",
    "* Setting up:\n",
    "  * access to Google Colab (via Gmail) **or** \n",
    "  * local install of Anaconda3 / Jupyter Notebook\n",
    "  * basics of a Jupyter/Colab Notebook\n",
    "  * DartFS and HPC (Andes/Polaris/Discovery)\n",
    "* Your first Python Notebook and Code\n"
   ]
  },
  {
   "cell_type": "markdown",
   "metadata": {
    "colab_type": "text",
    "id": "Aygn_iVfXtTX"
   },
   "source": [
    "#Basics of a Notebook\n",
    "\n",
    "## Markdowns / Text Cells\n",
    "Colaboratory/Jupyter has two types of cells: text and code. The text cells are formatted using a simple markup language called markdown, based on the [original](https://daringfireball.net/projects/markdown/syntax).\n",
    "\n",
    "- see [documentation](https://colab.research.google.com/notebooks/markdown_guide.ipynb)\n",
    "\n"
   ]
  },
  {
   "cell_type": "markdown",
   "metadata": {
    "colab_type": "text",
    "id": "CzwGsZj3bTQq"
   },
   "source": [
    "## Examples of markdown markups :)\n",
    "\n",
    "**Execute a cell**\n",
    "- shift+return : execute the cell and move to the next (create a new code cell if last cell)\n",
    "- ctrl+return : execute the cell and stay in the cell"
   ]
  },
  {
   "cell_type": "markdown",
   "metadata": {
    "colab_type": "text",
    "id": "5u6iV5BycStA"
   },
   "source": [
    "# Code Cells\n",
    "\n",
    "Contains (Python) code and is generally followed by it's output.\n",
    "\n",
    "**Execute a cell**\n",
    "- shift+return : execute the cell and move to the next (create a new code cell if last cell)\n",
    "- ctrl+return : execute the cell and stay in the cell"
   ]
  },
  {
   "cell_type": "code",
   "execution_count": 1,
   "metadata": {
    "colab": {
     "base_uri": "https://localhost:8080/",
     "height": 34
    },
    "colab_type": "code",
    "executionInfo": {
     "elapsed": 555,
     "status": "ok",
     "timestamp": 1600117964314,
     "user": {
      "displayName": "Christian Darabos",
      "photoUrl": "https://lh3.googleusercontent.com/a-/AOh14Gj58rX31OVqoCy41duHsoMyAFVv9Ammc6u2HhU3=s64",
      "userId": "13696541032900097213"
     },
     "user_tz": 240
    },
    "id": "cgUamqTGQsRA",
    "outputId": "2e1f8127-4e39-4ffe-c68b-3a34354d688e"
   },
   "outputs": [
    {
     "name": "stdout",
     "output_type": "stream",
     "text": [
      "Hello World\n"
     ]
    }
   ],
   "source": [
    "print(\"Hello World\")"
   ]
  },
  {
   "cell_type": "code",
   "execution_count": 2,
   "metadata": {
    "colab": {
     "base_uri": "https://localhost:8080/",
     "height": 34
    },
    "colab_type": "code",
    "executionInfo": {
     "elapsed": 354,
     "status": "ok",
     "timestamp": 1600118616373,
     "user": {
      "displayName": "Christian Darabos",
      "photoUrl": "https://lh3.googleusercontent.com/a-/AOh14Gj58rX31OVqoCy41duHsoMyAFVv9Ammc6u2HhU3=s64",
      "userId": "13696541032900097213"
     },
     "user_tz": 240
    },
    "id": "n5hIpWRKdlfr",
    "outputId": "5a2b96de-dcf7-485e-8572-fd68b1806ddd"
   },
   "outputs": [
    {
     "name": "stdout",
     "output_type": "stream",
     "text": [
      "Area of a radius 10 circle is 314.1592653589793\n"
     ]
    }
   ],
   "source": [
    "# in Pyhon, #'s mark comments (entire or partial lines)\n",
    "import math\n",
    "radius=10\n",
    "area=math.pi*pow(radius,2)\n",
    "print(f'Area of a radius {radius} circle is {area}')           # Python v3.x\n",
    "#print('Area of a radius {} circle is {}'.format(radius,area)) # Python v2.x"
   ]
  },
  {
   "cell_type": "markdown",
   "metadata": {
    "colab_type": "text",
    "id": "rs6_6oDgeUMk"
   },
   "source": [
    "# Run your code on HPC\n",
    "\n",
    "\n",
    "1.   File -> Download .py \n",
    "2.   Upload .py file to your DartFS (maybe in a qbs101/week01 folder)\n",
    "3. Connect to Andes/Polaris via the Terminal/MobaXterm\n",
    "4. Navigate to the folder where your .py file lives\n",
    "2. Run: \n",
    "```\n",
    "$ python nameOfTheFile.py\n",
    "```\n",
    "\n",
    "6. Comment line #5 and uncomment line #6\n",
    "7. Perform steps 1,2 and 5 again\n",
    "\n",
    "\n",
    "\n"
   ]
  },
  {
   "cell_type": "markdown",
   "metadata": {
    "colab_type": "text",
    "id": "bJlgm9IBhV7R"
   },
   "source": [
    "#Questions\n",
    "1. What happened?\n",
    "2. How do I know what version of Python is running on HPC?\n",
    "3. What can I do if I'm not running the right version of Python on HPC?"
   ]
  },
  {
   "cell_type": "markdown",
   "metadata": {
    "colab_type": "text",
    "id": "jVYZxh_Sm2bS"
   },
   "source": [
    "# Exercise 1\n",
    "\n",
    "The [escape velocity](http://physics.bu.edu/~redner/211-sp06/class-gravity/escape.html) calculates how fast would you have to throw an object so it never came back down. It the minimum speed required to escape a planet's gravitational pull.\n",
    "\n",
    "In a new notebook, \n",
    "\n",
    "1. recreate the following equation in a text cell:\n",
    "\n",
    "![Escape Velocity](https://getcalc.com/formula/physics/escape-velocity.png)\n",
    "\n",
    "2. use Python in a code cell to solve this equation for the Earth. Some Googling may be required ;)\n",
    "\n"
   ]
  },
  {
   "cell_type": "markdown",
   "metadata": {
    "colab_type": "text",
    "id": "2FzQCoskh6YR"
   },
   "source": [
    "#Answers\n",
    "1. Python has changed dramatically between versions 2 and 3. Python will end the support to v2.x later this year. Therefore, all new code should be written in Python 3.x!\n",
    "2. \n",
    "```\n",
    "python --version\n",
    "```\n",
    "3. Conda! Conda allows you to manage your Python environments and improves the portability and reproducibility of your code!\n",
    "See the [Conda on HPC documentation](https://services.dartmouth.edu/TDClient/1806/Portal/KB/ArticleDet?ID=72888) for more info.\n"
   ]
  }
 ],
 "metadata": {
  "colab": {
   "authorship_tag": "ABX9TyOQh9Z1nI70HBPKkpEPfHbi",
   "name": "QBS101-week01-material.ipynb",
   "provenance": []
  },
  "kernelspec": {
   "display_name": "Python 3",
   "language": "python",
   "name": "python3"
  },
  "language_info": {
   "codemirror_mode": {
    "name": "ipython",
    "version": 3
   },
   "file_extension": ".py",
   "mimetype": "text/x-python",
   "name": "python",
   "nbconvert_exporter": "python",
   "pygments_lexer": "ipython3",
   "version": "3.7.6"
  }
 },
 "nbformat": 4,
 "nbformat_minor": 1
}
