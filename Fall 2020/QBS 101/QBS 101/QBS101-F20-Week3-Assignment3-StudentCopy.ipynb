{
 "cells": [
  {
   "cell_type": "markdown",
   "metadata": {
    "id": "TA02GGAy0kuJ"
   },
   "source": [
    "## Question One\n",
    "\n",
    "Its 2019 and you're out for dinner with a friend and need to venmo them for your portion of the bill. Run the following piece of code to get you started."
   ]
  },
  {
   "cell_type": "code",
   "execution_count": 1,
   "metadata": {
    "id": "SIqPC_HN0kuL"
   },
   "outputs": [],
   "source": [
    "drinks=6\n",
    "appetizer=10\n",
    "entree1=15\n",
    "entree2=16\n",
    "dessert=8"
   ]
  },
  {
   "cell_type": "markdown",
   "metadata": {
    "id": "CngamShf0kuW"
   },
   "source": [
    "You've decided to split the check evenly. First, add all the individuals values together and name this billTotal. "
   ]
  },
  {
   "cell_type": "code",
   "execution_count": 2,
   "metadata": {
    "colab": {
     "base_uri": "https://localhost:8080/",
     "height": 35
    },
    "executionInfo": {
     "elapsed": 342,
     "status": "ok",
     "timestamp": 1601383677731,
     "user": {
      "displayName": "Christian Darabos",
      "photoUrl": "https://lh3.googleusercontent.com/a-/AOh14Gj58rX31OVqoCy41duHsoMyAFVv9Ammc6u2HhU3=s64",
      "userId": "13696541032900097213"
     },
     "user_tz": 240
    },
    "id": "wS4yAWY30kuX",
    "outputId": "5f59af21-2861-4634-c6d2-a74d7aed30a0"
   },
   "outputs": [
    {
     "data": {
      "text/plain": [
       "55"
      ]
     },
     "execution_count": 2,
     "metadata": {},
     "output_type": "execute_result"
    }
   ],
   "source": [
    "billTotal = drinks+appetizer+entree1+entree2+dessert # adding individual prices for total $ amount if food/drinks\n",
    "billTotalOrg = billTotal #using later for Bonus\n",
    "billTotalOrg1 = billTotal #using later for Bonus\n",
    "billTotal"
   ]
  },
  {
   "cell_type": "markdown",
   "metadata": {
    "id": "naqOFKLA0kue"
   },
   "source": [
    "First you need to add tax (9%) to this total. Use a compound operator syntax to do this. "
   ]
  },
  {
   "cell_type": "code",
   "execution_count": 3,
   "metadata": {
    "colab": {
     "base_uri": "https://localhost:8080/",
     "height": 35
    },
    "executionInfo": {
     "elapsed": 368,
     "status": "ok",
     "timestamp": 1601383679196,
     "user": {
      "displayName": "Christian Darabos",
      "photoUrl": "https://lh3.googleusercontent.com/a-/AOh14Gj58rX31OVqoCy41duHsoMyAFVv9Ammc6u2HhU3=s64",
      "userId": "13696541032900097213"
     },
     "user_tz": 240
    },
    "id": "kACfT9wN0kug",
    "outputId": "b8178624-fec8-4159-8402-0281b1b2e0bf"
   },
   "outputs": [
    {
     "data": {
      "text/plain": [
       "59.95"
      ]
     },
     "execution_count": 3,
     "metadata": {},
     "output_type": "execute_result"
    }
   ],
   "source": [
    "billTotal+=billTotal*.09 #adding our 9% tax on our bill\n",
    "billTotal"
   ]
  },
  {
   "cell_type": "markdown",
   "metadata": {
    "id": "s0ryYkoT0kum"
   },
   "source": [
    "Now you need to factor in tip. Your server was really great so you're gonna tip 22%. Again, use compound a operator syntax to do this. "
   ]
  },
  {
   "cell_type": "code",
   "execution_count": 4,
   "metadata": {
    "colab": {
     "base_uri": "https://localhost:8080/",
     "height": 35
    },
    "executionInfo": {
     "elapsed": 299,
     "status": "ok",
     "timestamp": 1601383680520,
     "user": {
      "displayName": "Christian Darabos",
      "photoUrl": "https://lh3.googleusercontent.com/a-/AOh14Gj58rX31OVqoCy41duHsoMyAFVv9Ammc6u2HhU3=s64",
      "userId": "13696541032900097213"
     },
     "user_tz": 240
    },
    "id": "BUWV28No0kun",
    "outputId": "af7e49d1-36d4-4f04-e2a6-37cc1d333b4d"
   },
   "outputs": [
    {
     "data": {
      "text/plain": [
       "73.13900000000001"
      ]
     },
     "execution_count": 4,
     "metadata": {},
     "output_type": "execute_result"
    }
   ],
   "source": [
    "billTotal+=billTotal*.22 #leaving a 22% tip on Tax\n",
    "billTotal"
   ]
  },
  {
   "cell_type": "markdown",
   "metadata": {
    "id": "gsYAXQKJ0kus"
   },
   "source": [
    "Now split this total in two using compound operator syntax. Print the total you're responsible for in a proper \"human readable\" format (eg. `My share is $5.22`)."
   ]
  },
  {
   "cell_type": "code",
   "execution_count": 5,
   "metadata": {
    "colab": {
     "base_uri": "https://localhost:8080/",
     "height": 35
    },
    "executionInfo": {
     "elapsed": 533,
     "status": "ok",
     "timestamp": 1601383683914,
     "user": {
      "displayName": "Christian Darabos",
      "photoUrl": "https://lh3.googleusercontent.com/a-/AOh14Gj58rX31OVqoCy41duHsoMyAFVv9Ammc6u2HhU3=s64",
      "userId": "13696541032900097213"
     },
     "user_tz": 240
    },
    "id": "KY17MjUd0kut",
    "outputId": "f73f54da-f98c-451e-a4b5-c31f3efe79bd"
   },
   "outputs": [
    {
     "name": "stdout",
     "output_type": "stream",
     "text": [
      "My share of the bill is $36.569500000000005\n"
     ]
    }
   ],
   "source": [
    "billTotal/=2 #splitting bill in two\n",
    "print(f'My share of the bill is ${billTotal}')"
   ]
  },
  {
   "cell_type": "markdown",
   "metadata": {
    "id": "9uXBIjcy38W_"
   },
   "source": [
    "#### Bonus point:\n",
    "You realize that you have \"tipped on the taxes\", which you didn't mean to do. In **one** cell below:\n",
    "- fix this mistake using compound operators when apropriate and print the new share you owe your friend\n",
    "- print how much money you saved by fixing the mistake"
   ]
  },
  {
   "cell_type": "code",
   "execution_count": 6,
   "metadata": {
    "colab": {
     "base_uri": "https://localhost:8080/",
     "height": 52
    },
    "executionInfo": {
     "elapsed": 435,
     "status": "ok",
     "timestamp": 1601383862939,
     "user": {
      "displayName": "Christian Darabos",
      "photoUrl": "https://lh3.googleusercontent.com/a-/AOh14Gj58rX31OVqoCy41duHsoMyAFVv9Ammc6u2HhU3=s64",
      "userId": "13696541032900097213"
     },
     "user_tz": 240
    },
    "id": "Mu8NZsCz37ku",
    "outputId": "93a566db-cb82-4113-8f6a-a0992f4a3aba"
   },
   "outputs": [
    {
     "data": {
      "text/plain": [
       "67.1"
      ]
     },
     "execution_count": 6,
     "metadata": {},
     "output_type": "execute_result"
    }
   ],
   "source": [
    "billTotalOrg+=billTotalOrg*.22 # leave tip on the true principal\n",
    "billTotalOrg"
   ]
  },
  {
   "cell_type": "code",
   "execution_count": 7,
   "metadata": {},
   "outputs": [
    {
     "data": {
      "text/plain": [
       "12.099999999999994"
      ]
     },
     "execution_count": 7,
     "metadata": {},
     "output_type": "execute_result"
    }
   ],
   "source": [
    "tipAmount = billTotalOrg - billTotalOrg1 #How much you tipped, needed for later operand\n",
    "tipAmount"
   ]
  },
  {
   "cell_type": "code",
   "execution_count": 8,
   "metadata": {},
   "outputs": [
    {
     "data": {
      "text/plain": [
       "59.95"
      ]
     },
     "execution_count": 8,
     "metadata": {},
     "output_type": "execute_result"
    }
   ],
   "source": [
    "billTotalOrg1+=billTotalOrg1*.09 #total of our bill with tax\n",
    "billTotalOrg1"
   ]
  },
  {
   "cell_type": "code",
   "execution_count": 9,
   "metadata": {},
   "outputs": [
    {
     "data": {
      "text/plain": [
       "72.05"
      ]
     },
     "execution_count": 9,
     "metadata": {},
     "output_type": "execute_result"
    }
   ],
   "source": [
    "totalFixed = billTotalOrg1 + tipAmount #total of our bill, added the tip (on principal, not taxed principal)\n",
    "totalFixed"
   ]
  },
  {
   "cell_type": "code",
   "execution_count": 10,
   "metadata": {},
   "outputs": [
    {
     "name": "stdout",
     "output_type": "stream",
     "text": [
      "My share of the bill is $36.025\n"
     ]
    }
   ],
   "source": [
    "totalFixed/=2 #splitting our bill in half \n",
    "print(f'My share of the bill is ${totalFixed}')"
   ]
  },
  {
   "cell_type": "code",
   "execution_count": 11,
   "metadata": {},
   "outputs": [
    {
     "name": "stdout",
     "output_type": "stream",
     "text": [
      "By tipping on the principal versus the taxed principle, you personaly save $0.5445000000000064\n"
     ]
    }
   ],
   "source": [
    "amountSaved = billTotal - totalFixed #our savings after fixing the mistake\n",
    "print(f'By tipping on the principal versus the taxed principle, you personaly save ${amountSaved}')"
   ]
  },
  {
   "cell_type": "markdown",
   "metadata": {
    "id": "Q2c5wO4-0kuy"
   },
   "source": [
    "## Question Two\n",
    "\n",
    "Run the following code that lists the Harry Potter series starting from the first book and ending with the last."
   ]
  },
  {
   "cell_type": "code",
   "execution_count": 12,
   "metadata": {
    "id": "e69o_gNa0kuz"
   },
   "outputs": [],
   "source": [
    "harry_potter_novels = [\"Philosopher\\'s Stone\",\"Chamber of Secrets\",\"Prisoner of Azkaban\",\n",
    "                     \"Goblet of Fire\",\"Order of the Phoenix\",\"Half-Blood Prince\",\"Deathly Hallows\"]\n",
    "#for later\n",
    "harry_potter_novels1 = [\"Philosopher\\'s Stone\",\"Chamber of Secrets\",\"Prisoner of Azkaban\",\n",
    "                     \"Goblet of Fire\",\"Order of the Phoenix\",\"Half-Blood Prince\",\"Deathly Hallows\"]\n"
   ]
  },
  {
   "cell_type": "markdown",
   "metadata": {
    "id": "7P1H3YQS0ku4"
   },
   "source": [
    "How many books were there in the series? Have Python count and print the answer. "
   ]
  },
  {
   "cell_type": "code",
   "execution_count": 13,
   "metadata": {
    "colab": {
     "base_uri": "https://localhost:8080/",
     "height": 35
    },
    "executionInfo": {
     "elapsed": 448,
     "status": "ok",
     "timestamp": 1601384134380,
     "user": {
      "displayName": "Christian Darabos",
      "photoUrl": "https://lh3.googleusercontent.com/a-/AOh14Gj58rX31OVqoCy41duHsoMyAFVv9Ammc6u2HhU3=s64",
      "userId": "13696541032900097213"
     },
     "user_tz": 240
    },
    "id": "HMhob8ft0ku5",
    "outputId": "fd8487cd-d643-4936-fe1a-2d40046d48a6"
   },
   "outputs": [
    {
     "name": "stdout",
     "output_type": "stream",
     "text": [
      "There are 7 books in the series.\n"
     ]
    }
   ],
   "source": [
    "print(f'There are {len(harry_potter_novels)} books in the series.')"
   ]
  },
  {
   "cell_type": "markdown",
   "metadata": {
    "id": "HhanEGCv0ku_"
   },
   "source": [
    "You prefer \"Sorcerer's Stone\" to \"Philosopher's Stone\". Change the appropriate list element to reflect this. "
   ]
  },
  {
   "cell_type": "code",
   "execution_count": 14,
   "metadata": {
    "colab": {
     "base_uri": "https://localhost:8080/",
     "height": 55
    },
    "executionInfo": {
     "elapsed": 352,
     "status": "ok",
     "timestamp": 1601384195345,
     "user": {
      "displayName": "Christian Darabos",
      "photoUrl": "https://lh3.googleusercontent.com/a-/AOh14Gj58rX31OVqoCy41duHsoMyAFVv9Ammc6u2HhU3=s64",
      "userId": "13696541032900097213"
     },
     "user_tz": 240
    },
    "id": "HFxqFfnb0ku_",
    "outputId": "07460046-b52b-4190-d34a-df0b5f74a34a"
   },
   "outputs": [
    {
     "data": {
      "text/plain": [
       "[\"Sorcerer's Stone\",\n",
       " 'Chamber of Secrets',\n",
       " 'Prisoner of Azkaban',\n",
       " 'Goblet of Fire',\n",
       " 'Order of the Phoenix',\n",
       " 'Half-Blood Prince',\n",
       " 'Deathly Hallows']"
      ]
     },
     "execution_count": 14,
     "metadata": {},
     "output_type": "execute_result"
    }
   ],
   "source": [
    "harry_potter_novels[0] = 'Sorcerer\\'s Stone' #setting first element in the array to the desired book\n",
    "harry_potter_novels"
   ]
  },
  {
   "cell_type": "markdown",
   "metadata": {
    "id": "eC8pNUno0kvF"
   },
   "source": [
    "Have Python print the name of the 4th novel."
   ]
  },
  {
   "cell_type": "code",
   "execution_count": 15,
   "metadata": {
    "colab": {
     "base_uri": "https://localhost:8080/",
     "height": 35
    },
    "executionInfo": {
     "elapsed": 304,
     "status": "ok",
     "timestamp": 1601384234135,
     "user": {
      "displayName": "Christian Darabos",
      "photoUrl": "https://lh3.googleusercontent.com/a-/AOh14Gj58rX31OVqoCy41duHsoMyAFVv9Ammc6u2HhU3=s64",
      "userId": "13696541032900097213"
     },
     "user_tz": 240
    },
    "id": "O0KxLkVw0kvG",
    "outputId": "749f90c2-7dca-40a9-afb6-8ce3ebd93a15"
   },
   "outputs": [
    {
     "name": "stdout",
     "output_type": "stream",
     "text": [
      "The 4th book in the series is Goblet of Fire.\n"
     ]
    }
   ],
   "source": [
    "print(f'The 4th book in the series is {harry_potter_novels[3]}.')"
   ]
  },
  {
   "cell_type": "markdown",
   "metadata": {
    "id": "Gb5Yn6Yp0kvK"
   },
   "source": [
    "The best Harry Potter novel is clearly Chamber of Secrets. Save this title in a new variable called `best_HP_novel` by taking a slice of the existing list."
   ]
  },
  {
   "cell_type": "code",
   "execution_count": 16,
   "metadata": {
    "colab": {
     "base_uri": "https://localhost:8080/",
     "height": 35
    },
    "executionInfo": {
     "elapsed": 502,
     "status": "ok",
     "timestamp": 1601387427439,
     "user": {
      "displayName": "Christian Darabos",
      "photoUrl": "https://lh3.googleusercontent.com/a-/AOh14Gj58rX31OVqoCy41duHsoMyAFVv9Ammc6u2HhU3=s64",
      "userId": "13696541032900097213"
     },
     "user_tz": 240
    },
    "id": "BFdSnj4E0kvL",
    "outputId": "2c99e294-7daa-4ad1-9beb-b1e870cbb011"
   },
   "outputs": [
    {
     "data": {
      "text/plain": [
       "['Chamber of Secrets']"
      ]
     },
     "execution_count": 16,
     "metadata": {},
     "output_type": "execute_result"
    }
   ],
   "source": [
    "best_HP_novel = harry_potter_novels[1:2] #using slice to get it\n",
    "best_HP_novel"
   ]
  },
  {
   "cell_type": "markdown",
   "metadata": {
    "id": "NLpgS09u0kvR"
   },
   "source": [
    "How many characters are in the title of the best Harry Potter Novel?"
   ]
  },
  {
   "cell_type": "code",
   "execution_count": 17,
   "metadata": {
    "colab": {
     "base_uri": "https://localhost:8080/",
     "height": 35
    },
    "executionInfo": {
     "elapsed": 426,
     "status": "ok",
     "timestamp": 1601387429076,
     "user": {
      "displayName": "Christian Darabos",
      "photoUrl": "https://lh3.googleusercontent.com/a-/AOh14Gj58rX31OVqoCy41duHsoMyAFVv9Ammc6u2HhU3=s64",
      "userId": "13696541032900097213"
     },
     "user_tz": 240
    },
    "id": "eNFgR5vG0kvR",
    "outputId": "9bf06090-573a-4e08-84fa-fbf9b50db0ae"
   },
   "outputs": [
    {
     "name": "stdout",
     "output_type": "stream",
     "text": [
      " There are 18 characters in the title of the best Harry Potter Novel.\n"
     ]
    }
   ],
   "source": [
    "for element in best_HP_novel:\n",
    "    print (f' There are {len(element)} characters in the title of the best Harry Potter Novel.')"
   ]
  },
  {
   "cell_type": "markdown",
   "metadata": {
    "id": "c0rV1Tvj0kvV"
   },
   "source": [
    "Add the \"Harry Potter and the \" to the `best_HP_novel` title so it's complete. Print the result."
   ]
  },
  {
   "cell_type": "code",
   "execution_count": 18,
   "metadata": {
    "colab": {
     "base_uri": "https://localhost:8080/",
     "height": 35
    },
    "executionInfo": {
     "elapsed": 364,
     "status": "ok",
     "timestamp": 1601387431187,
     "user": {
      "displayName": "Christian Darabos",
      "photoUrl": "https://lh3.googleusercontent.com/a-/AOh14Gj58rX31OVqoCy41duHsoMyAFVv9Ammc6u2HhU3=s64",
      "userId": "13696541032900097213"
     },
     "user_tz": 240
    },
    "id": "BI7maDd70kvW",
    "outputId": "30ab32ec-9160-439f-c276-6e70eeebb22d"
   },
   "outputs": [
    {
     "data": {
      "text/plain": [
       "['Harry Potter and the Chamber of Secrets']"
      ]
     },
     "execution_count": 18,
     "metadata": {},
     "output_type": "execute_result"
    }
   ],
   "source": [
    "best_HP_novel_fix = 'Harry Potter and the '+ best_HP_novel[0] #adding 'Harry Potter and the ' to the origanl element\n",
    "best_HP_novel[0]=best_HP_novel_fix #setting the element to its proper title\n",
    "best_HP_novel"
   ]
  },
  {
   "cell_type": "markdown",
   "metadata": {
    "id": "28k1n57E0kva"
   },
   "source": [
    "How many words are in the best Harry Potter novel? Have python count and print the result."
   ]
  },
  {
   "cell_type": "markdown",
   "metadata": {
    "id": "N8CYtKKG0kvb"
   },
   "source": [
    "<details>\n",
    "<summary>Click here for a hint</summary>\n",
    "\n",
    "You can easily count the number of spaces to infer the total word count\n",
    "</details>"
   ]
  },
  {
   "cell_type": "code",
   "execution_count": 19,
   "metadata": {
    "colab": {
     "base_uri": "https://localhost:8080/",
     "height": 35
    },
    "executionInfo": {
     "elapsed": 309,
     "status": "ok",
     "timestamp": 1601387452605,
     "user": {
      "displayName": "Christian Darabos",
      "photoUrl": "https://lh3.googleusercontent.com/a-/AOh14Gj58rX31OVqoCy41duHsoMyAFVv9Ammc6u2HhU3=s64",
      "userId": "13696541032900097213"
     },
     "user_tz": 240
    },
    "id": "XlWOlskC0kvd",
    "outputId": "f8ad923a-7d05-4681-e56e-3a55d83cdf9b"
   },
   "outputs": [
    {
     "name": "stdout",
     "output_type": "stream",
     "text": [
      " There are 7 words in the title of the best Harry Potter Novel.\n"
     ]
    }
   ],
   "source": [
    "for element in best_HP_novel:\n",
    "    print (f' There are {len(element.split())} words in the title of the best Harry Potter Novel.')"
   ]
  },
  {
   "cell_type": "markdown",
   "metadata": {
    "id": "Ljog4c_l0kvg"
   },
   "source": [
    "Make a deep copy of the original Harry Potter Novels list."
   ]
  },
  {
   "cell_type": "code",
   "execution_count": 20,
   "metadata": {
    "id": "f0mVQAOO0kvg"
   },
   "outputs": [
    {
     "data": {
      "text/plain": [
       "[\"Philosopher's Stone\",\n",
       " 'Chamber of Secrets',\n",
       " 'Prisoner of Azkaban',\n",
       " 'Goblet of Fire',\n",
       " 'Order of the Phoenix',\n",
       " 'Half-Blood Prince',\n",
       " 'Deathly Hallows']"
      ]
     },
     "execution_count": 20,
     "metadata": {},
     "output_type": "execute_result"
    }
   ],
   "source": [
    "harry_potter_novels_copy = harry_potter_novels1.copy() #deep copy\n",
    "harry_potter_novels_copy"
   ]
  },
  {
   "cell_type": "markdown",
   "metadata": {
    "id": "XuluTR-U0kvl"
   },
   "source": [
    "Add 'The Cursed Child' to the copied list of novels using the `+` operator. Print your result."
   ]
  },
  {
   "cell_type": "code",
   "execution_count": 21,
   "metadata": {
    "colab": {
     "base_uri": "https://localhost:8080/",
     "height": 55
    },
    "executionInfo": {
     "elapsed": 303,
     "status": "ok",
     "timestamp": 1601387566355,
     "user": {
      "displayName": "Christian Darabos",
      "photoUrl": "https://lh3.googleusercontent.com/a-/AOh14Gj58rX31OVqoCy41duHsoMyAFVv9Ammc6u2HhU3=s64",
      "userId": "13696541032900097213"
     },
     "user_tz": 240
    },
    "id": "6jFy74wq0kvl",
    "outputId": "cdc5b763-55ca-44e8-c72a-55c85f89c7ce"
   },
   "outputs": [
    {
     "data": {
      "text/plain": [
       "[\"Philosopher's Stone\",\n",
       " 'Chamber of Secrets',\n",
       " 'Prisoner of Azkaban',\n",
       " 'Goblet of Fire',\n",
       " 'Order of the Phoenix',\n",
       " 'Half-Blood Prince',\n",
       " 'Deathly Hallows',\n",
       " 'The Cursed Child']"
      ]
     },
     "execution_count": 21,
     "metadata": {},
     "output_type": "execute_result"
    }
   ],
   "source": [
    "newBook = [\"The Cursed Child\"] # need to put it in a list to add properly\n",
    "harry_potter_novels_copy+= newBook\n",
    "harry_potter_novels_copy"
   ]
  },
  {
   "cell_type": "markdown",
   "metadata": {
    "id": "1jtHIp160kvp"
   },
   "source": [
    "This might not have/didn't work! That's because the \"Cursed Child\" string is also a list. Instead, use the 'append' function. Print both the copied list and the original."
   ]
  },
  {
   "cell_type": "code",
   "execution_count": 22,
   "metadata": {
    "colab": {
     "base_uri": "https://localhost:8080/",
     "height": 55
    },
    "executionInfo": {
     "elapsed": 369,
     "status": "ok",
     "timestamp": 1601387645047,
     "user": {
      "displayName": "Christian Darabos",
      "photoUrl": "https://lh3.googleusercontent.com/a-/AOh14Gj58rX31OVqoCy41duHsoMyAFVv9Ammc6u2HhU3=s64",
      "userId": "13696541032900097213"
     },
     "user_tz": 240
    },
    "id": "7kZZbTMt0kvp",
    "outputId": "58ddb064-7300-42e7-a649-a22c042b0fcf"
   },
   "outputs": [
    {
     "data": {
      "text/plain": [
       "[\"Sorcerer's Stone\",\n",
       " 'Chamber of Secrets',\n",
       " 'Prisoner of Azkaban',\n",
       " 'Goblet of Fire',\n",
       " 'Order of the Phoenix',\n",
       " 'Half-Blood Prince',\n",
       " 'Deathly Hallows']"
      ]
     },
     "execution_count": 22,
     "metadata": {},
     "output_type": "execute_result"
    }
   ],
   "source": [
    "harry_potter_novels"
   ]
  },
  {
   "cell_type": "code",
   "execution_count": 23,
   "metadata": {},
   "outputs": [
    {
     "data": {
      "text/plain": [
       "[\"Philosopher's Stone\",\n",
       " 'Chamber of Secrets',\n",
       " 'Prisoner of Azkaban',\n",
       " 'Goblet of Fire',\n",
       " 'Order of the Phoenix',\n",
       " 'Half-Blood Prince',\n",
       " 'Deathly Hallows',\n",
       " 'The Cursed Child',\n",
       " 'The Cursed Child']"
      ]
     },
     "execution_count": 23,
     "metadata": {},
     "output_type": "execute_result"
    }
   ],
   "source": [
    "harry_potter_novels_copy.append(\"The Cursed Child\")\n",
    "harry_potter_novels_copy"
   ]
  },
  {
   "cell_type": "markdown",
   "metadata": {
    "id": "WWQZR_jr0kvs"
   },
   "source": [
    "Now remove \"Cursed Child\" from the list. Print your result."
   ]
  },
  {
   "cell_type": "code",
   "execution_count": 24,
   "metadata": {
    "colab": {
     "base_uri": "https://localhost:8080/",
     "height": 55
    },
    "executionInfo": {
     "elapsed": 403,
     "status": "ok",
     "timestamp": 1601387669011,
     "user": {
      "displayName": "Christian Darabos",
      "photoUrl": "https://lh3.googleusercontent.com/a-/AOh14Gj58rX31OVqoCy41duHsoMyAFVv9Ammc6u2HhU3=s64",
      "userId": "13696541032900097213"
     },
     "user_tz": 240
    },
    "id": "1l4GoUGW0kvt",
    "outputId": "da7d9ec3-5e9c-41b4-d8fa-bf8140c2b458"
   },
   "outputs": [],
   "source": [
    "for i in harry_potter_novels_copy: #removing all occurences of \"The Curesed Child\" from our list\n",
    "    if \"The Cursed Child\" in harry_potter_novels_copy: harry_potter_novels_copy.remove(\"The Cursed Child\")"
   ]
  },
  {
   "cell_type": "code",
   "execution_count": 25,
   "metadata": {},
   "outputs": [
    {
     "data": {
      "text/plain": [
       "[\"Philosopher's Stone\",\n",
       " 'Chamber of Secrets',\n",
       " 'Prisoner of Azkaban',\n",
       " 'Goblet of Fire',\n",
       " 'Order of the Phoenix',\n",
       " 'Half-Blood Prince',\n",
       " 'Deathly Hallows']"
      ]
     },
     "execution_count": 25,
     "metadata": {},
     "output_type": "execute_result"
    }
   ],
   "source": [
    "harry_potter_novels_copy #removed \"The Cursed Child\" from list"
   ]
  },
  {
   "cell_type": "markdown",
   "metadata": {
    "id": "W1D2x56D0kvw"
   },
   "source": [
    "Sort the original list in alphabetical order. Print the result. "
   ]
  },
  {
   "cell_type": "code",
   "execution_count": 26,
   "metadata": {
    "colab": {
     "base_uri": "https://localhost:8080/",
     "height": 55
    },
    "executionInfo": {
     "elapsed": 349,
     "status": "ok",
     "timestamp": 1601387703720,
     "user": {
      "displayName": "Christian Darabos",
      "photoUrl": "https://lh3.googleusercontent.com/a-/AOh14Gj58rX31OVqoCy41duHsoMyAFVv9Ammc6u2HhU3=s64",
      "userId": "13696541032900097213"
     },
     "user_tz": 240
    },
    "id": "vpLOr6Sj0kvx",
    "outputId": "bc35da34-a5c4-4bd1-8807-188562a350e9"
   },
   "outputs": [
    {
     "data": {
      "text/plain": [
       "['Chamber of Secrets',\n",
       " 'Deathly Hallows',\n",
       " 'Goblet of Fire',\n",
       " 'Half-Blood Prince',\n",
       " 'Order of the Phoenix',\n",
       " \"Philosopher's Stone\",\n",
       " 'Prisoner of Azkaban']"
      ]
     },
     "execution_count": 26,
     "metadata": {},
     "output_type": "execute_result"
    }
   ],
   "source": [
    "harry_potter_novels_copy.sort()\n",
    "harry_potter_novels_copy"
   ]
  },
  {
   "cell_type": "markdown",
   "metadata": {
    "id": "o0XydSkT0kv0"
   },
   "source": [
    "## Question Three\n",
    "\n",
    "Create a data matrix using nested lists. In your data matrix list the following: the letters a-z, numbers 1-26. I've created a variable with all the letters to get you started."
   ]
  },
  {
   "cell_type": "code",
   "execution_count": 27,
   "metadata": {
    "colab": {
     "base_uri": "https://localhost:8080/",
     "height": 55
    },
    "executionInfo": {
     "elapsed": 441,
     "status": "ok",
     "timestamp": 1601387891669,
     "user": {
      "displayName": "Christian Darabos",
      "photoUrl": "https://lh3.googleusercontent.com/a-/AOh14Gj58rX31OVqoCy41duHsoMyAFVv9Ammc6u2HhU3=s64",
      "userId": "13696541032900097213"
     },
     "user_tz": 240
    },
    "id": "zD6zDqe00kv0",
    "outputId": "49ee9cc1-ec1c-4273-caaf-8d882e21a480"
   },
   "outputs": [
    {
     "name": "stdout",
     "output_type": "stream",
     "text": [
      "[['a', 'b', 'c', 'd', 'e', 'f', 'g', 'h', 'i', 'j', 'k', 'l', 'm', 'n', 'o', 'p', 'q', 'r', 's', 't', 'u', 'v', 'w', 'x', 'y', 'z'], [1, 2, 3, 4, 5, 6, 7, 8, 9, 10, 11, 12, 13, 14, 15, 16, 17, 18, 19, 20, 21, 22, 23, 24, 25, 26]]\n"
     ]
    }
   ],
   "source": [
    "import string\n",
    "allLetters = list(string.ascii_lowercase)\n",
    "allNumbers = [i for i in range(1,27)]\n",
    "dataMatrix = [allLetters, allNumbers]\n",
    "\n",
    "print(dataMatrix)"
   ]
  },
  {
   "cell_type": "markdown",
   "metadata": {
    "id": "gzw_aK8Y0kv4"
   },
   "source": [
    "Print the first four letters and their corresponding numbers."
   ]
  },
  {
   "cell_type": "markdown",
   "metadata": {
    "id": "Ug1n_mvq0kv7"
   },
   "source": [
    "<details>\n",
    "<summary>Click here for a hint</summary>\n",
    "\n",
    "You can use two print statements to do this easily\n",
    "</details>"
   ]
  },
  {
   "cell_type": "code",
   "execution_count": 28,
   "metadata": {
    "colab": {
     "base_uri": "https://localhost:8080/",
     "height": 52
    },
    "executionInfo": {
     "elapsed": 345,
     "status": "ok",
     "timestamp": 1601390984098,
     "user": {
      "displayName": "Christian Darabos",
      "photoUrl": "https://lh3.googleusercontent.com/a-/AOh14Gj58rX31OVqoCy41duHsoMyAFVv9Ammc6u2HhU3=s64",
      "userId": "13696541032900097213"
     },
     "user_tz": 240
    },
    "id": "tQaQeHqw0kv7",
    "outputId": "1e9f7b2d-8ecd-4c9f-f270-18a7d959113c"
   },
   "outputs": [
    {
     "name": "stdout",
     "output_type": "stream",
     "text": [
      "['a', 'b', 'c', 'd']\n",
      "[1, 2, 3, 4]\n"
     ]
    }
   ],
   "source": [
    "for i in dataMatrix: #looping through both data matrix lists\n",
    "    print(i[:4]) #printing the first 4 elements in both of our lists"
   ]
  },
  {
   "cell_type": "markdown",
   "metadata": {
    "id": "ffc8T3xx0kv_"
   },
   "source": [
    "Print every 3rd letter of the alphabet in reverse order (ie, start with z, then w, etc.)"
   ]
  },
  {
   "cell_type": "code",
   "execution_count": 29,
   "metadata": {
    "colab": {
     "base_uri": "https://localhost:8080/",
     "height": 35
    },
    "executionInfo": {
     "elapsed": 367,
     "status": "ok",
     "timestamp": 1601391078858,
     "user": {
      "displayName": "Christian Darabos",
      "photoUrl": "https://lh3.googleusercontent.com/a-/AOh14Gj58rX31OVqoCy41duHsoMyAFVv9Ammc6u2HhU3=s64",
      "userId": "13696541032900097213"
     },
     "user_tz": 240
    },
    "id": "0NIMF1nd0kv_",
    "outputId": "d5be254c-3609-4cc4-f0af-05d274a0d2ae",
    "scrolled": false
   },
   "outputs": [
    {
     "name": "stdout",
     "output_type": "stream",
     "text": [
      "[['z', 't', 'n', 'h', 'b', 'e', 'k', 'q', 'w']]\n"
     ]
    }
   ],
   "source": [
    "list1 = [] #creating a list to append our stuff to \n",
    "for i in dataMatrix[0]: #looping through our first list in our matrix\n",
    "    list1.append(i) #adding to our list\n",
    "    list1.reverse() #revesing our list by reverse alphabet order\n",
    "num_of_parts=1\n",
    "newlst=[list1[i::3] for i in range(num_of_parts)] # print every third element in our list starting at 'z'\n",
    "print(newlst)"
   ]
  },
  {
   "cell_type": "markdown",
   "metadata": {
    "id": "eciofg-I0kwD"
   },
   "source": [
    "Find the number that correspond with 'd','o','n','e' and add them together. Print the result. "
   ]
  },
  {
   "cell_type": "markdown",
   "metadata": {
    "id": "xxiCyfpF0kwD"
   },
   "source": [
    "<details>\n",
    "<summary>Click here for a hint</summary>\n",
    "\n",
    "Find the index of each letter in the first list, and use this index to locate the number in the second\n",
    "</details>"
   ]
  },
  {
   "cell_type": "code",
   "execution_count": 30,
   "metadata": {
    "colab": {
     "base_uri": "https://localhost:8080/",
     "height": 35
    },
    "executionInfo": {
     "elapsed": 378,
     "status": "ok",
     "timestamp": 1601391272728,
     "user": {
      "displayName": "Christian Darabos",
      "photoUrl": "https://lh3.googleusercontent.com/a-/AOh14Gj58rX31OVqoCy41duHsoMyAFVv9Ammc6u2HhU3=s64",
      "userId": "13696541032900097213"
     },
     "user_tz": 240
    },
    "id": "MFjqvwBN0kwE",
    "outputId": "2ebb508d-c656-4820-a69a-d8c920d7228f"
   },
   "outputs": [
    {
     "name": "stdout",
     "output_type": "stream",
     "text": [
      "The sum is 38.\n"
     ]
    }
   ],
   "source": [
    "list_index = [] # to store indexes of the characters\n",
    "list_index.append(dataMatrix[0].index('d'))\n",
    "list_index.append(dataMatrix[0].index('o'))\n",
    "list_index.append(dataMatrix[0].index('n'))\n",
    "list_index.append(dataMatrix[0].index('e'))\n",
    "\n",
    "list_final = [ allNumbers[i] for i in list_index ]\n",
    "print(f'The sum is {sum(list_final)}.')"
   ]
  }
 ],
 "metadata": {
  "colab": {
   "collapsed_sections": [],
   "name": "QBS101-F20-Week3-Assignment3-CD.ipynb",
   "provenance": [
    {
     "file_id": "1OkYtQqOYRy9R7SuqSvCGOB4EeTPaPhat",
     "timestamp": 1601391288470
    }
   ]
  },
  "kernelspec": {
   "display_name": "Python 3",
   "language": "python",
   "name": "python3"
  },
  "language_info": {
   "codemirror_mode": {
    "name": "ipython",
    "version": 3
   },
   "file_extension": ".py",
   "mimetype": "text/x-python",
   "name": "python",
   "nbconvert_exporter": "python",
   "pygments_lexer": "ipython3",
   "version": "3.7.6"
  }
 },
 "nbformat": 4,
 "nbformat_minor": 1
}
