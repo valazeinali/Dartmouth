{
 "cells": [
  {
   "cell_type": "markdown",
   "metadata": {
    "id": "xZ8hd7hizmGC"
   },
   "source": [
    "# Boolean Variables and Arithmetic, Conditionals\n",
    "\n",
    "Sources: \n",
    "- [DEV.to 30 days of Python](https://dev.to/arindamdawn/series/7425), days 4\n",
    "- [Teclado 30 Days of Python](https://blog.tecladocode.com/30-days-of-python/) days 4, 10, 11"
   ]
  },
  {
   "cell_type": "markdown",
   "metadata": {
    "id": "eW94qoohzwgE"
   },
   "source": [
    "## Boolean\n",
    "Booleans as represented as `bool` type in python and store either `True` or `False`.\n",
    "The capitalisation is important here: `True` is a `Boolean` value, while `TRUE` and `true` are not.\n",
    "\n",
    "Importantly, `True` is also not the same thing as the string `\"True\"`.\n",
    "\n",
    "Boolean values are just like any other values in Python. We can assign them to variables, and we can put Booleans in tuples and lists.\n",
    "\n",
    "For example, maybe we want to store information about some movies in a user's watch list. We can use a tuple to represent each movie, and we can use a Boolean to represent whether or not this movie has been seen by this user:\n",
    "```\n",
    "movies = [\n",
    "\t(\"Inside Out\", 2015, True),\n",
    "\t(\"Toy Story 4\", 2019, False),\n",
    "\t(\"Up\", 2009, True)\n",
    "]\n",
    "```\n",
    "In the example above, the movies list contains three movies. Of these three movies, the user has seen Inside Out and Up, but not Toy Story 4.\n",
    "\n",
    "We can also print Boolean values, and the output is just `True` or `False` as appropriate.\n",
    "```\n",
    "print(True)   # True\n",
    "print(False)  # False\n",
    "```\n",
    "### Truth values\n",
    "Every value in Python has some associated _truth value_. It's not particularly intuitive that `\"Hello\"` is somehow associated with either `True` or `False`, but this can be useful, ie. when we use the value as a condition.\n",
    "\n",
    "We can find the truth value of any value in Python by passing that value to the `bool` function. `bool` will return `True` or `False` depending on the truth value of what we passed in. \n",
    "\n",
    "Values for which `bool` returns `True` are often called _truthy values_, while values for which `bool` returns `False` are often called _falsy_.\n",
    "\n",
    "```\n",
    "print(bool(\"Hello\"))  # True\n",
    "\n",
    "print(bool(0))              # False\n",
    "print(bool(6))              # True\n",
    "\n",
    "print(bool(\"Caterpillar\"))  # True\n",
    "print(bool(\"\"))             # False\n",
    "\n",
    "print(bool([]))             # False\n",
    "print(bool([0, 1, 2, 3]))   # True\n",
    "\n",
    "print(bool(True))           # True\n",
    "print(bool(False))          # False\n",
    "```\n",
    "\n",
    "Only a small number of values in Python are falsy, which are as follows:\n",
    "\n",
    "- Any numeric representation of zero. This includes the integer 0, the float 0.0, and representations of zero in other numeric types.\n",
    "The values False and None. We haven't looked at None - yet, but None represents the intentional absence of a value.\n",
    "- Empty sequences and other collections. This includes empty strings, empty tuples, empty lists, and several types we haven't covered at this stage.\n",
    "\n",
    "Apart from these values, everything else in Python is _truthy_."
   ]
  },
  {
   "cell_type": "markdown",
   "metadata": {
    "id": "o3kks1wKMg_3"
   },
   "source": [
    "## Comparison operators\n",
    "Comparison operators yield a Boolean value.\n",
    "\n",
    "|Operator|Description (`True` if)|Example `a=10,b=20`|\n",
    "|---|---|---|\n",
    "|`==`|equal|`(a == b)` is `False`|\n",
    "|`!=`|not equal|`(a != b)` is `True`|\n",
    "|`<>`|not equal|`(a <> b)` is `True`|\n",
    "|`>`|greater than|`(a > b)` is `False`|\n",
    "|`<`|less than|`(a < b)` is `True`|\n",
    "|`>=`|greater than or equal to|`(a >= b)` is `False`|\n",
    "|`<=`|less than or equal to|`(a <= b)` is `True`|\n",
    "\n",
    "Generally speaking, these operator are going to be used to compare two numeric types, but we can actually compare other values as well. For example, we can compare strings, in which case the ASCII codes of the characters are used to determine which value is greater than the other.\n",
    "```\n",
    "print(\"A\" < \"a\")  # True\n",
    "# The ASCII code for A is 65, while a is 97\n",
    "```\n",
    "Things like \"0\" are not the same as 0, and 7 and 7.0 are equivalent.\n",
    "```\n",
    "print(0 == \"0\")                # False\n",
    "print(0 == 0)                  # True\n",
    "print(7 == 7.0)                # True\n",
    "print(\"Hello\" == \"Hello!\")     # False\n",
    "print([1, 2, 3] == [1, 2, 3])  # True\n",
    "```\n",
    "Note: The exclamation mark in `!=`, sometimes pronounced as \"bang\", is commonly used to mean **\"not\"**. So `!=` simply means \"not equal\".\n",
    "```\n",
    "print(0 != \"0\")         # True\n",
    "print(0 != 0)           # False\n",
    "print(\"Hello\" != \"Hi\")  # True\n",
    "```\n"
   ]
  },
  {
   "cell_type": "markdown",
   "metadata": {
    "id": "ZpjZhdJkTbj0"
   },
   "source": [
    "\n",
    "## Identity Operators\n",
    "\n",
    "|Operator|Description (`True` if)|\n",
    "|---|---|\n",
    "|`is`|is the same object| \n",
    "|`is not`|is not the same object|\n",
    "\n",
    "Note: `is` is not the same as `==`!\n",
    "\n",
    "```\n",
    "a = [1, 2, 3]\n",
    "b = [1, 2, 3]\n",
    "\n",
    "print(a == b)  # True\n",
    "print(a is b)  # False\n",
    "```\n",
    "Two lists which contain the same values, the `==` operator gives us `True` when we compare the two. However, the `is` operator gives us `False`.\n",
    "\n",
    "The reason is because `is` actually checks that the two lists are the same object. Not that they have the same values/elements.\n",
    "\n",
    "When we're talking about what means to be the exact same thing in Python, what we're actually concerned with, is whether the things we're comparing are stored at the same location in memory.\n",
    "\n",
    "Use the `id()` function to find out where something is being stored, represented as an integerg, that references a location in memory. We can print these memory addresses to verify that the two lists are not in fact the same:\n",
    "```\n",
    "a = [1, 2, 3]\n",
    "b = [1, 2, 3]\n",
    "\n",
    "print(id(a))  # 139806639351360\n",
    "print(id(b))  # 139806638418944\n",
    "\n",
    "print(a == b)  # True\n",
    "print(a is b)  # False\n",
    "```\n",
    "Objects get different ids for each object, and different numbers every time the program runs.\n",
    "\n",
    "#### Shallow vs. Deep copy\n",
    "```\n",
    "a = [1, 2, 3]\n",
    "b = a # shallow copy!\n",
    "\n",
    "print(id(a))  # 139685763327296\n",
    "print(id(b))  # 139685763327296\n",
    "\n",
    "print(a == b)  # True\n",
    "print(a is b)  # True\n",
    "```\n",
    "Both of our memory addresses are the same, and as a result, the is operator yields True when we compare a and b.\n",
    "\n",
    "```\n",
    "a = [1, 2, 3]\n",
    "b = a.copy()  # DEEP COPY!\n",
    "\n",
    "print(id(a))  # 140509286334216\n",
    "print(id(b))  # 140509286331784\n",
    " \n",
    "print(a == b)  # True\n",
    "print(a is b)  # False !!!\n",
    "```\n",
    "\n",
    "Important:\n",
    "> It's important to note that, in some complex cases, `is` will yield `False` when we compare two things that seemingly occupy the same memory address. In other words, there are cases were two items seem have the same id, but `is` nonetheless indicates that the objects are not one and the same. This happens when a memory address has been reused.\n",
    "\n",
    "### Order of operations\n",
    "Comparison operators are **always lower priority** than arithmetic operators. For example, if we write an expression like this:\n",
    "```\n",
    "5 + 4 < 3 * 2\n",
    "The comparison is effectively:\n",
    "\n",
    "(5 + 4) < (3 * 2)\n",
    "Which is:\n",
    "\n",
    "9 < 6  # False\n",
    "```"
   ]
  },
  {
   "cell_type": "markdown",
   "metadata": {
    "id": "-m4-TcfiXwsm"
   },
   "source": [
    "## Membership Operators\n",
    "\n",
    "|Operator|Description (`True` if)|\n",
    "|---|---|\n",
    "|`in`|element is in collection|\n",
    "|`not in`|element is not in collection|\n",
    "\n",
    "Finds elements is collections:"
   ]
  },
  {
   "cell_type": "code",
   "execution_count": 10,
   "metadata": {
    "colab": {
     "base_uri": "https://localhost:8080/",
     "height": 68
    },
    "executionInfo": {
     "elapsed": 288,
     "status": "ok",
     "timestamp": 1602515776613,
     "user": {
      "displayName": "Christian Darabos",
      "photoUrl": "https://lh3.googleusercontent.com/a-/AOh14Gj58rX31OVqoCy41duHsoMyAFVv9Ammc6u2HhU3=s64",
      "userId": "13696541032900097213"
     },
     "user_tz": 240
    },
    "id": "KKkgUnRkzlk_",
    "outputId": "4d86db7d-961b-4157-fbed-604f96043955"
   },
   "outputs": [
    {
     "name": "stdout",
     "output_type": "stream",
     "text": [
      "True\n",
      "True\n",
      "False\n"
     ]
    }
   ],
   "source": [
    "print('hell' in 'hello') # True\n",
    "\n",
    "l = [1,23,4,5,6]\n",
    "print(5 in l) # True\n",
    "print([1,2] in l) # False, the [1,2] is not \"an element\" of l "
   ]
  },
  {
   "cell_type": "markdown",
   "metadata": {
    "id": "aaaf3RNpY0Oh"
   },
   "source": [
    "# Code blocks\n",
    "In Python, code block are defined by the _indentation_ of the code. Generally, code blocks are use to define the content of conditionals `if...else...` statements, loops, and functions. Most code blocks are preceded by a colon `:`. In Python, a line starting with at least one space is indented. Usually, programmers use a tabulation (_tab_ key) to define each level of indentation.\n",
    "Code blocks are way of signalling to Python what code should be bundled up together (within a conditional, a loop, a function, etc.)"
   ]
  },
  {
   "cell_type": "markdown",
   "metadata": {
    "id": "snRrhLgfZxAC"
   },
   "source": [
    "# Conditional statements\n",
    "\n",
    "Conditional statements allow to run some _block of code_ **if** and only if some condition is met. This structure is used to control the flow of the application based on whether or not something is the case (ie. some conditino is `True`). \n",
    "\n",
    "Here, we ask the user for their age, and then we're going to check if they're less than 21 years old. If they're under 21, we're going to print a message stating that they're underage.\n",
    "```\n",
    "age = int(input(\"How old are you? \"))\n",
    "\n",
    "if age < 18:\n",
    "  print(\"Sorry, we can't serve you.\")\n",
    "```\n",
    "For the conditional statement itself, start with the `if` keyword, then some _conditional expression_ followed by a **colon**. Below the conditional, comes the block of code to run **if the expression  evaluates** to a _truthy_ value. The block of code to run if the condition is met indented at the start of the line. Without indentation:\n",
    "```\n",
    "File \"main.py\", line 4\n",
    "    print(\"Sorry, we can't serve you.\")\n",
    "IndentationError: expected an indented block\n",
    "```\n",
    "The entire block that depends on this condition being met should be indented to the **same indentation level**.\n",
    "\n",
    "## `else` statement\n",
    "\n",
    "Another conditional key word is `else` which allows to do something **if the condition is not met**. `else` can't **be used on its own**, and it needs to be attached to another structure, in this case, combining it with an if statement.\n",
    "```\n",
    "age = int(input(\"How old are you? \"))\n",
    "\n",
    "if age < 18:\n",
    "\t  print(\"Sorry, we can't serve you.\")\n",
    "else:\n",
    "  \tchosen_drink = input(\"What can I get for you? \")\n",
    "```\n",
    "\n",
    "Now if a user is under 18, they'll be told we can't serve them, but anyone who enters 18 or more for the initial prompt will be asked what they'd like to drink.\n",
    "\n",
    "This conditional block is equivalent:\n",
    "```\n",
    "age = int(input(\"How old are you? \"))\n",
    "\n",
    "if age >= 18:\n",
    "\tchosen_drink = input(\"What can I get for you? \")\n",
    "else:\n",
    "\tprint(\"Sorry, we can't serve you.\")\n",
    "```\n",
    "Checking for the condition which would allow the user to proceed, which is more common.\n",
    "\n",
    "## Multiple conditions\n",
    "\n",
    "`elif` is a lot like `if` in that we need to specify an expression to test. Much like `else`, it can't exist on its own: it must be combined it with an `if` statement.\n",
    "\n",
    "Including **multiple conditions*** like this, Python is going to go through our conditions one at a time, until one is found to be true. Once it finds a true condition, it executes the code associated with that condition, after which no further conditions are checked for this `if` statement. If none of the conditions are found to be true, Python executes the code indented under the `else` clause.\n",
    "\n",
    "Note: The fact that Python doesn't necessarily check all of the conditions is important. First, it means that **only the code block for one condition is going to run**. Second, it means that **the order of our conditions matters**, since Python is only going to run the code block associated with the first matching condition.\n",
    "\n",
    "```\n",
    "age = int(input(\"How old are you? \"))\n",
    "\n",
    "if age < 18:\n",
    "\tprint(\"You may not enter the club.\")\n",
    "elif age < 21:\n",
    "\tprint(\"You may enter the club but not drink.\")\n",
    "else:\n",
    "\tchosen_drink = input(\"What can I get for you? \")\n",
    "```\n",
    "Including more `elif` statements, which would allow even more fine control over the application flow.\n",
    "\n",
    "## Truth values and conditional statements\n",
    "\n",
    "_Truth value_ of any value can be used as a condition. This is where truth values become really useful, as they allow us to do things like succinctly such as checking if a collection is empty.\n",
    "\n",
    "For example, check if the user actually entered anything when we requested some input:\n",
    "```\n",
    "name = input(\"Please enter your name: \")\n",
    "\n",
    "if name:  # Checks the truth value of name by calling bool\n",
    "\tprint(f\"You entered {name}\")\n",
    "else:\n",
    "\tprint(\"You didn't type anything\")\n",
    "```\n",
    "Note: this is your first example of _defensive coding_ where the code checks for the valididy of the input/value, rather than rely on the user/existing code.\n"
   ]
  },
  {
   "cell_type": "markdown",
   "metadata": {
    "id": "uGnWB8YzhoJQ"
   },
   "source": [
    "#Logical Operators And Boolean Arithmetic\n",
    "\n",
    "## Logical Operators\n",
    "Comparison operators can be combined using logical operators:\n",
    "\n",
    "|Operator|Description (`True` if)|Example `a=True,b=False`|\n",
    "|---|---|---|\n",
    "|`and` |both operands are `True`|`(a and b)` is `True`|\n",
    "|`or`|at least operands are is `True`|`(a or b)` is `True`|\n",
    "|`not`|reverse logical state of operand|`not(a and b)` is `False`|\n",
    "\n",
    "Therefore, comparison operators can be combined:\n",
    "\n"
   ]
  },
  {
   "cell_type": "code",
   "execution_count": 18,
   "metadata": {
    "colab": {
     "base_uri": "https://localhost:8080/",
     "height": 51
    },
    "executionInfo": {
     "elapsed": 2324,
     "status": "ok",
     "timestamp": 1602518786299,
     "user": {
      "displayName": "Christian Darabos",
      "photoUrl": "https://lh3.googleusercontent.com/a-/AOh14Gj58rX31OVqoCy41duHsoMyAFVv9Ammc6u2HhU3=s64",
      "userId": "13696541032900097213"
     },
     "user_tz": 240
    },
    "id": "1fGJfhaijJr3",
    "outputId": "877cd576-7328-4b18-ca5a-1eea4336fbea"
   },
   "outputs": [
    {
     "name": "stdout",
     "output_type": "stream",
     "text": [
      "Enter you age:55\n",
      "Pay full price.\n"
     ]
    }
   ],
   "source": [
    "age = int(input('Enter you age:'))\n",
    "\n",
    "if (age < 18) or (age > 65):\n",
    "  print('You qualify for a youth or senior discount.')\n",
    "else:\n",
    "  print('Pay full price.')"
   ]
  },
  {
   "cell_type": "markdown",
   "metadata": {
    "id": "DN3TEU-t26oY"
   },
   "source": [
    "Or, if you prefer turning the condition around:"
   ]
  },
  {
   "cell_type": "code",
   "execution_count": null,
   "metadata": {
    "id": "iIJwLm4oj6LZ"
   },
   "outputs": [],
   "source": [
    "age = int(input('Enter you age:'))\n",
    "\n",
    "if (age >= 18) and (age <= 65):\n",
    "  print('Pay full price.')\n",
    "else:\n",
    "  print('You qualify for a youth or senior discount.')"
   ]
  },
  {
   "cell_type": "markdown",
   "metadata": {
    "id": "Cdpxv86z4aFr"
   },
   "source": [
    "## Boolean Arithmetic\n",
    "\n",
    "Boolean arithmetic is the arithmetic of logic, the arithmetic of `True` and `False`. \n",
    "\n",
    "The following truth table recapituleates the relust of all logical operators:\n",
    "\n",
    "A summary of boolean arithmetic and operators is shown in the table below.\n",
    "\n",
    "|A|B|not A|not B|A == B|A != B|A or B|A and B|\n",
    "|---|---|---|---|---|---|---|---|\n",
    "|T|F|F|T|F|T|T|F|\n",
    "|F|T|T|F|F|T|T|F|\n",
    "|T|T|F|F|T|F|T|T|\n",
    "|F|F|T|T|T|F|F|F|\n",
    "\n",
    "where T stands for `True` and F for `False`. \n",
    "```\n",
    ">>> a = True\n",
    ">>> b = False\n",
    "\n",
    ">>> not a\n",
    "False\n",
    "\n",
    ">>> not b\n",
    "True\n",
    "\n",
    ">>> a == b\n",
    "False\n",
    "\n",
    ">>> a != b\n",
    "True\n",
    "\n",
    ">>> a or b\n",
    "True\n",
    "\n",
    ">>> a and b\n",
    "False\n",
    "```\n"
   ]
  },
  {
   "cell_type": "code",
   "execution_count": null,
   "metadata": {},
   "outputs": [],
   "source": []
  }
 ],
 "metadata": {
  "colab": {
   "authorship_tag": "ABX9TyMncEimX0LcIOHpi/i3y7pQ",
   "name": "QBS101-W20-week05-material.ipynb",
   "provenance": []
  },
  "kernelspec": {
   "display_name": "Python 3",
   "language": "python",
   "name": "python3"
  },
  "language_info": {
   "codemirror_mode": {
    "name": "ipython",
    "version": 3
   },
   "file_extension": ".py",
   "mimetype": "text/x-python",
   "name": "python",
   "nbconvert_exporter": "python",
   "pygments_lexer": "ipython3",
   "version": "3.7.6"
  }
 },
 "nbformat": 4,
 "nbformat_minor": 1
}
