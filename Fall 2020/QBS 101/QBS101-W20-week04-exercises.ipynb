{
 "cells": [
  {
   "cell_type": "markdown",
   "metadata": {
    "id": "Nhb0-DSB97nI"
   },
   "source": [
    "#Exercise - Multiple variables and Unpacking\n",
    "\n",
    "Assign all 3 letter-variables below in one command (ie. one line)\n",
    "\n",
    "```\n",
    "a = 10\n",
    "b = 20\n",
    "c = 30\n",
    "```\n",
    "\n",
    "Using the _unpacking_ syntax, assign all each element of this tuple to a variable named after the first letter of the element's value (eg. `y='yellow'`).\n",
    "```\n",
    "my_tuple = ('yellow', 'green', 'orange', 'red')\n",
    "```\n",
    "\n",
    "For all cases, print the adequate information to show that your solution works!"
   ]
  },
  {
   "cell_type": "code",
   "execution_count": 3,
   "metadata": {
    "id": "CZVx8EMSAOC1"
   },
   "outputs": [
    {
     "name": "stdout",
     "output_type": "stream",
     "text": [
      "yellow green orange red\n",
      "10 20 30\n"
     ]
    }
   ],
   "source": [
    "my_tuple = ('yellow', 'green', 'orange', 'red')\n",
    "# your code below\n",
    "a,b,c = 10,20,30\n",
    "y,g,o,r = my_tuple\n",
    "print(y,g,o,r)\n",
    "print(a,b,c)"
   ]
  },
  {
   "cell_type": "markdown",
   "metadata": {
    "id": "dCKHukrkAYpn"
   },
   "source": [
    "#Exercise - Sort a Tuple\n",
    "\n",
    "Tuples are immutable. In this case you still want to sort the following tuple:\n",
    "\n",
    "```\n",
    "my_tuple = ('yellow', 'green', 'orange', 'red')\n",
    "```\n",
    "\n",
    "Short of doing it manually, do what it takes to end up with a sorted tuple."
   ]
  },
  {
   "cell_type": "code",
   "execution_count": null,
   "metadata": {
    "id": "m9367O7OAtuX"
   },
   "outputs": [],
   "source": [
    "my_tuple = ('yellow', 'green', 'orange', 'red')\n",
    "# your code below"
   ]
  },
  {
   "cell_type": "markdown",
   "metadata": {
    "id": "GyheQNyaBBuB"
   },
   "source": [
    "# Exercise - Swap Variables\n",
    "\n",
    "Show two different methods to swap variable contents. For example:\n",
    "\n",
    "```\n",
    "x = 10\n",
    "y = 20\n",
    "# swapping code here\n",
    "print(x,y) # 20,10\n",
    "```\n",
    "Your code must work for an values and types."
   ]
  },
  {
   "cell_type": "code",
   "execution_count": null,
   "metadata": {
    "id": "W5Px8qUqBA_f"
   },
   "outputs": [],
   "source": [
    "x = 10\n",
    "y = 20\n",
    "# your code below"
   ]
  },
  {
   "cell_type": "markdown",
   "metadata": {
    "id": "QA7NecQtCNyJ"
   },
   "source": [
    "# Exercise - Print the Print\n",
    "\n",
    "All functions in Python return something. Sometimes it makes intuitive sense of what will be returned:\n",
    "```\n",
    "p = math.round(3.14)\n",
    "print(p)\n",
    "```\n",
    "where \"the `round` function returns the closest integer, properly rounded\".\n",
    "\n",
    "Other function also return something, but it might not be totally intuitive what.\n",
    "\n",
    "We know what `print()` \"does\", but what does it \"return\"? What about the `list.append()` function? And `list.pop()`?"
   ]
  },
  {
   "cell_type": "code",
   "execution_count": null,
   "metadata": {
    "id": "5c4LGHUaB51e"
   },
   "outputs": [],
   "source": [
    "# your code here"
   ]
  },
  {
   "cell_type": "markdown",
   "metadata": {
    "id": "aQed7UTtIN_I"
   },
   "source": [
    "# Exercise - Keeping Scores\n",
    "\n",
    "Implement a small system that allows the referee of an imaginary sport to keep scores. \n",
    "\n",
    "Use the `input` function to ask the referee the name of the player and increment the score of that player by one. Print the current scores every time a score is updated."
   ]
  },
  {
   "cell_type": "code",
   "execution_count": null,
   "metadata": {
    "id": "vpH7qpBHLC8_"
   },
   "outputs": [],
   "source": [
    "# initialize your data structure\n",
    "scores = dict()"
   ]
  },
  {
   "cell_type": "code",
   "execution_count": null,
   "metadata": {
    "id": "bFLbRygD5NWe"
   },
   "outputs": [],
   "source": [
    "# your code below"
   ]
  },
  {
   "cell_type": "markdown",
   "metadata": {
    "id": "gz-7v6XZMi65"
   },
   "source": [
    "# Exercise - Keeping Better Scores\n",
    "\n",
    "Now expand on the previous exercise and allow the referee to not only put in the name of the player but also the number of points (eg. \"Jane 3\" would increase Jane's score by 3 and \"Joe -1\" would decrease Joe's score by one)."
   ]
  },
  {
   "cell_type": "code",
   "execution_count": null,
   "metadata": {
    "id": "rnCu3jjgNB6m"
   },
   "outputs": [],
   "source": [
    "# initialize your data structure\n",
    "scores = dict()"
   ]
  },
  {
   "cell_type": "code",
   "execution_count": null,
   "metadata": {
    "colab": {
     "base_uri": "https://localhost:8080/",
     "height": 50
    },
    "executionInfo": {
     "elapsed": 4476,
     "status": "ok",
     "timestamp": 1601927713213,
     "user": {
      "displayName": "Christian Darabos",
      "photoUrl": "https://lh3.googleusercontent.com/a-/AOh14Gj58rX31OVqoCy41duHsoMyAFVv9Ammc6u2HhU3=s64",
      "userId": "13696541032900097213"
     },
     "user_tz": 240
    },
    "id": "Ccp0LEeiO9kA",
    "outputId": "6b642a71-5b97-4c85-8e08-f244fa02628b"
   },
   "outputs": [
    {
     "name": "stdout",
     "output_type": "stream",
     "text": [
      "What are the player's name and points: toto 34\n",
      "{'toto': 34}\n"
     ]
    }
   ],
   "source": [
    "# your code below"
   ]
  },
  {
   "cell_type": "markdown",
   "metadata": {
    "id": "jV1NpEbaPvla"
   },
   "source": [
    "# Exercise - Biiig Tuple\n",
    "\n",
    "Roughly, how big an list/tuple/set can you create? Try:\n",
    "- 10,000 integers\n",
    "- $10^5$ integers\n",
    "- $10^6$ integers\n",
    "- $10^7$ integers\n",
    "- ...\n",
    "\n",
    "When you reach the limit, try running the same on HPC? Is the limit larger? What is your \"pain point\" on HPC?"
   ]
  },
  {
   "cell_type": "code",
   "execution_count": null,
   "metadata": {
    "id": "QdUmvqeYzbWP"
   },
   "outputs": [],
   "source": [
    "# your code / answer below"
   ]
  },
  {
   "cell_type": "markdown",
   "metadata": {
    "id": "nuKSkLIcdzLf"
   },
   "source": [
    "# Exercice - Tuple to Dict\n",
    "Below is a tuple describing an album. Convert this outer tuple to a dictionary with four keys using the `zip()` function.\n"
   ]
  },
  {
   "cell_type": "code",
   "execution_count": null,
   "metadata": {
    "colab": {
     "base_uri": "https://localhost:8080/",
     "height": 34
    },
    "executionInfo": {
     "elapsed": 622,
     "status": "ok",
     "timestamp": 1601936457056,
     "user": {
      "displayName": "Christian Darabos",
      "photoUrl": "https://lh3.googleusercontent.com/a-/AOh14Gj58rX31OVqoCy41duHsoMyAFVv9Ammc6u2HhU3=s64",
      "userId": "13696541032900097213"
     },
     "user_tz": 240
    },
    "id": "vJSS845-1ukI",
    "outputId": "45c24dcd-a256-4714-b8c6-78b39d965f88"
   },
   "outputs": [
    {
     "name": "stdout",
     "output_type": "stream",
     "text": [
      "<class 'tuple'>\n"
     ]
    }
   ],
   "source": [
    "album = (\n",
    "\t\"The Dark Side of the Moon\",\n",
    "\t\"Pink Floyd\",\n",
    "\t1973,\n",
    "\t(\n",
    "\t\t\"Speak to Me\",\n",
    "\t\t\"Breathe\",\n",
    "\t\t\"On the Run\",\n",
    "\t\t\"Time\",\n",
    "\t\t\"The Great Gig in the Sky\",\n",
    "\t\t\"Money\",\n",
    "\t\t\"Us and Them\",\n",
    "\t\t\"Any Colour You Like\",\n",
    "\t\t\"Brain Damage\",\n",
    "\t\t\"Eclipse\"\n",
    "\t)\n",
    ")\n",
    "print(type(album))"
   ]
  },
  {
   "cell_type": "code",
   "execution_count": null,
   "metadata": {
    "id": "NsYZZQr817gL"
   },
   "outputs": [],
   "source": [
    "# your code here"
   ]
  },
  {
   "cell_type": "markdown",
   "metadata": {
    "id": "5_2MR-QE3Y3O"
   },
   "source": [
    "# Exercise - Sets\n",
    "\n",
    "Create two sets of 10 integers each with an non-null overlap using the `range()` function.\n",
    "Then find the union, symmetric difference, and intersection of the two sets. Print the results of each operation."
   ]
  },
  {
   "cell_type": "code",
   "execution_count": null,
   "metadata": {
    "id": "gdVn8_NQ2h46"
   },
   "outputs": [],
   "source": [
    "# your code below"
   ]
  }
 ],
 "metadata": {
  "colab": {
   "authorship_tag": "ABX9TyMsTZNuLDWaJyzCS5259BJi",
   "collapsed_sections": [],
   "name": "QBS101-W20-week04-exercises.ipynb",
   "provenance": [],
   "toc_visible": true
  },
  "kernelspec": {
   "display_name": "Python 3",
   "language": "python",
   "name": "python3"
  },
  "language_info": {
   "codemirror_mode": {
    "name": "ipython",
    "version": 3
   },
   "file_extension": ".py",
   "mimetype": "text/x-python",
   "name": "python",
   "nbconvert_exporter": "python",
   "pygments_lexer": "ipython3",
   "version": "3.7.6"
  }
 },
 "nbformat": 4,
 "nbformat_minor": 1
}
