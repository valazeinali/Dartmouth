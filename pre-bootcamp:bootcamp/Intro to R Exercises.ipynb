{
 "cells": [
  {
   "cell_type": "markdown",
   "metadata": {},
   "source": [
    "# how to make R kernel avaliable in Jupyter"
   ]
  },
  {
   "cell_type": "markdown",
   "metadata": {},
   "source": [
    "# Load data in"
   ]
  },
  {
   "cell_type": "code",
   "execution_count": 1,
   "metadata": {},
   "outputs": [],
   "source": [
    "df = read.csv(\"HanoverWeatherData2020.csv\")"
   ]
  },
  {
   "cell_type": "code",
   "execution_count": 2,
   "metadata": {},
   "outputs": [
    {
     "data": {
      "text/html": [
       "<table>\n",
       "<caption>A data.frame: 6 × 41</caption>\n",
       "<thead>\n",
       "\t<tr><th></th><th scope=col>X</th><th scope=col>time</th><th scope=col>summary</th><th scope=col>icon</th><th scope=col>sunriseTime</th><th scope=col>sunsetTime</th><th scope=col>moonPhase</th><th scope=col>precipIntensity</th><th scope=col>precipIntensityMax</th><th scope=col>precipIntensityMaxTime</th><th scope=col>⋯</th><th scope=col>ozone</th><th scope=col>temperatureMin</th><th scope=col>temperatureMinTime</th><th scope=col>temperatureMax</th><th scope=col>temperatureMaxTime</th><th scope=col>apparentTemperatureMin</th><th scope=col>apparentTemperatureMinTime</th><th scope=col>apparentTemperatureMax</th><th scope=col>apparentTemperatureMaxTime</th><th scope=col>precipAccumulation</th></tr>\n",
       "\t<tr><th></th><th scope=col>&lt;int&gt;</th><th scope=col>&lt;fct&gt;</th><th scope=col>&lt;fct&gt;</th><th scope=col>&lt;fct&gt;</th><th scope=col>&lt;fct&gt;</th><th scope=col>&lt;fct&gt;</th><th scope=col>&lt;dbl&gt;</th><th scope=col>&lt;dbl&gt;</th><th scope=col>&lt;dbl&gt;</th><th scope=col>&lt;fct&gt;</th><th scope=col>⋯</th><th scope=col>&lt;dbl&gt;</th><th scope=col>&lt;dbl&gt;</th><th scope=col>&lt;fct&gt;</th><th scope=col>&lt;dbl&gt;</th><th scope=col>&lt;fct&gt;</th><th scope=col>&lt;dbl&gt;</th><th scope=col>&lt;fct&gt;</th><th scope=col>&lt;dbl&gt;</th><th scope=col>&lt;fct&gt;</th><th scope=col>&lt;dbl&gt;</th></tr>\n",
       "</thead>\n",
       "<tbody>\n",
       "\t<tr><th scope=row>1</th><td>1</td><td>2018-12-31</td><td>Rain (with a chance of 1–3 in. of snow) in the evening and overnight.</td><td>snow             </td><td>2018-12-31 07:24:00</td><td>2018-12-31 16:22:00</td><td>0.84</td><td>0.0111</td><td>0.1288</td><td>2018-12-31 23:00:00</td><td>⋯</td><td>279.6</td><td>22.12</td><td>2018-12-31 06:58:00</td><td>36.27</td><td>2018-12-31 13:52:00</td><td>17.62</td><td>2018-12-31 07:21:00</td><td>32.01</td><td>2018-12-31 13:49:00</td><td>1.12</td></tr>\n",
       "\t<tr><th scope=row>2</th><td>2</td><td>2019-01-01</td><td>Rain in the morning.                                                 </td><td>rain             </td><td>2019-01-01 07:24:00</td><td>2019-01-01 16:23:00</td><td>0.87</td><td>0.0170</td><td>0.1438</td><td>2019-01-01 00:00:00</td><td>⋯</td><td>281.2</td><td>19.16</td><td>2019-01-01 23:00:00</td><td>40.41</td><td>2019-01-01 10:04:00</td><td>10.60</td><td>2019-01-01 23:00:00</td><td>32.42</td><td>2019-01-01 09:35:00</td><td>  NA</td></tr>\n",
       "\t<tr><th scope=row>3</th><td>3</td><td>2019-01-02</td><td>Foggy overnight.                                                     </td><td>clear-day        </td><td>2019-01-02 07:24:00</td><td>2019-01-02 16:24:00</td><td>0.91</td><td>0.0011</td><td>0.0029</td><td>2019-01-02 22:28:00</td><td>⋯</td><td>340.8</td><td>13.54</td><td>2019-01-02 07:42:00</td><td>27.25</td><td>2019-01-02 14:25:00</td><td> 8.00</td><td>2019-01-02 06:07:00</td><td>26.75</td><td>2019-01-02 14:25:00</td><td>0.40</td></tr>\n",
       "\t<tr><th scope=row>4</th><td>4</td><td>2019-01-03</td><td>Snow (1–2 in.) in the morning.                                       </td><td>snow             </td><td>2019-01-03 07:24:00</td><td>2019-01-03 16:25:00</td><td>0.94</td><td>0.0076</td><td>0.0378</td><td>2019-01-03 04:12:00</td><td>⋯</td><td>296.9</td><td>21.08</td><td>2019-01-03 00:56:00</td><td>33.96</td><td>2019-01-03 13:51:00</td><td>13.94</td><td>2019-01-03 03:01:00</td><td>29.64</td><td>2019-01-03 13:32:00</td><td>2.29</td></tr>\n",
       "\t<tr><th scope=row>5</th><td>5</td><td>2019-01-04</td><td>Clear throughout the day.                                            </td><td>partly-cloudy-day</td><td>2019-01-04 07:24:00</td><td>2019-01-04 16:26:00</td><td>0.97</td><td>0.0003</td><td>0.0016</td><td>2019-01-04 00:21:00</td><td>⋯</td><td>263.5</td><td>25.99</td><td>2019-01-04 04:01:00</td><td>41.12</td><td>2019-01-04 14:00:00</td><td>21.29</td><td>2019-01-04 05:58:00</td><td>36.60</td><td>2019-01-04 14:08:00</td><td>0.06</td></tr>\n",
       "\t<tr><th scope=row>6</th><td>6</td><td>2019-01-05</td><td>Mostly cloudy throughout the day.                                    </td><td>snow             </td><td>2019-01-05 07:24:00</td><td>2019-01-05 16:27:00</td><td>0.00</td><td>0.0022</td><td>0.0067</td><td>2019-01-05 12:00:00</td><td>⋯</td><td>262.2</td><td>22.19</td><td>2019-01-05 05:55:00</td><td>37.82</td><td>2019-01-05 14:16:00</td><td>20.94</td><td>2019-01-05 22:46:00</td><td>37.32</td><td>2019-01-05 14:16:00</td><td>0.28</td></tr>\n",
       "</tbody>\n",
       "</table>\n"
      ],
      "text/latex": [
       "A data.frame: 6 × 41\n",
       "\\begin{tabular}{r|lllllllllllllllllllll}\n",
       "  & X & time & summary & icon & sunriseTime & sunsetTime & moonPhase & precipIntensity & precipIntensityMax & precipIntensityMaxTime & ⋯ & ozone & temperatureMin & temperatureMinTime & temperatureMax & temperatureMaxTime & apparentTemperatureMin & apparentTemperatureMinTime & apparentTemperatureMax & apparentTemperatureMaxTime & precipAccumulation\\\\\n",
       "  & <int> & <fct> & <fct> & <fct> & <fct> & <fct> & <dbl> & <dbl> & <dbl> & <fct> & ⋯ & <dbl> & <dbl> & <fct> & <dbl> & <fct> & <dbl> & <fct> & <dbl> & <fct> & <dbl>\\\\\n",
       "\\hline\n",
       "\t1 & 1 & 2018-12-31 & Rain (with a chance of 1–3 in. of snow) in the evening and overnight. & snow              & 2018-12-31 07:24:00 & 2018-12-31 16:22:00 & 0.84 & 0.0111 & 0.1288 & 2018-12-31 23:00:00 & ⋯ & 279.6 & 22.12 & 2018-12-31 06:58:00 & 36.27 & 2018-12-31 13:52:00 & 17.62 & 2018-12-31 07:21:00 & 32.01 & 2018-12-31 13:49:00 & 1.12\\\\\n",
       "\t2 & 2 & 2019-01-01 & Rain in the morning.                                                  & rain              & 2019-01-01 07:24:00 & 2019-01-01 16:23:00 & 0.87 & 0.0170 & 0.1438 & 2019-01-01 00:00:00 & ⋯ & 281.2 & 19.16 & 2019-01-01 23:00:00 & 40.41 & 2019-01-01 10:04:00 & 10.60 & 2019-01-01 23:00:00 & 32.42 & 2019-01-01 09:35:00 &   NA\\\\\n",
       "\t3 & 3 & 2019-01-02 & Foggy overnight.                                                      & clear-day         & 2019-01-02 07:24:00 & 2019-01-02 16:24:00 & 0.91 & 0.0011 & 0.0029 & 2019-01-02 22:28:00 & ⋯ & 340.8 & 13.54 & 2019-01-02 07:42:00 & 27.25 & 2019-01-02 14:25:00 &  8.00 & 2019-01-02 06:07:00 & 26.75 & 2019-01-02 14:25:00 & 0.40\\\\\n",
       "\t4 & 4 & 2019-01-03 & Snow (1–2 in.) in the morning.                                        & snow              & 2019-01-03 07:24:00 & 2019-01-03 16:25:00 & 0.94 & 0.0076 & 0.0378 & 2019-01-03 04:12:00 & ⋯ & 296.9 & 21.08 & 2019-01-03 00:56:00 & 33.96 & 2019-01-03 13:51:00 & 13.94 & 2019-01-03 03:01:00 & 29.64 & 2019-01-03 13:32:00 & 2.29\\\\\n",
       "\t5 & 5 & 2019-01-04 & Clear throughout the day.                                             & partly-cloudy-day & 2019-01-04 07:24:00 & 2019-01-04 16:26:00 & 0.97 & 0.0003 & 0.0016 & 2019-01-04 00:21:00 & ⋯ & 263.5 & 25.99 & 2019-01-04 04:01:00 & 41.12 & 2019-01-04 14:00:00 & 21.29 & 2019-01-04 05:58:00 & 36.60 & 2019-01-04 14:08:00 & 0.06\\\\\n",
       "\t6 & 6 & 2019-01-05 & Mostly cloudy throughout the day.                                     & snow              & 2019-01-05 07:24:00 & 2019-01-05 16:27:00 & 0.00 & 0.0022 & 0.0067 & 2019-01-05 12:00:00 & ⋯ & 262.2 & 22.19 & 2019-01-05 05:55:00 & 37.82 & 2019-01-05 14:16:00 & 20.94 & 2019-01-05 22:46:00 & 37.32 & 2019-01-05 14:16:00 & 0.28\\\\\n",
       "\\end{tabular}\n"
      ],
      "text/markdown": [
       "\n",
       "A data.frame: 6 × 41\n",
       "\n",
       "| <!--/--> | X &lt;int&gt; | time &lt;fct&gt; | summary &lt;fct&gt; | icon &lt;fct&gt; | sunriseTime &lt;fct&gt; | sunsetTime &lt;fct&gt; | moonPhase &lt;dbl&gt; | precipIntensity &lt;dbl&gt; | precipIntensityMax &lt;dbl&gt; | precipIntensityMaxTime &lt;fct&gt; | ⋯ ⋯ | ozone &lt;dbl&gt; | temperatureMin &lt;dbl&gt; | temperatureMinTime &lt;fct&gt; | temperatureMax &lt;dbl&gt; | temperatureMaxTime &lt;fct&gt; | apparentTemperatureMin &lt;dbl&gt; | apparentTemperatureMinTime &lt;fct&gt; | apparentTemperatureMax &lt;dbl&gt; | apparentTemperatureMaxTime &lt;fct&gt; | precipAccumulation &lt;dbl&gt; |\n",
       "|---|---|---|---|---|---|---|---|---|---|---|---|---|---|---|---|---|---|---|---|---|---|\n",
       "| 1 | 1 | 2018-12-31 | Rain (with a chance of 1–3 in. of snow) in the evening and overnight. | snow              | 2018-12-31 07:24:00 | 2018-12-31 16:22:00 | 0.84 | 0.0111 | 0.1288 | 2018-12-31 23:00:00 | ⋯ | 279.6 | 22.12 | 2018-12-31 06:58:00 | 36.27 | 2018-12-31 13:52:00 | 17.62 | 2018-12-31 07:21:00 | 32.01 | 2018-12-31 13:49:00 | 1.12 |\n",
       "| 2 | 2 | 2019-01-01 | Rain in the morning.                                                  | rain              | 2019-01-01 07:24:00 | 2019-01-01 16:23:00 | 0.87 | 0.0170 | 0.1438 | 2019-01-01 00:00:00 | ⋯ | 281.2 | 19.16 | 2019-01-01 23:00:00 | 40.41 | 2019-01-01 10:04:00 | 10.60 | 2019-01-01 23:00:00 | 32.42 | 2019-01-01 09:35:00 |   NA |\n",
       "| 3 | 3 | 2019-01-02 | Foggy overnight.                                                      | clear-day         | 2019-01-02 07:24:00 | 2019-01-02 16:24:00 | 0.91 | 0.0011 | 0.0029 | 2019-01-02 22:28:00 | ⋯ | 340.8 | 13.54 | 2019-01-02 07:42:00 | 27.25 | 2019-01-02 14:25:00 |  8.00 | 2019-01-02 06:07:00 | 26.75 | 2019-01-02 14:25:00 | 0.40 |\n",
       "| 4 | 4 | 2019-01-03 | Snow (1–2 in.) in the morning.                                        | snow              | 2019-01-03 07:24:00 | 2019-01-03 16:25:00 | 0.94 | 0.0076 | 0.0378 | 2019-01-03 04:12:00 | ⋯ | 296.9 | 21.08 | 2019-01-03 00:56:00 | 33.96 | 2019-01-03 13:51:00 | 13.94 | 2019-01-03 03:01:00 | 29.64 | 2019-01-03 13:32:00 | 2.29 |\n",
       "| 5 | 5 | 2019-01-04 | Clear throughout the day.                                             | partly-cloudy-day | 2019-01-04 07:24:00 | 2019-01-04 16:26:00 | 0.97 | 0.0003 | 0.0016 | 2019-01-04 00:21:00 | ⋯ | 263.5 | 25.99 | 2019-01-04 04:01:00 | 41.12 | 2019-01-04 14:00:00 | 21.29 | 2019-01-04 05:58:00 | 36.60 | 2019-01-04 14:08:00 | 0.06 |\n",
       "| 6 | 6 | 2019-01-05 | Mostly cloudy throughout the day.                                     | snow              | 2019-01-05 07:24:00 | 2019-01-05 16:27:00 | 0.00 | 0.0022 | 0.0067 | 2019-01-05 12:00:00 | ⋯ | 262.2 | 22.19 | 2019-01-05 05:55:00 | 37.82 | 2019-01-05 14:16:00 | 20.94 | 2019-01-05 22:46:00 | 37.32 | 2019-01-05 14:16:00 | 0.28 |\n",
       "\n"
      ],
      "text/plain": [
       "  X time      \n",
       "1 1 2018-12-31\n",
       "2 2 2019-01-01\n",
       "3 3 2019-01-02\n",
       "4 4 2019-01-03\n",
       "5 5 2019-01-04\n",
       "6 6 2019-01-05\n",
       "  summary                                                              \n",
       "1 Rain (with a chance of 1–3 in. of snow) in the evening and overnight.\n",
       "2 Rain in the morning.                                                 \n",
       "3 Foggy overnight.                                                     \n",
       "4 Snow (1–2 in.) in the morning.                                       \n",
       "5 Clear throughout the day.                                            \n",
       "6 Mostly cloudy throughout the day.                                    \n",
       "  icon              sunriseTime         sunsetTime          moonPhase\n",
       "1 snow              2018-12-31 07:24:00 2018-12-31 16:22:00 0.84     \n",
       "2 rain              2019-01-01 07:24:00 2019-01-01 16:23:00 0.87     \n",
       "3 clear-day         2019-01-02 07:24:00 2019-01-02 16:24:00 0.91     \n",
       "4 snow              2019-01-03 07:24:00 2019-01-03 16:25:00 0.94     \n",
       "5 partly-cloudy-day 2019-01-04 07:24:00 2019-01-04 16:26:00 0.97     \n",
       "6 snow              2019-01-05 07:24:00 2019-01-05 16:27:00 0.00     \n",
       "  precipIntensity precipIntensityMax precipIntensityMaxTime ⋯ ozone\n",
       "1 0.0111          0.1288             2018-12-31 23:00:00    ⋯ 279.6\n",
       "2 0.0170          0.1438             2019-01-01 00:00:00    ⋯ 281.2\n",
       "3 0.0011          0.0029             2019-01-02 22:28:00    ⋯ 340.8\n",
       "4 0.0076          0.0378             2019-01-03 04:12:00    ⋯ 296.9\n",
       "5 0.0003          0.0016             2019-01-04 00:21:00    ⋯ 263.5\n",
       "6 0.0022          0.0067             2019-01-05 12:00:00    ⋯ 262.2\n",
       "  temperatureMin temperatureMinTime  temperatureMax temperatureMaxTime \n",
       "1 22.12          2018-12-31 06:58:00 36.27          2018-12-31 13:52:00\n",
       "2 19.16          2019-01-01 23:00:00 40.41          2019-01-01 10:04:00\n",
       "3 13.54          2019-01-02 07:42:00 27.25          2019-01-02 14:25:00\n",
       "4 21.08          2019-01-03 00:56:00 33.96          2019-01-03 13:51:00\n",
       "5 25.99          2019-01-04 04:01:00 41.12          2019-01-04 14:00:00\n",
       "6 22.19          2019-01-05 05:55:00 37.82          2019-01-05 14:16:00\n",
       "  apparentTemperatureMin apparentTemperatureMinTime apparentTemperatureMax\n",
       "1 17.62                  2018-12-31 07:21:00        32.01                 \n",
       "2 10.60                  2019-01-01 23:00:00        32.42                 \n",
       "3  8.00                  2019-01-02 06:07:00        26.75                 \n",
       "4 13.94                  2019-01-03 03:01:00        29.64                 \n",
       "5 21.29                  2019-01-04 05:58:00        36.60                 \n",
       "6 20.94                  2019-01-05 22:46:00        37.32                 \n",
       "  apparentTemperatureMaxTime precipAccumulation\n",
       "1 2018-12-31 13:49:00        1.12              \n",
       "2 2019-01-01 09:35:00          NA              \n",
       "3 2019-01-02 14:25:00        0.40              \n",
       "4 2019-01-03 13:32:00        2.29              \n",
       "5 2019-01-04 14:08:00        0.06              \n",
       "6 2019-01-05 14:16:00        0.28              "
      ]
     },
     "metadata": {},
     "output_type": "display_data"
    }
   ],
   "source": [
    "head(df)"
   ]
  },
  {
   "cell_type": "markdown",
   "metadata": {},
   "source": [
    "# Check column types"
   ]
  },
  {
   "cell_type": "code",
   "execution_count": 3,
   "metadata": {
    "scrolled": true
   },
   "outputs": [
    {
     "name": "stdout",
     "output_type": "stream",
     "text": [
      "'data.frame':\t588 obs. of  41 variables:\n",
      " $ X                          : int  1 2 3 4 5 6 7 8 9 10 ...\n",
      " $ time                       : Factor w/ 588 levels \"2018-12-31\",\"2019-01-01\",..: 1 2 3 4 5 6 7 8 9 10 ...\n",
      " $ summary                    : Factor w/ 86 levels \"Clear throughout the day.\",..: 50 57 7 67 1 34 34 7 47 77 ...\n",
      " $ icon                       : Factor w/ 6 levels \"clear-day\",\"cloudy\",..: 5 4 1 5 3 5 5 3 5 5 ...\n",
      " $ sunriseTime                : Factor w/ 588 levels \"2018-12-31 07:24:00\",..: 1 2 3 4 5 6 7 8 9 10 ...\n",
      " $ sunsetTime                 : Factor w/ 588 levels \"2018-12-31 16:22:00\",..: 1 2 3 4 5 6 7 8 9 10 ...\n",
      " $ moonPhase                  : num  0.84 0.87 0.91 0.94 0.97 0 0.03 0.06 0.09 0.12 ...\n",
      " $ precipIntensity            : num  0.0111 0.017 0.0011 0.0076 0.0003 0.0022 0.0016 0.0004 0.0103 0.0221 ...\n",
      " $ precipIntensityMax         : num  0.1288 0.1438 0.0029 0.0378 0.0016 ...\n",
      " $ precipIntensityMaxTime     : Factor w/ 588 levels \"2018-12-31 23:00:00\",..: 1 2 3 4 5 6 7 8 9 10 ...\n",
      " $ precipProbability          : num  0.65 0.88 0.07 0.53 0.08 0.31 0.38 0.03 0.62 0.84 ...\n",
      " $ precipType                 : Factor w/ 2 levels \"rain\",\"snow\": 2 1 2 2 2 2 2 2 2 2 ...\n",
      " $ temperatureHigh            : num  36.3 40.4 27.2 34 41.1 ...\n",
      " $ temperatureHighTime        : int  1546282320 1546355040 1546457100 1546541460 1546628400 1546715760 1546791780 1546890600 1546988160 1547063280 ...\n",
      " $ temperatureLow             : num  32.3 13.5 17.8 24.6 22.2 ...\n",
      " $ temperatureLowTime         : int  1546316820 1546432920 1546473960 1546570800 1546685700 1546746480 1546862820 1546905720 1546992000 1547121720 ...\n",
      " $ apparentTemperatureHigh    : num  32 32.4 26.8 29.6 36.6 ...\n",
      " $ apparentTemperatureHighTime: int  1546282140 1546353300 1546457100 1546540320 1546628880 1546715760 1546788420 1546895280 1546992000 1547037840 ...\n",
      " $ apparentTemperatureLow     : num  25.3 8 12.5 20.7 22.7 ...\n",
      " $ apparentTemperatureLowTime : int  1546320660 1546427220 1546474680 1546571520 1546685700 1546746360 1546860540 1546935120 1546992000 1547115600 ...\n",
      " $ dewPoint                   : num  21.36 23.8 1.36 17.71 22.28 ...\n",
      " $ humidity                   : num  0.72 0.72 0.46 0.7 0.7 0.8 0.66 0.35 0.7 0.79 ...\n",
      " $ pressure                   : num  1024 1008 1026 1013 1010 ...\n",
      " $ windSpeed                  : num  4.2 9.48 3.39 3.9 4.35 2.89 8.6 5.82 5.85 6.2 ...\n",
      " $ windGust                   : num  23.3 35.2 19.7 19.2 17.7 ...\n",
      " $ windGustTime               : int  1546315200 1546356420 1546405200 1546502040 1546621680 1546746360 1546830720 1546837200 1546937460 1547054580 ...\n",
      " $ windBearing                : int  171 301 1 172 211 9 307 346 142 268 ...\n",
      " $ cloudCover                 : num  0.7 0.82 0.27 0.81 0.45 0.71 0.71 0.56 0.98 0.97 ...\n",
      " $ uvIndex                    : int  1 1 1 1 2 1 1 2 1 1 ...\n",
      " $ uvIndexTime                : int  1546275180 1546361160 1546448160 1546535040 1546620900 1546707180 1546794000 1546880460 1546966740 1547053380 ...\n",
      " $ visibility                 : num  8.86 8 10 7.41 10 ...\n",
      " $ ozone                      : num  280 281 341 297 264 ...\n",
      " $ temperatureMin             : num  22.1 19.2 13.5 21.1 26 ...\n",
      " $ temperatureMinTime         : Factor w/ 588 levels \"2018-12-31 06:58:00\",..: 1 2 3 4 5 6 7 8 9 10 ...\n",
      " $ temperatureMax             : num  36.3 40.4 27.2 34 41.1 ...\n",
      " $ temperatureMaxTime         : Factor w/ 588 levels \"2018-12-31 13:52:00\",..: 1 2 3 4 5 6 7 8 9 10 ...\n",
      " $ apparentTemperatureMin     : num  17.6 10.6 8 13.9 21.3 ...\n",
      " $ apparentTemperatureMinTime : Factor w/ 588 levels \"2018-12-31 07:21:00\",..: 1 2 3 4 5 6 7 8 9 10 ...\n",
      " $ apparentTemperatureMax     : num  32 32.4 26.8 29.6 36.6 ...\n",
      " $ apparentTemperatureMaxTime : Factor w/ 588 levels \"2018-12-31 13:49:00\",..: 1 2 3 4 5 6 7 8 9 10 ...\n",
      " $ precipAccumulation         : num  1.12 NA 0.4 2.29 0.06 0.28 0.41 0.16 2.02 3.88 ...\n"
     ]
    }
   ],
   "source": [
    "str(df)"
   ]
  },
  {
   "cell_type": "markdown",
   "metadata": {},
   "source": [
    "# Q1: Rename the first column to 'Date'. Make the 'Date' column of the dataset an actual date variable in R (hint: use as.Date). What is the minimum/maximum date in the data? *\n",
    "\n",
    "## Syntax/Resource below\n",
    "### https://www.datanovia.com/en/lessons/rename-data-frame-columns-in-r/"
   ]
  },
  {
   "cell_type": "code",
   "execution_count": 4,
   "metadata": {},
   "outputs": [],
   "source": [
    "names(df)[2] <- \"Date\"\n",
    "#df$Date <- as.Date(df$Date)\n",
    "df$Date <- as.Date(df$Date, format = \"%Y-%m-%d\")\n"
   ]
  },
  {
   "cell_type": "code",
   "execution_count": 5,
   "metadata": {},
   "outputs": [
    {
     "data": {
      "text/html": [
       "<table>\n",
       "<caption>A data.frame: 6 × 41</caption>\n",
       "<thead>\n",
       "\t<tr><th></th><th scope=col>X</th><th scope=col>Date</th><th scope=col>summary</th><th scope=col>icon</th><th scope=col>sunriseTime</th><th scope=col>sunsetTime</th><th scope=col>moonPhase</th><th scope=col>precipIntensity</th><th scope=col>precipIntensityMax</th><th scope=col>precipIntensityMaxTime</th><th scope=col>⋯</th><th scope=col>ozone</th><th scope=col>temperatureMin</th><th scope=col>temperatureMinTime</th><th scope=col>temperatureMax</th><th scope=col>temperatureMaxTime</th><th scope=col>apparentTemperatureMin</th><th scope=col>apparentTemperatureMinTime</th><th scope=col>apparentTemperatureMax</th><th scope=col>apparentTemperatureMaxTime</th><th scope=col>precipAccumulation</th></tr>\n",
       "\t<tr><th></th><th scope=col>&lt;int&gt;</th><th scope=col>&lt;date&gt;</th><th scope=col>&lt;fct&gt;</th><th scope=col>&lt;fct&gt;</th><th scope=col>&lt;fct&gt;</th><th scope=col>&lt;fct&gt;</th><th scope=col>&lt;dbl&gt;</th><th scope=col>&lt;dbl&gt;</th><th scope=col>&lt;dbl&gt;</th><th scope=col>&lt;fct&gt;</th><th scope=col>⋯</th><th scope=col>&lt;dbl&gt;</th><th scope=col>&lt;dbl&gt;</th><th scope=col>&lt;fct&gt;</th><th scope=col>&lt;dbl&gt;</th><th scope=col>&lt;fct&gt;</th><th scope=col>&lt;dbl&gt;</th><th scope=col>&lt;fct&gt;</th><th scope=col>&lt;dbl&gt;</th><th scope=col>&lt;fct&gt;</th><th scope=col>&lt;dbl&gt;</th></tr>\n",
       "</thead>\n",
       "<tbody>\n",
       "\t<tr><th scope=row>1</th><td>1</td><td>2018-12-31</td><td>Rain (with a chance of 1–3 in. of snow) in the evening and overnight.</td><td>snow             </td><td>2018-12-31 07:24:00</td><td>2018-12-31 16:22:00</td><td>0.84</td><td>0.0111</td><td>0.1288</td><td>2018-12-31 23:00:00</td><td>⋯</td><td>279.6</td><td>22.12</td><td>2018-12-31 06:58:00</td><td>36.27</td><td>2018-12-31 13:52:00</td><td>17.62</td><td>2018-12-31 07:21:00</td><td>32.01</td><td>2018-12-31 13:49:00</td><td>1.12</td></tr>\n",
       "\t<tr><th scope=row>2</th><td>2</td><td>2019-01-01</td><td>Rain in the morning.                                                 </td><td>rain             </td><td>2019-01-01 07:24:00</td><td>2019-01-01 16:23:00</td><td>0.87</td><td>0.0170</td><td>0.1438</td><td>2019-01-01 00:00:00</td><td>⋯</td><td>281.2</td><td>19.16</td><td>2019-01-01 23:00:00</td><td>40.41</td><td>2019-01-01 10:04:00</td><td>10.60</td><td>2019-01-01 23:00:00</td><td>32.42</td><td>2019-01-01 09:35:00</td><td>  NA</td></tr>\n",
       "\t<tr><th scope=row>3</th><td>3</td><td>2019-01-02</td><td>Foggy overnight.                                                     </td><td>clear-day        </td><td>2019-01-02 07:24:00</td><td>2019-01-02 16:24:00</td><td>0.91</td><td>0.0011</td><td>0.0029</td><td>2019-01-02 22:28:00</td><td>⋯</td><td>340.8</td><td>13.54</td><td>2019-01-02 07:42:00</td><td>27.25</td><td>2019-01-02 14:25:00</td><td> 8.00</td><td>2019-01-02 06:07:00</td><td>26.75</td><td>2019-01-02 14:25:00</td><td>0.40</td></tr>\n",
       "\t<tr><th scope=row>4</th><td>4</td><td>2019-01-03</td><td>Snow (1–2 in.) in the morning.                                       </td><td>snow             </td><td>2019-01-03 07:24:00</td><td>2019-01-03 16:25:00</td><td>0.94</td><td>0.0076</td><td>0.0378</td><td>2019-01-03 04:12:00</td><td>⋯</td><td>296.9</td><td>21.08</td><td>2019-01-03 00:56:00</td><td>33.96</td><td>2019-01-03 13:51:00</td><td>13.94</td><td>2019-01-03 03:01:00</td><td>29.64</td><td>2019-01-03 13:32:00</td><td>2.29</td></tr>\n",
       "\t<tr><th scope=row>5</th><td>5</td><td>2019-01-04</td><td>Clear throughout the day.                                            </td><td>partly-cloudy-day</td><td>2019-01-04 07:24:00</td><td>2019-01-04 16:26:00</td><td>0.97</td><td>0.0003</td><td>0.0016</td><td>2019-01-04 00:21:00</td><td>⋯</td><td>263.5</td><td>25.99</td><td>2019-01-04 04:01:00</td><td>41.12</td><td>2019-01-04 14:00:00</td><td>21.29</td><td>2019-01-04 05:58:00</td><td>36.60</td><td>2019-01-04 14:08:00</td><td>0.06</td></tr>\n",
       "\t<tr><th scope=row>6</th><td>6</td><td>2019-01-05</td><td>Mostly cloudy throughout the day.                                    </td><td>snow             </td><td>2019-01-05 07:24:00</td><td>2019-01-05 16:27:00</td><td>0.00</td><td>0.0022</td><td>0.0067</td><td>2019-01-05 12:00:00</td><td>⋯</td><td>262.2</td><td>22.19</td><td>2019-01-05 05:55:00</td><td>37.82</td><td>2019-01-05 14:16:00</td><td>20.94</td><td>2019-01-05 22:46:00</td><td>37.32</td><td>2019-01-05 14:16:00</td><td>0.28</td></tr>\n",
       "</tbody>\n",
       "</table>\n"
      ],
      "text/latex": [
       "A data.frame: 6 × 41\n",
       "\\begin{tabular}{r|lllllllllllllllllllll}\n",
       "  & X & Date & summary & icon & sunriseTime & sunsetTime & moonPhase & precipIntensity & precipIntensityMax & precipIntensityMaxTime & ⋯ & ozone & temperatureMin & temperatureMinTime & temperatureMax & temperatureMaxTime & apparentTemperatureMin & apparentTemperatureMinTime & apparentTemperatureMax & apparentTemperatureMaxTime & precipAccumulation\\\\\n",
       "  & <int> & <date> & <fct> & <fct> & <fct> & <fct> & <dbl> & <dbl> & <dbl> & <fct> & ⋯ & <dbl> & <dbl> & <fct> & <dbl> & <fct> & <dbl> & <fct> & <dbl> & <fct> & <dbl>\\\\\n",
       "\\hline\n",
       "\t1 & 1 & 2018-12-31 & Rain (with a chance of 1–3 in. of snow) in the evening and overnight. & snow              & 2018-12-31 07:24:00 & 2018-12-31 16:22:00 & 0.84 & 0.0111 & 0.1288 & 2018-12-31 23:00:00 & ⋯ & 279.6 & 22.12 & 2018-12-31 06:58:00 & 36.27 & 2018-12-31 13:52:00 & 17.62 & 2018-12-31 07:21:00 & 32.01 & 2018-12-31 13:49:00 & 1.12\\\\\n",
       "\t2 & 2 & 2019-01-01 & Rain in the morning.                                                  & rain              & 2019-01-01 07:24:00 & 2019-01-01 16:23:00 & 0.87 & 0.0170 & 0.1438 & 2019-01-01 00:00:00 & ⋯ & 281.2 & 19.16 & 2019-01-01 23:00:00 & 40.41 & 2019-01-01 10:04:00 & 10.60 & 2019-01-01 23:00:00 & 32.42 & 2019-01-01 09:35:00 &   NA\\\\\n",
       "\t3 & 3 & 2019-01-02 & Foggy overnight.                                                      & clear-day         & 2019-01-02 07:24:00 & 2019-01-02 16:24:00 & 0.91 & 0.0011 & 0.0029 & 2019-01-02 22:28:00 & ⋯ & 340.8 & 13.54 & 2019-01-02 07:42:00 & 27.25 & 2019-01-02 14:25:00 &  8.00 & 2019-01-02 06:07:00 & 26.75 & 2019-01-02 14:25:00 & 0.40\\\\\n",
       "\t4 & 4 & 2019-01-03 & Snow (1–2 in.) in the morning.                                        & snow              & 2019-01-03 07:24:00 & 2019-01-03 16:25:00 & 0.94 & 0.0076 & 0.0378 & 2019-01-03 04:12:00 & ⋯ & 296.9 & 21.08 & 2019-01-03 00:56:00 & 33.96 & 2019-01-03 13:51:00 & 13.94 & 2019-01-03 03:01:00 & 29.64 & 2019-01-03 13:32:00 & 2.29\\\\\n",
       "\t5 & 5 & 2019-01-04 & Clear throughout the day.                                             & partly-cloudy-day & 2019-01-04 07:24:00 & 2019-01-04 16:26:00 & 0.97 & 0.0003 & 0.0016 & 2019-01-04 00:21:00 & ⋯ & 263.5 & 25.99 & 2019-01-04 04:01:00 & 41.12 & 2019-01-04 14:00:00 & 21.29 & 2019-01-04 05:58:00 & 36.60 & 2019-01-04 14:08:00 & 0.06\\\\\n",
       "\t6 & 6 & 2019-01-05 & Mostly cloudy throughout the day.                                     & snow              & 2019-01-05 07:24:00 & 2019-01-05 16:27:00 & 0.00 & 0.0022 & 0.0067 & 2019-01-05 12:00:00 & ⋯ & 262.2 & 22.19 & 2019-01-05 05:55:00 & 37.82 & 2019-01-05 14:16:00 & 20.94 & 2019-01-05 22:46:00 & 37.32 & 2019-01-05 14:16:00 & 0.28\\\\\n",
       "\\end{tabular}\n"
      ],
      "text/markdown": [
       "\n",
       "A data.frame: 6 × 41\n",
       "\n",
       "| <!--/--> | X &lt;int&gt; | Date &lt;date&gt; | summary &lt;fct&gt; | icon &lt;fct&gt; | sunriseTime &lt;fct&gt; | sunsetTime &lt;fct&gt; | moonPhase &lt;dbl&gt; | precipIntensity &lt;dbl&gt; | precipIntensityMax &lt;dbl&gt; | precipIntensityMaxTime &lt;fct&gt; | ⋯ ⋯ | ozone &lt;dbl&gt; | temperatureMin &lt;dbl&gt; | temperatureMinTime &lt;fct&gt; | temperatureMax &lt;dbl&gt; | temperatureMaxTime &lt;fct&gt; | apparentTemperatureMin &lt;dbl&gt; | apparentTemperatureMinTime &lt;fct&gt; | apparentTemperatureMax &lt;dbl&gt; | apparentTemperatureMaxTime &lt;fct&gt; | precipAccumulation &lt;dbl&gt; |\n",
       "|---|---|---|---|---|---|---|---|---|---|---|---|---|---|---|---|---|---|---|---|---|---|\n",
       "| 1 | 1 | 2018-12-31 | Rain (with a chance of 1–3 in. of snow) in the evening and overnight. | snow              | 2018-12-31 07:24:00 | 2018-12-31 16:22:00 | 0.84 | 0.0111 | 0.1288 | 2018-12-31 23:00:00 | ⋯ | 279.6 | 22.12 | 2018-12-31 06:58:00 | 36.27 | 2018-12-31 13:52:00 | 17.62 | 2018-12-31 07:21:00 | 32.01 | 2018-12-31 13:49:00 | 1.12 |\n",
       "| 2 | 2 | 2019-01-01 | Rain in the morning.                                                  | rain              | 2019-01-01 07:24:00 | 2019-01-01 16:23:00 | 0.87 | 0.0170 | 0.1438 | 2019-01-01 00:00:00 | ⋯ | 281.2 | 19.16 | 2019-01-01 23:00:00 | 40.41 | 2019-01-01 10:04:00 | 10.60 | 2019-01-01 23:00:00 | 32.42 | 2019-01-01 09:35:00 |   NA |\n",
       "| 3 | 3 | 2019-01-02 | Foggy overnight.                                                      | clear-day         | 2019-01-02 07:24:00 | 2019-01-02 16:24:00 | 0.91 | 0.0011 | 0.0029 | 2019-01-02 22:28:00 | ⋯ | 340.8 | 13.54 | 2019-01-02 07:42:00 | 27.25 | 2019-01-02 14:25:00 |  8.00 | 2019-01-02 06:07:00 | 26.75 | 2019-01-02 14:25:00 | 0.40 |\n",
       "| 4 | 4 | 2019-01-03 | Snow (1–2 in.) in the morning.                                        | snow              | 2019-01-03 07:24:00 | 2019-01-03 16:25:00 | 0.94 | 0.0076 | 0.0378 | 2019-01-03 04:12:00 | ⋯ | 296.9 | 21.08 | 2019-01-03 00:56:00 | 33.96 | 2019-01-03 13:51:00 | 13.94 | 2019-01-03 03:01:00 | 29.64 | 2019-01-03 13:32:00 | 2.29 |\n",
       "| 5 | 5 | 2019-01-04 | Clear throughout the day.                                             | partly-cloudy-day | 2019-01-04 07:24:00 | 2019-01-04 16:26:00 | 0.97 | 0.0003 | 0.0016 | 2019-01-04 00:21:00 | ⋯ | 263.5 | 25.99 | 2019-01-04 04:01:00 | 41.12 | 2019-01-04 14:00:00 | 21.29 | 2019-01-04 05:58:00 | 36.60 | 2019-01-04 14:08:00 | 0.06 |\n",
       "| 6 | 6 | 2019-01-05 | Mostly cloudy throughout the day.                                     | snow              | 2019-01-05 07:24:00 | 2019-01-05 16:27:00 | 0.00 | 0.0022 | 0.0067 | 2019-01-05 12:00:00 | ⋯ | 262.2 | 22.19 | 2019-01-05 05:55:00 | 37.82 | 2019-01-05 14:16:00 | 20.94 | 2019-01-05 22:46:00 | 37.32 | 2019-01-05 14:16:00 | 0.28 |\n",
       "\n"
      ],
      "text/plain": [
       "  X Date      \n",
       "1 1 2018-12-31\n",
       "2 2 2019-01-01\n",
       "3 3 2019-01-02\n",
       "4 4 2019-01-03\n",
       "5 5 2019-01-04\n",
       "6 6 2019-01-05\n",
       "  summary                                                              \n",
       "1 Rain (with a chance of 1–3 in. of snow) in the evening and overnight.\n",
       "2 Rain in the morning.                                                 \n",
       "3 Foggy overnight.                                                     \n",
       "4 Snow (1–2 in.) in the morning.                                       \n",
       "5 Clear throughout the day.                                            \n",
       "6 Mostly cloudy throughout the day.                                    \n",
       "  icon              sunriseTime         sunsetTime          moonPhase\n",
       "1 snow              2018-12-31 07:24:00 2018-12-31 16:22:00 0.84     \n",
       "2 rain              2019-01-01 07:24:00 2019-01-01 16:23:00 0.87     \n",
       "3 clear-day         2019-01-02 07:24:00 2019-01-02 16:24:00 0.91     \n",
       "4 snow              2019-01-03 07:24:00 2019-01-03 16:25:00 0.94     \n",
       "5 partly-cloudy-day 2019-01-04 07:24:00 2019-01-04 16:26:00 0.97     \n",
       "6 snow              2019-01-05 07:24:00 2019-01-05 16:27:00 0.00     \n",
       "  precipIntensity precipIntensityMax precipIntensityMaxTime ⋯ ozone\n",
       "1 0.0111          0.1288             2018-12-31 23:00:00    ⋯ 279.6\n",
       "2 0.0170          0.1438             2019-01-01 00:00:00    ⋯ 281.2\n",
       "3 0.0011          0.0029             2019-01-02 22:28:00    ⋯ 340.8\n",
       "4 0.0076          0.0378             2019-01-03 04:12:00    ⋯ 296.9\n",
       "5 0.0003          0.0016             2019-01-04 00:21:00    ⋯ 263.5\n",
       "6 0.0022          0.0067             2019-01-05 12:00:00    ⋯ 262.2\n",
       "  temperatureMin temperatureMinTime  temperatureMax temperatureMaxTime \n",
       "1 22.12          2018-12-31 06:58:00 36.27          2018-12-31 13:52:00\n",
       "2 19.16          2019-01-01 23:00:00 40.41          2019-01-01 10:04:00\n",
       "3 13.54          2019-01-02 07:42:00 27.25          2019-01-02 14:25:00\n",
       "4 21.08          2019-01-03 00:56:00 33.96          2019-01-03 13:51:00\n",
       "5 25.99          2019-01-04 04:01:00 41.12          2019-01-04 14:00:00\n",
       "6 22.19          2019-01-05 05:55:00 37.82          2019-01-05 14:16:00\n",
       "  apparentTemperatureMin apparentTemperatureMinTime apparentTemperatureMax\n",
       "1 17.62                  2018-12-31 07:21:00        32.01                 \n",
       "2 10.60                  2019-01-01 23:00:00        32.42                 \n",
       "3  8.00                  2019-01-02 06:07:00        26.75                 \n",
       "4 13.94                  2019-01-03 03:01:00        29.64                 \n",
       "5 21.29                  2019-01-04 05:58:00        36.60                 \n",
       "6 20.94                  2019-01-05 22:46:00        37.32                 \n",
       "  apparentTemperatureMaxTime precipAccumulation\n",
       "1 2018-12-31 13:49:00        1.12              \n",
       "2 2019-01-01 09:35:00          NA              \n",
       "3 2019-01-02 14:25:00        0.40              \n",
       "4 2019-01-03 13:32:00        2.29              \n",
       "5 2019-01-04 14:08:00        0.06              \n",
       "6 2019-01-05 14:16:00        0.28              "
      ]
     },
     "metadata": {},
     "output_type": "display_data"
    }
   ],
   "source": [
    "head(df)"
   ]
  },
  {
   "cell_type": "code",
   "execution_count": 6,
   "metadata": {},
   "outputs": [
    {
     "data": {
      "text/html": [
       "<table>\n",
       "<caption>A data.frame: 6 × 41</caption>\n",
       "<thead>\n",
       "\t<tr><th></th><th scope=col>X</th><th scope=col>Date</th><th scope=col>summary</th><th scope=col>icon</th><th scope=col>sunriseTime</th><th scope=col>sunsetTime</th><th scope=col>moonPhase</th><th scope=col>precipIntensity</th><th scope=col>precipIntensityMax</th><th scope=col>precipIntensityMaxTime</th><th scope=col>⋯</th><th scope=col>ozone</th><th scope=col>temperatureMin</th><th scope=col>temperatureMinTime</th><th scope=col>temperatureMax</th><th scope=col>temperatureMaxTime</th><th scope=col>apparentTemperatureMin</th><th scope=col>apparentTemperatureMinTime</th><th scope=col>apparentTemperatureMax</th><th scope=col>apparentTemperatureMaxTime</th><th scope=col>precipAccumulation</th></tr>\n",
       "\t<tr><th></th><th scope=col>&lt;int&gt;</th><th scope=col>&lt;date&gt;</th><th scope=col>&lt;fct&gt;</th><th scope=col>&lt;fct&gt;</th><th scope=col>&lt;fct&gt;</th><th scope=col>&lt;fct&gt;</th><th scope=col>&lt;dbl&gt;</th><th scope=col>&lt;dbl&gt;</th><th scope=col>&lt;dbl&gt;</th><th scope=col>&lt;fct&gt;</th><th scope=col>⋯</th><th scope=col>&lt;dbl&gt;</th><th scope=col>&lt;dbl&gt;</th><th scope=col>&lt;fct&gt;</th><th scope=col>&lt;dbl&gt;</th><th scope=col>&lt;fct&gt;</th><th scope=col>&lt;dbl&gt;</th><th scope=col>&lt;fct&gt;</th><th scope=col>&lt;dbl&gt;</th><th scope=col>&lt;fct&gt;</th><th scope=col>&lt;dbl&gt;</th></tr>\n",
       "</thead>\n",
       "<tbody>\n",
       "\t<tr><th scope=row>583</th><td>583</td><td>2020-08-04</td><td>Rain throughout the day.         </td><td>rain             </td><td>2020-08-04 05:43:00</td><td>2020-08-04 20:09:00</td><td>0.54</td><td>0.0269</td><td>0.1134</td><td>2020-08-04 18:36:00</td><td>⋯</td><td>275.8</td><td>61.92</td><td>2020-08-04 01:25:00</td><td>71.72</td><td>2020-08-04 18:57:00</td><td>62.61</td><td>2020-08-04 01:28:00</td><td>72.47</td><td>2020-08-04 18:58:00</td><td>NA</td></tr>\n",
       "\t<tr><th scope=row>584</th><td>584</td><td>2020-08-05</td><td>Clear throughout the day.        </td><td>clear-day        </td><td>2020-08-05 05:44:00</td><td>2020-08-05 20:08:00</td><td>0.58</td><td>0.0006</td><td>0.0034</td><td>2020-08-05 00:00:00</td><td>⋯</td><td>288.6</td><td>59.36</td><td>2020-08-05 23:00:00</td><td>79.79</td><td>2020-08-05 15:13:00</td><td>59.85</td><td>2020-08-05 23:00:00</td><td>79.29</td><td>2020-08-05 15:13:00</td><td>NA</td></tr>\n",
       "\t<tr><th scope=row>585</th><td>585</td><td>2020-08-06</td><td>Clear throughout the day.        </td><td>clear-day        </td><td>2020-08-06 05:45:00</td><td>2020-08-06 20:07:00</td><td>0.61</td><td>0.0003</td><td>0.0016</td><td>2020-08-06 00:00:00</td><td>⋯</td><td>296.0</td><td>51.50</td><td>2020-08-06 05:43:00</td><td>76.81</td><td>2020-08-06 15:43:00</td><td>51.99</td><td>2020-08-06 05:43:00</td><td>76.31</td><td>2020-08-06 15:43:00</td><td>NA</td></tr>\n",
       "\t<tr><th scope=row>586</th><td>586</td><td>2020-08-07</td><td>Partly cloudy throughout the day.</td><td>partly-cloudy-day</td><td>2020-08-07 05:46:00</td><td>2020-08-07 20:05:00</td><td>0.64</td><td>0.0009</td><td>0.0053</td><td>2020-08-07 05:01:00</td><td>⋯</td><td>304.0</td><td>51.66</td><td>2020-08-07 05:22:00</td><td>79.21</td><td>2020-08-07 15:24:00</td><td>52.15</td><td>2020-08-07 05:22:00</td><td>78.71</td><td>2020-08-07 15:24:00</td><td>NA</td></tr>\n",
       "\t<tr><th scope=row>587</th><td>587</td><td>2020-08-08</td><td>Rain in the morning.             </td><td>rain             </td><td>2020-08-08 05:48:00</td><td>2020-08-08 20:04:00</td><td>0.67</td><td>0.0120</td><td>0.0569</td><td>2020-08-08 06:27:00</td><td>⋯</td><td>317.2</td><td>60.93</td><td>2020-08-08 05:45:00</td><td>80.50</td><td>2020-08-08 15:11:00</td><td>61.59</td><td>2020-08-08 05:44:00</td><td>81.26</td><td>2020-08-08 15:03:00</td><td>NA</td></tr>\n",
       "\t<tr><th scope=row>588</th><td>588</td><td>2020-08-09</td><td>Partly cloudy throughout the day.</td><td>rain             </td><td>2020-08-09 05:49:00</td><td>2020-08-09 20:02:00</td><td>0.70</td><td>0.0024</td><td>0.0093</td><td>2020-08-09 21:00:00</td><td>⋯</td><td>306.1</td><td>62.01</td><td>2020-08-09 03:50:00</td><td>83.81</td><td>2020-08-09 15:46:00</td><td>63.06</td><td>2020-08-09 03:51:00</td><td>84.23</td><td>2020-08-09 15:39:00</td><td>NA</td></tr>\n",
       "</tbody>\n",
       "</table>\n"
      ],
      "text/latex": [
       "A data.frame: 6 × 41\n",
       "\\begin{tabular}{r|lllllllllllllllllllll}\n",
       "  & X & Date & summary & icon & sunriseTime & sunsetTime & moonPhase & precipIntensity & precipIntensityMax & precipIntensityMaxTime & ⋯ & ozone & temperatureMin & temperatureMinTime & temperatureMax & temperatureMaxTime & apparentTemperatureMin & apparentTemperatureMinTime & apparentTemperatureMax & apparentTemperatureMaxTime & precipAccumulation\\\\\n",
       "  & <int> & <date> & <fct> & <fct> & <fct> & <fct> & <dbl> & <dbl> & <dbl> & <fct> & ⋯ & <dbl> & <dbl> & <fct> & <dbl> & <fct> & <dbl> & <fct> & <dbl> & <fct> & <dbl>\\\\\n",
       "\\hline\n",
       "\t583 & 583 & 2020-08-04 & Rain throughout the day.          & rain              & 2020-08-04 05:43:00 & 2020-08-04 20:09:00 & 0.54 & 0.0269 & 0.1134 & 2020-08-04 18:36:00 & ⋯ & 275.8 & 61.92 & 2020-08-04 01:25:00 & 71.72 & 2020-08-04 18:57:00 & 62.61 & 2020-08-04 01:28:00 & 72.47 & 2020-08-04 18:58:00 & NA\\\\\n",
       "\t584 & 584 & 2020-08-05 & Clear throughout the day.         & clear-day         & 2020-08-05 05:44:00 & 2020-08-05 20:08:00 & 0.58 & 0.0006 & 0.0034 & 2020-08-05 00:00:00 & ⋯ & 288.6 & 59.36 & 2020-08-05 23:00:00 & 79.79 & 2020-08-05 15:13:00 & 59.85 & 2020-08-05 23:00:00 & 79.29 & 2020-08-05 15:13:00 & NA\\\\\n",
       "\t585 & 585 & 2020-08-06 & Clear throughout the day.         & clear-day         & 2020-08-06 05:45:00 & 2020-08-06 20:07:00 & 0.61 & 0.0003 & 0.0016 & 2020-08-06 00:00:00 & ⋯ & 296.0 & 51.50 & 2020-08-06 05:43:00 & 76.81 & 2020-08-06 15:43:00 & 51.99 & 2020-08-06 05:43:00 & 76.31 & 2020-08-06 15:43:00 & NA\\\\\n",
       "\t586 & 586 & 2020-08-07 & Partly cloudy throughout the day. & partly-cloudy-day & 2020-08-07 05:46:00 & 2020-08-07 20:05:00 & 0.64 & 0.0009 & 0.0053 & 2020-08-07 05:01:00 & ⋯ & 304.0 & 51.66 & 2020-08-07 05:22:00 & 79.21 & 2020-08-07 15:24:00 & 52.15 & 2020-08-07 05:22:00 & 78.71 & 2020-08-07 15:24:00 & NA\\\\\n",
       "\t587 & 587 & 2020-08-08 & Rain in the morning.              & rain              & 2020-08-08 05:48:00 & 2020-08-08 20:04:00 & 0.67 & 0.0120 & 0.0569 & 2020-08-08 06:27:00 & ⋯ & 317.2 & 60.93 & 2020-08-08 05:45:00 & 80.50 & 2020-08-08 15:11:00 & 61.59 & 2020-08-08 05:44:00 & 81.26 & 2020-08-08 15:03:00 & NA\\\\\n",
       "\t588 & 588 & 2020-08-09 & Partly cloudy throughout the day. & rain              & 2020-08-09 05:49:00 & 2020-08-09 20:02:00 & 0.70 & 0.0024 & 0.0093 & 2020-08-09 21:00:00 & ⋯ & 306.1 & 62.01 & 2020-08-09 03:50:00 & 83.81 & 2020-08-09 15:46:00 & 63.06 & 2020-08-09 03:51:00 & 84.23 & 2020-08-09 15:39:00 & NA\\\\\n",
       "\\end{tabular}\n"
      ],
      "text/markdown": [
       "\n",
       "A data.frame: 6 × 41\n",
       "\n",
       "| <!--/--> | X &lt;int&gt; | Date &lt;date&gt; | summary &lt;fct&gt; | icon &lt;fct&gt; | sunriseTime &lt;fct&gt; | sunsetTime &lt;fct&gt; | moonPhase &lt;dbl&gt; | precipIntensity &lt;dbl&gt; | precipIntensityMax &lt;dbl&gt; | precipIntensityMaxTime &lt;fct&gt; | ⋯ ⋯ | ozone &lt;dbl&gt; | temperatureMin &lt;dbl&gt; | temperatureMinTime &lt;fct&gt; | temperatureMax &lt;dbl&gt; | temperatureMaxTime &lt;fct&gt; | apparentTemperatureMin &lt;dbl&gt; | apparentTemperatureMinTime &lt;fct&gt; | apparentTemperatureMax &lt;dbl&gt; | apparentTemperatureMaxTime &lt;fct&gt; | precipAccumulation &lt;dbl&gt; |\n",
       "|---|---|---|---|---|---|---|---|---|---|---|---|---|---|---|---|---|---|---|---|---|---|\n",
       "| 583 | 583 | 2020-08-04 | Rain throughout the day.          | rain              | 2020-08-04 05:43:00 | 2020-08-04 20:09:00 | 0.54 | 0.0269 | 0.1134 | 2020-08-04 18:36:00 | ⋯ | 275.8 | 61.92 | 2020-08-04 01:25:00 | 71.72 | 2020-08-04 18:57:00 | 62.61 | 2020-08-04 01:28:00 | 72.47 | 2020-08-04 18:58:00 | NA |\n",
       "| 584 | 584 | 2020-08-05 | Clear throughout the day.         | clear-day         | 2020-08-05 05:44:00 | 2020-08-05 20:08:00 | 0.58 | 0.0006 | 0.0034 | 2020-08-05 00:00:00 | ⋯ | 288.6 | 59.36 | 2020-08-05 23:00:00 | 79.79 | 2020-08-05 15:13:00 | 59.85 | 2020-08-05 23:00:00 | 79.29 | 2020-08-05 15:13:00 | NA |\n",
       "| 585 | 585 | 2020-08-06 | Clear throughout the day.         | clear-day         | 2020-08-06 05:45:00 | 2020-08-06 20:07:00 | 0.61 | 0.0003 | 0.0016 | 2020-08-06 00:00:00 | ⋯ | 296.0 | 51.50 | 2020-08-06 05:43:00 | 76.81 | 2020-08-06 15:43:00 | 51.99 | 2020-08-06 05:43:00 | 76.31 | 2020-08-06 15:43:00 | NA |\n",
       "| 586 | 586 | 2020-08-07 | Partly cloudy throughout the day. | partly-cloudy-day | 2020-08-07 05:46:00 | 2020-08-07 20:05:00 | 0.64 | 0.0009 | 0.0053 | 2020-08-07 05:01:00 | ⋯ | 304.0 | 51.66 | 2020-08-07 05:22:00 | 79.21 | 2020-08-07 15:24:00 | 52.15 | 2020-08-07 05:22:00 | 78.71 | 2020-08-07 15:24:00 | NA |\n",
       "| 587 | 587 | 2020-08-08 | Rain in the morning.              | rain              | 2020-08-08 05:48:00 | 2020-08-08 20:04:00 | 0.67 | 0.0120 | 0.0569 | 2020-08-08 06:27:00 | ⋯ | 317.2 | 60.93 | 2020-08-08 05:45:00 | 80.50 | 2020-08-08 15:11:00 | 61.59 | 2020-08-08 05:44:00 | 81.26 | 2020-08-08 15:03:00 | NA |\n",
       "| 588 | 588 | 2020-08-09 | Partly cloudy throughout the day. | rain              | 2020-08-09 05:49:00 | 2020-08-09 20:02:00 | 0.70 | 0.0024 | 0.0093 | 2020-08-09 21:00:00 | ⋯ | 306.1 | 62.01 | 2020-08-09 03:50:00 | 83.81 | 2020-08-09 15:46:00 | 63.06 | 2020-08-09 03:51:00 | 84.23 | 2020-08-09 15:39:00 | NA |\n",
       "\n"
      ],
      "text/plain": [
       "    X   Date       summary                           icon             \n",
       "583 583 2020-08-04 Rain throughout the day.          rain             \n",
       "584 584 2020-08-05 Clear throughout the day.         clear-day        \n",
       "585 585 2020-08-06 Clear throughout the day.         clear-day        \n",
       "586 586 2020-08-07 Partly cloudy throughout the day. partly-cloudy-day\n",
       "587 587 2020-08-08 Rain in the morning.              rain             \n",
       "588 588 2020-08-09 Partly cloudy throughout the day. rain             \n",
       "    sunriseTime         sunsetTime          moonPhase precipIntensity\n",
       "583 2020-08-04 05:43:00 2020-08-04 20:09:00 0.54      0.0269         \n",
       "584 2020-08-05 05:44:00 2020-08-05 20:08:00 0.58      0.0006         \n",
       "585 2020-08-06 05:45:00 2020-08-06 20:07:00 0.61      0.0003         \n",
       "586 2020-08-07 05:46:00 2020-08-07 20:05:00 0.64      0.0009         \n",
       "587 2020-08-08 05:48:00 2020-08-08 20:04:00 0.67      0.0120         \n",
       "588 2020-08-09 05:49:00 2020-08-09 20:02:00 0.70      0.0024         \n",
       "    precipIntensityMax precipIntensityMaxTime ⋯ ozone temperatureMin\n",
       "583 0.1134             2020-08-04 18:36:00    ⋯ 275.8 61.92         \n",
       "584 0.0034             2020-08-05 00:00:00    ⋯ 288.6 59.36         \n",
       "585 0.0016             2020-08-06 00:00:00    ⋯ 296.0 51.50         \n",
       "586 0.0053             2020-08-07 05:01:00    ⋯ 304.0 51.66         \n",
       "587 0.0569             2020-08-08 06:27:00    ⋯ 317.2 60.93         \n",
       "588 0.0093             2020-08-09 21:00:00    ⋯ 306.1 62.01         \n",
       "    temperatureMinTime  temperatureMax temperatureMaxTime \n",
       "583 2020-08-04 01:25:00 71.72          2020-08-04 18:57:00\n",
       "584 2020-08-05 23:00:00 79.79          2020-08-05 15:13:00\n",
       "585 2020-08-06 05:43:00 76.81          2020-08-06 15:43:00\n",
       "586 2020-08-07 05:22:00 79.21          2020-08-07 15:24:00\n",
       "587 2020-08-08 05:45:00 80.50          2020-08-08 15:11:00\n",
       "588 2020-08-09 03:50:00 83.81          2020-08-09 15:46:00\n",
       "    apparentTemperatureMin apparentTemperatureMinTime apparentTemperatureMax\n",
       "583 62.61                  2020-08-04 01:28:00        72.47                 \n",
       "584 59.85                  2020-08-05 23:00:00        79.29                 \n",
       "585 51.99                  2020-08-06 05:43:00        76.31                 \n",
       "586 52.15                  2020-08-07 05:22:00        78.71                 \n",
       "587 61.59                  2020-08-08 05:44:00        81.26                 \n",
       "588 63.06                  2020-08-09 03:51:00        84.23                 \n",
       "    apparentTemperatureMaxTime precipAccumulation\n",
       "583 2020-08-04 18:58:00        NA                \n",
       "584 2020-08-05 15:13:00        NA                \n",
       "585 2020-08-06 15:43:00        NA                \n",
       "586 2020-08-07 15:24:00        NA                \n",
       "587 2020-08-08 15:03:00        NA                \n",
       "588 2020-08-09 15:39:00        NA                "
      ]
     },
     "metadata": {},
     "output_type": "display_data"
    }
   ],
   "source": [
    "tail(df) "
   ]
  },
  {
   "cell_type": "markdown",
   "metadata": {},
   "source": [
    "## A1: \n",
    " <font color='red'> \n",
    "## Min: 12/31/2018\n",
    "## Max: 08/09/2020</font> \n"
   ]
  },
  {
   "cell_type": "markdown",
   "metadata": {},
   "source": [
    "# Q2: What was the mean amount of rainfall between March 21st and June 21st of 2020?\n",
    "\n",
    "## Syntax/Resource Below\n",
    "### https://davidcarslaw.github.io/openair/reference/selectByDate.html\n",
    "### https://stackoverflow.com/questions/25024510/how-to-select-some-rows-with-specific-date-from-a-data-frame-in-r (used this)\n",
    "### https://stats.idre.ucla.edu/r/faq/how-does-r-handle-missing-values/ (N/A stuff)"
   ]
  },
  {
   "cell_type": "code",
   "execution_count": 7,
   "metadata": {},
   "outputs": [],
   "source": [
    "# DONT USE \n",
    "# Select dataframes for march 21st - june 21st 2020\n",
    "#data.2020 <- selectByDate(df, start = \"2020-03-21\", end = \"2020-08-04\")"
   ]
  },
  {
   "cell_type": "code",
   "execution_count": 8,
   "metadata": {},
   "outputs": [],
   "source": [
    "# Select dataframes for march 21st - june 21st 2020\n",
    "df_2020 <- with(df, df[(Date >= \"2020-03-21\" & Date <= \"2020-08-04\"),])"
   ]
  },
  {
   "cell_type": "code",
   "execution_count": 9,
   "metadata": {},
   "outputs": [
    {
     "data": {
      "text/html": [
       "<table>\n",
       "<caption>A data.frame: 6 × 41</caption>\n",
       "<thead>\n",
       "\t<tr><th></th><th scope=col>X</th><th scope=col>Date</th><th scope=col>summary</th><th scope=col>icon</th><th scope=col>sunriseTime</th><th scope=col>sunsetTime</th><th scope=col>moonPhase</th><th scope=col>precipIntensity</th><th scope=col>precipIntensityMax</th><th scope=col>precipIntensityMaxTime</th><th scope=col>⋯</th><th scope=col>ozone</th><th scope=col>temperatureMin</th><th scope=col>temperatureMinTime</th><th scope=col>temperatureMax</th><th scope=col>temperatureMaxTime</th><th scope=col>apparentTemperatureMin</th><th scope=col>apparentTemperatureMinTime</th><th scope=col>apparentTemperatureMax</th><th scope=col>apparentTemperatureMaxTime</th><th scope=col>precipAccumulation</th></tr>\n",
       "\t<tr><th></th><th scope=col>&lt;int&gt;</th><th scope=col>&lt;date&gt;</th><th scope=col>&lt;fct&gt;</th><th scope=col>&lt;fct&gt;</th><th scope=col>&lt;fct&gt;</th><th scope=col>&lt;fct&gt;</th><th scope=col>&lt;dbl&gt;</th><th scope=col>&lt;dbl&gt;</th><th scope=col>&lt;dbl&gt;</th><th scope=col>&lt;fct&gt;</th><th scope=col>⋯</th><th scope=col>&lt;dbl&gt;</th><th scope=col>&lt;dbl&gt;</th><th scope=col>&lt;fct&gt;</th><th scope=col>&lt;dbl&gt;</th><th scope=col>&lt;fct&gt;</th><th scope=col>&lt;dbl&gt;</th><th scope=col>&lt;fct&gt;</th><th scope=col>&lt;dbl&gt;</th><th scope=col>&lt;fct&gt;</th><th scope=col>&lt;dbl&gt;</th></tr>\n",
       "</thead>\n",
       "<tbody>\n",
       "\t<tr><th scope=row>447</th><td>447</td><td>2020-03-21</td><td>Clear throughout the day.                      </td><td>partly-cloudy-day</td><td>2020-03-21 06:50:00</td><td>2020-03-21 19:04:00</td><td>0.93</td><td>0.0007</td><td>0.0032</td><td>2020-03-21 00:57:00</td><td>⋯</td><td>365.8</td><td>23.33</td><td>2020-03-21 23:00:00</td><td>46.07</td><td>2020-03-21 00:00:00</td><td>15.60</td><td>2020-03-21 23:00:00</td><td>40.29</td><td>2020-03-21 00:00:00</td><td>  NA</td></tr>\n",
       "\t<tr><th scope=row>448</th><td>448</td><td>2020-03-22</td><td>Clear throughout the day.                      </td><td>clear-day        </td><td>2020-03-22 06:48:00</td><td>2020-03-22 19:05:00</td><td>0.96</td><td>0.0005</td><td>0.0016</td><td>2020-03-22 00:00:00</td><td>⋯</td><td>362.2</td><td>16.97</td><td>2020-03-22 06:52:00</td><td>36.65</td><td>2020-03-22 16:45:00</td><td>10.47</td><td>2020-03-22 07:22:00</td><td>33.47</td><td>2020-03-22 16:31:00</td><td>0.16</td></tr>\n",
       "\t<tr><th scope=row>449</th><td>449</td><td>2020-03-23</td><td>Heavy snow (3–6 in.) starting in the afternoon.</td><td>snow             </td><td>2020-03-23 06:46:00</td><td>2020-03-23 19:06:00</td><td>0.99</td><td>0.0183</td><td>0.0914</td><td>2020-03-23 20:05:00</td><td>⋯</td><td>362.1</td><td>22.17</td><td>2020-03-23 03:01:00</td><td>35.13</td><td>2020-03-23 13:02:00</td><td>16.31</td><td>2020-03-23 06:55:00</td><td>26.35</td><td>2020-03-23 13:06:00</td><td>3.60</td></tr>\n",
       "\t<tr><th scope=row>450</th><td>450</td><td>2020-03-24</td><td>Mostly cloudy throughout the day.              </td><td>snow             </td><td>2020-03-24 06:45:00</td><td>2020-03-24 19:07:00</td><td>0.02</td><td>0.0036</td><td>0.0329</td><td>2020-03-24 00:00:00</td><td>⋯</td><td>373.7</td><td>28.12</td><td>2020-03-24 23:00:00</td><td>40.51</td><td>2020-03-24 15:41:00</td><td>24.63</td><td>2020-03-24 05:27:00</td><td>34.93</td><td>2020-03-24 15:45:00</td><td>0.56</td></tr>\n",
       "\t<tr><th scope=row>451</th><td>451</td><td>2020-03-25</td><td>Mostly cloudy throughout the day.              </td><td>partly-cloudy-day</td><td>2020-03-25 06:43:00</td><td>2020-03-25 19:09:00</td><td>0.05</td><td>0.0009</td><td>0.0057</td><td>2020-03-25 13:01:00</td><td>⋯</td><td>366.1</td><td>22.33</td><td>2020-03-25 04:47:00</td><td>43.27</td><td>2020-03-25 15:38:00</td><td>22.82</td><td>2020-03-25 04:47:00</td><td>38.36</td><td>2020-03-25 15:42:00</td><td>0.09</td></tr>\n",
       "\t<tr><th scope=row>452</th><td>452</td><td>2020-03-26</td><td>Clear throughout the day.                      </td><td>clear-day        </td><td>2020-03-26 06:41:00</td><td>2020-03-26 19:10:00</td><td>0.08</td><td>0.0005</td><td>0.0026</td><td>2020-03-26 11:30:00</td><td>⋯</td><td>401.1</td><td>23.59</td><td>2020-03-26 06:42:00</td><td>52.92</td><td>2020-03-26 15:59:00</td><td>24.08</td><td>2020-03-26 06:42:00</td><td>52.43</td><td>2020-03-26 15:58:00</td><td>0.03</td></tr>\n",
       "</tbody>\n",
       "</table>\n"
      ],
      "text/latex": [
       "A data.frame: 6 × 41\n",
       "\\begin{tabular}{r|lllllllllllllllllllll}\n",
       "  & X & Date & summary & icon & sunriseTime & sunsetTime & moonPhase & precipIntensity & precipIntensityMax & precipIntensityMaxTime & ⋯ & ozone & temperatureMin & temperatureMinTime & temperatureMax & temperatureMaxTime & apparentTemperatureMin & apparentTemperatureMinTime & apparentTemperatureMax & apparentTemperatureMaxTime & precipAccumulation\\\\\n",
       "  & <int> & <date> & <fct> & <fct> & <fct> & <fct> & <dbl> & <dbl> & <dbl> & <fct> & ⋯ & <dbl> & <dbl> & <fct> & <dbl> & <fct> & <dbl> & <fct> & <dbl> & <fct> & <dbl>\\\\\n",
       "\\hline\n",
       "\t447 & 447 & 2020-03-21 & Clear throughout the day.                       & partly-cloudy-day & 2020-03-21 06:50:00 & 2020-03-21 19:04:00 & 0.93 & 0.0007 & 0.0032 & 2020-03-21 00:57:00 & ⋯ & 365.8 & 23.33 & 2020-03-21 23:00:00 & 46.07 & 2020-03-21 00:00:00 & 15.60 & 2020-03-21 23:00:00 & 40.29 & 2020-03-21 00:00:00 &   NA\\\\\n",
       "\t448 & 448 & 2020-03-22 & Clear throughout the day.                       & clear-day         & 2020-03-22 06:48:00 & 2020-03-22 19:05:00 & 0.96 & 0.0005 & 0.0016 & 2020-03-22 00:00:00 & ⋯ & 362.2 & 16.97 & 2020-03-22 06:52:00 & 36.65 & 2020-03-22 16:45:00 & 10.47 & 2020-03-22 07:22:00 & 33.47 & 2020-03-22 16:31:00 & 0.16\\\\\n",
       "\t449 & 449 & 2020-03-23 & Heavy snow (3–6 in.) starting in the afternoon. & snow              & 2020-03-23 06:46:00 & 2020-03-23 19:06:00 & 0.99 & 0.0183 & 0.0914 & 2020-03-23 20:05:00 & ⋯ & 362.1 & 22.17 & 2020-03-23 03:01:00 & 35.13 & 2020-03-23 13:02:00 & 16.31 & 2020-03-23 06:55:00 & 26.35 & 2020-03-23 13:06:00 & 3.60\\\\\n",
       "\t450 & 450 & 2020-03-24 & Mostly cloudy throughout the day.               & snow              & 2020-03-24 06:45:00 & 2020-03-24 19:07:00 & 0.02 & 0.0036 & 0.0329 & 2020-03-24 00:00:00 & ⋯ & 373.7 & 28.12 & 2020-03-24 23:00:00 & 40.51 & 2020-03-24 15:41:00 & 24.63 & 2020-03-24 05:27:00 & 34.93 & 2020-03-24 15:45:00 & 0.56\\\\\n",
       "\t451 & 451 & 2020-03-25 & Mostly cloudy throughout the day.               & partly-cloudy-day & 2020-03-25 06:43:00 & 2020-03-25 19:09:00 & 0.05 & 0.0009 & 0.0057 & 2020-03-25 13:01:00 & ⋯ & 366.1 & 22.33 & 2020-03-25 04:47:00 & 43.27 & 2020-03-25 15:38:00 & 22.82 & 2020-03-25 04:47:00 & 38.36 & 2020-03-25 15:42:00 & 0.09\\\\\n",
       "\t452 & 452 & 2020-03-26 & Clear throughout the day.                       & clear-day         & 2020-03-26 06:41:00 & 2020-03-26 19:10:00 & 0.08 & 0.0005 & 0.0026 & 2020-03-26 11:30:00 & ⋯ & 401.1 & 23.59 & 2020-03-26 06:42:00 & 52.92 & 2020-03-26 15:59:00 & 24.08 & 2020-03-26 06:42:00 & 52.43 & 2020-03-26 15:58:00 & 0.03\\\\\n",
       "\\end{tabular}\n"
      ],
      "text/markdown": [
       "\n",
       "A data.frame: 6 × 41\n",
       "\n",
       "| <!--/--> | X &lt;int&gt; | Date &lt;date&gt; | summary &lt;fct&gt; | icon &lt;fct&gt; | sunriseTime &lt;fct&gt; | sunsetTime &lt;fct&gt; | moonPhase &lt;dbl&gt; | precipIntensity &lt;dbl&gt; | precipIntensityMax &lt;dbl&gt; | precipIntensityMaxTime &lt;fct&gt; | ⋯ ⋯ | ozone &lt;dbl&gt; | temperatureMin &lt;dbl&gt; | temperatureMinTime &lt;fct&gt; | temperatureMax &lt;dbl&gt; | temperatureMaxTime &lt;fct&gt; | apparentTemperatureMin &lt;dbl&gt; | apparentTemperatureMinTime &lt;fct&gt; | apparentTemperatureMax &lt;dbl&gt; | apparentTemperatureMaxTime &lt;fct&gt; | precipAccumulation &lt;dbl&gt; |\n",
       "|---|---|---|---|---|---|---|---|---|---|---|---|---|---|---|---|---|---|---|---|---|---|\n",
       "| 447 | 447 | 2020-03-21 | Clear throughout the day.                       | partly-cloudy-day | 2020-03-21 06:50:00 | 2020-03-21 19:04:00 | 0.93 | 0.0007 | 0.0032 | 2020-03-21 00:57:00 | ⋯ | 365.8 | 23.33 | 2020-03-21 23:00:00 | 46.07 | 2020-03-21 00:00:00 | 15.60 | 2020-03-21 23:00:00 | 40.29 | 2020-03-21 00:00:00 |   NA |\n",
       "| 448 | 448 | 2020-03-22 | Clear throughout the day.                       | clear-day         | 2020-03-22 06:48:00 | 2020-03-22 19:05:00 | 0.96 | 0.0005 | 0.0016 | 2020-03-22 00:00:00 | ⋯ | 362.2 | 16.97 | 2020-03-22 06:52:00 | 36.65 | 2020-03-22 16:45:00 | 10.47 | 2020-03-22 07:22:00 | 33.47 | 2020-03-22 16:31:00 | 0.16 |\n",
       "| 449 | 449 | 2020-03-23 | Heavy snow (3–6 in.) starting in the afternoon. | snow              | 2020-03-23 06:46:00 | 2020-03-23 19:06:00 | 0.99 | 0.0183 | 0.0914 | 2020-03-23 20:05:00 | ⋯ | 362.1 | 22.17 | 2020-03-23 03:01:00 | 35.13 | 2020-03-23 13:02:00 | 16.31 | 2020-03-23 06:55:00 | 26.35 | 2020-03-23 13:06:00 | 3.60 |\n",
       "| 450 | 450 | 2020-03-24 | Mostly cloudy throughout the day.               | snow              | 2020-03-24 06:45:00 | 2020-03-24 19:07:00 | 0.02 | 0.0036 | 0.0329 | 2020-03-24 00:00:00 | ⋯ | 373.7 | 28.12 | 2020-03-24 23:00:00 | 40.51 | 2020-03-24 15:41:00 | 24.63 | 2020-03-24 05:27:00 | 34.93 | 2020-03-24 15:45:00 | 0.56 |\n",
       "| 451 | 451 | 2020-03-25 | Mostly cloudy throughout the day.               | partly-cloudy-day | 2020-03-25 06:43:00 | 2020-03-25 19:09:00 | 0.05 | 0.0009 | 0.0057 | 2020-03-25 13:01:00 | ⋯ | 366.1 | 22.33 | 2020-03-25 04:47:00 | 43.27 | 2020-03-25 15:38:00 | 22.82 | 2020-03-25 04:47:00 | 38.36 | 2020-03-25 15:42:00 | 0.09 |\n",
       "| 452 | 452 | 2020-03-26 | Clear throughout the day.                       | clear-day         | 2020-03-26 06:41:00 | 2020-03-26 19:10:00 | 0.08 | 0.0005 | 0.0026 | 2020-03-26 11:30:00 | ⋯ | 401.1 | 23.59 | 2020-03-26 06:42:00 | 52.92 | 2020-03-26 15:59:00 | 24.08 | 2020-03-26 06:42:00 | 52.43 | 2020-03-26 15:58:00 | 0.03 |\n",
       "\n"
      ],
      "text/plain": [
       "    X   Date       summary                                        \n",
       "447 447 2020-03-21 Clear throughout the day.                      \n",
       "448 448 2020-03-22 Clear throughout the day.                      \n",
       "449 449 2020-03-23 Heavy snow (3–6 in.) starting in the afternoon.\n",
       "450 450 2020-03-24 Mostly cloudy throughout the day.              \n",
       "451 451 2020-03-25 Mostly cloudy throughout the day.              \n",
       "452 452 2020-03-26 Clear throughout the day.                      \n",
       "    icon              sunriseTime         sunsetTime          moonPhase\n",
       "447 partly-cloudy-day 2020-03-21 06:50:00 2020-03-21 19:04:00 0.93     \n",
       "448 clear-day         2020-03-22 06:48:00 2020-03-22 19:05:00 0.96     \n",
       "449 snow              2020-03-23 06:46:00 2020-03-23 19:06:00 0.99     \n",
       "450 snow              2020-03-24 06:45:00 2020-03-24 19:07:00 0.02     \n",
       "451 partly-cloudy-day 2020-03-25 06:43:00 2020-03-25 19:09:00 0.05     \n",
       "452 clear-day         2020-03-26 06:41:00 2020-03-26 19:10:00 0.08     \n",
       "    precipIntensity precipIntensityMax precipIntensityMaxTime ⋯ ozone\n",
       "447 0.0007          0.0032             2020-03-21 00:57:00    ⋯ 365.8\n",
       "448 0.0005          0.0016             2020-03-22 00:00:00    ⋯ 362.2\n",
       "449 0.0183          0.0914             2020-03-23 20:05:00    ⋯ 362.1\n",
       "450 0.0036          0.0329             2020-03-24 00:00:00    ⋯ 373.7\n",
       "451 0.0009          0.0057             2020-03-25 13:01:00    ⋯ 366.1\n",
       "452 0.0005          0.0026             2020-03-26 11:30:00    ⋯ 401.1\n",
       "    temperatureMin temperatureMinTime  temperatureMax temperatureMaxTime \n",
       "447 23.33          2020-03-21 23:00:00 46.07          2020-03-21 00:00:00\n",
       "448 16.97          2020-03-22 06:52:00 36.65          2020-03-22 16:45:00\n",
       "449 22.17          2020-03-23 03:01:00 35.13          2020-03-23 13:02:00\n",
       "450 28.12          2020-03-24 23:00:00 40.51          2020-03-24 15:41:00\n",
       "451 22.33          2020-03-25 04:47:00 43.27          2020-03-25 15:38:00\n",
       "452 23.59          2020-03-26 06:42:00 52.92          2020-03-26 15:59:00\n",
       "    apparentTemperatureMin apparentTemperatureMinTime apparentTemperatureMax\n",
       "447 15.60                  2020-03-21 23:00:00        40.29                 \n",
       "448 10.47                  2020-03-22 07:22:00        33.47                 \n",
       "449 16.31                  2020-03-23 06:55:00        26.35                 \n",
       "450 24.63                  2020-03-24 05:27:00        34.93                 \n",
       "451 22.82                  2020-03-25 04:47:00        38.36                 \n",
       "452 24.08                  2020-03-26 06:42:00        52.43                 \n",
       "    apparentTemperatureMaxTime precipAccumulation\n",
       "447 2020-03-21 00:00:00          NA              \n",
       "448 2020-03-22 16:31:00        0.16              \n",
       "449 2020-03-23 13:06:00        3.60              \n",
       "450 2020-03-24 15:45:00        0.56              \n",
       "451 2020-03-25 15:42:00        0.09              \n",
       "452 2020-03-26 15:58:00        0.03              "
      ]
     },
     "metadata": {},
     "output_type": "display_data"
    }
   ],
   "source": [
    "head(df_2020)"
   ]
  },
  {
   "cell_type": "code",
   "execution_count": 10,
   "metadata": {},
   "outputs": [
    {
     "data": {
      "text/html": [
       "0.381904761904762"
      ],
      "text/latex": [
       "0.381904761904762"
      ],
      "text/markdown": [
       "0.381904761904762"
      ],
      "text/plain": [
       "[1] 0.3819048"
      ]
     },
     "metadata": {},
     "output_type": "display_data"
    }
   ],
   "source": [
    "mean(df_2020$precipAccumulation,  na.rm = TRUE) # find mean and ignore N/A's"
   ]
  },
  {
   "cell_type": "code",
   "execution_count": 11,
   "metadata": {},
   "outputs": [
    {
     "data": {
      "text/html": [
       "0.828514447958628"
      ],
      "text/latex": [
       "0.828514447958628"
      ],
      "text/markdown": [
       "0.828514447958628"
      ],
      "text/plain": [
       "[1] 0.8285144"
      ]
     },
     "metadata": {},
     "output_type": "display_data"
    }
   ],
   "source": [
    "sd(df_2020$precipAccumulation,  na.rm = TRUE)"
   ]
  },
  {
   "cell_type": "markdown",
   "metadata": {},
   "source": [
    "## A2: \n",
    " <font color='red'> \n",
    "## Mean: 0.38\n",
    "## Stdev: .83\n",
    "</font> "
   ]
  },
  {
   "cell_type": "markdown",
   "metadata": {},
   "source": [
    "# Q3: How many days has it rained in 2020 (as far as data is collected)?\n"
   ]
  },
  {
   "cell_type": "code",
   "execution_count": 12,
   "metadata": {},
   "outputs": [
    {
     "data": {
      "text/plain": [
       "   Min. 1st Qu.  Median    Mean 3rd Qu.    Max.    NA's \n",
       " 0.0200  0.1125  0.2100  0.6110  0.4075  5.4700     135 "
      ]
     },
     "metadata": {},
     "output_type": "display_data"
    },
    {
     "data": {
      "text/html": [
       "217"
      ],
      "text/latex": [
       "217"
      ],
      "text/markdown": [
       "217"
      ],
      "text/plain": [
       "[1] 217"
      ]
     },
     "metadata": {},
     "output_type": "display_data"
    }
   ],
   "source": [
    "df_2020_all <- with(df, df[(Date >= \"2020-01-01\" & Date <= \"2020-08-04\"),])\n",
    "summary(df_2020_all$precipAccumulation) # look a how many N/A values are in the precipAccumulation column\n",
    "nrow(df_2020_all)\n",
    "# number of day's it has rained = 217 - 135 = 82"
   ]
  },
  {
   "cell_type": "markdown",
   "metadata": {},
   "source": [
    "## A3: \n",
    " <font color='red'> \n",
    "## Days it has rained in 2020: 82\n",
    "</font> "
   ]
  },
  {
   "cell_type": "markdown",
   "metadata": {},
   "source": [
    "# Q4: Use the following to create a new column called season in the data. Use the 'time2season' function in the 'hydroTSM' library to create a new column called season in your data frame. Report the median low temperature this past winter.\n",
    "\n",
    "## Syntax/Resources Below https://www.rdocumentation.org/packages/hydroTSM/versions/0.2-0/topics/time2season"
   ]
  },
  {
   "cell_type": "code",
   "execution_count": 13,
   "metadata": {},
   "outputs": [
    {
     "name": "stderr",
     "output_type": "stream",
     "text": [
      "Installing package into ‘/Users/valazeinali/Library/R/3.6/library’\n",
      "(as ‘lib’ is unspecified)\n",
      "\n"
     ]
    },
    {
     "name": "stdout",
     "output_type": "stream",
     "text": [
      "\n",
      "The downloaded binary packages are in\n",
      "\t/var/folders/bx/dp3pc2gx453dz73c35_y9_8h0000gn/T//RtmpygwbfY/downloaded_packages\n"
     ]
    },
    {
     "name": "stderr",
     "output_type": "stream",
     "text": [
      "Installing package into ‘/Users/valazeinali/Library/R/3.6/library’\n",
      "(as ‘lib’ is unspecified)\n",
      "\n"
     ]
    },
    {
     "name": "stdout",
     "output_type": "stream",
     "text": [
      "\n",
      "The downloaded binary packages are in\n",
      "\t/var/folders/bx/dp3pc2gx453dz73c35_y9_8h0000gn/T//RtmpygwbfY/downloaded_packages\n"
     ]
    }
   ],
   "source": [
    "install.packages(\"hydroTSM\", repos='http://cran.us.r-project.org')\n",
    "install.packages(\"diptest\", repos='http://cran.us.r-project.org')\n"
   ]
  },
  {
   "cell_type": "code",
   "execution_count": 14,
   "metadata": {},
   "outputs": [
    {
     "ename": "ERROR",
     "evalue": "Error in dip(\"2018-12-31\", \"2020-08-09\", date.fmt = \"%Y-%m-%d\", out.type = \"seq\"): could not find function \"dip\"\n",
     "output_type": "error",
     "traceback": [
      "Error in dip(\"2018-12-31\", \"2020-08-09\", date.fmt = \"%Y-%m-%d\", out.type = \"seq\"): could not find function \"dip\"\nTraceback:\n"
     ]
    }
   ],
   "source": [
    "## Sequence of daily dates between \"2018-12-31\" and \"2020-08-09\", labeling them with seasons\n",
    "df$season <- dip(\"2018-12-31\", \"2020-08-09\",date.fmt = \"%Y-%m-%d\", out.type = \"seq\")\n",
    "df$season = time2season(df$season)\n",
    "\n",
    "## IGNORE THE ERROR IT WORKS!!!!"
   ]
  },
  {
   "cell_type": "code",
   "execution_count": 15,
   "metadata": {},
   "outputs": [
    {
     "data": {
      "text/html": [
       "20.59"
      ],
      "text/latex": [
       "20.59"
      ],
      "text/markdown": [
       "20.59"
      ],
      "text/plain": [
       "[1] 20.59"
      ]
     },
     "metadata": {},
     "output_type": "display_data"
    }
   ],
   "source": [
    "# I couldnt get the hydrotsm to connect\n",
    "df_2020_winter <- with(df, df[(Date >= \"2019-12-01\" & Date <= \"2020-02-29\"),])\n",
    "median(df_2020_winter$temperatureLow, na.rm = FALSE)\n",
    "# Output 20.59"
   ]
  },
  {
   "cell_type": "markdown",
   "metadata": {},
   "source": [
    "## A4: \n",
    " <font color='red'> \n",
    "## Median: 20.59\n",
    "</font> "
   ]
  },
  {
   "cell_type": "markdown",
   "metadata": {},
   "source": [
    "# Q5: Create a function called \"niceDayCalc\" that accepts icon, high temperature, and dew point. Your function should classify any given day as \"Nice\" if it was clear or partly cloudy, high temperature was between 62 and 82 degrees, and dew point was below 70. Otherwise, return \"Not Nice\". Paste your function below. How many nice days are there?"
   ]
  },
  {
   "cell_type": "code",
   "execution_count": 16,
   "metadata": {},
   "outputs": [],
   "source": [
    "niceDayCalc <- function(df){\n",
    "  df$condition <- ifelse(df$icon == \"clear-day\" | df$icon == \"partly-cloudy-day\",TRUE,FALSE )\n",
    "  df$temp <- ifelse(df$temperatureHigh >= 62 & df$temperatureHigh <= 82, TRUE, FALSE)\n",
    "  df$dew <- ifelse(df$dewPoint <= 70, TRUE, FALSE)\n",
    "  df$nice_or_not <- ifelse(df$condition == TRUE & df$temp == TRUE & df$dew == TRUE, \"NICE\",\"NOT NICE\")\n",
    "    \n",
    "  return(df)\n",
    "}"
   ]
  },
  {
   "cell_type": "code",
   "execution_count": 17,
   "metadata": {},
   "outputs": [],
   "source": [
    "niceWeather <- niceDayCalc(df)"
   ]
  },
  {
   "cell_type": "code",
   "execution_count": 18,
   "metadata": {},
   "outputs": [
    {
     "data": {
      "text/html": [
       "<table>\n",
       "<caption>A data.frame: 6 × 45</caption>\n",
       "<thead>\n",
       "\t<tr><th></th><th scope=col>X</th><th scope=col>Date</th><th scope=col>summary</th><th scope=col>icon</th><th scope=col>sunriseTime</th><th scope=col>sunsetTime</th><th scope=col>moonPhase</th><th scope=col>precipIntensity</th><th scope=col>precipIntensityMax</th><th scope=col>precipIntensityMaxTime</th><th scope=col>⋯</th><th scope=col>temperatureMaxTime</th><th scope=col>apparentTemperatureMin</th><th scope=col>apparentTemperatureMinTime</th><th scope=col>apparentTemperatureMax</th><th scope=col>apparentTemperatureMaxTime</th><th scope=col>precipAccumulation</th><th scope=col>condition</th><th scope=col>temp</th><th scope=col>dew</th><th scope=col>nice_or_not</th></tr>\n",
       "\t<tr><th></th><th scope=col>&lt;int&gt;</th><th scope=col>&lt;date&gt;</th><th scope=col>&lt;fct&gt;</th><th scope=col>&lt;fct&gt;</th><th scope=col>&lt;fct&gt;</th><th scope=col>&lt;fct&gt;</th><th scope=col>&lt;dbl&gt;</th><th scope=col>&lt;dbl&gt;</th><th scope=col>&lt;dbl&gt;</th><th scope=col>&lt;fct&gt;</th><th scope=col>⋯</th><th scope=col>&lt;fct&gt;</th><th scope=col>&lt;dbl&gt;</th><th scope=col>&lt;fct&gt;</th><th scope=col>&lt;dbl&gt;</th><th scope=col>&lt;fct&gt;</th><th scope=col>&lt;dbl&gt;</th><th scope=col>&lt;lgl&gt;</th><th scope=col>&lt;lgl&gt;</th><th scope=col>&lt;lgl&gt;</th><th scope=col>&lt;chr&gt;</th></tr>\n",
       "</thead>\n",
       "<tbody>\n",
       "\t<tr><th scope=row>1</th><td>1</td><td>2018-12-31</td><td>Rain (with a chance of 1–3 in. of snow) in the evening and overnight.</td><td>snow             </td><td>2018-12-31 07:24:00</td><td>2018-12-31 16:22:00</td><td>0.84</td><td>0.0111</td><td>0.1288</td><td>2018-12-31 23:00:00</td><td>⋯</td><td>2018-12-31 13:52:00</td><td>17.62</td><td>2018-12-31 07:21:00</td><td>32.01</td><td>2018-12-31 13:49:00</td><td>1.12</td><td>FALSE</td><td>FALSE</td><td>TRUE</td><td>NOT NICE</td></tr>\n",
       "\t<tr><th scope=row>2</th><td>2</td><td>2019-01-01</td><td>Rain in the morning.                                                 </td><td>rain             </td><td>2019-01-01 07:24:00</td><td>2019-01-01 16:23:00</td><td>0.87</td><td>0.0170</td><td>0.1438</td><td>2019-01-01 00:00:00</td><td>⋯</td><td>2019-01-01 10:04:00</td><td>10.60</td><td>2019-01-01 23:00:00</td><td>32.42</td><td>2019-01-01 09:35:00</td><td>  NA</td><td>FALSE</td><td>FALSE</td><td>TRUE</td><td>NOT NICE</td></tr>\n",
       "\t<tr><th scope=row>3</th><td>3</td><td>2019-01-02</td><td>Foggy overnight.                                                     </td><td>clear-day        </td><td>2019-01-02 07:24:00</td><td>2019-01-02 16:24:00</td><td>0.91</td><td>0.0011</td><td>0.0029</td><td>2019-01-02 22:28:00</td><td>⋯</td><td>2019-01-02 14:25:00</td><td> 8.00</td><td>2019-01-02 06:07:00</td><td>26.75</td><td>2019-01-02 14:25:00</td><td>0.40</td><td> TRUE</td><td>FALSE</td><td>TRUE</td><td>NOT NICE</td></tr>\n",
       "\t<tr><th scope=row>4</th><td>4</td><td>2019-01-03</td><td>Snow (1–2 in.) in the morning.                                       </td><td>snow             </td><td>2019-01-03 07:24:00</td><td>2019-01-03 16:25:00</td><td>0.94</td><td>0.0076</td><td>0.0378</td><td>2019-01-03 04:12:00</td><td>⋯</td><td>2019-01-03 13:51:00</td><td>13.94</td><td>2019-01-03 03:01:00</td><td>29.64</td><td>2019-01-03 13:32:00</td><td>2.29</td><td>FALSE</td><td>FALSE</td><td>TRUE</td><td>NOT NICE</td></tr>\n",
       "\t<tr><th scope=row>5</th><td>5</td><td>2019-01-04</td><td>Clear throughout the day.                                            </td><td>partly-cloudy-day</td><td>2019-01-04 07:24:00</td><td>2019-01-04 16:26:00</td><td>0.97</td><td>0.0003</td><td>0.0016</td><td>2019-01-04 00:21:00</td><td>⋯</td><td>2019-01-04 14:00:00</td><td>21.29</td><td>2019-01-04 05:58:00</td><td>36.60</td><td>2019-01-04 14:08:00</td><td>0.06</td><td> TRUE</td><td>FALSE</td><td>TRUE</td><td>NOT NICE</td></tr>\n",
       "\t<tr><th scope=row>6</th><td>6</td><td>2019-01-05</td><td>Mostly cloudy throughout the day.                                    </td><td>snow             </td><td>2019-01-05 07:24:00</td><td>2019-01-05 16:27:00</td><td>0.00</td><td>0.0022</td><td>0.0067</td><td>2019-01-05 12:00:00</td><td>⋯</td><td>2019-01-05 14:16:00</td><td>20.94</td><td>2019-01-05 22:46:00</td><td>37.32</td><td>2019-01-05 14:16:00</td><td>0.28</td><td>FALSE</td><td>FALSE</td><td>TRUE</td><td>NOT NICE</td></tr>\n",
       "</tbody>\n",
       "</table>\n"
      ],
      "text/latex": [
       "A data.frame: 6 × 45\n",
       "\\begin{tabular}{r|lllllllllllllllllllll}\n",
       "  & X & Date & summary & icon & sunriseTime & sunsetTime & moonPhase & precipIntensity & precipIntensityMax & precipIntensityMaxTime & ⋯ & temperatureMaxTime & apparentTemperatureMin & apparentTemperatureMinTime & apparentTemperatureMax & apparentTemperatureMaxTime & precipAccumulation & condition & temp & dew & nice\\_or\\_not\\\\\n",
       "  & <int> & <date> & <fct> & <fct> & <fct> & <fct> & <dbl> & <dbl> & <dbl> & <fct> & ⋯ & <fct> & <dbl> & <fct> & <dbl> & <fct> & <dbl> & <lgl> & <lgl> & <lgl> & <chr>\\\\\n",
       "\\hline\n",
       "\t1 & 1 & 2018-12-31 & Rain (with a chance of 1–3 in. of snow) in the evening and overnight. & snow              & 2018-12-31 07:24:00 & 2018-12-31 16:22:00 & 0.84 & 0.0111 & 0.1288 & 2018-12-31 23:00:00 & ⋯ & 2018-12-31 13:52:00 & 17.62 & 2018-12-31 07:21:00 & 32.01 & 2018-12-31 13:49:00 & 1.12 & FALSE & FALSE & TRUE & NOT NICE\\\\\n",
       "\t2 & 2 & 2019-01-01 & Rain in the morning.                                                  & rain              & 2019-01-01 07:24:00 & 2019-01-01 16:23:00 & 0.87 & 0.0170 & 0.1438 & 2019-01-01 00:00:00 & ⋯ & 2019-01-01 10:04:00 & 10.60 & 2019-01-01 23:00:00 & 32.42 & 2019-01-01 09:35:00 &   NA & FALSE & FALSE & TRUE & NOT NICE\\\\\n",
       "\t3 & 3 & 2019-01-02 & Foggy overnight.                                                      & clear-day         & 2019-01-02 07:24:00 & 2019-01-02 16:24:00 & 0.91 & 0.0011 & 0.0029 & 2019-01-02 22:28:00 & ⋯ & 2019-01-02 14:25:00 &  8.00 & 2019-01-02 06:07:00 & 26.75 & 2019-01-02 14:25:00 & 0.40 &  TRUE & FALSE & TRUE & NOT NICE\\\\\n",
       "\t4 & 4 & 2019-01-03 & Snow (1–2 in.) in the morning.                                        & snow              & 2019-01-03 07:24:00 & 2019-01-03 16:25:00 & 0.94 & 0.0076 & 0.0378 & 2019-01-03 04:12:00 & ⋯ & 2019-01-03 13:51:00 & 13.94 & 2019-01-03 03:01:00 & 29.64 & 2019-01-03 13:32:00 & 2.29 & FALSE & FALSE & TRUE & NOT NICE\\\\\n",
       "\t5 & 5 & 2019-01-04 & Clear throughout the day.                                             & partly-cloudy-day & 2019-01-04 07:24:00 & 2019-01-04 16:26:00 & 0.97 & 0.0003 & 0.0016 & 2019-01-04 00:21:00 & ⋯ & 2019-01-04 14:00:00 & 21.29 & 2019-01-04 05:58:00 & 36.60 & 2019-01-04 14:08:00 & 0.06 &  TRUE & FALSE & TRUE & NOT NICE\\\\\n",
       "\t6 & 6 & 2019-01-05 & Mostly cloudy throughout the day.                                     & snow              & 2019-01-05 07:24:00 & 2019-01-05 16:27:00 & 0.00 & 0.0022 & 0.0067 & 2019-01-05 12:00:00 & ⋯ & 2019-01-05 14:16:00 & 20.94 & 2019-01-05 22:46:00 & 37.32 & 2019-01-05 14:16:00 & 0.28 & FALSE & FALSE & TRUE & NOT NICE\\\\\n",
       "\\end{tabular}\n"
      ],
      "text/markdown": [
       "\n",
       "A data.frame: 6 × 45\n",
       "\n",
       "| <!--/--> | X &lt;int&gt; | Date &lt;date&gt; | summary &lt;fct&gt; | icon &lt;fct&gt; | sunriseTime &lt;fct&gt; | sunsetTime &lt;fct&gt; | moonPhase &lt;dbl&gt; | precipIntensity &lt;dbl&gt; | precipIntensityMax &lt;dbl&gt; | precipIntensityMaxTime &lt;fct&gt; | ⋯ ⋯ | temperatureMaxTime &lt;fct&gt; | apparentTemperatureMin &lt;dbl&gt; | apparentTemperatureMinTime &lt;fct&gt; | apparentTemperatureMax &lt;dbl&gt; | apparentTemperatureMaxTime &lt;fct&gt; | precipAccumulation &lt;dbl&gt; | condition &lt;lgl&gt; | temp &lt;lgl&gt; | dew &lt;lgl&gt; | nice_or_not &lt;chr&gt; |\n",
       "|---|---|---|---|---|---|---|---|---|---|---|---|---|---|---|---|---|---|---|---|---|---|\n",
       "| 1 | 1 | 2018-12-31 | Rain (with a chance of 1–3 in. of snow) in the evening and overnight. | snow              | 2018-12-31 07:24:00 | 2018-12-31 16:22:00 | 0.84 | 0.0111 | 0.1288 | 2018-12-31 23:00:00 | ⋯ | 2018-12-31 13:52:00 | 17.62 | 2018-12-31 07:21:00 | 32.01 | 2018-12-31 13:49:00 | 1.12 | FALSE | FALSE | TRUE | NOT NICE |\n",
       "| 2 | 2 | 2019-01-01 | Rain in the morning.                                                  | rain              | 2019-01-01 07:24:00 | 2019-01-01 16:23:00 | 0.87 | 0.0170 | 0.1438 | 2019-01-01 00:00:00 | ⋯ | 2019-01-01 10:04:00 | 10.60 | 2019-01-01 23:00:00 | 32.42 | 2019-01-01 09:35:00 |   NA | FALSE | FALSE | TRUE | NOT NICE |\n",
       "| 3 | 3 | 2019-01-02 | Foggy overnight.                                                      | clear-day         | 2019-01-02 07:24:00 | 2019-01-02 16:24:00 | 0.91 | 0.0011 | 0.0029 | 2019-01-02 22:28:00 | ⋯ | 2019-01-02 14:25:00 |  8.00 | 2019-01-02 06:07:00 | 26.75 | 2019-01-02 14:25:00 | 0.40 |  TRUE | FALSE | TRUE | NOT NICE |\n",
       "| 4 | 4 | 2019-01-03 | Snow (1–2 in.) in the morning.                                        | snow              | 2019-01-03 07:24:00 | 2019-01-03 16:25:00 | 0.94 | 0.0076 | 0.0378 | 2019-01-03 04:12:00 | ⋯ | 2019-01-03 13:51:00 | 13.94 | 2019-01-03 03:01:00 | 29.64 | 2019-01-03 13:32:00 | 2.29 | FALSE | FALSE | TRUE | NOT NICE |\n",
       "| 5 | 5 | 2019-01-04 | Clear throughout the day.                                             | partly-cloudy-day | 2019-01-04 07:24:00 | 2019-01-04 16:26:00 | 0.97 | 0.0003 | 0.0016 | 2019-01-04 00:21:00 | ⋯ | 2019-01-04 14:00:00 | 21.29 | 2019-01-04 05:58:00 | 36.60 | 2019-01-04 14:08:00 | 0.06 |  TRUE | FALSE | TRUE | NOT NICE |\n",
       "| 6 | 6 | 2019-01-05 | Mostly cloudy throughout the day.                                     | snow              | 2019-01-05 07:24:00 | 2019-01-05 16:27:00 | 0.00 | 0.0022 | 0.0067 | 2019-01-05 12:00:00 | ⋯ | 2019-01-05 14:16:00 | 20.94 | 2019-01-05 22:46:00 | 37.32 | 2019-01-05 14:16:00 | 0.28 | FALSE | FALSE | TRUE | NOT NICE |\n",
       "\n"
      ],
      "text/plain": [
       "  X Date      \n",
       "1 1 2018-12-31\n",
       "2 2 2019-01-01\n",
       "3 3 2019-01-02\n",
       "4 4 2019-01-03\n",
       "5 5 2019-01-04\n",
       "6 6 2019-01-05\n",
       "  summary                                                              \n",
       "1 Rain (with a chance of 1–3 in. of snow) in the evening and overnight.\n",
       "2 Rain in the morning.                                                 \n",
       "3 Foggy overnight.                                                     \n",
       "4 Snow (1–2 in.) in the morning.                                       \n",
       "5 Clear throughout the day.                                            \n",
       "6 Mostly cloudy throughout the day.                                    \n",
       "  icon              sunriseTime         sunsetTime          moonPhase\n",
       "1 snow              2018-12-31 07:24:00 2018-12-31 16:22:00 0.84     \n",
       "2 rain              2019-01-01 07:24:00 2019-01-01 16:23:00 0.87     \n",
       "3 clear-day         2019-01-02 07:24:00 2019-01-02 16:24:00 0.91     \n",
       "4 snow              2019-01-03 07:24:00 2019-01-03 16:25:00 0.94     \n",
       "5 partly-cloudy-day 2019-01-04 07:24:00 2019-01-04 16:26:00 0.97     \n",
       "6 snow              2019-01-05 07:24:00 2019-01-05 16:27:00 0.00     \n",
       "  precipIntensity precipIntensityMax precipIntensityMaxTime ⋯\n",
       "1 0.0111          0.1288             2018-12-31 23:00:00    ⋯\n",
       "2 0.0170          0.1438             2019-01-01 00:00:00    ⋯\n",
       "3 0.0011          0.0029             2019-01-02 22:28:00    ⋯\n",
       "4 0.0076          0.0378             2019-01-03 04:12:00    ⋯\n",
       "5 0.0003          0.0016             2019-01-04 00:21:00    ⋯\n",
       "6 0.0022          0.0067             2019-01-05 12:00:00    ⋯\n",
       "  temperatureMaxTime  apparentTemperatureMin apparentTemperatureMinTime\n",
       "1 2018-12-31 13:52:00 17.62                  2018-12-31 07:21:00       \n",
       "2 2019-01-01 10:04:00 10.60                  2019-01-01 23:00:00       \n",
       "3 2019-01-02 14:25:00  8.00                  2019-01-02 06:07:00       \n",
       "4 2019-01-03 13:51:00 13.94                  2019-01-03 03:01:00       \n",
       "5 2019-01-04 14:00:00 21.29                  2019-01-04 05:58:00       \n",
       "6 2019-01-05 14:16:00 20.94                  2019-01-05 22:46:00       \n",
       "  apparentTemperatureMax apparentTemperatureMaxTime precipAccumulation\n",
       "1 32.01                  2018-12-31 13:49:00        1.12              \n",
       "2 32.42                  2019-01-01 09:35:00          NA              \n",
       "3 26.75                  2019-01-02 14:25:00        0.40              \n",
       "4 29.64                  2019-01-03 13:32:00        2.29              \n",
       "5 36.60                  2019-01-04 14:08:00        0.06              \n",
       "6 37.32                  2019-01-05 14:16:00        0.28              \n",
       "  condition temp  dew  nice_or_not\n",
       "1 FALSE     FALSE TRUE NOT NICE   \n",
       "2 FALSE     FALSE TRUE NOT NICE   \n",
       "3  TRUE     FALSE TRUE NOT NICE   \n",
       "4 FALSE     FALSE TRUE NOT NICE   \n",
       "5  TRUE     FALSE TRUE NOT NICE   \n",
       "6 FALSE     FALSE TRUE NOT NICE   "
      ]
     },
     "metadata": {},
     "output_type": "display_data"
    }
   ],
   "source": [
    "head(niceWeather)"
   ]
  },
  {
   "cell_type": "code",
   "execution_count": 19,
   "metadata": {},
   "outputs": [
    {
     "data": {
      "text/plain": [
       "\n",
       "    NICE NOT NICE \n",
       "     103      485 "
      ]
     },
     "metadata": {},
     "output_type": "display_data"
    }
   ],
   "source": [
    "#  Number of nice days vs not nice \n",
    "table(niceWeather$nice_or_not)"
   ]
  },
  {
   "cell_type": "markdown",
   "metadata": {},
   "source": [
    "## A5: \n",
    " <font color='red'> \n",
    "## Number of Nice Days: 103\n",
    "</font> "
   ]
  },
  {
   "cell_type": "code",
   "execution_count": null,
   "metadata": {},
   "outputs": [],
   "source": []
  }
 ],
 "metadata": {
  "kernelspec": {
   "display_name": "R",
   "language": "R",
   "name": "ir"
  },
  "language_info": {
   "codemirror_mode": "r",
   "file_extension": ".r",
   "mimetype": "text/x-r-source",
   "name": "R",
   "pygments_lexer": "r",
   "version": "3.6.0"
  }
 },
 "nbformat": 4,
 "nbformat_minor": 4
}
