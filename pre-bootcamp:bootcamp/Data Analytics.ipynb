{
 "cells": [
  {
   "cell_type": "markdown",
   "metadata": {},
   "source": [
    "# Q1: Load in the first fit bit dataset. Describe each column below"
   ]
  },
  {
   "cell_type": "code",
   "execution_count": 1,
   "metadata": {},
   "outputs": [],
   "source": [
    "df = read.csv(\"intraday_fitbit.csv\")"
   ]
  },
  {
   "cell_type": "code",
   "execution_count": 2,
   "metadata": {},
   "outputs": [
    {
     "data": {
      "text/html": [
       "<table>\n",
       "<caption>A data.frame: 6 × 6</caption>\n",
       "<thead>\n",
       "\t<tr><th></th><th scope=col>Time</th><th scope=col>steps</th><th scope=col>calories</th><th scope=col>floors</th><th scope=col>distance</th><th scope=col>heart</th></tr>\n",
       "\t<tr><th></th><th scope=col>&lt;fct&gt;</th><th scope=col>&lt;int&gt;</th><th scope=col>&lt;dbl&gt;</th><th scope=col>&lt;int&gt;</th><th scope=col>&lt;dbl&gt;</th><th scope=col>&lt;int&gt;</th></tr>\n",
       "</thead>\n",
       "<tbody>\n",
       "\t<tr><th scope=row>1</th><td>00:00:00</td><td>0</td><td>1.16640</td><td>0</td><td>0</td><td>64</td></tr>\n",
       "\t<tr><th scope=row>2</th><td>00:01:00</td><td>0</td><td>1.16640</td><td>0</td><td>0</td><td>65</td></tr>\n",
       "\t<tr><th scope=row>3</th><td>00:02:00</td><td>0</td><td>1.39968</td><td>0</td><td>0</td><td>70</td></tr>\n",
       "\t<tr><th scope=row>4</th><td>00:03:00</td><td>0</td><td>1.16640</td><td>0</td><td>0</td><td>66</td></tr>\n",
       "\t<tr><th scope=row>5</th><td>00:04:00</td><td>0</td><td>1.16640</td><td>0</td><td>0</td><td>65</td></tr>\n",
       "\t<tr><th scope=row>6</th><td>00:05:00</td><td>0</td><td>1.16640</td><td>0</td><td>0</td><td>62</td></tr>\n",
       "</tbody>\n",
       "</table>\n"
      ],
      "text/latex": [
       "A data.frame: 6 × 6\n",
       "\\begin{tabular}{r|llllll}\n",
       "  & Time & steps & calories & floors & distance & heart\\\\\n",
       "  & <fct> & <int> & <dbl> & <int> & <dbl> & <int>\\\\\n",
       "\\hline\n",
       "\t1 & 00:00:00 & 0 & 1.16640 & 0 & 0 & 64\\\\\n",
       "\t2 & 00:01:00 & 0 & 1.16640 & 0 & 0 & 65\\\\\n",
       "\t3 & 00:02:00 & 0 & 1.39968 & 0 & 0 & 70\\\\\n",
       "\t4 & 00:03:00 & 0 & 1.16640 & 0 & 0 & 66\\\\\n",
       "\t5 & 00:04:00 & 0 & 1.16640 & 0 & 0 & 65\\\\\n",
       "\t6 & 00:05:00 & 0 & 1.16640 & 0 & 0 & 62\\\\\n",
       "\\end{tabular}\n"
      ],
      "text/markdown": [
       "\n",
       "A data.frame: 6 × 6\n",
       "\n",
       "| <!--/--> | Time &lt;fct&gt; | steps &lt;int&gt; | calories &lt;dbl&gt; | floors &lt;int&gt; | distance &lt;dbl&gt; | heart &lt;int&gt; |\n",
       "|---|---|---|---|---|---|---|\n",
       "| 1 | 00:00:00 | 0 | 1.16640 | 0 | 0 | 64 |\n",
       "| 2 | 00:01:00 | 0 | 1.16640 | 0 | 0 | 65 |\n",
       "| 3 | 00:02:00 | 0 | 1.39968 | 0 | 0 | 70 |\n",
       "| 4 | 00:03:00 | 0 | 1.16640 | 0 | 0 | 66 |\n",
       "| 5 | 00:04:00 | 0 | 1.16640 | 0 | 0 | 65 |\n",
       "| 6 | 00:05:00 | 0 | 1.16640 | 0 | 0 | 62 |\n",
       "\n"
      ],
      "text/plain": [
       "  Time     steps calories floors distance heart\n",
       "1 00:00:00 0     1.16640  0      0        64   \n",
       "2 00:01:00 0     1.16640  0      0        65   \n",
       "3 00:02:00 0     1.39968  0      0        70   \n",
       "4 00:03:00 0     1.16640  0      0        66   \n",
       "5 00:04:00 0     1.16640  0      0        65   \n",
       "6 00:05:00 0     1.16640  0      0        62   "
      ]
     },
     "metadata": {},
     "output_type": "display_data"
    }
   ],
   "source": [
    "head(df)"
   ]
  },
  {
   "cell_type": "code",
   "execution_count": 3,
   "metadata": {},
   "outputs": [
    {
     "data": {
      "text/plain": [
       "       Time         steps            calories          floors       \n",
       " 00:00:00:  1   Min.   :  0.000   Min.   : 1.166   Min.   :0.00000  \n",
       " 00:01:00:  1   1st Qu.:  0.000   1st Qu.: 1.166   1st Qu.:0.00000  \n",
       " 00:02:00:  1   Median :  0.000   Median : 1.166   Median :0.00000  \n",
       " 00:03:00:  1   Mean   :  4.415   Mean   : 1.622   Mean   :0.00591  \n",
       " 00:04:00:  1   3rd Qu.:  0.000   3rd Qu.: 1.400   3rd Qu.:0.00000  \n",
       " 00:05:00:  1   Max.   :131.000   Max.   :10.264   Max.   :2.00000  \n",
       " (Other) :840                                                       \n",
       "    distance            heart       \n",
       " Min.   :0.000000   Min.   : 44.00  \n",
       " 1st Qu.:0.000000   1st Qu.: 53.00  \n",
       " Median :0.000000   Median : 59.00  \n",
       " Mean   :0.003655   Mean   : 62.11  \n",
       " 3rd Qu.:0.000000   3rd Qu.: 68.75  \n",
       " Max.   :0.151000   Max.   :129.00  \n",
       "                                    "
      ]
     },
     "metadata": {},
     "output_type": "display_data"
    }
   ],
   "source": [
    "summary(df)"
   ]
  },
  {
   "cell_type": "code",
   "execution_count": 4,
   "metadata": {},
   "outputs": [
    {
     "data": {
      "text/html": [
       "<table>\n",
       "<caption>A data.frame: 6 × 6</caption>\n",
       "<thead>\n",
       "\t<tr><th></th><th scope=col>Time</th><th scope=col>steps</th><th scope=col>calories</th><th scope=col>floors</th><th scope=col>distance</th><th scope=col>heart</th></tr>\n",
       "\t<tr><th></th><th scope=col>&lt;fct&gt;</th><th scope=col>&lt;int&gt;</th><th scope=col>&lt;dbl&gt;</th><th scope=col>&lt;int&gt;</th><th scope=col>&lt;dbl&gt;</th><th scope=col>&lt;int&gt;</th></tr>\n",
       "</thead>\n",
       "<tbody>\n",
       "\t<tr><th scope=row>841</th><td>14:03:00</td><td>17</td><td>4.43232</td><td>0</td><td>0.012</td><td>90</td></tr>\n",
       "\t<tr><th scope=row>842</th><td>14:04:00</td><td>34</td><td>4.19904</td><td>0</td><td>0.024</td><td>79</td></tr>\n",
       "\t<tr><th scope=row>843</th><td>14:05:00</td><td>27</td><td>4.19904</td><td>0</td><td>0.019</td><td>81</td></tr>\n",
       "\t<tr><th scope=row>844</th><td>14:06:00</td><td> 0</td><td>1.51632</td><td>0</td><td>0.000</td><td>83</td></tr>\n",
       "\t<tr><th scope=row>845</th><td>14:07:00</td><td> 0</td><td>1.51632</td><td>0</td><td>0.000</td><td>83</td></tr>\n",
       "\t<tr><th scope=row>846</th><td>14:08:00</td><td> 0</td><td>1.16640</td><td>0</td><td>0.000</td><td>76</td></tr>\n",
       "</tbody>\n",
       "</table>\n"
      ],
      "text/latex": [
       "A data.frame: 6 × 6\n",
       "\\begin{tabular}{r|llllll}\n",
       "  & Time & steps & calories & floors & distance & heart\\\\\n",
       "  & <fct> & <int> & <dbl> & <int> & <dbl> & <int>\\\\\n",
       "\\hline\n",
       "\t841 & 14:03:00 & 17 & 4.43232 & 0 & 0.012 & 90\\\\\n",
       "\t842 & 14:04:00 & 34 & 4.19904 & 0 & 0.024 & 79\\\\\n",
       "\t843 & 14:05:00 & 27 & 4.19904 & 0 & 0.019 & 81\\\\\n",
       "\t844 & 14:06:00 &  0 & 1.51632 & 0 & 0.000 & 83\\\\\n",
       "\t845 & 14:07:00 &  0 & 1.51632 & 0 & 0.000 & 83\\\\\n",
       "\t846 & 14:08:00 &  0 & 1.16640 & 0 & 0.000 & 76\\\\\n",
       "\\end{tabular}\n"
      ],
      "text/markdown": [
       "\n",
       "A data.frame: 6 × 6\n",
       "\n",
       "| <!--/--> | Time &lt;fct&gt; | steps &lt;int&gt; | calories &lt;dbl&gt; | floors &lt;int&gt; | distance &lt;dbl&gt; | heart &lt;int&gt; |\n",
       "|---|---|---|---|---|---|---|\n",
       "| 841 | 14:03:00 | 17 | 4.43232 | 0 | 0.012 | 90 |\n",
       "| 842 | 14:04:00 | 34 | 4.19904 | 0 | 0.024 | 79 |\n",
       "| 843 | 14:05:00 | 27 | 4.19904 | 0 | 0.019 | 81 |\n",
       "| 844 | 14:06:00 |  0 | 1.51632 | 0 | 0.000 | 83 |\n",
       "| 845 | 14:07:00 |  0 | 1.51632 | 0 | 0.000 | 83 |\n",
       "| 846 | 14:08:00 |  0 | 1.16640 | 0 | 0.000 | 76 |\n",
       "\n"
      ],
      "text/plain": [
       "    Time     steps calories floors distance heart\n",
       "841 14:03:00 17    4.43232  0      0.012    90   \n",
       "842 14:04:00 34    4.19904  0      0.024    79   \n",
       "843 14:05:00 27    4.19904  0      0.019    81   \n",
       "844 14:06:00  0    1.51632  0      0.000    83   \n",
       "845 14:07:00  0    1.51632  0      0.000    83   \n",
       "846 14:08:00  0    1.16640  0      0.000    76   "
      ]
     },
     "metadata": {},
     "output_type": "display_data"
    }
   ],
   "source": [
    "tail(df)"
   ]
  },
  {
   "cell_type": "markdown",
   "metadata": {},
   "source": [
    "## A1:\n",
    "<font color='Red'> \n",
    "The time column is type <fct> and increments by one minute.\n",
    "\n",
    "The steps column is a discrete variable and is type <int>. Records number of steps taken in that one minute time frame.\n",
    "\n",
    "The calories column is a continuous variable and is type <dbl>. Records the amount of calories burnt in the one minute time frame.\n",
    "\n",
    "The floors column is a discrete variable and is type <int>. Records number of floors climbed in that one minute time frame.\n",
    "\n",
    "The distance column is a continuous variable and is type <dbl>. Records the miles traveled in the one minute time frame.\n",
    "\n",
    "Lastly, the heart column is a discrete variable and is type <int>. This records the BPM average for each one minute time frame.\n",
    "\n",
    "</font> "
   ]
  },
  {
   "cell_type": "markdown",
   "metadata": {},
   "source": [
    "# Q2: Find the mean, median, and standard deviation of the steps taken. Report below."
   ]
  },
  {
   "cell_type": "code",
   "execution_count": 5,
   "metadata": {},
   "outputs": [
    {
     "data": {
      "text/html": [
       "4.41489361702128"
      ],
      "text/latex": [
       "4.41489361702128"
      ],
      "text/markdown": [
       "4.41489361702128"
      ],
      "text/plain": [
       "[1] 4.414894"
      ]
     },
     "metadata": {},
     "output_type": "display_data"
    }
   ],
   "source": [
    "mean(df$steps)"
   ]
  },
  {
   "cell_type": "code",
   "execution_count": 6,
   "metadata": {},
   "outputs": [
    {
     "data": {
      "text/html": [
       "0"
      ],
      "text/latex": [
       "0"
      ],
      "text/markdown": [
       "0"
      ],
      "text/plain": [
       "[1] 0"
      ]
     },
     "metadata": {},
     "output_type": "display_data"
    }
   ],
   "source": [
    "median(df$steps)"
   ]
  },
  {
   "cell_type": "code",
   "execution_count": 7,
   "metadata": {},
   "outputs": [
    {
     "data": {
      "text/html": [
       "18.9742077300411"
      ],
      "text/latex": [
       "18.9742077300411"
      ],
      "text/markdown": [
       "18.9742077300411"
      ],
      "text/plain": [
       "[1] 18.97421"
      ]
     },
     "metadata": {},
     "output_type": "display_data"
    }
   ],
   "source": [
    "sd(df$steps)"
   ]
  },
  {
   "cell_type": "markdown",
   "metadata": {},
   "source": [
    "# A2: \n",
    "<font color='Red'> \n",
    "### (Mean: 4.41489361702128, Median: 0, STD: 18.9742077300411) \n",
    "</font> "
   ]
  },
  {
   "cell_type": "markdown",
   "metadata": {},
   "source": [
    "# Q3: Find the sum of calories burned throughout the day. Report it below.\n"
   ]
  },
  {
   "cell_type": "code",
   "execution_count": 8,
   "metadata": {},
   "outputs": [
    {
     "data": {
      "text/html": [
       "1372.502859448"
      ],
      "text/latex": [
       "1372.502859448"
      ],
      "text/markdown": [
       "1372.502859448"
      ],
      "text/plain": [
       "[1] 1372.503"
      ]
     },
     "metadata": {},
     "output_type": "display_data"
    }
   ],
   "source": [
    "sum(df$calories)"
   ]
  },
  {
   "cell_type": "markdown",
   "metadata": {},
   "source": [
    "# A2: \n",
    "<font color='Red'> \n",
    "### (Sum: 3735) \n",
    "</font> "
   ]
  },
  {
   "cell_type": "markdown",
   "metadata": {},
   "source": [
    "# Q4: Create a function that calculates and returns the mean, median, and sd of steps and total calorie burn (hint: use sum). Paste it below."
   ]
  },
  {
   "cell_type": "code",
   "execution_count": 9,
   "metadata": {},
   "outputs": [],
   "source": [
    "describe <- function(df){\n",
    "    \n",
    "    mean <- mean(df[[\"steps\"]])\n",
    "    median <- median(df[[\"steps\"]])\n",
    "    std <- sd(df[[\"steps\"]])\n",
    "    total_cal <- sum(df[[\"calories\"]])\n",
    "    \n",
    "    print(paste(\"Mean steps:\",mean))\n",
    "    print(paste(\"Median steps:\",median))\n",
    "    print(paste(\"STD for steps\",std))\n",
    "    print(paste(\"Total calories Burnt\",total_cal))\n",
    "}\n"
   ]
  },
  {
   "cell_type": "code",
   "execution_count": 10,
   "metadata": {},
   "outputs": [
    {
     "name": "stdout",
     "output_type": "stream",
     "text": [
      "[1] \"Mean steps: 4.41489361702128\"\n",
      "[1] \"Median steps: 0\"\n",
      "[1] \"STD for steps 18.9742077300411\"\n",
      "[1] \"Total calories Burnt 1372.502859448\"\n"
     ]
    }
   ],
   "source": [
    "#Answer Below\n",
    "describe(df)"
   ]
  },
  {
   "cell_type": "markdown",
   "metadata": {},
   "source": [
    "# Q5: Loop through the files and use your function to calculate the above quantities for each file. Write these quantities to a table, export it from R, and submit to canvas.\n",
    "\n",
    "### Having trouble with this one"
   ]
  },
  {
   "cell_type": "code",
   "execution_count": 11,
   "metadata": {},
   "outputs": [
    {
     "name": "stderr",
     "output_type": "stream",
     "text": [
      "Installing package into ‘/Users/valazeinali/Library/R/3.6/library’\n",
      "(as ‘lib’ is unspecified)\n",
      "\n"
     ]
    },
    {
     "name": "stdout",
     "output_type": "stream",
     "text": [
      "\n",
      "The downloaded binary packages are in\n",
      "\t/var/folders/bx/dp3pc2gx453dz73c35_y9_8h0000gn/T//RtmpShVoJl/downloaded_packages\n"
     ]
    }
   ],
   "source": [
    "install.packages(\"tidyverse\", repos='http://cran.us.r-project.org')"
   ]
  },
  {
   "cell_type": "code",
   "execution_count": 12,
   "metadata": {},
   "outputs": [
    {
     "name": "stderr",
     "output_type": "stream",
     "text": [
      "── \u001b[1mAttaching packages\u001b[22m ─────────────────────────────────────── tidyverse 1.3.0 ──\n",
      "\n",
      "\u001b[32m✔\u001b[39m \u001b[34mggplot2\u001b[39m 3.3.0     \u001b[32m✔\u001b[39m \u001b[34mpurrr  \u001b[39m 0.3.4\n",
      "\u001b[32m✔\u001b[39m \u001b[34mtibble \u001b[39m 3.0.1     \u001b[32m✔\u001b[39m \u001b[34mdplyr  \u001b[39m 0.8.5\n",
      "\u001b[32m✔\u001b[39m \u001b[34mtidyr  \u001b[39m 1.1.0     \u001b[32m✔\u001b[39m \u001b[34mstringr\u001b[39m 1.4.0\n",
      "\u001b[32m✔\u001b[39m \u001b[34mreadr  \u001b[39m 1.3.1     \u001b[32m✔\u001b[39m \u001b[34mforcats\u001b[39m 0.5.0\n",
      "\n",
      "Warning message:\n",
      "“package ‘tibble’ was built under R version 3.6.2”\n",
      "Warning message:\n",
      "“package ‘tidyr’ was built under R version 3.6.2”\n",
      "Warning message:\n",
      "“package ‘purrr’ was built under R version 3.6.2”\n",
      "── \u001b[1mConflicts\u001b[22m ────────────────────────────────────────── tidyverse_conflicts() ──\n",
      "\u001b[31m✖\u001b[39m \u001b[34mdplyr\u001b[39m::\u001b[32mfilter()\u001b[39m masks \u001b[34mstats\u001b[39m::filter()\n",
      "\u001b[31m✖\u001b[39m \u001b[34mdplyr\u001b[39m::\u001b[32mlag()\u001b[39m    masks \u001b[34mstats\u001b[39m::lag()\n",
      "\n"
     ]
    },
    {
     "name": "stdout",
     "output_type": "stream",
     "text": [
      "[1] \"intraday_fitbit.csv\"  \"intraday_fitbit2.csv\" \"intraday_fitbit3.csv\"\n",
      "[4] \"intraday_fitbit4.csv\" \"intraday_fitbit5.csv\" \"intraday_fitbit6.csv\"\n",
      "[1] \"intraday_fitbit.csv\"  \"intraday_fitbit2.csv\" \"intraday_fitbit3.csv\"\n",
      "[4] \"intraday_fitbit4.csv\" \"intraday_fitbit5.csv\" \"intraday_fitbit6.csv\"\n",
      "[1] \"intraday_fitbit.csv\"  \"intraday_fitbit2.csv\" \"intraday_fitbit3.csv\"\n",
      "[4] \"intraday_fitbit4.csv\" \"intraday_fitbit5.csv\" \"intraday_fitbit6.csv\"\n",
      "[1] \"intraday_fitbit.csv\"  \"intraday_fitbit2.csv\" \"intraday_fitbit3.csv\"\n",
      "[4] \"intraday_fitbit4.csv\" \"intraday_fitbit5.csv\" \"intraday_fitbit6.csv\"\n",
      "[1] \"intraday_fitbit.csv\"  \"intraday_fitbit2.csv\" \"intraday_fitbit3.csv\"\n",
      "[4] \"intraday_fitbit4.csv\" \"intraday_fitbit5.csv\" \"intraday_fitbit6.csv\"\n",
      "[1] \"intraday_fitbit.csv\"  \"intraday_fitbit2.csv\" \"intraday_fitbit3.csv\"\n",
      "[4] \"intraday_fitbit4.csv\" \"intraday_fitbit5.csv\" \"intraday_fitbit6.csv\"\n"
     ]
    }
   ],
   "source": [
    "# trying to use map reduce ugh... so close\n",
    "library(tidyverse)\n",
    "\n",
    "suppressWarnings({ \n",
    "files <- list.files(pattern = \"*.csv\")\n",
    "\n",
    "df <- files %>% \n",
    "    map(function(x) {\n",
    "        read.csv(paste0(x))\n",
    "        print(files)\n",
    "    }) %>%   \n",
    "    reduce(rbind)\n",
    "    \n",
    "    #for (i in df) {describe(df[i])}\n",
    " })"
   ]
  },
  {
   "cell_type": "code",
   "execution_count": 13,
   "metadata": {},
   "outputs": [
    {
     "name": "stdout",
     "output_type": "stream",
     "text": [
      "[1] \"intraday_fitbit.csv\"\n"
     ]
    },
    {
     "ename": "ERROR",
     "evalue": "Error in df[[\"steps\"]]: subscript out of bounds\n",
     "output_type": "error",
     "traceback": [
      "Error in df[[\"steps\"]]: subscript out of bounds\nTraceback:\n",
      "1. describe(f)",
      "2. mean(df[[\"steps\"]])   # at line 3 of file <text>"
     ]
    }
   ],
   "source": [
    "files <- list.files(pattern =\"*csv\")\n",
    "\n",
    "for(f in files){\n",
    "    print(f)\n",
    "    describe(f)\n",
    "}"
   ]
  },
  {
   "cell_type": "code",
   "execution_count": 15,
   "metadata": {},
   "outputs": [
    {
     "name": "stdout",
     "output_type": "stream",
     "text": [
      "[1] \"Mean steps: 8.96506550218341\"\n",
      "[1] \"Median steps: 0\"\n",
      "[1] \"STD for steps 24.5422994299063\"\n",
      "[1] \"Total calories Burnt 1842.445419661\"\n"
     ]
    }
   ],
   "source": [
    "df2 = read.csv(\"intraday_fitbit2.csv\")\n",
    "describe(df2)"
   ]
  },
  {
   "cell_type": "code",
   "execution_count": 16,
   "metadata": {},
   "outputs": [
    {
     "name": "stdout",
     "output_type": "stream",
     "text": [
      "[1] \"Mean steps: 6.40914036996736\"\n",
      "[1] \"Median steps: 0\"\n",
      "[1] \"STD for steps 22.4365035591947\"\n",
      "[1] \"Total calories Burnt 1653.613483651\"\n"
     ]
    }
   ],
   "source": [
    "df3 = read.csv(\"intraday_fitbit3.csv\")\n",
    "describe(df3)"
   ]
  },
  {
   "cell_type": "code",
   "execution_count": 17,
   "metadata": {},
   "outputs": [
    {
     "name": "stdout",
     "output_type": "stream",
     "text": [
      "[1] \"Mean steps: 7.73157051282051\"\n",
      "[1] \"Median steps: 0\"\n",
      "[1] \"STD for steps 24.2446941280253\"\n",
      "[1] \"Total calories Burnt 2360.473478206\"\n"
     ]
    }
   ],
   "source": [
    "df4 = read.csv(\"intraday_fitbit4.csv\")\n",
    "describe(df4)"
   ]
  },
  {
   "cell_type": "code",
   "execution_count": 18,
   "metadata": {},
   "outputs": [
    {
     "name": "stdout",
     "output_type": "stream",
     "text": [
      "[1] \"Mean steps: 4.59656218402427\"\n",
      "[1] \"Median steps: 0\"\n",
      "[1] \"STD for steps 18.7288349724301\"\n",
      "[1] \"Total calories Burnt 1612.502066773\"\n"
     ]
    }
   ],
   "source": [
    "df5 = read.csv(\"intraday_fitbit5.csv\")\n",
    "describe(df5)"
   ]
  },
  {
   "cell_type": "code",
   "execution_count": 19,
   "metadata": {},
   "outputs": [
    {
     "name": "stdout",
     "output_type": "stream",
     "text": [
      "[1] \"Mean steps: 3.77313054499366\"\n",
      "[1] \"Median steps: 0\"\n",
      "[1] \"STD for steps 15.8825156224351\"\n",
      "[1] \"Total calories Burnt 1215.059983502\"\n"
     ]
    }
   ],
   "source": [
    "df6= read.csv(\"intraday_fitbit6.csv\")\n",
    "describe(df6)"
   ]
  },
  {
   "cell_type": "code",
   "execution_count": null,
   "metadata": {},
   "outputs": [],
   "source": []
  }
 ],
 "metadata": {
  "kernelspec": {
   "display_name": "R",
   "language": "R",
   "name": "ir"
  },
  "language_info": {
   "codemirror_mode": "r",
   "file_extension": ".r",
   "mimetype": "text/x-r-source",
   "name": "R",
   "pygments_lexer": "r",
   "version": "3.6.0"
  }
 },
 "nbformat": 4,
 "nbformat_minor": 4
}
