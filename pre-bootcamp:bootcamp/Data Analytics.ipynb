{
 "cells": [
  {
   "cell_type": "markdown",
   "metadata": {},
   "source": [
    "# Q1: Load in the first fit bit dataset. Describe each column below"
   ]
  },
  {
   "cell_type": "code",
   "execution_count": 1,
   "metadata": {},
   "outputs": [],
   "source": [
    "df = read.csv(\"intraday_fitbit.csv\")"
   ]
  },
  {
   "cell_type": "code",
   "execution_count": 2,
   "metadata": {},
   "outputs": [
    {
     "data": {
      "text/html": [
       "<table>\n",
       "<caption>A data.frame: 6 × 6</caption>\n",
       "<thead>\n",
       "\t<tr><th></th><th scope=col>Time</th><th scope=col>steps</th><th scope=col>calories</th><th scope=col>floors</th><th scope=col>distance</th><th scope=col>heart</th></tr>\n",
       "\t<tr><th></th><th scope=col>&lt;fct&gt;</th><th scope=col>&lt;int&gt;</th><th scope=col>&lt;dbl&gt;</th><th scope=col>&lt;int&gt;</th><th scope=col>&lt;dbl&gt;</th><th scope=col>&lt;int&gt;</th></tr>\n",
       "</thead>\n",
       "<tbody>\n",
       "\t<tr><th scope=row>1</th><td>00:00:00</td><td>0</td><td>1.16640</td><td>0</td><td>0</td><td>64</td></tr>\n",
       "\t<tr><th scope=row>2</th><td>00:01:00</td><td>0</td><td>1.16640</td><td>0</td><td>0</td><td>65</td></tr>\n",
       "\t<tr><th scope=row>3</th><td>00:02:00</td><td>0</td><td>1.39968</td><td>0</td><td>0</td><td>70</td></tr>\n",
       "\t<tr><th scope=row>4</th><td>00:03:00</td><td>0</td><td>1.16640</td><td>0</td><td>0</td><td>66</td></tr>\n",
       "\t<tr><th scope=row>5</th><td>00:04:00</td><td>0</td><td>1.16640</td><td>0</td><td>0</td><td>65</td></tr>\n",
       "\t<tr><th scope=row>6</th><td>00:05:00</td><td>0</td><td>1.16640</td><td>0</td><td>0</td><td>62</td></tr>\n",
       "</tbody>\n",
       "</table>\n"
      ],
      "text/latex": [
       "A data.frame: 6 × 6\n",
       "\\begin{tabular}{r|llllll}\n",
       "  & Time & steps & calories & floors & distance & heart\\\\\n",
       "  & <fct> & <int> & <dbl> & <int> & <dbl> & <int>\\\\\n",
       "\\hline\n",
       "\t1 & 00:00:00 & 0 & 1.16640 & 0 & 0 & 64\\\\\n",
       "\t2 & 00:01:00 & 0 & 1.16640 & 0 & 0 & 65\\\\\n",
       "\t3 & 00:02:00 & 0 & 1.39968 & 0 & 0 & 70\\\\\n",
       "\t4 & 00:03:00 & 0 & 1.16640 & 0 & 0 & 66\\\\\n",
       "\t5 & 00:04:00 & 0 & 1.16640 & 0 & 0 & 65\\\\\n",
       "\t6 & 00:05:00 & 0 & 1.16640 & 0 & 0 & 62\\\\\n",
       "\\end{tabular}\n"
      ],
      "text/markdown": [
       "\n",
       "A data.frame: 6 × 6\n",
       "\n",
       "| <!--/--> | Time &lt;fct&gt; | steps &lt;int&gt; | calories &lt;dbl&gt; | floors &lt;int&gt; | distance &lt;dbl&gt; | heart &lt;int&gt; |\n",
       "|---|---|---|---|---|---|---|\n",
       "| 1 | 00:00:00 | 0 | 1.16640 | 0 | 0 | 64 |\n",
       "| 2 | 00:01:00 | 0 | 1.16640 | 0 | 0 | 65 |\n",
       "| 3 | 00:02:00 | 0 | 1.39968 | 0 | 0 | 70 |\n",
       "| 4 | 00:03:00 | 0 | 1.16640 | 0 | 0 | 66 |\n",
       "| 5 | 00:04:00 | 0 | 1.16640 | 0 | 0 | 65 |\n",
       "| 6 | 00:05:00 | 0 | 1.16640 | 0 | 0 | 62 |\n",
       "\n"
      ],
      "text/plain": [
       "  Time     steps calories floors distance heart\n",
       "1 00:00:00 0     1.16640  0      0        64   \n",
       "2 00:01:00 0     1.16640  0      0        65   \n",
       "3 00:02:00 0     1.39968  0      0        70   \n",
       "4 00:03:00 0     1.16640  0      0        66   \n",
       "5 00:04:00 0     1.16640  0      0        65   \n",
       "6 00:05:00 0     1.16640  0      0        62   "
      ]
     },
     "metadata": {},
     "output_type": "display_data"
    }
   ],
   "source": [
    "head(df)"
   ]
  },
  {
   "cell_type": "code",
   "execution_count": 3,
   "metadata": {},
   "outputs": [
    {
     "data": {
      "text/plain": [
       "       Time         steps            calories          floors       \n",
       " 00:00:00:  1   Min.   :  0.000   Min.   : 1.166   Min.   :0.00000  \n",
       " 00:01:00:  1   1st Qu.:  0.000   1st Qu.: 1.166   1st Qu.:0.00000  \n",
       " 00:02:00:  1   Median :  0.000   Median : 1.166   Median :0.00000  \n",
       " 00:03:00:  1   Mean   :  4.415   Mean   : 1.622   Mean   :0.00591  \n",
       " 00:04:00:  1   3rd Qu.:  0.000   3rd Qu.: 1.400   3rd Qu.:0.00000  \n",
       " 00:05:00:  1   Max.   :131.000   Max.   :10.264   Max.   :2.00000  \n",
       " (Other) :840                                                       \n",
       "    distance            heart       \n",
       " Min.   :0.000000   Min.   : 44.00  \n",
       " 1st Qu.:0.000000   1st Qu.: 53.00  \n",
       " Median :0.000000   Median : 59.00  \n",
       " Mean   :0.003655   Mean   : 62.11  \n",
       " 3rd Qu.:0.000000   3rd Qu.: 68.75  \n",
       " Max.   :0.151000   Max.   :129.00  \n",
       "                                    "
      ]
     },
     "metadata": {},
     "output_type": "display_data"
    }
   ],
   "source": [
    "summary(df)"
   ]
  },
  {
   "cell_type": "code",
   "execution_count": 4,
   "metadata": {},
   "outputs": [
    {
     "data": {
      "text/html": [
       "<table>\n",
       "<caption>A data.frame: 6 × 6</caption>\n",
       "<thead>\n",
       "\t<tr><th></th><th scope=col>Time</th><th scope=col>steps</th><th scope=col>calories</th><th scope=col>floors</th><th scope=col>distance</th><th scope=col>heart</th></tr>\n",
       "\t<tr><th></th><th scope=col>&lt;fct&gt;</th><th scope=col>&lt;int&gt;</th><th scope=col>&lt;dbl&gt;</th><th scope=col>&lt;int&gt;</th><th scope=col>&lt;dbl&gt;</th><th scope=col>&lt;int&gt;</th></tr>\n",
       "</thead>\n",
       "<tbody>\n",
       "\t<tr><th scope=row>841</th><td>14:03:00</td><td>17</td><td>4.43232</td><td>0</td><td>0.012</td><td>90</td></tr>\n",
       "\t<tr><th scope=row>842</th><td>14:04:00</td><td>34</td><td>4.19904</td><td>0</td><td>0.024</td><td>79</td></tr>\n",
       "\t<tr><th scope=row>843</th><td>14:05:00</td><td>27</td><td>4.19904</td><td>0</td><td>0.019</td><td>81</td></tr>\n",
       "\t<tr><th scope=row>844</th><td>14:06:00</td><td> 0</td><td>1.51632</td><td>0</td><td>0.000</td><td>83</td></tr>\n",
       "\t<tr><th scope=row>845</th><td>14:07:00</td><td> 0</td><td>1.51632</td><td>0</td><td>0.000</td><td>83</td></tr>\n",
       "\t<tr><th scope=row>846</th><td>14:08:00</td><td> 0</td><td>1.16640</td><td>0</td><td>0.000</td><td>76</td></tr>\n",
       "</tbody>\n",
       "</table>\n"
      ],
      "text/latex": [
       "A data.frame: 6 × 6\n",
       "\\begin{tabular}{r|llllll}\n",
       "  & Time & steps & calories & floors & distance & heart\\\\\n",
       "  & <fct> & <int> & <dbl> & <int> & <dbl> & <int>\\\\\n",
       "\\hline\n",
       "\t841 & 14:03:00 & 17 & 4.43232 & 0 & 0.012 & 90\\\\\n",
       "\t842 & 14:04:00 & 34 & 4.19904 & 0 & 0.024 & 79\\\\\n",
       "\t843 & 14:05:00 & 27 & 4.19904 & 0 & 0.019 & 81\\\\\n",
       "\t844 & 14:06:00 &  0 & 1.51632 & 0 & 0.000 & 83\\\\\n",
       "\t845 & 14:07:00 &  0 & 1.51632 & 0 & 0.000 & 83\\\\\n",
       "\t846 & 14:08:00 &  0 & 1.16640 & 0 & 0.000 & 76\\\\\n",
       "\\end{tabular}\n"
      ],
      "text/markdown": [
       "\n",
       "A data.frame: 6 × 6\n",
       "\n",
       "| <!--/--> | Time &lt;fct&gt; | steps &lt;int&gt; | calories &lt;dbl&gt; | floors &lt;int&gt; | distance &lt;dbl&gt; | heart &lt;int&gt; |\n",
       "|---|---|---|---|---|---|---|\n",
       "| 841 | 14:03:00 | 17 | 4.43232 | 0 | 0.012 | 90 |\n",
       "| 842 | 14:04:00 | 34 | 4.19904 | 0 | 0.024 | 79 |\n",
       "| 843 | 14:05:00 | 27 | 4.19904 | 0 | 0.019 | 81 |\n",
       "| 844 | 14:06:00 |  0 | 1.51632 | 0 | 0.000 | 83 |\n",
       "| 845 | 14:07:00 |  0 | 1.51632 | 0 | 0.000 | 83 |\n",
       "| 846 | 14:08:00 |  0 | 1.16640 | 0 | 0.000 | 76 |\n",
       "\n"
      ],
      "text/plain": [
       "    Time     steps calories floors distance heart\n",
       "841 14:03:00 17    4.43232  0      0.012    90   \n",
       "842 14:04:00 34    4.19904  0      0.024    79   \n",
       "843 14:05:00 27    4.19904  0      0.019    81   \n",
       "844 14:06:00  0    1.51632  0      0.000    83   \n",
       "845 14:07:00  0    1.51632  0      0.000    83   \n",
       "846 14:08:00  0    1.16640  0      0.000    76   "
      ]
     },
     "metadata": {},
     "output_type": "display_data"
    }
   ],
   "source": [
    "tail(df)"
   ]
  },
  {
   "cell_type": "markdown",
   "metadata": {},
   "source": [
    "## A1:\n",
    "<font color='Red'> \n",
    "The time column is type <fct> and increments by one minute.\n",
    "\n",
    "The steps column is a discrete variable and is type <int>. Records number of steps taken in that one minute time frame.\n",
    "\n",
    "The calories column is a continuous variable and is type <dbl>. Records the amount of calories burnt in the one minute time frame.\n",
    "\n",
    "The floors column is a discrete variable and is type <int>. Records number of floors climbed in that one minute time frame.\n",
    "\n",
    "The distance column is a continuous variable and is type <dbl>. Records the miles traveled in the one minute time frame.\n",
    "\n",
    "Lastly, the heart column is a discrete variable and is type <int>. This records the BPM average for each one minute time frame.\n",
    "\n",
    "</font> "
   ]
  },
  {
   "cell_type": "markdown",
   "metadata": {},
   "source": [
    "# Q2: Find the mean, median, and standard deviation of the steps taken. Report below."
   ]
  },
  {
   "cell_type": "code",
   "execution_count": 5,
   "metadata": {},
   "outputs": [
    {
     "data": {
      "text/html": [
       "4.41489361702128"
      ],
      "text/latex": [
       "4.41489361702128"
      ],
      "text/markdown": [
       "4.41489361702128"
      ],
      "text/plain": [
       "[1] 4.414894"
      ]
     },
     "metadata": {},
     "output_type": "display_data"
    }
   ],
   "source": [
    "mean(df$steps)"
   ]
  },
  {
   "cell_type": "code",
   "execution_count": 7,
   "metadata": {},
   "outputs": [
    {
     "data": {
      "text/html": [
       "0"
      ],
      "text/latex": [
       "0"
      ],
      "text/markdown": [
       "0"
      ],
      "text/plain": [
       "[1] 0"
      ]
     },
     "metadata": {},
     "output_type": "display_data"
    }
   ],
   "source": [
    "median(df$steps)"
   ]
  },
  {
   "cell_type": "code",
   "execution_count": 8,
   "metadata": {},
   "outputs": [
    {
     "data": {
      "text/html": [
       "18.9742077300411"
      ],
      "text/latex": [
       "18.9742077300411"
      ],
      "text/markdown": [
       "18.9742077300411"
      ],
      "text/plain": [
       "[1] 18.97421"
      ]
     },
     "metadata": {},
     "output_type": "display_data"
    }
   ],
   "source": [
    "sd(df$steps)"
   ]
  },
  {
   "cell_type": "markdown",
   "metadata": {},
   "source": [
    "# A2: \n",
    "<font color='Red'> \n",
    "### (Mean: 4.41489361702128, Median: 0, STD: 18.9742077300411) \n",
    "</font> "
   ]
  },
  {
   "cell_type": "code",
   "execution_count": null,
   "metadata": {},
   "outputs": [],
   "source": []
  }
 ],
 "metadata": {
  "kernelspec": {
   "display_name": "R",
   "language": "R",
   "name": "ir"
  },
  "language_info": {
   "codemirror_mode": "r",
   "file_extension": ".r",
   "mimetype": "text/x-r-source",
   "name": "R",
   "pygments_lexer": "r",
   "version": "3.6.0"
  }
 },
 "nbformat": 4,
 "nbformat_minor": 4
}
